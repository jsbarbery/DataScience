{
 "cells": [
  {
   "cell_type": "markdown",
   "metadata": {},
   "source": [
    "Build a confusion matrix"
   ]
  },
  {
   "cell_type": "code",
   "execution_count": 1,
   "metadata": {},
   "outputs": [
    {
     "data": {
      "text/html": [
       "<div>\n",
       "<style scoped>\n",
       "    .dataframe tbody tr th:only-of-type {\n",
       "        vertical-align: middle;\n",
       "    }\n",
       "\n",
       "    .dataframe tbody tr th {\n",
       "        vertical-align: top;\n",
       "    }\n",
       "\n",
       "    .dataframe thead th {\n",
       "        text-align: right;\n",
       "    }\n",
       "</style>\n",
       "<table border=\"1\" class=\"dataframe\">\n",
       "  <thead>\n",
       "    <tr style=\"text-align: right;\">\n",
       "      <th></th>\n",
       "      <th>size</th>\n",
       "      <th>roughness</th>\n",
       "      <th>color</th>\n",
       "      <th>motion</th>\n",
       "      <th>label</th>\n",
       "    </tr>\n",
       "  </thead>\n",
       "  <tbody>\n",
       "    <tr>\n",
       "      <th>0</th>\n",
       "      <td>50.959361</td>\n",
       "      <td>1.318226</td>\n",
       "      <td>green</td>\n",
       "      <td>0.054290</td>\n",
       "      <td>tree</td>\n",
       "    </tr>\n",
       "    <tr>\n",
       "      <th>1</th>\n",
       "      <td>60.008521</td>\n",
       "      <td>0.554291</td>\n",
       "      <td>brown</td>\n",
       "      <td>0.000000</td>\n",
       "      <td>tree</td>\n",
       "    </tr>\n",
       "    <tr>\n",
       "      <th>2</th>\n",
       "      <td>20.530772</td>\n",
       "      <td>1.097752</td>\n",
       "      <td>white</td>\n",
       "      <td>1.380464</td>\n",
       "      <td>tree</td>\n",
       "    </tr>\n",
       "    <tr>\n",
       "      <th>3</th>\n",
       "      <td>28.092138</td>\n",
       "      <td>0.966482</td>\n",
       "      <td>grey</td>\n",
       "      <td>0.650528</td>\n",
       "      <td>tree</td>\n",
       "    </tr>\n",
       "    <tr>\n",
       "      <th>4</th>\n",
       "      <td>48.344211</td>\n",
       "      <td>0.799093</td>\n",
       "      <td>grey</td>\n",
       "      <td>0.000000</td>\n",
       "      <td>tree</td>\n",
       "    </tr>\n",
       "    <tr>\n",
       "      <th>...</th>\n",
       "      <td>...</td>\n",
       "      <td>...</td>\n",
       "      <td>...</td>\n",
       "      <td>...</td>\n",
       "      <td>...</td>\n",
       "    </tr>\n",
       "    <tr>\n",
       "      <th>2195</th>\n",
       "      <td>1.918175</td>\n",
       "      <td>1.182234</td>\n",
       "      <td>white</td>\n",
       "      <td>0.000000</td>\n",
       "      <td>animal</td>\n",
       "    </tr>\n",
       "    <tr>\n",
       "      <th>2196</th>\n",
       "      <td>1.000694</td>\n",
       "      <td>1.332152</td>\n",
       "      <td>black</td>\n",
       "      <td>4.041097</td>\n",
       "      <td>animal</td>\n",
       "    </tr>\n",
       "    <tr>\n",
       "      <th>2197</th>\n",
       "      <td>2.331485</td>\n",
       "      <td>0.734561</td>\n",
       "      <td>brown</td>\n",
       "      <td>0.961486</td>\n",
       "      <td>animal</td>\n",
       "    </tr>\n",
       "    <tr>\n",
       "      <th>2198</th>\n",
       "      <td>1.786560</td>\n",
       "      <td>0.707935</td>\n",
       "      <td>black</td>\n",
       "      <td>0.000000</td>\n",
       "      <td>animal</td>\n",
       "    </tr>\n",
       "    <tr>\n",
       "      <th>2199</th>\n",
       "      <td>1.518813</td>\n",
       "      <td>1.447957</td>\n",
       "      <td>brown</td>\n",
       "      <td>0.000000</td>\n",
       "      <td>animal</td>\n",
       "    </tr>\n",
       "  </tbody>\n",
       "</table>\n",
       "<p>2200 rows × 5 columns</p>\n",
       "</div>"
      ],
      "text/plain": [
       "           size  roughness  color    motion   label\n",
       "0     50.959361   1.318226  green  0.054290    tree\n",
       "1     60.008521   0.554291  brown  0.000000    tree\n",
       "2     20.530772   1.097752  white  1.380464    tree\n",
       "3     28.092138   0.966482   grey  0.650528    tree\n",
       "4     48.344211   0.799093   grey  0.000000    tree\n",
       "...         ...        ...    ...       ...     ...\n",
       "2195   1.918175   1.182234  white  0.000000  animal\n",
       "2196   1.000694   1.332152  black  4.041097  animal\n",
       "2197   2.331485   0.734561  brown  0.961486  animal\n",
       "2198   1.786560   0.707935  black  0.000000  animal\n",
       "2199   1.518813   1.447957  brown  0.000000  animal\n",
       "\n",
       "[2200 rows x 5 columns]"
      ]
     },
     "execution_count": 1,
     "metadata": {},
     "output_type": "execute_result"
    }
   ],
   "source": [
    "import pandas as pd\n",
    "\n",
    "#Import the data from the .csv file\n",
    "dataset = pd.read_csv('snow_objects.csv', delimiter=\"\\t\")\n",
    "\n",
    "#Let's have a look at the data\n",
    "dataset"
   ]
  },
  {
   "cell_type": "markdown",
   "metadata": {},
   "source": [
    "EDA"
   ]
  },
  {
   "cell_type": "code",
   "execution_count": 2,
   "metadata": {},
   "outputs": [
    {
     "data": {
      "application/vnd.plotly.v1+json": {
       "config": {
        "plotlyServerURL": "https://plot.ly"
       },
       "data": [
        {
         "histfunc": "count",
         "name": "animal",
         "type": "histogram",
         "x": [
          "animal",
          "animal",
          "animal",
          "animal",
          "animal",
          "animal",
          "animal",
          "animal",
          "animal",
          "animal",
          "animal",
          "animal",
          "animal",
          "animal",
          "animal",
          "animal",
          "animal",
          "animal",
          "animal",
          "animal",
          "animal",
          "animal",
          "animal",
          "animal",
          "animal",
          "animal",
          "animal",
          "animal",
          "animal",
          "animal",
          "animal",
          "animal",
          "animal",
          "animal",
          "animal",
          "animal",
          "animal",
          "animal",
          "animal",
          "animal",
          "animal",
          "animal",
          "animal",
          "animal",
          "animal",
          "animal",
          "animal",
          "animal",
          "animal",
          "animal",
          "animal",
          "animal",
          "animal",
          "animal",
          "animal",
          "animal",
          "animal",
          "animal",
          "animal",
          "animal",
          "animal",
          "animal",
          "animal",
          "animal",
          "animal",
          "animal",
          "animal",
          "animal",
          "animal",
          "animal",
          "animal",
          "animal",
          "animal",
          "animal",
          "animal",
          "animal",
          "animal",
          "animal",
          "animal",
          "animal",
          "animal",
          "animal",
          "animal",
          "animal",
          "animal",
          "animal",
          "animal",
          "animal",
          "animal",
          "animal",
          "animal",
          "animal",
          "animal",
          "animal",
          "animal",
          "animal",
          "animal",
          "animal",
          "animal",
          "animal",
          "animal",
          "animal",
          "animal",
          "animal",
          "animal",
          "animal",
          "animal",
          "animal",
          "animal",
          "animal",
          "animal",
          "animal",
          "animal",
          "animal",
          "animal",
          "animal",
          "animal",
          "animal",
          "animal",
          "animal",
          "animal",
          "animal",
          "animal",
          "animal",
          "animal",
          "animal",
          "animal",
          "animal",
          "animal",
          "animal",
          "animal",
          "animal",
          "animal",
          "animal",
          "animal",
          "animal",
          "animal",
          "animal",
          "animal",
          "animal",
          "animal",
          "animal",
          "animal",
          "animal",
          "animal",
          "animal",
          "animal",
          "animal",
          "animal",
          "animal",
          "animal",
          "animal",
          "animal",
          "animal",
          "animal",
          "animal",
          "animal",
          "animal",
          "animal",
          "animal",
          "animal",
          "animal",
          "animal",
          "animal",
          "animal",
          "animal",
          "animal",
          "animal",
          "animal",
          "animal",
          "animal",
          "animal",
          "animal",
          "animal",
          "animal",
          "animal",
          "animal",
          "animal",
          "animal",
          "animal",
          "animal",
          "animal",
          "animal",
          "animal",
          "animal",
          "animal",
          "animal",
          "animal",
          "animal",
          "animal",
          "animal",
          "animal",
          "animal",
          "animal",
          "animal",
          "animal",
          "animal",
          "animal",
          "animal",
          "animal"
         ]
        },
        {
         "histfunc": "count",
         "name": "hiker",
         "type": "histogram",
         "x": [
          "hiker",
          "hiker",
          "hiker",
          "hiker",
          "hiker",
          "hiker",
          "hiker",
          "hiker",
          "hiker",
          "hiker",
          "hiker",
          "hiker",
          "hiker",
          "hiker",
          "hiker",
          "hiker",
          "hiker",
          "hiker",
          "hiker",
          "hiker",
          "hiker",
          "hiker",
          "hiker",
          "hiker",
          "hiker",
          "hiker",
          "hiker",
          "hiker",
          "hiker",
          "hiker",
          "hiker",
          "hiker",
          "hiker",
          "hiker",
          "hiker",
          "hiker",
          "hiker",
          "hiker",
          "hiker",
          "hiker",
          "hiker",
          "hiker",
          "hiker",
          "hiker",
          "hiker",
          "hiker",
          "hiker",
          "hiker",
          "hiker",
          "hiker",
          "hiker",
          "hiker",
          "hiker",
          "hiker",
          "hiker",
          "hiker",
          "hiker",
          "hiker",
          "hiker",
          "hiker",
          "hiker",
          "hiker",
          "hiker",
          "hiker",
          "hiker",
          "hiker",
          "hiker",
          "hiker",
          "hiker",
          "hiker",
          "hiker",
          "hiker",
          "hiker",
          "hiker",
          "hiker",
          "hiker",
          "hiker",
          "hiker",
          "hiker",
          "hiker",
          "hiker",
          "hiker",
          "hiker",
          "hiker",
          "hiker",
          "hiker",
          "hiker",
          "hiker",
          "hiker",
          "hiker",
          "hiker",
          "hiker",
          "hiker",
          "hiker",
          "hiker",
          "hiker",
          "hiker",
          "hiker",
          "hiker",
          "hiker",
          "hiker",
          "hiker",
          "hiker",
          "hiker",
          "hiker",
          "hiker",
          "hiker",
          "hiker",
          "hiker",
          "hiker",
          "hiker",
          "hiker",
          "hiker",
          "hiker",
          "hiker",
          "hiker",
          "hiker",
          "hiker",
          "hiker",
          "hiker",
          "hiker",
          "hiker",
          "hiker",
          "hiker",
          "hiker",
          "hiker",
          "hiker",
          "hiker",
          "hiker",
          "hiker",
          "hiker",
          "hiker",
          "hiker",
          "hiker",
          "hiker",
          "hiker",
          "hiker",
          "hiker",
          "hiker",
          "hiker",
          "hiker",
          "hiker",
          "hiker",
          "hiker",
          "hiker",
          "hiker",
          "hiker",
          "hiker",
          "hiker",
          "hiker",
          "hiker",
          "hiker",
          "hiker",
          "hiker",
          "hiker",
          "hiker",
          "hiker",
          "hiker",
          "hiker",
          "hiker",
          "hiker",
          "hiker",
          "hiker",
          "hiker",
          "hiker",
          "hiker",
          "hiker",
          "hiker",
          "hiker",
          "hiker",
          "hiker",
          "hiker",
          "hiker",
          "hiker",
          "hiker",
          "hiker",
          "hiker",
          "hiker",
          "hiker",
          "hiker",
          "hiker",
          "hiker",
          "hiker",
          "hiker",
          "hiker",
          "hiker",
          "hiker",
          "hiker",
          "hiker",
          "hiker",
          "hiker",
          "hiker",
          "hiker",
          "hiker",
          "hiker",
          "hiker",
          "hiker",
          "hiker",
          "hiker",
          "hiker",
          "hiker",
          "hiker",
          "hiker",
          "hiker",
          "hiker",
          "hiker",
          "hiker",
          "hiker",
          "hiker",
          "hiker",
          "hiker",
          "hiker",
          "hiker",
          "hiker",
          "hiker",
          "hiker",
          "hiker",
          "hiker",
          "hiker",
          "hiker",
          "hiker",
          "hiker",
          "hiker",
          "hiker",
          "hiker",
          "hiker",
          "hiker",
          "hiker",
          "hiker",
          "hiker",
          "hiker",
          "hiker",
          "hiker",
          "hiker",
          "hiker",
          "hiker",
          "hiker",
          "hiker",
          "hiker",
          "hiker",
          "hiker",
          "hiker",
          "hiker",
          "hiker",
          "hiker",
          "hiker",
          "hiker",
          "hiker",
          "hiker",
          "hiker",
          "hiker",
          "hiker",
          "hiker",
          "hiker",
          "hiker",
          "hiker",
          "hiker",
          "hiker",
          "hiker",
          "hiker",
          "hiker",
          "hiker",
          "hiker",
          "hiker",
          "hiker",
          "hiker",
          "hiker",
          "hiker",
          "hiker",
          "hiker",
          "hiker",
          "hiker",
          "hiker",
          "hiker",
          "hiker",
          "hiker",
          "hiker",
          "hiker",
          "hiker",
          "hiker",
          "hiker",
          "hiker",
          "hiker",
          "hiker",
          "hiker",
          "hiker",
          "hiker",
          "hiker",
          "hiker",
          "hiker",
          "hiker",
          "hiker",
          "hiker",
          "hiker",
          "hiker",
          "hiker",
          "hiker",
          "hiker",
          "hiker",
          "hiker",
          "hiker",
          "hiker",
          "hiker",
          "hiker",
          "hiker",
          "hiker",
          "hiker",
          "hiker",
          "hiker",
          "hiker",
          "hiker",
          "hiker",
          "hiker",
          "hiker",
          "hiker",
          "hiker",
          "hiker",
          "hiker",
          "hiker",
          "hiker",
          "hiker",
          "hiker",
          "hiker",
          "hiker",
          "hiker",
          "hiker",
          "hiker",
          "hiker",
          "hiker",
          "hiker",
          "hiker",
          "hiker",
          "hiker",
          "hiker",
          "hiker",
          "hiker",
          "hiker",
          "hiker",
          "hiker",
          "hiker",
          "hiker",
          "hiker",
          "hiker",
          "hiker",
          "hiker",
          "hiker",
          "hiker",
          "hiker",
          "hiker",
          "hiker",
          "hiker",
          "hiker",
          "hiker",
          "hiker",
          "hiker",
          "hiker",
          "hiker",
          "hiker",
          "hiker",
          "hiker",
          "hiker",
          "hiker",
          "hiker",
          "hiker",
          "hiker",
          "hiker",
          "hiker",
          "hiker",
          "hiker",
          "hiker",
          "hiker",
          "hiker",
          "hiker",
          "hiker",
          "hiker",
          "hiker",
          "hiker",
          "hiker",
          "hiker",
          "hiker",
          "hiker",
          "hiker",
          "hiker",
          "hiker",
          "hiker",
          "hiker",
          "hiker",
          "hiker",
          "hiker",
          "hiker",
          "hiker",
          "hiker",
          "hiker",
          "hiker",
          "hiker",
          "hiker",
          "hiker",
          "hiker",
          "hiker",
          "hiker"
         ]
        },
        {
         "histfunc": "count",
         "name": "rock",
         "type": "histogram",
         "x": [
          "rock",
          "rock",
          "rock",
          "rock",
          "rock",
          "rock",
          "rock",
          "rock",
          "rock",
          "rock",
          "rock",
          "rock",
          "rock",
          "rock",
          "rock",
          "rock",
          "rock",
          "rock",
          "rock",
          "rock",
          "rock",
          "rock",
          "rock",
          "rock",
          "rock",
          "rock",
          "rock",
          "rock",
          "rock",
          "rock",
          "rock",
          "rock",
          "rock",
          "rock",
          "rock",
          "rock",
          "rock",
          "rock",
          "rock",
          "rock",
          "rock",
          "rock",
          "rock",
          "rock",
          "rock",
          "rock",
          "rock",
          "rock",
          "rock",
          "rock",
          "rock",
          "rock",
          "rock",
          "rock",
          "rock",
          "rock",
          "rock",
          "rock",
          "rock",
          "rock",
          "rock",
          "rock",
          "rock",
          "rock",
          "rock",
          "rock",
          "rock",
          "rock",
          "rock",
          "rock",
          "rock",
          "rock",
          "rock",
          "rock",
          "rock",
          "rock",
          "rock",
          "rock",
          "rock",
          "rock",
          "rock",
          "rock",
          "rock",
          "rock",
          "rock",
          "rock",
          "rock",
          "rock",
          "rock",
          "rock",
          "rock",
          "rock",
          "rock",
          "rock",
          "rock",
          "rock",
          "rock",
          "rock",
          "rock",
          "rock",
          "rock",
          "rock",
          "rock",
          "rock",
          "rock",
          "rock",
          "rock",
          "rock",
          "rock",
          "rock",
          "rock",
          "rock",
          "rock",
          "rock",
          "rock",
          "rock",
          "rock",
          "rock",
          "rock",
          "rock",
          "rock",
          "rock",
          "rock",
          "rock",
          "rock",
          "rock",
          "rock",
          "rock",
          "rock",
          "rock",
          "rock",
          "rock",
          "rock",
          "rock",
          "rock",
          "rock",
          "rock",
          "rock",
          "rock",
          "rock",
          "rock",
          "rock",
          "rock",
          "rock",
          "rock",
          "rock",
          "rock",
          "rock",
          "rock",
          "rock",
          "rock",
          "rock",
          "rock",
          "rock",
          "rock",
          "rock",
          "rock",
          "rock",
          "rock",
          "rock",
          "rock",
          "rock",
          "rock",
          "rock",
          "rock",
          "rock",
          "rock",
          "rock",
          "rock",
          "rock",
          "rock",
          "rock",
          "rock",
          "rock",
          "rock",
          "rock",
          "rock",
          "rock",
          "rock",
          "rock",
          "rock",
          "rock",
          "rock",
          "rock",
          "rock",
          "rock",
          "rock",
          "rock",
          "rock",
          "rock",
          "rock",
          "rock",
          "rock",
          "rock",
          "rock",
          "rock",
          "rock",
          "rock",
          "rock",
          "rock",
          "rock",
          "rock",
          "rock",
          "rock",
          "rock",
          "rock",
          "rock",
          "rock",
          "rock",
          "rock",
          "rock",
          "rock",
          "rock",
          "rock",
          "rock",
          "rock",
          "rock",
          "rock",
          "rock",
          "rock",
          "rock",
          "rock",
          "rock",
          "rock",
          "rock",
          "rock",
          "rock",
          "rock",
          "rock",
          "rock",
          "rock",
          "rock",
          "rock",
          "rock",
          "rock",
          "rock",
          "rock",
          "rock",
          "rock",
          "rock",
          "rock",
          "rock",
          "rock",
          "rock",
          "rock",
          "rock",
          "rock",
          "rock",
          "rock",
          "rock",
          "rock",
          "rock",
          "rock",
          "rock",
          "rock",
          "rock",
          "rock",
          "rock",
          "rock",
          "rock",
          "rock",
          "rock",
          "rock",
          "rock",
          "rock",
          "rock",
          "rock",
          "rock",
          "rock",
          "rock",
          "rock",
          "rock",
          "rock",
          "rock",
          "rock",
          "rock",
          "rock",
          "rock",
          "rock",
          "rock",
          "rock",
          "rock",
          "rock",
          "rock",
          "rock",
          "rock",
          "rock",
          "rock",
          "rock",
          "rock",
          "rock",
          "rock",
          "rock",
          "rock",
          "rock",
          "rock",
          "rock",
          "rock",
          "rock",
          "rock",
          "rock",
          "rock",
          "rock",
          "rock",
          "rock",
          "rock",
          "rock",
          "rock",
          "rock",
          "rock",
          "rock",
          "rock",
          "rock",
          "rock",
          "rock",
          "rock",
          "rock",
          "rock",
          "rock",
          "rock",
          "rock",
          "rock",
          "rock",
          "rock",
          "rock",
          "rock",
          "rock",
          "rock",
          "rock",
          "rock",
          "rock",
          "rock",
          "rock",
          "rock",
          "rock",
          "rock",
          "rock",
          "rock",
          "rock",
          "rock",
          "rock",
          "rock",
          "rock",
          "rock",
          "rock",
          "rock",
          "rock",
          "rock",
          "rock",
          "rock",
          "rock",
          "rock",
          "rock",
          "rock",
          "rock",
          "rock",
          "rock",
          "rock",
          "rock",
          "rock",
          "rock",
          "rock",
          "rock",
          "rock",
          "rock",
          "rock",
          "rock",
          "rock",
          "rock",
          "rock",
          "rock",
          "rock",
          "rock",
          "rock",
          "rock",
          "rock",
          "rock",
          "rock",
          "rock",
          "rock",
          "rock",
          "rock",
          "rock",
          "rock",
          "rock",
          "rock",
          "rock",
          "rock",
          "rock",
          "rock",
          "rock",
          "rock",
          "rock",
          "rock",
          "rock",
          "rock",
          "rock",
          "rock",
          "rock",
          "rock",
          "rock",
          "rock",
          "rock",
          "rock",
          "rock",
          "rock",
          "rock",
          "rock",
          "rock",
          "rock",
          "rock",
          "rock",
          "rock",
          "rock",
          "rock",
          "rock",
          "rock",
          "rock",
          "rock",
          "rock",
          "rock",
          "rock",
          "rock",
          "rock",
          "rock",
          "rock",
          "rock",
          "rock",
          "rock",
          "rock",
          "rock",
          "rock",
          "rock",
          "rock",
          "rock",
          "rock",
          "rock",
          "rock",
          "rock",
          "rock",
          "rock",
          "rock",
          "rock",
          "rock",
          "rock",
          "rock",
          "rock",
          "rock",
          "rock",
          "rock",
          "rock",
          "rock",
          "rock",
          "rock",
          "rock",
          "rock",
          "rock",
          "rock",
          "rock",
          "rock",
          "rock",
          "rock",
          "rock",
          "rock",
          "rock",
          "rock",
          "rock",
          "rock",
          "rock",
          "rock",
          "rock",
          "rock",
          "rock",
          "rock",
          "rock",
          "rock",
          "rock",
          "rock",
          "rock",
          "rock",
          "rock",
          "rock",
          "rock",
          "rock",
          "rock",
          "rock",
          "rock",
          "rock",
          "rock",
          "rock",
          "rock",
          "rock",
          "rock",
          "rock",
          "rock",
          "rock",
          "rock",
          "rock",
          "rock",
          "rock",
          "rock",
          "rock",
          "rock",
          "rock",
          "rock",
          "rock",
          "rock",
          "rock",
          "rock",
          "rock",
          "rock",
          "rock",
          "rock",
          "rock",
          "rock",
          "rock",
          "rock",
          "rock",
          "rock",
          "rock",
          "rock",
          "rock",
          "rock",
          "rock",
          "rock",
          "rock",
          "rock",
          "rock",
          "rock",
          "rock",
          "rock",
          "rock",
          "rock",
          "rock",
          "rock",
          "rock",
          "rock",
          "rock",
          "rock",
          "rock",
          "rock",
          "rock",
          "rock",
          "rock",
          "rock",
          "rock",
          "rock",
          "rock",
          "rock",
          "rock",
          "rock",
          "rock",
          "rock",
          "rock",
          "rock",
          "rock",
          "rock",
          "rock",
          "rock",
          "rock",
          "rock",
          "rock",
          "rock",
          "rock",
          "rock",
          "rock",
          "rock",
          "rock",
          "rock",
          "rock",
          "rock",
          "rock",
          "rock",
          "rock",
          "rock",
          "rock",
          "rock",
          "rock",
          "rock",
          "rock",
          "rock",
          "rock",
          "rock",
          "rock",
          "rock",
          "rock",
          "rock",
          "rock",
          "rock",
          "rock",
          "rock",
          "rock",
          "rock",
          "rock",
          "rock",
          "rock",
          "rock",
          "rock",
          "rock",
          "rock",
          "rock",
          "rock",
          "rock",
          "rock",
          "rock",
          "rock",
          "rock",
          "rock",
          "rock",
          "rock",
          "rock",
          "rock",
          "rock",
          "rock",
          "rock",
          "rock",
          "rock",
          "rock",
          "rock",
          "rock",
          "rock",
          "rock",
          "rock",
          "rock",
          "rock",
          "rock",
          "rock",
          "rock",
          "rock",
          "rock",
          "rock",
          "rock",
          "rock",
          "rock",
          "rock",
          "rock",
          "rock",
          "rock",
          "rock",
          "rock",
          "rock",
          "rock",
          "rock",
          "rock",
          "rock",
          "rock",
          "rock",
          "rock",
          "rock",
          "rock",
          "rock",
          "rock",
          "rock",
          "rock",
          "rock",
          "rock",
          "rock",
          "rock",
          "rock",
          "rock",
          "rock",
          "rock",
          "rock",
          "rock",
          "rock",
          "rock",
          "rock",
          "rock",
          "rock",
          "rock",
          "rock",
          "rock",
          "rock",
          "rock",
          "rock",
          "rock",
          "rock",
          "rock",
          "rock",
          "rock",
          "rock",
          "rock",
          "rock",
          "rock",
          "rock",
          "rock",
          "rock",
          "rock",
          "rock",
          "rock",
          "rock",
          "rock",
          "rock",
          "rock",
          "rock",
          "rock",
          "rock",
          "rock",
          "rock",
          "rock",
          "rock",
          "rock",
          "rock",
          "rock",
          "rock",
          "rock",
          "rock",
          "rock",
          "rock",
          "rock",
          "rock",
          "rock",
          "rock",
          "rock",
          "rock",
          "rock",
          "rock",
          "rock",
          "rock",
          "rock",
          "rock",
          "rock",
          "rock",
          "rock",
          "rock",
          "rock",
          "rock",
          "rock",
          "rock",
          "rock",
          "rock",
          "rock",
          "rock",
          "rock",
          "rock",
          "rock",
          "rock",
          "rock",
          "rock",
          "rock",
          "rock",
          "rock",
          "rock",
          "rock",
          "rock",
          "rock",
          "rock",
          "rock",
          "rock",
          "rock",
          "rock",
          "rock",
          "rock",
          "rock",
          "rock",
          "rock",
          "rock",
          "rock",
          "rock",
          "rock",
          "rock",
          "rock",
          "rock",
          "rock",
          "rock",
          "rock",
          "rock",
          "rock",
          "rock",
          "rock",
          "rock",
          "rock",
          "rock",
          "rock",
          "rock",
          "rock",
          "rock",
          "rock",
          "rock",
          "rock",
          "rock",
          "rock",
          "rock",
          "rock",
          "rock",
          "rock",
          "rock",
          "rock",
          "rock",
          "rock",
          "rock",
          "rock",
          "rock",
          "rock",
          "rock",
          "rock",
          "rock",
          "rock",
          "rock",
          "rock"
         ]
        },
        {
         "histfunc": "count",
         "name": "tree",
         "type": "histogram",
         "x": [
          "tree",
          "tree",
          "tree",
          "tree",
          "tree",
          "tree",
          "tree",
          "tree",
          "tree",
          "tree",
          "tree",
          "tree",
          "tree",
          "tree",
          "tree",
          "tree",
          "tree",
          "tree",
          "tree",
          "tree",
          "tree",
          "tree",
          "tree",
          "tree",
          "tree",
          "tree",
          "tree",
          "tree",
          "tree",
          "tree",
          "tree",
          "tree",
          "tree",
          "tree",
          "tree",
          "tree",
          "tree",
          "tree",
          "tree",
          "tree",
          "tree",
          "tree",
          "tree",
          "tree",
          "tree",
          "tree",
          "tree",
          "tree",
          "tree",
          "tree",
          "tree",
          "tree",
          "tree",
          "tree",
          "tree",
          "tree",
          "tree",
          "tree",
          "tree",
          "tree",
          "tree",
          "tree",
          "tree",
          "tree",
          "tree",
          "tree",
          "tree",
          "tree",
          "tree",
          "tree",
          "tree",
          "tree",
          "tree",
          "tree",
          "tree",
          "tree",
          "tree",
          "tree",
          "tree",
          "tree",
          "tree",
          "tree",
          "tree",
          "tree",
          "tree",
          "tree",
          "tree",
          "tree",
          "tree",
          "tree",
          "tree",
          "tree",
          "tree",
          "tree",
          "tree",
          "tree",
          "tree",
          "tree",
          "tree",
          "tree",
          "tree",
          "tree",
          "tree",
          "tree",
          "tree",
          "tree",
          "tree",
          "tree",
          "tree",
          "tree",
          "tree",
          "tree",
          "tree",
          "tree",
          "tree",
          "tree",
          "tree",
          "tree",
          "tree",
          "tree",
          "tree",
          "tree",
          "tree",
          "tree",
          "tree",
          "tree",
          "tree",
          "tree",
          "tree",
          "tree",
          "tree",
          "tree",
          "tree",
          "tree",
          "tree",
          "tree",
          "tree",
          "tree",
          "tree",
          "tree",
          "tree",
          "tree",
          "tree",
          "tree",
          "tree",
          "tree",
          "tree",
          "tree",
          "tree",
          "tree",
          "tree",
          "tree",
          "tree",
          "tree",
          "tree",
          "tree",
          "tree",
          "tree",
          "tree",
          "tree",
          "tree",
          "tree",
          "tree",
          "tree",
          "tree",
          "tree",
          "tree",
          "tree",
          "tree",
          "tree",
          "tree",
          "tree",
          "tree",
          "tree",
          "tree",
          "tree",
          "tree",
          "tree",
          "tree",
          "tree",
          "tree",
          "tree",
          "tree",
          "tree",
          "tree",
          "tree",
          "tree",
          "tree",
          "tree",
          "tree",
          "tree",
          "tree",
          "tree",
          "tree",
          "tree",
          "tree",
          "tree",
          "tree",
          "tree",
          "tree",
          "tree",
          "tree",
          "tree",
          "tree",
          "tree",
          "tree",
          "tree",
          "tree",
          "tree",
          "tree",
          "tree",
          "tree",
          "tree",
          "tree",
          "tree",
          "tree",
          "tree",
          "tree",
          "tree",
          "tree",
          "tree",
          "tree",
          "tree",
          "tree",
          "tree",
          "tree",
          "tree",
          "tree",
          "tree",
          "tree",
          "tree",
          "tree",
          "tree",
          "tree",
          "tree",
          "tree",
          "tree",
          "tree",
          "tree",
          "tree",
          "tree",
          "tree",
          "tree",
          "tree",
          "tree",
          "tree",
          "tree",
          "tree",
          "tree",
          "tree",
          "tree",
          "tree",
          "tree",
          "tree",
          "tree",
          "tree",
          "tree",
          "tree",
          "tree",
          "tree",
          "tree",
          "tree",
          "tree",
          "tree",
          "tree",
          "tree",
          "tree",
          "tree",
          "tree",
          "tree",
          "tree",
          "tree",
          "tree",
          "tree",
          "tree",
          "tree",
          "tree",
          "tree",
          "tree",
          "tree",
          "tree",
          "tree",
          "tree",
          "tree",
          "tree",
          "tree",
          "tree",
          "tree",
          "tree",
          "tree",
          "tree",
          "tree",
          "tree",
          "tree",
          "tree",
          "tree",
          "tree",
          "tree",
          "tree",
          "tree",
          "tree",
          "tree",
          "tree",
          "tree",
          "tree",
          "tree",
          "tree",
          "tree",
          "tree",
          "tree",
          "tree",
          "tree",
          "tree",
          "tree",
          "tree",
          "tree",
          "tree",
          "tree",
          "tree",
          "tree",
          "tree",
          "tree",
          "tree",
          "tree",
          "tree",
          "tree",
          "tree",
          "tree",
          "tree",
          "tree",
          "tree",
          "tree",
          "tree",
          "tree",
          "tree",
          "tree",
          "tree",
          "tree",
          "tree",
          "tree",
          "tree",
          "tree",
          "tree",
          "tree",
          "tree",
          "tree",
          "tree",
          "tree",
          "tree",
          "tree",
          "tree",
          "tree",
          "tree",
          "tree",
          "tree",
          "tree",
          "tree",
          "tree",
          "tree",
          "tree",
          "tree",
          "tree",
          "tree",
          "tree",
          "tree",
          "tree",
          "tree",
          "tree",
          "tree",
          "tree",
          "tree",
          "tree",
          "tree",
          "tree",
          "tree",
          "tree",
          "tree",
          "tree",
          "tree",
          "tree",
          "tree",
          "tree",
          "tree",
          "tree",
          "tree",
          "tree",
          "tree",
          "tree",
          "tree",
          "tree",
          "tree",
          "tree",
          "tree",
          "tree",
          "tree",
          "tree",
          "tree",
          "tree",
          "tree",
          "tree",
          "tree",
          "tree",
          "tree",
          "tree",
          "tree",
          "tree",
          "tree",
          "tree",
          "tree",
          "tree",
          "tree",
          "tree",
          "tree",
          "tree",
          "tree",
          "tree",
          "tree",
          "tree",
          "tree",
          "tree",
          "tree",
          "tree",
          "tree",
          "tree",
          "tree",
          "tree",
          "tree",
          "tree",
          "tree",
          "tree",
          "tree",
          "tree",
          "tree",
          "tree",
          "tree",
          "tree",
          "tree",
          "tree",
          "tree",
          "tree",
          "tree",
          "tree",
          "tree",
          "tree",
          "tree",
          "tree",
          "tree",
          "tree",
          "tree",
          "tree",
          "tree",
          "tree",
          "tree",
          "tree",
          "tree",
          "tree",
          "tree",
          "tree",
          "tree",
          "tree",
          "tree",
          "tree",
          "tree",
          "tree",
          "tree",
          "tree",
          "tree",
          "tree",
          "tree",
          "tree",
          "tree",
          "tree",
          "tree",
          "tree",
          "tree",
          "tree",
          "tree",
          "tree",
          "tree",
          "tree",
          "tree",
          "tree",
          "tree",
          "tree",
          "tree",
          "tree",
          "tree",
          "tree",
          "tree",
          "tree",
          "tree",
          "tree",
          "tree",
          "tree",
          "tree",
          "tree",
          "tree",
          "tree",
          "tree",
          "tree",
          "tree",
          "tree",
          "tree",
          "tree",
          "tree",
          "tree",
          "tree",
          "tree",
          "tree",
          "tree",
          "tree",
          "tree",
          "tree",
          "tree",
          "tree",
          "tree",
          "tree",
          "tree",
          "tree",
          "tree",
          "tree",
          "tree",
          "tree",
          "tree",
          "tree",
          "tree",
          "tree",
          "tree",
          "tree",
          "tree",
          "tree",
          "tree",
          "tree",
          "tree",
          "tree",
          "tree",
          "tree",
          "tree",
          "tree",
          "tree",
          "tree",
          "tree",
          "tree",
          "tree",
          "tree",
          "tree",
          "tree",
          "tree",
          "tree",
          "tree",
          "tree",
          "tree",
          "tree",
          "tree",
          "tree",
          "tree",
          "tree",
          "tree",
          "tree",
          "tree",
          "tree",
          "tree",
          "tree",
          "tree",
          "tree",
          "tree",
          "tree",
          "tree",
          "tree",
          "tree",
          "tree",
          "tree",
          "tree",
          "tree",
          "tree",
          "tree",
          "tree",
          "tree",
          "tree",
          "tree",
          "tree",
          "tree",
          "tree",
          "tree",
          "tree",
          "tree",
          "tree",
          "tree",
          "tree",
          "tree",
          "tree",
          "tree",
          "tree",
          "tree",
          "tree",
          "tree",
          "tree",
          "tree",
          "tree",
          "tree",
          "tree",
          "tree",
          "tree",
          "tree",
          "tree",
          "tree",
          "tree",
          "tree",
          "tree",
          "tree",
          "tree",
          "tree",
          "tree",
          "tree",
          "tree",
          "tree",
          "tree",
          "tree",
          "tree",
          "tree",
          "tree",
          "tree",
          "tree",
          "tree",
          "tree",
          "tree",
          "tree",
          "tree",
          "tree",
          "tree",
          "tree",
          "tree",
          "tree",
          "tree",
          "tree",
          "tree",
          "tree",
          "tree",
          "tree",
          "tree",
          "tree",
          "tree",
          "tree",
          "tree",
          "tree",
          "tree",
          "tree",
          "tree",
          "tree",
          "tree",
          "tree",
          "tree",
          "tree",
          "tree",
          "tree",
          "tree",
          "tree",
          "tree",
          "tree",
          "tree",
          "tree",
          "tree",
          "tree",
          "tree",
          "tree",
          "tree",
          "tree",
          "tree",
          "tree",
          "tree",
          "tree",
          "tree",
          "tree",
          "tree",
          "tree",
          "tree",
          "tree",
          "tree",
          "tree",
          "tree",
          "tree",
          "tree",
          "tree",
          "tree",
          "tree",
          "tree",
          "tree",
          "tree",
          "tree",
          "tree",
          "tree",
          "tree",
          "tree",
          "tree",
          "tree",
          "tree",
          "tree",
          "tree",
          "tree",
          "tree",
          "tree",
          "tree",
          "tree",
          "tree",
          "tree",
          "tree",
          "tree",
          "tree",
          "tree",
          "tree",
          "tree",
          "tree",
          "tree",
          "tree",
          "tree",
          "tree",
          "tree",
          "tree",
          "tree",
          "tree",
          "tree",
          "tree",
          "tree",
          "tree",
          "tree",
          "tree",
          "tree",
          "tree",
          "tree",
          "tree",
          "tree",
          "tree",
          "tree",
          "tree",
          "tree",
          "tree",
          "tree",
          "tree",
          "tree",
          "tree",
          "tree",
          "tree",
          "tree",
          "tree",
          "tree",
          "tree",
          "tree",
          "tree",
          "tree",
          "tree",
          "tree",
          "tree",
          "tree",
          "tree",
          "tree",
          "tree",
          "tree",
          "tree",
          "tree",
          "tree",
          "tree",
          "tree",
          "tree",
          "tree",
          "tree",
          "tree",
          "tree",
          "tree",
          "tree",
          "tree",
          "tree",
          "tree",
          "tree",
          "tree",
          "tree",
          "tree",
          "tree",
          "tree",
          "tree",
          "tree",
          "tree",
          "tree",
          "tree",
          "tree",
          "tree",
          "tree",
          "tree",
          "tree",
          "tree",
          "tree",
          "tree",
          "tree",
          "tree",
          "tree",
          "tree",
          "tree",
          "tree",
          "tree",
          "tree",
          "tree"
         ]
        }
       ],
       "layout": {
        "legend": {
         "title": {
          "text": "label"
         }
        },
        "template": {
         "data": {
          "bar": [
           {
            "error_x": {
             "color": "#2a3f5f"
            },
            "error_y": {
             "color": "#2a3f5f"
            },
            "marker": {
             "line": {
              "color": "white",
              "width": 0.5
             },
             "pattern": {
              "fillmode": "overlay",
              "size": 10,
              "solidity": 0.2
             }
            },
            "type": "bar"
           }
          ],
          "barpolar": [
           {
            "marker": {
             "line": {
              "color": "white",
              "width": 0.5
             },
             "pattern": {
              "fillmode": "overlay",
              "size": 10,
              "solidity": 0.2
             }
            },
            "type": "barpolar"
           }
          ],
          "box": [
           {
            "boxpoints": "outliers",
            "notched": false,
            "type": "box"
           }
          ],
          "carpet": [
           {
            "aaxis": {
             "endlinecolor": "#2a3f5f",
             "gridcolor": "#C8D4E3",
             "linecolor": "#C8D4E3",
             "minorgridcolor": "#C8D4E3",
             "startlinecolor": "#2a3f5f"
            },
            "baxis": {
             "endlinecolor": "#2a3f5f",
             "gridcolor": "#C8D4E3",
             "linecolor": "#C8D4E3",
             "minorgridcolor": "#C8D4E3",
             "startlinecolor": "#2a3f5f"
            },
            "type": "carpet"
           }
          ],
          "choropleth": [
           {
            "colorbar": {
             "outlinewidth": 0,
             "ticks": ""
            },
            "type": "choropleth"
           }
          ],
          "contour": [
           {
            "colorbar": {
             "outlinewidth": 0,
             "ticks": ""
            },
            "colorscale": [
             [
              0,
              "#0d0887"
             ],
             [
              0.1111111111111111,
              "#46039f"
             ],
             [
              0.2222222222222222,
              "#7201a8"
             ],
             [
              0.3333333333333333,
              "#9c179e"
             ],
             [
              0.4444444444444444,
              "#bd3786"
             ],
             [
              0.5555555555555556,
              "#d8576b"
             ],
             [
              0.6666666666666666,
              "#ed7953"
             ],
             [
              0.7777777777777778,
              "#fb9f3a"
             ],
             [
              0.8888888888888888,
              "#fdca26"
             ],
             [
              1,
              "#f0f921"
             ]
            ],
            "type": "contour"
           }
          ],
          "contourcarpet": [
           {
            "colorbar": {
             "outlinewidth": 0,
             "ticks": ""
            },
            "type": "contourcarpet"
           }
          ],
          "heatmap": [
           {
            "colorbar": {
             "outlinewidth": 0,
             "ticks": ""
            },
            "colorscale": [
             [
              0,
              "#0d0887"
             ],
             [
              0.1111111111111111,
              "#46039f"
             ],
             [
              0.2222222222222222,
              "#7201a8"
             ],
             [
              0.3333333333333333,
              "#9c179e"
             ],
             [
              0.4444444444444444,
              "#bd3786"
             ],
             [
              0.5555555555555556,
              "#d8576b"
             ],
             [
              0.6666666666666666,
              "#ed7953"
             ],
             [
              0.7777777777777778,
              "#fb9f3a"
             ],
             [
              0.8888888888888888,
              "#fdca26"
             ],
             [
              1,
              "#f0f921"
             ]
            ],
            "type": "heatmap"
           }
          ],
          "heatmapgl": [
           {
            "colorbar": {
             "outlinewidth": 0,
             "ticks": ""
            },
            "colorscale": [
             [
              0,
              "#0d0887"
             ],
             [
              0.1111111111111111,
              "#46039f"
             ],
             [
              0.2222222222222222,
              "#7201a8"
             ],
             [
              0.3333333333333333,
              "#9c179e"
             ],
             [
              0.4444444444444444,
              "#bd3786"
             ],
             [
              0.5555555555555556,
              "#d8576b"
             ],
             [
              0.6666666666666666,
              "#ed7953"
             ],
             [
              0.7777777777777778,
              "#fb9f3a"
             ],
             [
              0.8888888888888888,
              "#fdca26"
             ],
             [
              1,
              "#f0f921"
             ]
            ],
            "type": "heatmapgl"
           }
          ],
          "histogram": [
           {
            "marker": {
             "line": {
              "width": 1
             },
             "pattern": {
              "fillmode": "overlay",
              "size": 10,
              "solidity": 0.2
             }
            },
            "type": "histogram"
           }
          ],
          "histogram2d": [
           {
            "colorbar": {
             "outlinewidth": 0,
             "ticks": ""
            },
            "colorscale": [
             [
              0,
              "#0d0887"
             ],
             [
              0.1111111111111111,
              "#46039f"
             ],
             [
              0.2222222222222222,
              "#7201a8"
             ],
             [
              0.3333333333333333,
              "#9c179e"
             ],
             [
              0.4444444444444444,
              "#bd3786"
             ],
             [
              0.5555555555555556,
              "#d8576b"
             ],
             [
              0.6666666666666666,
              "#ed7953"
             ],
             [
              0.7777777777777778,
              "#fb9f3a"
             ],
             [
              0.8888888888888888,
              "#fdca26"
             ],
             [
              1,
              "#f0f921"
             ]
            ],
            "type": "histogram2d"
           }
          ],
          "histogram2dcontour": [
           {
            "colorbar": {
             "outlinewidth": 0,
             "ticks": ""
            },
            "colorscale": [
             [
              0,
              "#0d0887"
             ],
             [
              0.1111111111111111,
              "#46039f"
             ],
             [
              0.2222222222222222,
              "#7201a8"
             ],
             [
              0.3333333333333333,
              "#9c179e"
             ],
             [
              0.4444444444444444,
              "#bd3786"
             ],
             [
              0.5555555555555556,
              "#d8576b"
             ],
             [
              0.6666666666666666,
              "#ed7953"
             ],
             [
              0.7777777777777778,
              "#fb9f3a"
             ],
             [
              0.8888888888888888,
              "#fdca26"
             ],
             [
              1,
              "#f0f921"
             ]
            ],
            "type": "histogram2dcontour"
           }
          ],
          "mesh3d": [
           {
            "colorbar": {
             "outlinewidth": 0,
             "ticks": ""
            },
            "type": "mesh3d"
           }
          ],
          "parcoords": [
           {
            "line": {
             "colorbar": {
              "outlinewidth": 0,
              "ticks": ""
             }
            },
            "type": "parcoords"
           }
          ],
          "pie": [
           {
            "automargin": true,
            "type": "pie"
           }
          ],
          "scatter": [
           {
            "fillpattern": {
             "fillmode": "overlay",
             "size": 10,
             "solidity": 0.2
            },
            "marker": {
             "opacity": 0.8
            },
            "type": "scatter"
           }
          ],
          "scatter3d": [
           {
            "line": {
             "colorbar": {
              "outlinewidth": 0,
              "ticks": ""
             }
            },
            "marker": {
             "colorbar": {
              "outlinewidth": 0,
              "ticks": ""
             },
             "opacity": 0.8
            },
            "type": "scatter3d"
           }
          ],
          "scattercarpet": [
           {
            "marker": {
             "colorbar": {
              "outlinewidth": 0,
              "ticks": ""
             }
            },
            "type": "scattercarpet"
           }
          ],
          "scattergeo": [
           {
            "marker": {
             "colorbar": {
              "outlinewidth": 0,
              "ticks": ""
             }
            },
            "type": "scattergeo"
           }
          ],
          "scattergl": [
           {
            "marker": {
             "colorbar": {
              "outlinewidth": 0,
              "ticks": ""
             }
            },
            "type": "scattergl"
           }
          ],
          "scattermapbox": [
           {
            "marker": {
             "colorbar": {
              "outlinewidth": 0,
              "ticks": ""
             }
            },
            "type": "scattermapbox"
           }
          ],
          "scatterpolar": [
           {
            "marker": {
             "colorbar": {
              "outlinewidth": 0,
              "ticks": ""
             }
            },
            "type": "scatterpolar"
           }
          ],
          "scatterpolargl": [
           {
            "marker": {
             "colorbar": {
              "outlinewidth": 0,
              "ticks": ""
             }
            },
            "type": "scatterpolargl"
           }
          ],
          "scatterternary": [
           {
            "marker": {
             "colorbar": {
              "outlinewidth": 0,
              "ticks": ""
             }
            },
            "type": "scatterternary"
           }
          ],
          "surface": [
           {
            "colorbar": {
             "outlinewidth": 0,
             "ticks": ""
            },
            "colorscale": [
             [
              0,
              "#0d0887"
             ],
             [
              0.1111111111111111,
              "#46039f"
             ],
             [
              0.2222222222222222,
              "#7201a8"
             ],
             [
              0.3333333333333333,
              "#9c179e"
             ],
             [
              0.4444444444444444,
              "#bd3786"
             ],
             [
              0.5555555555555556,
              "#d8576b"
             ],
             [
              0.6666666666666666,
              "#ed7953"
             ],
             [
              0.7777777777777778,
              "#fb9f3a"
             ],
             [
              0.8888888888888888,
              "#fdca26"
             ],
             [
              1,
              "#f0f921"
             ]
            ],
            "type": "surface"
           }
          ],
          "table": [
           {
            "cells": {
             "fill": {
              "color": "#EBF0F8"
             },
             "line": {
              "color": "white"
             }
            },
            "header": {
             "fill": {
              "color": "#C8D4E3"
             },
             "line": {
              "color": "white"
             }
            },
            "type": "table"
           }
          ]
         },
         "layout": {
          "annotationdefaults": {
           "arrowcolor": "#2a3f5f",
           "arrowhead": 0,
           "arrowwidth": 1
          },
          "autotypenumbers": "strict",
          "coloraxis": {
           "colorbar": {
            "outlinewidth": 0,
            "ticks": ""
           }
          },
          "colorscale": {
           "diverging": [
            [
             0,
             "#8e0152"
            ],
            [
             0.1,
             "#c51b7d"
            ],
            [
             0.2,
             "#de77ae"
            ],
            [
             0.3,
             "#f1b6da"
            ],
            [
             0.4,
             "#fde0ef"
            ],
            [
             0.5,
             "#f7f7f7"
            ],
            [
             0.6,
             "#e6f5d0"
            ],
            [
             0.7,
             "#b8e186"
            ],
            [
             0.8,
             "#7fbc41"
            ],
            [
             0.9,
             "#4d9221"
            ],
            [
             1,
             "#276419"
            ]
           ],
           "sequential": [
            [
             0,
             "#0d0887"
            ],
            [
             0.1111111111111111,
             "#46039f"
            ],
            [
             0.2222222222222222,
             "#7201a8"
            ],
            [
             0.3333333333333333,
             "#9c179e"
            ],
            [
             0.4444444444444444,
             "#bd3786"
            ],
            [
             0.5555555555555556,
             "#d8576b"
            ],
            [
             0.6666666666666666,
             "#ed7953"
            ],
            [
             0.7777777777777778,
             "#fb9f3a"
            ],
            [
             0.8888888888888888,
             "#fdca26"
            ],
            [
             1,
             "#f0f921"
            ]
           ],
           "sequentialminus": [
            [
             0,
             "#0d0887"
            ],
            [
             0.1111111111111111,
             "#46039f"
            ],
            [
             0.2222222222222222,
             "#7201a8"
            ],
            [
             0.3333333333333333,
             "#9c179e"
            ],
            [
             0.4444444444444444,
             "#bd3786"
            ],
            [
             0.5555555555555556,
             "#d8576b"
            ],
            [
             0.6666666666666666,
             "#ed7953"
            ],
            [
             0.7777777777777778,
             "#fb9f3a"
            ],
            [
             0.8888888888888888,
             "#fdca26"
            ],
            [
             1,
             "#f0f921"
            ]
           ]
          },
          "colorway": [
           "#636efa",
           "#EF553B",
           "#00cc96",
           "#ab63fa",
           "#FFA15A",
           "#19d3f3",
           "#FF6692",
           "#B6E880",
           "#FF97FF",
           "#FECB52"
          ],
          "font": {
           "color": "#2a3f5f"
          },
          "geo": {
           "bgcolor": "white",
           "lakecolor": "white",
           "landcolor": "white",
           "showlakes": true,
           "showland": true,
           "subunitcolor": "#C8D4E3"
          },
          "height": 400,
          "hoverlabel": {
           "align": "left"
          },
          "hovermode": "closest",
          "mapbox": {
           "style": "light"
          },
          "margin": {
           "b": 2,
           "l": 2,
           "r": 2,
           "t": 30
          },
          "paper_bgcolor": "white",
          "plot_bgcolor": "white",
          "polar": {
           "angularaxis": {
            "gridcolor": "#EBF0F8",
            "linecolor": "#EBF0F8",
            "ticks": ""
           },
           "bgcolor": "white",
           "radialaxis": {
            "gridcolor": "#EBF0F8",
            "linecolor": "#EBF0F8",
            "ticks": ""
           }
          },
          "scene": {
           "camera": {
            "eye": {
             "x": 1.5,
             "y": 1.5,
             "z": 0.1
            }
           },
           "xaxis": {
            "backgroundcolor": "white",
            "gridcolor": "#DFE8F3",
            "gridwidth": 2,
            "linecolor": "#EBF0F8",
            "showbackground": true,
            "ticks": "",
            "zerolinecolor": "#EBF0F8"
           },
           "yaxis": {
            "backgroundcolor": "white",
            "gridcolor": "#DFE8F3",
            "gridwidth": 2,
            "linecolor": "#EBF0F8",
            "showbackground": true,
            "ticks": "",
            "zerolinecolor": "#EBF0F8"
           },
           "zaxis": {
            "backgroundcolor": "white",
            "gridcolor": "#DFE8F3",
            "gridwidth": 2,
            "linecolor": "#EBF0F8",
            "showbackground": true,
            "ticks": "",
            "zerolinecolor": "#EBF0F8"
           }
          },
          "shapedefaults": {
           "line": {
            "color": "#2a3f5f"
           }
          },
          "ternary": {
           "aaxis": {
            "gridcolor": "#DFE8F3",
            "linecolor": "#A2B1C6",
            "ticks": ""
           },
           "baxis": {
            "gridcolor": "#DFE8F3",
            "linecolor": "#A2B1C6",
            "ticks": ""
           },
           "bgcolor": "white",
           "caxis": {
            "gridcolor": "#DFE8F3",
            "linecolor": "#A2B1C6",
            "ticks": ""
           }
          },
          "title": {
           "x": 0.5
          },
          "xaxis": {
           "automargin": true,
           "gridcolor": "#EBF0F8",
           "linecolor": "#EBF0F8",
           "linewidth": 2,
           "showline": true,
           "ticks": "",
           "title": {
            "standoff": 15
           },
           "zerolinecolor": "#EBF0F8",
           "zerolinewidth": 2
          },
          "yaxis": {
           "automargin": true,
           "gridcolor": "#EBF0F8",
           "linecolor": "#EBF0F8",
           "linewidth": 2,
           "showline": true,
           "ticks": "",
           "title": {
            "standoff": 15
           },
           "zerolinecolor": "#EBF0F8",
           "zerolinewidth": 2
          }
         }
        },
        "title": {
         "text": "Label distribution"
        },
        "xaxis": {
         "title": {
          "text": "label"
         }
        },
        "yaxis": {
         "title": {
          "text": "count"
         }
        }
       }
      }
     },
     "metadata": {},
     "output_type": "display_data"
    }
   ],
   "source": [
    "import graphing # custom graphing code\n",
    "\n",
    "# Plot a histogram with counts for each label\n",
    "graphing.multiple_histogram(dataset, label_x=\"label\", label_group=\"label\", title=\"Label distribution\")"
   ]
  },
  {
   "cell_type": "code",
   "execution_count": 3,
   "metadata": {},
   "outputs": [
    {
     "data": {
      "application/vnd.plotly.v1+json": {
       "config": {
        "plotlyServerURL": "https://plot.ly"
       },
       "data": [
        {
         "histfunc": "count",
         "name": "black",
         "type": "histogram",
         "x": [
          "black",
          "black",
          "black",
          "black",
          "black",
          "black",
          "black",
          "black",
          "black",
          "black",
          "black",
          "black",
          "black",
          "black",
          "black",
          "black",
          "black",
          "black",
          "black",
          "black",
          "black",
          "black",
          "black",
          "black",
          "black",
          "black",
          "black",
          "black",
          "black",
          "black",
          "black",
          "black",
          "black",
          "black",
          "black",
          "black",
          "black",
          "black",
          "black",
          "black",
          "black",
          "black",
          "black",
          "black",
          "black",
          "black",
          "black",
          "black",
          "black",
          "black",
          "black",
          "black",
          "black",
          "black",
          "black",
          "black",
          "black",
          "black",
          "black",
          "black",
          "black",
          "black",
          "black",
          "black",
          "black",
          "black",
          "black",
          "black",
          "black",
          "black",
          "black",
          "black",
          "black",
          "black",
          "black",
          "black",
          "black",
          "black",
          "black",
          "black",
          "black",
          "black",
          "black",
          "black",
          "black",
          "black",
          "black",
          "black",
          "black",
          "black",
          "black",
          "black",
          "black",
          "black",
          "black",
          "black",
          "black",
          "black",
          "black",
          "black",
          "black",
          "black",
          "black",
          "black",
          "black",
          "black",
          "black",
          "black",
          "black",
          "black",
          "black",
          "black",
          "black",
          "black",
          "black",
          "black",
          "black",
          "black",
          "black",
          "black",
          "black",
          "black",
          "black",
          "black",
          "black",
          "black",
          "black",
          "black",
          "black",
          "black",
          "black",
          "black",
          "black",
          "black",
          "black",
          "black",
          "black",
          "black",
          "black",
          "black",
          "black",
          "black",
          "black",
          "black",
          "black",
          "black",
          "black",
          "black",
          "black",
          "black",
          "black",
          "black",
          "black",
          "black",
          "black",
          "black",
          "black",
          "black",
          "black",
          "black",
          "black",
          "black",
          "black",
          "black",
          "black",
          "black",
          "black",
          "black",
          "black",
          "black",
          "black",
          "black",
          "black",
          "black",
          "black",
          "black",
          "black",
          "black",
          "black",
          "black",
          "black",
          "black",
          "black",
          "black",
          "black",
          "black",
          "black",
          "black",
          "black",
          "black",
          "black",
          "black",
          "black",
          "black",
          "black",
          "black",
          "black",
          "black",
          "black",
          "black",
          "black",
          "black",
          "black",
          "black",
          "black",
          "black",
          "black",
          "black",
          "black",
          "black",
          "black",
          "black",
          "black",
          "black",
          "black",
          "black",
          "black",
          "black",
          "black",
          "black",
          "black",
          "black",
          "black",
          "black",
          "black",
          "black",
          "black",
          "black",
          "black",
          "black",
          "black",
          "black",
          "black",
          "black",
          "black",
          "black",
          "black",
          "black",
          "black",
          "black",
          "black",
          "black",
          "black",
          "black",
          "black",
          "black",
          "black",
          "black",
          "black",
          "black",
          "black",
          "black",
          "black",
          "black",
          "black",
          "black",
          "black",
          "black",
          "black",
          "black",
          "black",
          "black",
          "black",
          "black",
          "black",
          "black",
          "black",
          "black",
          "black",
          "black",
          "black",
          "black",
          "black",
          "black",
          "black",
          "black",
          "black",
          "black",
          "black",
          "black",
          "black",
          "black",
          "black",
          "black",
          "black",
          "black",
          "black",
          "black"
         ]
        },
        {
         "histfunc": "count",
         "name": "blue",
         "type": "histogram",
         "x": [
          "blue",
          "blue",
          "blue",
          "blue",
          "blue",
          "blue",
          "blue",
          "blue",
          "blue",
          "blue",
          "blue",
          "blue",
          "blue",
          "blue",
          "blue",
          "blue",
          "blue",
          "blue",
          "blue",
          "blue",
          "blue",
          "blue",
          "blue",
          "blue",
          "blue",
          "blue",
          "blue",
          "blue",
          "blue",
          "blue",
          "blue",
          "blue",
          "blue",
          "blue",
          "blue",
          "blue",
          "blue",
          "blue",
          "blue",
          "blue",
          "blue",
          "blue"
         ]
        },
        {
         "histfunc": "count",
         "name": "brown",
         "type": "histogram",
         "x": [
          "brown",
          "brown",
          "brown",
          "brown",
          "brown",
          "brown",
          "brown",
          "brown",
          "brown",
          "brown",
          "brown",
          "brown",
          "brown",
          "brown",
          "brown",
          "brown",
          "brown",
          "brown",
          "brown",
          "brown",
          "brown",
          "brown",
          "brown",
          "brown",
          "brown",
          "brown",
          "brown",
          "brown",
          "brown",
          "brown",
          "brown",
          "brown",
          "brown",
          "brown",
          "brown",
          "brown",
          "brown",
          "brown",
          "brown",
          "brown",
          "brown",
          "brown",
          "brown",
          "brown",
          "brown",
          "brown",
          "brown",
          "brown",
          "brown",
          "brown",
          "brown",
          "brown",
          "brown",
          "brown",
          "brown",
          "brown",
          "brown",
          "brown",
          "brown",
          "brown",
          "brown",
          "brown",
          "brown",
          "brown",
          "brown",
          "brown",
          "brown",
          "brown",
          "brown",
          "brown",
          "brown",
          "brown",
          "brown",
          "brown",
          "brown",
          "brown",
          "brown",
          "brown",
          "brown",
          "brown",
          "brown",
          "brown",
          "brown",
          "brown",
          "brown",
          "brown",
          "brown",
          "brown",
          "brown",
          "brown",
          "brown",
          "brown",
          "brown",
          "brown",
          "brown",
          "brown",
          "brown",
          "brown",
          "brown",
          "brown",
          "brown",
          "brown",
          "brown",
          "brown",
          "brown",
          "brown",
          "brown",
          "brown",
          "brown",
          "brown",
          "brown",
          "brown",
          "brown",
          "brown",
          "brown",
          "brown",
          "brown",
          "brown",
          "brown",
          "brown",
          "brown",
          "brown",
          "brown",
          "brown",
          "brown",
          "brown",
          "brown",
          "brown",
          "brown",
          "brown",
          "brown",
          "brown",
          "brown",
          "brown",
          "brown",
          "brown",
          "brown",
          "brown",
          "brown",
          "brown",
          "brown",
          "brown",
          "brown",
          "brown",
          "brown",
          "brown",
          "brown",
          "brown",
          "brown",
          "brown",
          "brown",
          "brown",
          "brown",
          "brown",
          "brown",
          "brown",
          "brown",
          "brown",
          "brown",
          "brown",
          "brown",
          "brown",
          "brown",
          "brown",
          "brown",
          "brown",
          "brown",
          "brown",
          "brown",
          "brown",
          "brown",
          "brown",
          "brown",
          "brown",
          "brown",
          "brown",
          "brown",
          "brown",
          "brown",
          "brown",
          "brown",
          "brown",
          "brown",
          "brown",
          "brown",
          "brown",
          "brown",
          "brown",
          "brown",
          "brown",
          "brown",
          "brown",
          "brown",
          "brown",
          "brown",
          "brown",
          "brown",
          "brown",
          "brown",
          "brown",
          "brown",
          "brown",
          "brown",
          "brown",
          "brown",
          "brown",
          "brown",
          "brown",
          "brown",
          "brown",
          "brown",
          "brown",
          "brown",
          "brown",
          "brown",
          "brown",
          "brown",
          "brown",
          "brown",
          "brown",
          "brown",
          "brown",
          "brown",
          "brown",
          "brown",
          "brown",
          "brown",
          "brown",
          "brown",
          "brown",
          "brown",
          "brown",
          "brown",
          "brown",
          "brown",
          "brown",
          "brown",
          "brown",
          "brown",
          "brown",
          "brown",
          "brown",
          "brown",
          "brown",
          "brown",
          "brown",
          "brown",
          "brown",
          "brown",
          "brown",
          "brown",
          "brown",
          "brown",
          "brown",
          "brown",
          "brown",
          "brown",
          "brown",
          "brown",
          "brown",
          "brown",
          "brown",
          "brown",
          "brown",
          "brown",
          "brown",
          "brown",
          "brown",
          "brown",
          "brown",
          "brown",
          "brown",
          "brown",
          "brown",
          "brown",
          "brown",
          "brown",
          "brown",
          "brown",
          "brown",
          "brown",
          "brown",
          "brown",
          "brown",
          "brown",
          "brown",
          "brown",
          "brown",
          "brown",
          "brown",
          "brown",
          "brown",
          "brown",
          "brown",
          "brown",
          "brown",
          "brown",
          "brown",
          "brown",
          "brown",
          "brown",
          "brown",
          "brown",
          "brown",
          "brown",
          "brown",
          "brown",
          "brown",
          "brown",
          "brown",
          "brown",
          "brown",
          "brown",
          "brown",
          "brown",
          "brown",
          "brown",
          "brown",
          "brown",
          "brown",
          "brown",
          "brown",
          "brown",
          "brown",
          "brown",
          "brown",
          "brown",
          "brown",
          "brown",
          "brown",
          "brown",
          "brown",
          "brown",
          "brown",
          "brown",
          "brown",
          "brown",
          "brown",
          "brown",
          "brown",
          "brown",
          "brown",
          "brown",
          "brown",
          "brown",
          "brown",
          "brown",
          "brown",
          "brown",
          "brown",
          "brown",
          "brown",
          "brown",
          "brown",
          "brown",
          "brown",
          "brown",
          "brown",
          "brown",
          "brown",
          "brown",
          "brown",
          "brown",
          "brown",
          "brown",
          "brown",
          "brown",
          "brown",
          "brown",
          "brown",
          "brown",
          "brown",
          "brown",
          "brown",
          "brown",
          "brown",
          "brown",
          "brown",
          "brown",
          "brown",
          "brown",
          "brown",
          "brown",
          "brown",
          "brown",
          "brown",
          "brown",
          "brown",
          "brown",
          "brown",
          "brown",
          "brown",
          "brown",
          "brown",
          "brown",
          "brown",
          "brown",
          "brown",
          "brown",
          "brown",
          "brown",
          "brown",
          "brown",
          "brown",
          "brown",
          "brown",
          "brown",
          "brown",
          "brown",
          "brown",
          "brown",
          "brown",
          "brown",
          "brown",
          "brown",
          "brown",
          "brown",
          "brown",
          "brown",
          "brown",
          "brown",
          "brown",
          "brown",
          "brown",
          "brown",
          "brown",
          "brown",
          "brown",
          "brown",
          "brown",
          "brown",
          "brown",
          "brown",
          "brown",
          "brown",
          "brown",
          "brown",
          "brown",
          "brown",
          "brown",
          "brown",
          "brown",
          "brown",
          "brown",
          "brown",
          "brown",
          "brown",
          "brown",
          "brown",
          "brown",
          "brown",
          "brown",
          "brown",
          "brown",
          "brown",
          "brown",
          "brown",
          "brown",
          "brown",
          "brown",
          "brown",
          "brown",
          "brown",
          "brown",
          "brown",
          "brown",
          "brown",
          "brown",
          "brown",
          "brown",
          "brown",
          "brown",
          "brown",
          "brown",
          "brown",
          "brown",
          "brown",
          "brown",
          "brown",
          "brown",
          "brown",
          "brown",
          "brown",
          "brown",
          "brown",
          "brown",
          "brown",
          "brown",
          "brown",
          "brown",
          "brown",
          "brown",
          "brown",
          "brown",
          "brown",
          "brown",
          "brown",
          "brown",
          "brown",
          "brown",
          "brown",
          "brown",
          "brown",
          "brown",
          "brown",
          "brown",
          "brown",
          "brown",
          "brown",
          "brown",
          "brown",
          "brown",
          "brown",
          "brown",
          "brown",
          "brown",
          "brown",
          "brown",
          "brown",
          "brown",
          "brown",
          "brown",
          "brown",
          "brown",
          "brown",
          "brown",
          "brown",
          "brown",
          "brown",
          "brown",
          "brown",
          "brown",
          "brown",
          "brown",
          "brown",
          "brown",
          "brown",
          "brown",
          "brown",
          "brown",
          "brown",
          "brown",
          "brown",
          "brown",
          "brown",
          "brown",
          "brown",
          "brown",
          "brown",
          "brown",
          "brown",
          "brown",
          "brown",
          "brown",
          "brown",
          "brown",
          "brown",
          "brown",
          "brown",
          "brown",
          "brown",
          "brown",
          "brown",
          "brown",
          "brown",
          "brown",
          "brown",
          "brown",
          "brown",
          "brown",
          "brown",
          "brown",
          "brown",
          "brown",
          "brown",
          "brown",
          "brown",
          "brown",
          "brown",
          "brown",
          "brown",
          "brown",
          "brown",
          "brown",
          "brown",
          "brown",
          "brown",
          "brown",
          "brown",
          "brown",
          "brown",
          "brown",
          "brown",
          "brown",
          "brown",
          "brown",
          "brown",
          "brown",
          "brown",
          "brown",
          "brown",
          "brown",
          "brown",
          "brown",
          "brown",
          "brown",
          "brown",
          "brown",
          "brown",
          "brown",
          "brown",
          "brown",
          "brown",
          "brown",
          "brown",
          "brown",
          "brown",
          "brown",
          "brown",
          "brown",
          "brown",
          "brown",
          "brown",
          "brown",
          "brown",
          "brown",
          "brown",
          "brown",
          "brown",
          "brown",
          "brown",
          "brown",
          "brown",
          "brown",
          "brown",
          "brown",
          "brown"
         ]
        },
        {
         "histfunc": "count",
         "name": "green",
         "type": "histogram",
         "x": [
          "green",
          "green",
          "green",
          "green",
          "green",
          "green",
          "green",
          "green",
          "green",
          "green",
          "green",
          "green",
          "green",
          "green",
          "green",
          "green",
          "green",
          "green",
          "green",
          "green",
          "green",
          "green",
          "green",
          "green",
          "green",
          "green",
          "green",
          "green",
          "green",
          "green",
          "green",
          "green",
          "green",
          "green",
          "green",
          "green",
          "green",
          "green",
          "green",
          "green",
          "green",
          "green",
          "green",
          "green",
          "green",
          "green",
          "green",
          "green",
          "green",
          "green",
          "green",
          "green",
          "green",
          "green",
          "green",
          "green",
          "green",
          "green",
          "green",
          "green",
          "green",
          "green",
          "green",
          "green",
          "green",
          "green",
          "green",
          "green",
          "green",
          "green",
          "green",
          "green",
          "green",
          "green",
          "green",
          "green",
          "green",
          "green",
          "green",
          "green",
          "green",
          "green",
          "green",
          "green",
          "green",
          "green",
          "green",
          "green",
          "green",
          "green",
          "green",
          "green",
          "green",
          "green",
          "green",
          "green",
          "green",
          "green",
          "green",
          "green",
          "green",
          "green",
          "green",
          "green",
          "green",
          "green",
          "green",
          "green",
          "green",
          "green",
          "green",
          "green",
          "green",
          "green",
          "green",
          "green",
          "green",
          "green",
          "green",
          "green",
          "green",
          "green",
          "green",
          "green",
          "green",
          "green",
          "green",
          "green",
          "green",
          "green",
          "green",
          "green",
          "green",
          "green",
          "green",
          "green",
          "green",
          "green",
          "green",
          "green",
          "green",
          "green",
          "green",
          "green",
          "green",
          "green",
          "green",
          "green",
          "green",
          "green",
          "green",
          "green",
          "green",
          "green",
          "green",
          "green",
          "green",
          "green",
          "green",
          "green",
          "green",
          "green",
          "green",
          "green",
          "green",
          "green",
          "green",
          "green",
          "green",
          "green",
          "green",
          "green",
          "green",
          "green",
          "green",
          "green",
          "green",
          "green",
          "green",
          "green",
          "green",
          "green",
          "green",
          "green",
          "green",
          "green",
          "green",
          "green",
          "green",
          "green",
          "green",
          "green",
          "green",
          "green",
          "green",
          "green",
          "green",
          "green",
          "green",
          "green",
          "green",
          "green",
          "green",
          "green",
          "green",
          "green",
          "green",
          "green",
          "green",
          "green",
          "green",
          "green",
          "green",
          "green",
          "green",
          "green",
          "green",
          "green",
          "green",
          "green",
          "green",
          "green",
          "green",
          "green",
          "green",
          "green",
          "green",
          "green",
          "green",
          "green",
          "green",
          "green",
          "green",
          "green",
          "green",
          "green",
          "green",
          "green",
          "green",
          "green",
          "green",
          "green",
          "green",
          "green",
          "green",
          "green",
          "green",
          "green",
          "green",
          "green",
          "green",
          "green",
          "green",
          "green",
          "green",
          "green",
          "green",
          "green",
          "green",
          "green",
          "green",
          "green",
          "green",
          "green",
          "green",
          "green",
          "green",
          "green",
          "green",
          "green",
          "green",
          "green",
          "green",
          "green",
          "green",
          "green",
          "green",
          "green",
          "green",
          "green",
          "green",
          "green",
          "green",
          "green",
          "green",
          "green",
          "green",
          "green",
          "green",
          "green",
          "green",
          "green",
          "green",
          "green",
          "green",
          "green",
          "green",
          "green",
          "green",
          "green",
          "green",
          "green",
          "green",
          "green",
          "green",
          "green",
          "green",
          "green",
          "green",
          "green",
          "green",
          "green",
          "green",
          "green",
          "green",
          "green",
          "green"
         ]
        },
        {
         "histfunc": "count",
         "name": "grey",
         "type": "histogram",
         "x": [
          "grey",
          "grey",
          "grey",
          "grey",
          "grey",
          "grey",
          "grey",
          "grey",
          "grey",
          "grey",
          "grey",
          "grey",
          "grey",
          "grey",
          "grey",
          "grey",
          "grey",
          "grey",
          "grey",
          "grey",
          "grey",
          "grey",
          "grey",
          "grey",
          "grey",
          "grey",
          "grey",
          "grey",
          "grey",
          "grey",
          "grey",
          "grey",
          "grey",
          "grey",
          "grey",
          "grey",
          "grey",
          "grey",
          "grey",
          "grey",
          "grey",
          "grey",
          "grey",
          "grey",
          "grey",
          "grey",
          "grey",
          "grey",
          "grey",
          "grey",
          "grey",
          "grey",
          "grey",
          "grey",
          "grey",
          "grey",
          "grey",
          "grey",
          "grey",
          "grey",
          "grey",
          "grey",
          "grey",
          "grey",
          "grey",
          "grey",
          "grey",
          "grey",
          "grey",
          "grey",
          "grey",
          "grey",
          "grey",
          "grey",
          "grey",
          "grey",
          "grey",
          "grey",
          "grey",
          "grey",
          "grey",
          "grey",
          "grey",
          "grey",
          "grey",
          "grey",
          "grey",
          "grey",
          "grey",
          "grey",
          "grey",
          "grey",
          "grey",
          "grey",
          "grey",
          "grey",
          "grey",
          "grey",
          "grey",
          "grey",
          "grey",
          "grey",
          "grey",
          "grey",
          "grey",
          "grey",
          "grey",
          "grey",
          "grey",
          "grey",
          "grey",
          "grey",
          "grey",
          "grey",
          "grey",
          "grey",
          "grey",
          "grey",
          "grey",
          "grey",
          "grey",
          "grey",
          "grey",
          "grey",
          "grey",
          "grey",
          "grey",
          "grey",
          "grey",
          "grey",
          "grey",
          "grey",
          "grey",
          "grey",
          "grey",
          "grey",
          "grey",
          "grey",
          "grey",
          "grey",
          "grey",
          "grey",
          "grey",
          "grey",
          "grey",
          "grey",
          "grey",
          "grey",
          "grey",
          "grey",
          "grey",
          "grey",
          "grey",
          "grey",
          "grey",
          "grey",
          "grey",
          "grey",
          "grey",
          "grey",
          "grey",
          "grey",
          "grey",
          "grey",
          "grey",
          "grey",
          "grey",
          "grey",
          "grey",
          "grey",
          "grey",
          "grey",
          "grey",
          "grey",
          "grey",
          "grey",
          "grey",
          "grey",
          "grey",
          "grey",
          "grey",
          "grey",
          "grey",
          "grey",
          "grey",
          "grey",
          "grey",
          "grey",
          "grey",
          "grey",
          "grey",
          "grey",
          "grey",
          "grey",
          "grey",
          "grey",
          "grey",
          "grey",
          "grey",
          "grey",
          "grey",
          "grey",
          "grey",
          "grey",
          "grey",
          "grey",
          "grey",
          "grey",
          "grey",
          "grey",
          "grey",
          "grey",
          "grey",
          "grey",
          "grey",
          "grey",
          "grey",
          "grey",
          "grey",
          "grey",
          "grey",
          "grey",
          "grey",
          "grey",
          "grey",
          "grey",
          "grey",
          "grey",
          "grey",
          "grey",
          "grey",
          "grey",
          "grey",
          "grey",
          "grey",
          "grey",
          "grey",
          "grey",
          "grey",
          "grey",
          "grey",
          "grey",
          "grey",
          "grey",
          "grey",
          "grey",
          "grey",
          "grey",
          "grey",
          "grey",
          "grey",
          "grey",
          "grey",
          "grey",
          "grey",
          "grey",
          "grey",
          "grey",
          "grey",
          "grey",
          "grey",
          "grey",
          "grey",
          "grey",
          "grey",
          "grey",
          "grey",
          "grey",
          "grey",
          "grey",
          "grey",
          "grey",
          "grey",
          "grey",
          "grey",
          "grey",
          "grey",
          "grey",
          "grey",
          "grey",
          "grey",
          "grey",
          "grey",
          "grey",
          "grey",
          "grey",
          "grey",
          "grey",
          "grey",
          "grey",
          "grey",
          "grey",
          "grey",
          "grey",
          "grey",
          "grey",
          "grey",
          "grey",
          "grey",
          "grey",
          "grey",
          "grey",
          "grey",
          "grey",
          "grey",
          "grey",
          "grey",
          "grey",
          "grey",
          "grey",
          "grey",
          "grey",
          "grey",
          "grey",
          "grey",
          "grey",
          "grey",
          "grey",
          "grey",
          "grey",
          "grey",
          "grey",
          "grey",
          "grey",
          "grey",
          "grey",
          "grey",
          "grey",
          "grey",
          "grey",
          "grey",
          "grey"
         ]
        },
        {
         "histfunc": "count",
         "name": "orange",
         "type": "histogram",
         "x": [
          "orange",
          "orange",
          "orange",
          "orange",
          "orange",
          "orange",
          "orange",
          "orange",
          "orange",
          "orange",
          "orange",
          "orange",
          "orange",
          "orange",
          "orange",
          "orange",
          "orange",
          "orange"
         ]
        },
        {
         "histfunc": "count",
         "name": "red",
         "type": "histogram",
         "x": [
          "red",
          "red",
          "red",
          "red",
          "red",
          "red",
          "red",
          "red",
          "red",
          "red",
          "red",
          "red",
          "red",
          "red",
          "red",
          "red",
          "red",
          "red",
          "red",
          "red",
          "red",
          "red",
          "red",
          "red",
          "red",
          "red",
          "red",
          "red",
          "red"
         ]
        },
        {
         "histfunc": "count",
         "name": "white",
         "type": "histogram",
         "x": [
          "white",
          "white",
          "white",
          "white",
          "white",
          "white",
          "white",
          "white",
          "white",
          "white",
          "white",
          "white",
          "white",
          "white",
          "white",
          "white",
          "white",
          "white",
          "white",
          "white",
          "white",
          "white",
          "white",
          "white",
          "white",
          "white",
          "white",
          "white",
          "white",
          "white",
          "white",
          "white",
          "white",
          "white",
          "white",
          "white",
          "white",
          "white",
          "white",
          "white",
          "white",
          "white",
          "white",
          "white",
          "white",
          "white",
          "white",
          "white",
          "white",
          "white",
          "white",
          "white",
          "white",
          "white",
          "white",
          "white",
          "white",
          "white",
          "white",
          "white",
          "white",
          "white",
          "white",
          "white",
          "white",
          "white",
          "white",
          "white",
          "white",
          "white",
          "white",
          "white",
          "white",
          "white",
          "white",
          "white",
          "white",
          "white",
          "white",
          "white",
          "white",
          "white",
          "white",
          "white",
          "white",
          "white",
          "white",
          "white",
          "white",
          "white",
          "white",
          "white",
          "white",
          "white",
          "white",
          "white",
          "white",
          "white",
          "white",
          "white",
          "white",
          "white",
          "white",
          "white",
          "white",
          "white",
          "white",
          "white",
          "white",
          "white",
          "white",
          "white",
          "white",
          "white",
          "white",
          "white",
          "white",
          "white",
          "white",
          "white",
          "white",
          "white",
          "white",
          "white",
          "white",
          "white",
          "white",
          "white",
          "white",
          "white",
          "white",
          "white",
          "white",
          "white",
          "white",
          "white",
          "white",
          "white",
          "white",
          "white",
          "white",
          "white",
          "white",
          "white",
          "white",
          "white",
          "white",
          "white",
          "white",
          "white",
          "white",
          "white",
          "white",
          "white",
          "white",
          "white",
          "white",
          "white",
          "white",
          "white",
          "white",
          "white",
          "white",
          "white",
          "white",
          "white",
          "white",
          "white",
          "white",
          "white",
          "white",
          "white",
          "white",
          "white",
          "white",
          "white",
          "white",
          "white",
          "white",
          "white",
          "white",
          "white",
          "white",
          "white",
          "white",
          "white",
          "white",
          "white",
          "white",
          "white",
          "white",
          "white",
          "white",
          "white",
          "white",
          "white",
          "white",
          "white",
          "white",
          "white",
          "white",
          "white",
          "white",
          "white",
          "white",
          "white",
          "white",
          "white",
          "white",
          "white",
          "white",
          "white",
          "white",
          "white",
          "white",
          "white",
          "white",
          "white",
          "white",
          "white",
          "white",
          "white",
          "white",
          "white",
          "white",
          "white",
          "white",
          "white",
          "white",
          "white",
          "white",
          "white",
          "white",
          "white",
          "white",
          "white",
          "white",
          "white",
          "white",
          "white",
          "white",
          "white",
          "white",
          "white",
          "white",
          "white",
          "white",
          "white",
          "white",
          "white",
          "white",
          "white",
          "white",
          "white",
          "white",
          "white",
          "white",
          "white",
          "white",
          "white",
          "white",
          "white",
          "white",
          "white",
          "white",
          "white",
          "white",
          "white",
          "white",
          "white",
          "white",
          "white",
          "white",
          "white",
          "white",
          "white",
          "white",
          "white",
          "white",
          "white",
          "white",
          "white",
          "white",
          "white",
          "white",
          "white",
          "white",
          "white",
          "white",
          "white",
          "white",
          "white",
          "white",
          "white",
          "white",
          "white",
          "white",
          "white",
          "white",
          "white",
          "white",
          "white",
          "white",
          "white",
          "white",
          "white",
          "white",
          "white",
          "white",
          "white",
          "white",
          "white",
          "white",
          "white",
          "white",
          "white",
          "white",
          "white",
          "white",
          "white",
          "white",
          "white",
          "white",
          "white",
          "white",
          "white",
          "white",
          "white",
          "white",
          "white",
          "white",
          "white",
          "white",
          "white",
          "white",
          "white",
          "white",
          "white",
          "white",
          "white",
          "white",
          "white",
          "white",
          "white",
          "white",
          "white",
          "white",
          "white",
          "white",
          "white",
          "white",
          "white",
          "white",
          "white",
          "white",
          "white",
          "white",
          "white",
          "white",
          "white",
          "white",
          "white",
          "white",
          "white",
          "white",
          "white",
          "white",
          "white",
          "white",
          "white",
          "white",
          "white",
          "white",
          "white",
          "white",
          "white",
          "white",
          "white",
          "white",
          "white",
          "white",
          "white",
          "white",
          "white",
          "white",
          "white",
          "white",
          "white",
          "white",
          "white",
          "white",
          "white",
          "white",
          "white",
          "white",
          "white",
          "white",
          "white",
          "white",
          "white",
          "white",
          "white",
          "white",
          "white",
          "white",
          "white",
          "white",
          "white",
          "white",
          "white",
          "white",
          "white",
          "white",
          "white",
          "white",
          "white",
          "white",
          "white",
          "white",
          "white",
          "white",
          "white",
          "white",
          "white",
          "white",
          "white",
          "white",
          "white",
          "white",
          "white",
          "white",
          "white",
          "white",
          "white",
          "white",
          "white",
          "white",
          "white",
          "white",
          "white",
          "white",
          "white",
          "white",
          "white",
          "white",
          "white",
          "white",
          "white",
          "white",
          "white",
          "white",
          "white",
          "white",
          "white",
          "white",
          "white",
          "white",
          "white",
          "white",
          "white",
          "white",
          "white",
          "white",
          "white",
          "white",
          "white",
          "white",
          "white",
          "white",
          "white",
          "white",
          "white",
          "white",
          "white",
          "white",
          "white",
          "white",
          "white",
          "white",
          "white",
          "white",
          "white",
          "white",
          "white",
          "white",
          "white",
          "white",
          "white",
          "white",
          "white",
          "white",
          "white",
          "white",
          "white",
          "white",
          "white",
          "white",
          "white",
          "white",
          "white",
          "white",
          "white",
          "white",
          "white",
          "white",
          "white",
          "white",
          "white",
          "white",
          "white",
          "white",
          "white",
          "white",
          "white",
          "white",
          "white",
          "white",
          "white",
          "white",
          "white",
          "white",
          "white",
          "white",
          "white",
          "white",
          "white",
          "white",
          "white",
          "white",
          "white",
          "white",
          "white",
          "white",
          "white",
          "white",
          "white",
          "white"
         ]
        }
       ],
       "layout": {
        "legend": {
         "title": {
          "text": "color"
         }
        },
        "template": {
         "data": {
          "bar": [
           {
            "error_x": {
             "color": "#2a3f5f"
            },
            "error_y": {
             "color": "#2a3f5f"
            },
            "marker": {
             "line": {
              "color": "white",
              "width": 0.5
             },
             "pattern": {
              "fillmode": "overlay",
              "size": 10,
              "solidity": 0.2
             }
            },
            "type": "bar"
           }
          ],
          "barpolar": [
           {
            "marker": {
             "line": {
              "color": "white",
              "width": 0.5
             },
             "pattern": {
              "fillmode": "overlay",
              "size": 10,
              "solidity": 0.2
             }
            },
            "type": "barpolar"
           }
          ],
          "box": [
           {
            "boxpoints": "outliers",
            "notched": false,
            "type": "box"
           }
          ],
          "carpet": [
           {
            "aaxis": {
             "endlinecolor": "#2a3f5f",
             "gridcolor": "#C8D4E3",
             "linecolor": "#C8D4E3",
             "minorgridcolor": "#C8D4E3",
             "startlinecolor": "#2a3f5f"
            },
            "baxis": {
             "endlinecolor": "#2a3f5f",
             "gridcolor": "#C8D4E3",
             "linecolor": "#C8D4E3",
             "minorgridcolor": "#C8D4E3",
             "startlinecolor": "#2a3f5f"
            },
            "type": "carpet"
           }
          ],
          "choropleth": [
           {
            "colorbar": {
             "outlinewidth": 0,
             "ticks": ""
            },
            "type": "choropleth"
           }
          ],
          "contour": [
           {
            "colorbar": {
             "outlinewidth": 0,
             "ticks": ""
            },
            "colorscale": [
             [
              0,
              "#0d0887"
             ],
             [
              0.1111111111111111,
              "#46039f"
             ],
             [
              0.2222222222222222,
              "#7201a8"
             ],
             [
              0.3333333333333333,
              "#9c179e"
             ],
             [
              0.4444444444444444,
              "#bd3786"
             ],
             [
              0.5555555555555556,
              "#d8576b"
             ],
             [
              0.6666666666666666,
              "#ed7953"
             ],
             [
              0.7777777777777778,
              "#fb9f3a"
             ],
             [
              0.8888888888888888,
              "#fdca26"
             ],
             [
              1,
              "#f0f921"
             ]
            ],
            "type": "contour"
           }
          ],
          "contourcarpet": [
           {
            "colorbar": {
             "outlinewidth": 0,
             "ticks": ""
            },
            "type": "contourcarpet"
           }
          ],
          "heatmap": [
           {
            "colorbar": {
             "outlinewidth": 0,
             "ticks": ""
            },
            "colorscale": [
             [
              0,
              "#0d0887"
             ],
             [
              0.1111111111111111,
              "#46039f"
             ],
             [
              0.2222222222222222,
              "#7201a8"
             ],
             [
              0.3333333333333333,
              "#9c179e"
             ],
             [
              0.4444444444444444,
              "#bd3786"
             ],
             [
              0.5555555555555556,
              "#d8576b"
             ],
             [
              0.6666666666666666,
              "#ed7953"
             ],
             [
              0.7777777777777778,
              "#fb9f3a"
             ],
             [
              0.8888888888888888,
              "#fdca26"
             ],
             [
              1,
              "#f0f921"
             ]
            ],
            "type": "heatmap"
           }
          ],
          "heatmapgl": [
           {
            "colorbar": {
             "outlinewidth": 0,
             "ticks": ""
            },
            "colorscale": [
             [
              0,
              "#0d0887"
             ],
             [
              0.1111111111111111,
              "#46039f"
             ],
             [
              0.2222222222222222,
              "#7201a8"
             ],
             [
              0.3333333333333333,
              "#9c179e"
             ],
             [
              0.4444444444444444,
              "#bd3786"
             ],
             [
              0.5555555555555556,
              "#d8576b"
             ],
             [
              0.6666666666666666,
              "#ed7953"
             ],
             [
              0.7777777777777778,
              "#fb9f3a"
             ],
             [
              0.8888888888888888,
              "#fdca26"
             ],
             [
              1,
              "#f0f921"
             ]
            ],
            "type": "heatmapgl"
           }
          ],
          "histogram": [
           {
            "marker": {
             "line": {
              "width": 1
             },
             "pattern": {
              "fillmode": "overlay",
              "size": 10,
              "solidity": 0.2
             }
            },
            "type": "histogram"
           }
          ],
          "histogram2d": [
           {
            "colorbar": {
             "outlinewidth": 0,
             "ticks": ""
            },
            "colorscale": [
             [
              0,
              "#0d0887"
             ],
             [
              0.1111111111111111,
              "#46039f"
             ],
             [
              0.2222222222222222,
              "#7201a8"
             ],
             [
              0.3333333333333333,
              "#9c179e"
             ],
             [
              0.4444444444444444,
              "#bd3786"
             ],
             [
              0.5555555555555556,
              "#d8576b"
             ],
             [
              0.6666666666666666,
              "#ed7953"
             ],
             [
              0.7777777777777778,
              "#fb9f3a"
             ],
             [
              0.8888888888888888,
              "#fdca26"
             ],
             [
              1,
              "#f0f921"
             ]
            ],
            "type": "histogram2d"
           }
          ],
          "histogram2dcontour": [
           {
            "colorbar": {
             "outlinewidth": 0,
             "ticks": ""
            },
            "colorscale": [
             [
              0,
              "#0d0887"
             ],
             [
              0.1111111111111111,
              "#46039f"
             ],
             [
              0.2222222222222222,
              "#7201a8"
             ],
             [
              0.3333333333333333,
              "#9c179e"
             ],
             [
              0.4444444444444444,
              "#bd3786"
             ],
             [
              0.5555555555555556,
              "#d8576b"
             ],
             [
              0.6666666666666666,
              "#ed7953"
             ],
             [
              0.7777777777777778,
              "#fb9f3a"
             ],
             [
              0.8888888888888888,
              "#fdca26"
             ],
             [
              1,
              "#f0f921"
             ]
            ],
            "type": "histogram2dcontour"
           }
          ],
          "mesh3d": [
           {
            "colorbar": {
             "outlinewidth": 0,
             "ticks": ""
            },
            "type": "mesh3d"
           }
          ],
          "parcoords": [
           {
            "line": {
             "colorbar": {
              "outlinewidth": 0,
              "ticks": ""
             }
            },
            "type": "parcoords"
           }
          ],
          "pie": [
           {
            "automargin": true,
            "type": "pie"
           }
          ],
          "scatter": [
           {
            "fillpattern": {
             "fillmode": "overlay",
             "size": 10,
             "solidity": 0.2
            },
            "marker": {
             "opacity": 0.8
            },
            "type": "scatter"
           }
          ],
          "scatter3d": [
           {
            "line": {
             "colorbar": {
              "outlinewidth": 0,
              "ticks": ""
             }
            },
            "marker": {
             "colorbar": {
              "outlinewidth": 0,
              "ticks": ""
             },
             "opacity": 0.8
            },
            "type": "scatter3d"
           }
          ],
          "scattercarpet": [
           {
            "marker": {
             "colorbar": {
              "outlinewidth": 0,
              "ticks": ""
             }
            },
            "type": "scattercarpet"
           }
          ],
          "scattergeo": [
           {
            "marker": {
             "colorbar": {
              "outlinewidth": 0,
              "ticks": ""
             }
            },
            "type": "scattergeo"
           }
          ],
          "scattergl": [
           {
            "marker": {
             "colorbar": {
              "outlinewidth": 0,
              "ticks": ""
             }
            },
            "type": "scattergl"
           }
          ],
          "scattermapbox": [
           {
            "marker": {
             "colorbar": {
              "outlinewidth": 0,
              "ticks": ""
             }
            },
            "type": "scattermapbox"
           }
          ],
          "scatterpolar": [
           {
            "marker": {
             "colorbar": {
              "outlinewidth": 0,
              "ticks": ""
             }
            },
            "type": "scatterpolar"
           }
          ],
          "scatterpolargl": [
           {
            "marker": {
             "colorbar": {
              "outlinewidth": 0,
              "ticks": ""
             }
            },
            "type": "scatterpolargl"
           }
          ],
          "scatterternary": [
           {
            "marker": {
             "colorbar": {
              "outlinewidth": 0,
              "ticks": ""
             }
            },
            "type": "scatterternary"
           }
          ],
          "surface": [
           {
            "colorbar": {
             "outlinewidth": 0,
             "ticks": ""
            },
            "colorscale": [
             [
              0,
              "#0d0887"
             ],
             [
              0.1111111111111111,
              "#46039f"
             ],
             [
              0.2222222222222222,
              "#7201a8"
             ],
             [
              0.3333333333333333,
              "#9c179e"
             ],
             [
              0.4444444444444444,
              "#bd3786"
             ],
             [
              0.5555555555555556,
              "#d8576b"
             ],
             [
              0.6666666666666666,
              "#ed7953"
             ],
             [
              0.7777777777777778,
              "#fb9f3a"
             ],
             [
              0.8888888888888888,
              "#fdca26"
             ],
             [
              1,
              "#f0f921"
             ]
            ],
            "type": "surface"
           }
          ],
          "table": [
           {
            "cells": {
             "fill": {
              "color": "#EBF0F8"
             },
             "line": {
              "color": "white"
             }
            },
            "header": {
             "fill": {
              "color": "#C8D4E3"
             },
             "line": {
              "color": "white"
             }
            },
            "type": "table"
           }
          ]
         },
         "layout": {
          "annotationdefaults": {
           "arrowcolor": "#2a3f5f",
           "arrowhead": 0,
           "arrowwidth": 1
          },
          "autotypenumbers": "strict",
          "coloraxis": {
           "colorbar": {
            "outlinewidth": 0,
            "ticks": ""
           }
          },
          "colorscale": {
           "diverging": [
            [
             0,
             "#8e0152"
            ],
            [
             0.1,
             "#c51b7d"
            ],
            [
             0.2,
             "#de77ae"
            ],
            [
             0.3,
             "#f1b6da"
            ],
            [
             0.4,
             "#fde0ef"
            ],
            [
             0.5,
             "#f7f7f7"
            ],
            [
             0.6,
             "#e6f5d0"
            ],
            [
             0.7,
             "#b8e186"
            ],
            [
             0.8,
             "#7fbc41"
            ],
            [
             0.9,
             "#4d9221"
            ],
            [
             1,
             "#276419"
            ]
           ],
           "sequential": [
            [
             0,
             "#0d0887"
            ],
            [
             0.1111111111111111,
             "#46039f"
            ],
            [
             0.2222222222222222,
             "#7201a8"
            ],
            [
             0.3333333333333333,
             "#9c179e"
            ],
            [
             0.4444444444444444,
             "#bd3786"
            ],
            [
             0.5555555555555556,
             "#d8576b"
            ],
            [
             0.6666666666666666,
             "#ed7953"
            ],
            [
             0.7777777777777778,
             "#fb9f3a"
            ],
            [
             0.8888888888888888,
             "#fdca26"
            ],
            [
             1,
             "#f0f921"
            ]
           ],
           "sequentialminus": [
            [
             0,
             "#0d0887"
            ],
            [
             0.1111111111111111,
             "#46039f"
            ],
            [
             0.2222222222222222,
             "#7201a8"
            ],
            [
             0.3333333333333333,
             "#9c179e"
            ],
            [
             0.4444444444444444,
             "#bd3786"
            ],
            [
             0.5555555555555556,
             "#d8576b"
            ],
            [
             0.6666666666666666,
             "#ed7953"
            ],
            [
             0.7777777777777778,
             "#fb9f3a"
            ],
            [
             0.8888888888888888,
             "#fdca26"
            ],
            [
             1,
             "#f0f921"
            ]
           ]
          },
          "colorway": [
           "#636efa",
           "#EF553B",
           "#00cc96",
           "#ab63fa",
           "#FFA15A",
           "#19d3f3",
           "#FF6692",
           "#B6E880",
           "#FF97FF",
           "#FECB52"
          ],
          "font": {
           "color": "#2a3f5f"
          },
          "geo": {
           "bgcolor": "white",
           "lakecolor": "white",
           "landcolor": "white",
           "showlakes": true,
           "showland": true,
           "subunitcolor": "#C8D4E3"
          },
          "height": 400,
          "hoverlabel": {
           "align": "left"
          },
          "hovermode": "closest",
          "mapbox": {
           "style": "light"
          },
          "margin": {
           "b": 2,
           "l": 2,
           "r": 2,
           "t": 30
          },
          "paper_bgcolor": "white",
          "plot_bgcolor": "white",
          "polar": {
           "angularaxis": {
            "gridcolor": "#EBF0F8",
            "linecolor": "#EBF0F8",
            "ticks": ""
           },
           "bgcolor": "white",
           "radialaxis": {
            "gridcolor": "#EBF0F8",
            "linecolor": "#EBF0F8",
            "ticks": ""
           }
          },
          "scene": {
           "camera": {
            "eye": {
             "x": 1.5,
             "y": 1.5,
             "z": 0.1
            }
           },
           "xaxis": {
            "backgroundcolor": "white",
            "gridcolor": "#DFE8F3",
            "gridwidth": 2,
            "linecolor": "#EBF0F8",
            "showbackground": true,
            "ticks": "",
            "zerolinecolor": "#EBF0F8"
           },
           "yaxis": {
            "backgroundcolor": "white",
            "gridcolor": "#DFE8F3",
            "gridwidth": 2,
            "linecolor": "#EBF0F8",
            "showbackground": true,
            "ticks": "",
            "zerolinecolor": "#EBF0F8"
           },
           "zaxis": {
            "backgroundcolor": "white",
            "gridcolor": "#DFE8F3",
            "gridwidth": 2,
            "linecolor": "#EBF0F8",
            "showbackground": true,
            "ticks": "",
            "zerolinecolor": "#EBF0F8"
           }
          },
          "shapedefaults": {
           "line": {
            "color": "#2a3f5f"
           }
          },
          "ternary": {
           "aaxis": {
            "gridcolor": "#DFE8F3",
            "linecolor": "#A2B1C6",
            "ticks": ""
           },
           "baxis": {
            "gridcolor": "#DFE8F3",
            "linecolor": "#A2B1C6",
            "ticks": ""
           },
           "bgcolor": "white",
           "caxis": {
            "gridcolor": "#DFE8F3",
            "linecolor": "#A2B1C6",
            "ticks": ""
           }
          },
          "title": {
           "x": 0.5
          },
          "xaxis": {
           "automargin": true,
           "gridcolor": "#EBF0F8",
           "linecolor": "#EBF0F8",
           "linewidth": 2,
           "showline": true,
           "ticks": "",
           "title": {
            "standoff": 15
           },
           "zerolinecolor": "#EBF0F8",
           "zerolinewidth": 2
          },
          "yaxis": {
           "automargin": true,
           "gridcolor": "#EBF0F8",
           "linecolor": "#EBF0F8",
           "linewidth": 2,
           "showline": true,
           "ticks": "",
           "title": {
            "standoff": 15
           },
           "zerolinecolor": "#EBF0F8",
           "zerolinewidth": 2
          }
         }
        },
        "title": {
         "text": "Color distribution"
        },
        "xaxis": {
         "title": {
          "text": "color"
         }
        },
        "yaxis": {
         "title": {
          "text": "count"
         }
        }
       }
      }
     },
     "metadata": {},
     "output_type": "display_data"
    }
   ],
   "source": [
    "# Plot a histogram with counts for each label\n",
    "graphing.multiple_histogram(dataset, label_x=\"color\", label_group=\"color\", title=\"Color distribution\")"
   ]
  },
  {
   "cell_type": "code",
   "execution_count": 4,
   "metadata": {},
   "outputs": [
    {
     "data": {
      "application/vnd.plotly.v1+json": {
       "config": {
        "plotlyServerURL": "https://plot.ly"
       },
       "data": [
        {
         "alignmentgroup": "True",
         "hovertemplate": "size=%{y}<extra></extra>",
         "legendgroup": "",
         "marker": {
          "color": "#636efa"
         },
         "name": "",
         "notched": false,
         "offsetgroup": "",
         "orientation": "v",
         "showlegend": false,
         "type": "box",
         "x0": " ",
         "xaxis": "x",
         "y": [
          50.95936149234869,
          60.00852114581647,
          20.53077222823333,
          28.09213751717417,
          48.3442105776934,
          164.9126096077869,
          40.46783269214262,
          143.6830077476942,
          70.72903567889253,
          18.93303070349506,
          34.866042718063014,
          19.449675852994048,
          24.65750725004672,
          53.95869609566379,
          12.307443613838531,
          83.63746021152276,
          11.060172944194925,
          33.66138626987749,
          121.07933303491632,
          20.473680423966773,
          23.83928111838202,
          53.3782224245141,
          31.9452923722898,
          74.93268224003255,
          19.527347432788915,
          26.47322825384381,
          31.189019882077,
          25.389658976719808,
          13.872145652831549,
          29.591772998547743,
          49.41641763567323,
          59.77046877013972,
          28.900285499061944,
          65.67284767838909,
          40.62919582896383,
          46.4976206553216,
          75.18667867246788,
          55.083911546813134,
          46.26133326533705,
          284.97813535051466,
          54.21399582967405,
          30.199549352211083,
          15.96008087392632,
          41.554529077471386,
          28.73479026757319,
          24.57109274975923,
          58.55373717481296,
          30.66540037334528,
          26.176255221891893,
          82.76846610609338,
          61.4989944257748,
          31.062693615632043,
          2730.8597677938124,
          18.38893913907004,
          108.89301258485376,
          50.34878040721931,
          30.559788315602106,
          39.84955132826346,
          191.8994160943445,
          44.58983738629143,
          47.90815960843135,
          24.764278794530306,
          18.013883647328353,
          13.254510435585216,
          24.093779160203248,
          31.1265996162929,
          30.4955673203835,
          26.52181625497609,
          27.743421633372638,
          53.77350922708832,
          29.50257425391656,
          31.16136516522681,
          24.17561388755717,
          17.462570582117145,
          13.009832609484196,
          34.03031077934391,
          20.85553482338828,
          14.85651578812736,
          34.45660974916488,
          46.57111859293207,
          16.204159682868045,
          80.20181839421504,
          30.165503537780143,
          30.971629209223263,
          28.674146687654115,
          28.42500943771281,
          32.30860835533758,
          47.35722479241663,
          19.67867760959812,
          37.87296641979127,
          31.51010599322602,
          12.421654956002197,
          67.50995270764665,
          28.30719393775895,
          48.98733674839981,
          28.31664616512284,
          42.49813519461039,
          12.103884473263555,
          24.69369947497176,
          18.13123580074876,
          49.082786151736585,
          35.44919186923043,
          35.7484806058491,
          27.57917380935601,
          34.1292149126619,
          30.677652939242662,
          47.82711201744298,
          156.0617557016873,
          22.922507597528444,
          11.86657377965684,
          20.56895159564216,
          40.04492753068027,
          27.13580351037268,
          15.529857582961643,
          21.34355981983053,
          22.34380697517144,
          16.181145640851017,
          29.09694790368669,
          54.138356797359705,
          0.2,
          57.40921888906992,
          43.417004099261135,
          29.97989852456623,
          49.14510192538958,
          64.87229448016036,
          48.60945642182618,
          69.60258687317311,
          35.07265656319923,
          47.95254107643479,
          66.36395522381966,
          24.620455047652243,
          12.08518438159884,
          43.3335889568548,
          14.628006820832184,
          44.01181191589061,
          21.61105308565909,
          1586.618778109122,
          66.17795477836253,
          48.16662000736248,
          37.436526411002674,
          44.56496107886474,
          60.04924085720002,
          9.834244274090146,
          45.50289168730754,
          33.6981414334193,
          28.50446183937811,
          23.871406880714417,
          30.823032809809053,
          70.85322151681581,
          58.8510980122499,
          14.352621859780008,
          43.50888595046423,
          51.600283088007096,
          34.853167970038555,
          22.44650221546638,
          32.15373287374189,
          16.28660277371464,
          59.60625039203607,
          194.31192133736317,
          30.43757903495908,
          26.23067805915781,
          41.38137645562903,
          37.15870304854539,
          29.98764829674237,
          34.81144966759096,
          39.83291422168772,
          44.36927737322507,
          53.74412013587835,
          45.97097607836669,
          32.705047470882576,
          22.291483576630423,
          32.68870921969719,
          39.17036354684256,
          32.92385279193025,
          20.038606351148516,
          244.52047631191184,
          6.606826523567392,
          38.64326986474749,
          23.36329979175229,
          14.582737099761168,
          25.063234008899087,
          24.23008488219568,
          37.32341392973021,
          71.51590261995663,
          27.52071304646105,
          47.33513063395007,
          24.964142498739108,
          34.782357388401635,
          45.216807604272006,
          40.66860397290978,
          53.62784093131248,
          81.76883304045049,
          34.79055630589713,
          29.631607283055704,
          28.394955755490827,
          48.96632065647954,
          47.72865868909826,
          52.53473013582425,
          135.70837594502598,
          32.97494244880038,
          85.27766587220772,
          26.812374382734887,
          58.63712394633127,
          33.46560897634298,
          15.087960903457487,
          17.552819114204134,
          9.548332165740709,
          19.289356580808445,
          38.68032770542182,
          44.23877697355849,
          30.21588565041583,
          83.00980421770336,
          39.15298157822148,
          34.554932003737704,
          37.020226609035575,
          210.11724295012783,
          20.730952259440645,
          57.80716855602172,
          41.90843140323419,
          29.719276134051945,
          23.324063614946738,
          53.36548545955661,
          25.577631563403795,
          81.71451085165,
          44.50776958287257,
          112.15490545304516,
          14.626230172521556,
          32.28033529962718,
          93.18800816741722,
          33.046930674818604,
          18.49065510880116,
          61.292502046249055,
          96.05997609467214,
          49.87682916452904,
          43.89853780204896,
          73.93370449381682,
          19.07045908840624,
          43.49179881275664,
          63.862125726929904,
          109.1588904308552,
          40.594365412507926,
          79.3699207382464,
          41.03918352873791,
          54.13272330364642,
          31.9424143589181,
          25.268007448092256,
          92.32360574653708,
          20.371955728549448,
          24.674126898151584,
          56.10516067604009,
          17.821957283241623,
          39.51222617359375,
          72.48451688921605,
          27.437968282192685,
          36.16560127720884,
          19.96696136018997,
          40.69352580815704,
          14.65837753338501,
          62.910846367214106,
          39.59658917235056,
          37.76052025623646,
          83.8890951113777,
          35.53009677835075,
          27.307903843383546,
          26.85049441220045,
          90.97273398904127,
          46.01605026943595,
          91.15429585080312,
          58.40559120764779,
          21.72784409398992,
          25.53365967251384,
          15.801843170474992,
          27.959894882826127,
          41.20588840982956,
          15.51413219173705,
          37.690055808170925,
          119.0998108261498,
          77.52213011088342,
          43.31166451515464,
          30.556403662271517,
          24.08941353525399,
          30.03980044315504,
          29.537777540020794,
          31.681385503980536,
          58.87656583011224,
          30.58524804591752,
          24.42631394901419,
          76.78146675686479,
          26.768797313018545,
          45.28516818740428,
          34.202062678096325,
          40.01881688584686,
          37.4668664875808,
          29.220469412013717,
          40.731598906690486,
          31.14005767240874,
          30.03877706627334,
          35.88801586776411,
          34.51300021291034,
          51.56722371857452,
          43.09854303323076,
          89.23663557498205,
          36.94316151051188,
          68.04610125564263,
          99.7071072599291,
          38.61251444450277,
          27.894767323030432,
          44.482679577577,
          30.85120732962102,
          19.3529634504238,
          24.612304802903605,
          17.99711331947855,
          40.03421509840653,
          59.820290099532826,
          35.52066128082016,
          25.44237250005857,
          41.59496659642831,
          27.016620238663496,
          27.15909835691922,
          66.12277698761093,
          30.161323101320622,
          34.37021059104951,
          36.2929998535113,
          28.96389549285656,
          18.14794093367676,
          44.57066235646192,
          20.233236748784392,
          42.95125438285992,
          28.89122262733613,
          25.35603667353027,
          46.41768705935657,
          40.139982123049634,
          22.11380764113784,
          49.706622815989576,
          61.62341994801036,
          61.537830276390245,
          114.6937903099627,
          46.20417821052119,
          59.77880679740048,
          25.014988763573182,
          35.85254747650547,
          37.79703619730587,
          11.050174465655427,
          53.140835448500944,
          20.43628927096239,
          15.633358232019054,
          13.660252441030796,
          36.13255139823267,
          77.18865518599856,
          90.94973040974853,
          59.27079880763825,
          34.05815072891748,
          72.79123315998791,
          32.09693046681882,
          29.04480709274597,
          35.45059383000396,
          35.107110820633835,
          61.35807249867778,
          37.00100507101243,
          38.87585735336651,
          49.2685192876118,
          31.570360623657184,
          61.55915619428776,
          53.09561794342315,
          29.847178872314064,
          30.493523371679533,
          28.70311468653436,
          35.11461595328355,
          46.024357376461545,
          51.94576764269354,
          37.22696790303098,
          15.262174985160812,
          63.55401958464565,
          62.76152843254987,
          33.44472957100869,
          20.611900479087645,
          64.7508250251041,
          29.89030705246806,
          24.72632552389676,
          5.0857209739970735,
          25.340527757451976,
          40.87037087347586,
          21.83939344482962,
          24.05329975504372,
          44.64527641434141,
          49.239664252867016,
          48.81197399419997,
          35.25529839053626,
          29.277250822851304,
          18.677953348191934,
          39.86390650756006,
          30.13655345007958,
          34.057371810898246,
          39.91762144164136,
          22.247843754560115,
          29.18466829550489,
          15.907698878322584,
          44.507130219950525,
          56.41337838234895,
          10.189080351941609,
          20.693163620551573,
          19.684804775105675,
          29.12921318318382,
          77.03843017977306,
          38.18911637264394,
          39.12472062170492,
          45.42222982462764,
          36.39090674225975,
          10.877779427729523,
          28.858114646441848,
          33.82861416860639,
          33.780588087571324,
          192.66233062101267,
          185.42210702601903,
          21.55711459141159,
          63.72891632022833,
          38.11360732720688,
          18.55420927921357,
          15.94058733337562,
          67.30451622181702,
          18.1362588856622,
          67.74062036674022,
          7.272803540515941,
          28.90926849461089,
          44.21531420153339,
          21.0308974682768,
          55.862097852611015,
          66.16043998140026,
          59.08545102137104,
          38.98825552876806,
          36.378850276862586,
          33.19699618981231,
          46.090770696591214,
          27.007165451576604,
          22.143707590182785,
          74.86918912158652,
          28.07317731797896,
          17.81963690889827,
          3.264530328030048,
          22.779605215143917,
          0.2,
          29.97347277785501,
          24.971258981460128,
          25.76357584063868,
          34.57871034484001,
          39.76449912921729,
          24.162728432747567,
          23.551838149589603,
          50.25831626927601,
          27.60676337479431,
          29.545530393681464,
          33.6556760093155,
          31.13413433769865,
          79.19929157020974,
          43.70300030956416,
          29.151691627260437,
          24.54952193921496,
          40.665067499431615,
          34.125101064471814,
          70.6428444988766,
          37.63392998925604,
          39.06872435014402,
          33.68253917120311,
          20.47201531218392,
          26.105693524076575,
          58.26401770782372,
          6.496539859984249,
          19.607629920232945,
          33.698063954995064,
          42.43182317781206,
          39.09674069388549,
          27.751710651491884,
          25.76137236980136,
          38.51754280803541,
          21.574718052433663,
          27.42701624044143,
          34.062295259277946,
          42.2353340734977,
          25.038564077474103,
          22.41093058219287,
          36.78356136330666,
          46.18038396547957,
          42.33098188442799,
          19.78182164643833,
          23.79224496533197,
          35.91495162695753,
          6.030769371951724,
          46.18485315556369,
          41.06569615845641,
          132.0429096504657,
          38.84491423464113,
          45.15159897292204,
          46.29093815969955,
          82.15777093741154,
          8.72763136738197,
          39.21717319867092,
          26.704190801880245,
          37.12852811430573,
          55.57282246917333,
          66.69603627768574,
          46.51166305779686,
          56.04907018750392,
          93.79037151619976,
          40.01393704273054,
          33.58724040061591,
          45.733988193931424,
          20.578659985674825,
          26.715485199559243,
          48.490748865713016,
          48.8518010103954,
          18.793653531194888,
          69.52670578569482,
          30.65257199672528,
          45.45441473134876,
          33.81243089337925,
          40.965403313912006,
          32.62226677544094,
          25.465612744440858,
          55.94303174667037,
          39.07581789213458,
          21.312630323099597,
          24.218299867435363,
          29.34070064187426,
          65.78640121006097,
          64.3823062000777,
          38.15761584810775,
          34.28578487507375,
          55.91331170605852,
          37.29328911353738,
          25.617480328043424,
          30.95219699885699,
          38.5322623109104,
          38.5287211607637,
          0.2,
          52.30878118518906,
          73.13774483761414,
          95.6287927423252,
          16.078856636246655,
          50.06414160088129,
          29.115174221290133,
          42.15055610207754,
          27.632313173224784,
          46.51739107184643,
          69.89848452223025,
          15.299000876948735,
          40.38137320744981,
          34.00825819464069,
          16.255357918564478,
          37.19030072979906,
          63.14122421664534,
          23.48063935847898,
          30.75297312210263,
          41.794536680934485,
          46.40068063951297,
          53.94891282927561,
          47.87556443990444,
          18.095739823488707,
          36.66334426645067,
          31.666146930859504,
          49.75160365162503,
          40.751403105608674,
          87.34169761446284,
          30.54252633462077,
          0.2,
          71.58669168339863,
          21.048923810988768,
          8.987489164967371,
          49.4200251786842,
          35.242912982442945,
          55.918908297724215,
          66.06420175256682,
          24.16874971054744,
          46.50249992580773,
          31.140897376080808,
          35.80511497775819,
          109.06879297402072,
          45.7716592029602,
          17.205172796019138,
          49.727234207472826,
          37.53674005417608,
          29.809994664940948,
          60.68117488431361,
          27.267886167744763,
          54.78228783748824,
          73.0441013718456,
          53.59414976316356,
          32.5157148703709,
          18.50310359159021,
          77.76187820776201,
          74.49049709290456,
          50.85797689619187,
          35.17526144924757,
          30.946182360467887,
          42.36160532262418,
          84.45983870424173,
          52.25974636623601,
          175.39207579593045,
          15.748872371105946,
          27.54017924016575,
          15.697632930141168,
          40.64100694708529,
          41.66628300010395,
          210.733195668832,
          32.867915223609195,
          23.84380036463235,
          21.423679588667994,
          15.901464831542294,
          30.2223499989768,
          27.035385939177274,
          57.74028524145453,
          67.14675431475723,
          110.04008408241504,
          50.678065290790656,
          39.80448504683224,
          36.43093025022301,
          23.05443976502047,
          30.614957661410173,
          61.148728139151046,
          24.406733514531595,
          37.57513164174595,
          38.373411386715,
          36.09075374180209,
          17.268190700634875,
          7.708688604614277,
          20.93173402695407,
          50.23796126571514,
          33.31367519524187,
          53.5898021202123,
          18.325430291045908,
          21.09940172589183,
          25.411722230682017,
          31.97516269467571,
          26.26753513976012,
          137.22990709996856,
          90.46793663903172,
          33.56770050114721,
          42.43993223840567,
          57.79192964257568,
          47.79177025909053,
          66.48768804393373,
          98.44945242706494,
          26.92501308088218,
          22.207230105171423,
          46.291766387067455,
          208.50374303182085,
          9.48380736880382,
          32.93820886641084,
          34.82469172172392,
          98.60435928636691,
          44.83863029996773,
          32.34826632011014,
          19.25381379686992,
          36.34685016229094,
          46.815391034029005,
          27.463819292671005,
          38.898093342104346,
          7.109554012878091,
          51.67861493295327,
          72.97183182263596,
          18.696206060739087,
          96.02685083800864,
          15.22973980742104,
          199.0567223150888,
          22.228400640787356,
          38.43893508600079,
          31.760308448221984,
          21.503330716426117,
          49.63128121259295,
          18.3846343136302,
          29.221578881442007,
          46.61377898974701,
          54.2514626960115,
          38.72359906227148,
          46.49710368003264,
          39.299023182215095,
          25.00159829980361,
          36.31803569450845,
          35.566309312049384,
          3.8024916752348368,
          49.62766872008869,
          197.26876414736384,
          21.154397030190232,
          58.53966555733376,
          60.46175343868267,
          119.5429567605366,
          31.566744191260007,
          40.82423664796791,
          40.76479710383361,
          42.44420011462516,
          44.003972496510514,
          73.34619238546468,
          43.91344754120484,
          31.451657972383327,
          32.54541867676293,
          36.4939575331344,
          320.1624176794461,
          68.42444281854517,
          44.0902765565006,
          27.427158636277063,
          23.654550465688065,
          46.32098039013273,
          28.77486378125056,
          7.436299509543998,
          37.06868690803061,
          411.4137206479344,
          19.57784610362296,
          42.45725112045343,
          49.66602280641754,
          27.792173285606736,
          24.441610869095765,
          34.476762111913146,
          101.93632220443428,
          25.16584123680283,
          24.35723894904638,
          53.9012808224638,
          16.200156511560664,
          18.791251825591505,
          31.92142599048765,
          122.43008395369668,
          44.79545312435872,
          35.850369078139,
          57.05810635522791,
          64.69381616787973,
          24.497799867373296,
          33.78824645748649,
          30.88477757225497,
          10.274645210239452,
          24.78517719382875,
          50.27317993517592,
          0.2,
          69.11940510694485,
          199.1391090831184,
          13.756293183989126,
          53.26397109213015,
          43.49850481243193,
          36.62143321401943,
          50.26794257938009,
          65.98165830283384,
          37.97261032053813,
          25.23541354753416,
          16.70998889227012,
          68.4317444584429,
          52.48520049037743,
          50.96943052324673,
          49.78427017217896,
          27.671759575139387,
          25.678494668974576,
          29.092639943239515,
          26.280350600843747,
          18.71386571888772,
          94.11577493647198,
          66.13092364229087,
          16.384513693406973,
          45.11101711138479,
          25.084605951331188,
          24.093368089250376,
          17.72167894409511,
          18.197129633066638,
          60.29335065443722,
          41.82596721305772,
          43.86895365167181,
          43.15212849581833,
          22.199774475520503,
          26.735896170122853,
          35.61821474171312,
          41.37617845271795,
          49.756313303057134,
          31.755479456682767,
          17.63473705760118,
          49.82723625271291,
          22.200491078026246,
          21.34198192490476,
          39.443412588181566,
          27.469317563400885,
          20.107517084550967,
          35.83209169097571,
          32.543746472768426,
          24.327320500776796,
          21.23065731086399,
          30.79002197776753,
          19.04104538885324,
          31.22753951930981,
          21.167421679359084,
          44.53797896826862,
          9.725599316754034,
          45.565508061208014,
          40.95481132952708,
          46.05208600888159,
          7.324677867208823,
          23.96642510336964,
          49.5266658676038,
          8.35740725095614,
          45.56288709350174,
          50.73726820088834,
          21.50207012937713,
          64.43270761132653,
          33.72210329262984,
          35.599150112980965,
          39.0611325246937,
          30.19808465145352,
          1.1571515632065443,
          2.6430099024109186,
          3.7602700576290222,
          2.2044876729399707,
          3.940246311409631,
          1.9700174687885244,
          1.081324353138597,
          0.2,
          1.2582131744079368,
          2.272189600091614,
          1.442453514663199,
          0.9232522429580408,
          0.2156948018860958,
          1.77699127436742,
          1.786274616015009,
          2.5659333670584283,
          0.3617036474882151,
          2.8924350027656427,
          3.186583040731368,
          2.688698074135563,
          0.2730233169608398,
          1.3786829122419249,
          1.6339423230500134,
          1.5389824462815145,
          1.834513417897176,
          1.267344299552418,
          2.0996477745757463,
          0.7361847751072319,
          1.290978191099892,
          4.027209422808283,
          2.5754498570141178,
          0.5120276864455036,
          2.981861743334651,
          2.103455198447329,
          3.196848513697314,
          3.074838415788963,
          3.4724521549273786,
          2.3219507994297035,
          2.0045727707676195,
          3.223369869519828,
          3.777975924999268,
          3.0741036974640457,
          2.764279474688258,
          0.6374386315912195,
          1.1912392525351976,
          1.968719300389477,
          0.986668308617318,
          1.4491391708465515,
          0.9792213352219232,
          0.2,
          0.2,
          0.2,
          1.2306324022912891,
          2.8560080018149776,
          1.9939531580471528,
          2.7841199090388,
          2.024773501595822,
          1.3366590263711062,
          3.0500728153241896,
          0.2,
          0.9035733190164418,
          1.7683541968615135,
          0.2,
          0.4391657446969421,
          1.785964813181225,
          1.5730679527047704,
          1.824246093940295,
          3.321209268457933,
          0.6312801519703743,
          1.1576283535019996,
          0.8839736483851204,
          0.5047090460949386,
          3.5169247977522264,
          3.689246353439416,
          1.7599235275475442,
          1.6403490592683236,
          3.193822653416483,
          1.2219552859031366,
          0.2,
          2.2740409371780275,
          2.383263591465121,
          1.7172534068835326,
          3.0485694991518804,
          1.2074220662080837,
          1.7443119908089204,
          1.7587560289529696,
          3.386330328414352,
          2.048249578188347,
          3.563958531552933,
          2.108573318841924,
          2.221874314020655,
          0.2,
          3.661556850556704,
          2.7608033753630634,
          1.1650214556502236,
          2.590222466675124,
          1.0325199020452906,
          2.4970477146324037,
          2.5746179797710025,
          1.7550071777331224,
          1.9833889332805796,
          1.316246784825295,
          1.2499215270199258,
          2.917688209777779,
          0.9032904169691554,
          2.0141550746926646,
          0.3742640720860737,
          0.3702253357411409,
          1.132269498599491,
          2.806946483016577,
          1.943081770074735,
          1.166926735937999,
          1.732784324845943,
          1.7959065349309091,
          0.5156132972261811,
          1.9872664261782835,
          1.8661154429312203,
          1.53212007951598,
          0.7440790825269379,
          0.2783808997644463,
          3.802502333407241,
          1.820568622672951,
          2.024969631076282,
          2.681293577085496,
          2.2596794275511005,
          1.2527482446750953,
          2.8535391005104094,
          1.0798042739135163,
          3.161314081543145,
          2.2353713213247706,
          1.2662325679222324,
          0.5793234098441788,
          1.6481703817830602,
          3.558921499982624,
          3.201379631239913,
          1.5032350538738852,
          2.785022096850594,
          2.8173579671127924,
          2.410844131259937,
          0.2,
          2.645827253113381,
          1.458852915991744,
          0.4139664277793318,
          1.3006273325158286,
          0.2792143529178075,
          2.3570569275320152,
          1.6842744499129632,
          3.772877225229395,
          1.251612510644646,
          1.6204992834592995,
          2.106075074179598,
          0.4732331221822268,
          1.9615132743149108,
          3.392893055688135,
          1.369032039157947,
          0.2,
          3.4035746582264323,
          1.6448004354442205,
          2.054555584081624,
          1.7179103709148291,
          1.1514378159278125,
          3.675621301371864,
          2.1396966837593228,
          1.6095069849275765,
          0.7312084014561666,
          1.5884448748915307,
          3.125392780388472,
          2.92120551576653,
          0.2,
          2.3549674418439137,
          1.4624609841969551,
          1.3116680104625438,
          1.3906132484571412,
          0.7611953105809828,
          2.9148579932797225,
          0.8599875809442119,
          2.262594396678317,
          0.2,
          0.8995395743715568,
          1.1040688651997508,
          2.1663948946375817,
          0.2,
          2.477942023229924,
          2.6168671482278243,
          2.528464923340934,
          1.2816326472998958,
          2.1519117307827944,
          0.8201185829424966,
          1.4557047149410636,
          1.7047758075605977,
          0.5401682883870025,
          2.539256004798385,
          0.8701366469200397,
          3.2855596417218145,
          1.2235606956338954,
          2.7789998711395567,
          1.4480141107906048,
          1.710234678178201,
          1.0788416776034004,
          2.353270777882759,
          2.2851445904048084,
          0.7183416516617664,
          2.2144147610327702,
          1.7293248457945791,
          2.813448569627444,
          0.3206088977140555,
          4.049716264501187,
          4.009913928102183,
          0.2,
          1.9641091527356989,
          2.8955128309642646,
          1.7142875888367943,
          0.8919805334423595,
          2.0069589360156805,
          1.4099278548068317,
          1.7375748559382165,
          3.84125356419962,
          0.7633641724550665,
          2.3399053762147908,
          1.1970939962678089,
          2.105011849899474,
          1.890195262585436,
          4.417527801925807,
          1.373162272941336,
          0.8642977933818207,
          1.8214285094387903,
          2.0995861689558626,
          1.345245173638108,
          1.0362595161010026,
          2.285782423466053,
          1.8022495065882005,
          3.108691214898849,
          0.2,
          2.9497807535750376,
          2.6770961092075005,
          2.177532107776317,
          1.666163167086688,
          2.546806543162846,
          3.1184859732974965,
          2.388802766242802,
          1.8487533058224248,
          1.5424884168184612,
          2.1446148477476057,
          0.908452232233158,
          0.9122715849392996,
          1.404293982518197,
          2.436664573272583,
          2.3041099246190404,
          2.217573267289932,
          2.0627786588586665,
          0.2,
          3.1398372272759523,
          2.5260018373851127,
          1.9934788860374848,
          2.4704149364065957,
          1.526826130015562,
          2.832410692212248,
          0.9302974425303236,
          1.7864772891775296,
          2.594394714533838,
          2.5996621247210627,
          2.559143470333474,
          1.3177767124552449,
          1.5963812367383818,
          1.6912388677436598,
          3.449335738285844,
          1.6007287443319562,
          2.244223377937905,
          2.4419762253294053,
          2.128661196929674,
          0.3454564749846449,
          2.421597425883592,
          2.029825270229394,
          1.7940564031461472,
          2.9766831706847934,
          0.2,
          2.179514033192908,
          1.156519534994529,
          0.6340469223204714,
          0.2,
          0.8288798180716817,
          1.5600919936812767,
          1.070090748162178,
          2.0591253493439403,
          2.02295256467981,
          2.675490362349925,
          1.2494411306302493,
          0.7485915422355749,
          3.1210960006898825,
          0.2,
          1.771982308118469,
          1.454402679622519,
          1.7664790347777577,
          2.008502041805565,
          3.409221479191455,
          3.55813002200642,
          3.311090620155264,
          0.529992464902767,
          0.8949127686487345,
          0.958605994957196,
          0.3483516346096982,
          2.746120739247635,
          2.5290902977676164,
          2.252017047556071,
          1.31025415037724,
          1.9825755611086069,
          3.55474421403643,
          1.458531507657121,
          3.212106681337955,
          2.4403104141907868,
          0.2,
          2.227593655377378,
          2.0753717297457848,
          1.5934825660927017,
          2.581546799863215,
          1.818525066641604,
          4.897182760903692,
          0.6366373729474766,
          2.3841623250923627,
          1.6962277481357424,
          0.6021863600850075,
          3.857978082242605,
          2.3733741110448703,
          1.7149555709307245,
          2.899564969275464,
          2.019974088467933,
          2.7645297893979164,
          1.4052664726582793,
          2.893450167773153,
          0.6337346361594527,
          0.5104235608399132,
          1.9953977346359548,
          2.980617091745387,
          2.27510778909086,
          3.2078045538184563,
          0.2,
          0.2,
          0.8388066982746957,
          1.9709530632677188,
          1.12478937308021,
          1.0928980752450492,
          0.2,
          2.114302387657088,
          2.7453889744271063,
          0.3775987192227887,
          1.8626608318691988,
          0.2,
          0.5411798521237019,
          0.853832018485474,
          3.590366385990564,
          3.0450298073311006,
          1.79463615771816,
          2.131927599173709,
          2.7654723359935014,
          0.5847908437781921,
          0.2,
          1.4511309586026,
          2.840115939645409,
          1.9240201264389785,
          4.308704464893765,
          2.6950156589591647,
          3.92787479115877,
          1.6383433311589817,
          1.4824024272718817,
          2.7817998306597485,
          0.2,
          2.375984085495195,
          1.769515648826752,
          2.202306706066724,
          2.778272055403433,
          0.3464002881378774,
          3.257586944253319,
          1.5831747030841394,
          2.347793829709376,
          2.8053613649988103,
          0.3973611137089252,
          1.5227895315795084,
          1.1609509095942114,
          0.2,
          0.7860267883912361,
          2.1920364470239635,
          2.6770909197939994,
          1.234261258688046,
          1.2113218879379253,
          1.2510787307761373,
          2.284380066813478,
          0.2731094607559101,
          1.2560461424764695,
          3.0928971537258905,
          1.6647783206916706,
          1.3703694153672616,
          1.2144687325389865,
          0.613200293330364,
          1.681620874073407,
          0.2,
          2.007432497770224,
          1.4550933089526308,
          1.7812529133704396,
          2.5875646236693037,
          3.565869930969755,
          3.0047891711789534,
          2.8376043301506613,
          1.001732003644773,
          1.9538062723967653,
          1.9290570870586323,
          0.6664168058930822,
          2.566447104133224,
          2.551174646188599,
          2.880113438400737,
          0.2,
          0.545527943570842,
          1.27436327555191,
          1.1794090785256488,
          2.943752287525876,
          1.909341785487436,
          1.118923778596253,
          1.362089225456172,
          0.6945675456828511,
          0.2,
          0.7123427673992118,
          2.235470713710614,
          4.213908966975396,
          3.551434227327194,
          3.0269859840870605,
          1.2295983566109991,
          1.7341859345906503,
          0.7943781139705541,
          1.064157926822371,
          0.2,
          0.9793469605499642,
          1.4654929936439134,
          0.4323078432998246,
          1.8575914445558888,
          0.6271784962658971,
          2.70993017351969,
          3.231453820559942,
          0.2,
          0.8904210720174301,
          2.4421775712970506,
          1.4322216287638116,
          2.9145557729333107,
          2.402763478335877,
          2.5514993042423697,
          0.5959779935944975,
          0.2,
          2.7230905024395646,
          1.0249087625355378,
          1.8332680772176777,
          1.7369544120328675,
          0.2,
          3.276260624947682,
          3.1248170022666457,
          2.379004583836404,
          2.2384882924714846,
          1.1083678239027226,
          2.3015044201872845,
          1.6487921145109077,
          0.2912138742723014,
          1.9701545931739648,
          2.999038638582016,
          2.582663589470186,
          1.2835817088319628,
          1.525757796166285,
          3.6419232920502655,
          1.3758226989173612,
          1.8986835225085,
          0.3125689463154006,
          1.2973021429271625,
          0.2,
          1.507850936755147,
          3.066581599508297,
          1.2235915301265805,
          2.421877097239188,
          0.974487965848782,
          2.326044504156941,
          2.896147804689976,
          1.187204630676217,
          2.0343357838785883,
          2.1818908157229338,
          1.080983910047954,
          3.751009403308096,
          0.914272635593786,
          2.58417695627357,
          0.2,
          0.2,
          0.6587040011931198,
          1.3614203773676037,
          1.072975369427279,
          1.1590343871614448,
          3.31136930530471,
          1.8270148665603223,
          1.8814436606082083,
          1.4670493029936296,
          0.7170283791971066,
          1.0439124672273126,
          0.2,
          2.894694349772325,
          2.3338461007008617,
          0.2,
          2.7701920191695866,
          0.8191353796143661,
          2.5346837323640705,
          2.024522411917776,
          1.6930316313046732,
          2.772507623468256,
          2.9863733919135,
          2.5195458886367463,
          2.256894488052437,
          2.089855927270311,
          2.4669738056126453,
          1.078561573852825,
          0.6308316531743328,
          2.253310564378244,
          1.4315010778220163,
          1.728294608681132,
          2.1705964200089665,
          2.21470253320068,
          2.2880647660113915,
          3.025241267753924,
          3.4524488785316514,
          1.2705963744864197,
          3.408105930996649,
          3.0364429300354083,
          2.482259430141601,
          2.612127654579874,
          1.877942153140581,
          2.1820968414153614,
          3.878105725489879,
          2.7387332568493026,
          3.157181437675702,
          3.148571950305893,
          2.640103689558301,
          0.3580213149687772,
          2.738323221840257,
          3.5020907671947272,
          1.584627871332481,
          1.1990817928257629,
          1.388725418721223,
          2.4039771017497635,
          2.324205115091256,
          1.5609061677804468,
          0.5594532828129386,
          3.910062970344113,
          0.2,
          2.6488445007579413,
          0.8798672165756178,
          0.2,
          0.5864005345331755,
          2.285438583065468,
          2.4550778838554987,
          2.0976672330797204,
          1.6676376404674742,
          2.122385569930191,
          1.8128017881681195,
          1.1398919842974289,
          1.336688831995412,
          2.826357891145827,
          2.6624419337471448,
          1.6062786822388586,
          1.5776121496812123,
          0.540628369967846,
          3.788308159448828,
          1.625183795115445,
          1.6299188775078022,
          3.09779861428978,
          0.378975516120559,
          1.2715749942244257,
          1.9206056269642888,
          0.2,
          2.5963505070901824,
          2.99787166272534,
          2.8658080602369607,
          2.8907071217740983,
          1.8812549080705656,
          2.941581586711697,
          1.8653968849879825,
          1.76524836757717,
          0.7178015895950014,
          1.478949716603779,
          2.183705528212085,
          0.7799851360181553,
          1.8727387363706056,
          1.4198999496736358,
          0.8995630925763366,
          1.387349461909816,
          0.9469682612085376,
          1.6006968197290523,
          1.670501696278478,
          1.6493359145379498,
          0.2090250387057655,
          4.370657113868679,
          3.8756973658094775,
          0.6996224907424085,
          2.434260480261707,
          2.040568412230269,
          0.7578369708151231,
          2.3936617713586363,
          1.7087892083612228,
          2.470801885530605,
          2.271659742683268,
          1.044338431603868,
          0.2,
          2.106472753996587,
          1.2043984157779293,
          2.415071975044553,
          1.2127363253078518,
          2.517829147638391,
          1.6998648117465536,
          2.740037687317249,
          1.4695717155072447,
          1.3376584343871918,
          1.0365040348924612,
          2.648551598653284,
          1.3813620493343293,
          3.081216189411492,
          0.2,
          2.0672629734645205,
          1.80405934115693,
          2.267742692751128,
          2.347660203941377,
          1.893430289290136,
          2.122936734228914,
          0.4031903387786346,
          1.2353753085464292,
          2.610644883014179,
          1.147975155912722,
          3.3836184508319875,
          2.02714294733155,
          3.2188899001199363,
          3.19023948411652,
          1.1650908328582903,
          2.1457442365658164,
          1.30509973123558,
          0.2,
          1.6921685210720423,
          2.044352128234302,
          1.7871439643083256,
          1.3893094609067624,
          2.9848674173905168,
          0.2,
          2.1667689201345253,
          1.68662444463761,
          3.1090924091293184,
          1.96783067074494,
          1.8087279395794127,
          1.997120997434288,
          2.010174621498309,
          1.709378737756231,
          1.8248481711878977,
          0.9708132017516162,
          1.6730820453053503,
          3.5415531336654555,
          4.199740061394639,
          1.1918546586358645,
          2.3071304134637884,
          2.0190977373437136,
          1.5330065650920155,
          1.520058397500482,
          0.9677857419082508,
          0.4543602083678166,
          2.2124106200258176,
          1.2418330017739023,
          2.528355252652453,
          1.5376918924689025,
          1.1761979214820908,
          1.8461963142089133,
          1.1150417676151965,
          1.8340396693689247,
          2.72539565301874,
          2.6789864202499665,
          1.810277652151876,
          1.027428540385169,
          2.650243469199112,
          1.5057243554618638,
          2.417811043193808,
          1.6390934877131642,
          3.3230712192440515,
          2.00308188343146,
          0.8604926142027135,
          0.2370416516600184,
          1.7564416495197006,
          1.63459910570845,
          2.344703518854068,
          1.4493530140945226,
          0.24728579361479,
          0.7242736087592943,
          1.1941359806841392,
          3.2428651799648254,
          1.191827323783374,
          0.5606687410965074,
          0.2,
          3.07988840950142,
          2.2247174089039925,
          1.0045822110535871,
          1.3278460817167468,
          1.2821823928381135,
          1.5999238942655696,
          3.8242265480385664,
          2.194554327245846,
          0.92605300022868,
          2.848517018130946,
          0.7052781287103251,
          2.262313579129494,
          0.7876225123858119,
          1.54579543475084,
          1.4038018988309855,
          2.7810636840969893,
          0.9588469040554548,
          2.271674089332694,
          3.0871480233554607,
          0.2,
          0.4157255676094482,
          0.2,
          2.474511048803921,
          3.741649749180716,
          0.5516212776762919,
          3.9480317210244897,
          1.3675861684039703,
          0.587792668518571,
          3.888927854788175,
          0.5372403648304505,
          2.389892743687944,
          1.2217321960366396,
          2.732335273395904,
          3.210200084024298,
          2.9236355305513984,
          3.2225017671447853,
          2.935042046137995,
          1.3213473058915095,
          2.200393001933417,
          0.2,
          0.2,
          1.6435559229068608,
          0.2,
          1.7096673212454814,
          1.73301924092823,
          1.4274376983948374,
          2.1592418495644186,
          1.7694452165449843,
          3.0613332015914327,
          2.1041362791683613,
          3.0728996901509342,
          1.048593115718132,
          2.3473115132048745,
          0.342815540390198,
          1.4686692600869815,
          2.438828709949029,
          2.2363859707060563,
          0.2,
          2.453753785325539,
          3.4488088027277417,
          1.5644444601728231,
          0.2,
          0.9607494132814346,
          2.881750396492793,
          1.8956393122487276,
          1.8632967103564693,
          1.062422347181286,
          2.2752969847671927,
          1.4599051261712446,
          1.6225499498223968,
          1.994725743966597,
          1.338838703383336,
          0.8633122554398245,
          1.4823847329390234,
          2.886608375056631,
          1.7321432652240956,
          2.728922596204284,
          0.2,
          1.8277977537748729,
          0.2,
          0.9592676036047628,
          4.706229381259178,
          1.137484424945761,
          2.9106968452582054,
          0.2,
          0.8391257984485159,
          2.776963890903596,
          2.1213650030742093,
          2.035051439416682,
          1.0166591681084662,
          2.249766072961449,
          3.8756887961884656,
          2.872185521219784,
          1.3506060620748814,
          0.2,
          1.7679075947367704,
          3.5364203702908448,
          1.1013774448487148,
          2.3955300936230923,
          2.91263959735129,
          0.2115810445681889,
          2.6056128926200244,
          2.118082494430112,
          3.92068815857494,
          1.7047093357532694,
          2.366788669868195,
          2.360491778117188,
          1.678991118611952,
          1.332536191054633,
          2.1209025572182463,
          2.2805799732657803,
          1.7399097702884976,
          1.78257984681108,
          1.7595713406157614,
          1.610509661399379,
          1.5470819390625254,
          2.073730163543284,
          1.38611634607244,
          1.868633852550551,
          1.4577993510625338,
          1.9706891041037125,
          1.758112714912343,
          1.4177632275459529,
          1.994778605041144,
          1.485169284573582,
          1.5970909353110443,
          1.8589917185120044,
          2.090950283286197,
          1.6999347703656849,
          1.3353943791744285,
          1.8258523823511583,
          1.7991367974920232,
          1.6617318466556028,
          1.5871229450219122,
          1.7124706323334065,
          1.701239813243023,
          1.1601013710624506,
          1.5108662085810949,
          2.18392818462234,
          2.031200011675724,
          1.9781775371725183,
          1.949729155673809,
          1.589439472732943,
          1.4383362394380834,
          1.7432305240520158,
          2.327640127318692,
          1.4936352576122192,
          2.0148489655569204,
          2.0358551992479548,
          1.7731202006308455,
          1.36003970935743,
          1.1469300976985073,
          1.8260889790228487,
          2.012699132834672,
          1.462576770576832,
          1.827605796932657,
          1.736905762021579,
          1.7170000301702777,
          1.2442446387851505,
          2.305228620667535,
          1.696384231873509,
          1.6974926430852986,
          1.8110591008988424,
          0.8669881867523471,
          1.5902573624980636,
          1.4939618100880732,
          1.8376456829371088,
          1.901095582865055,
          1.944412315847015,
          1.6049169451625205,
          2.549531806004972,
          2.008303978479564,
          1.468137784528956,
          1.635308512944769,
          1.526124941665626,
          1.6642456453523908,
          1.99852851120592,
          1.8770803058431929,
          2.051555331876589,
          2.0360363860362463,
          1.5086667919021697,
          1.728543130599549,
          1.844738180758684,
          1.7212998064932858,
          1.7939759442549044,
          1.636934844200682,
          1.592609304990676,
          2.050468977779937,
          1.825634126959639,
          2.099190544943093,
          1.930175799366337,
          1.6451041995931075,
          1.1651710715589911,
          1.4831647812318527,
          2.02366901210662,
          1.8245506151705864,
          2.2186576394832147,
          2.492099022864444,
          1.679180892670152,
          2.047512592231804,
          1.4897299781713196,
          1.265414604040323,
          1.9904119192869547,
          1.8708051693409795,
          2.133297533091514,
          2.3694560889331178,
          2.741309393713691,
          1.1641283148881527,
          1.4106677645654797,
          1.8290667686634905,
          1.7118457026000835,
          1.6895347366255131,
          2.0716614978172254,
          1.412426484208556,
          1.0890692494346927,
          1.726347449617304,
          1.878822910065672,
          1.9800291338412188,
          1.8872070754602268,
          1.5395724629559109,
          1.8821824263659912,
          1.6759133916528572,
          1.6752099154853068,
          1.0997185267924592,
          1.7032093719981227,
          1.5977229127360284,
          1.2495603443760563,
          1.69003825872825,
          1.846513404514175,
          1.7418101271534592,
          1.7481340273549033,
          1.917890781304588,
          1.367944971532937,
          1.645280578472392,
          1.6438987386914283,
          1.7119590849027078,
          1.8652964880622296,
          1.4727386136830858,
          1.721329178133705,
          1.7992136531384326,
          1.7529542733853478,
          2.0901847195281085,
          1.6223940998531643,
          1.8575255185208284,
          1.675653878254772,
          1.469598551752152,
          1.684910992368404,
          0.9766364378847788,
          1.8722451778456692,
          2.0141258553200103,
          1.7189415099545369,
          1.6845078589485,
          1.9222944578048973,
          1.5228931860968924,
          2.28285683619358,
          1.560299079442942,
          1.7142481724449703,
          1.9692743083928652,
          1.842227823395384,
          1.716328361815729,
          2.1587127212244708,
          1.732147161283055,
          1.4332322335712528,
          1.6532653978124183,
          2.2303248099288693,
          2.152831471772104,
          1.3543757578004576,
          1.579312535001992,
          1.8006156792253032,
          1.9578531006412028,
          1.776167506622053,
          1.592604536653209,
          1.8223010238222248,
          1.3237192907196138,
          1.5836057069662086,
          1.6038572181306838,
          1.6075648574419326,
          1.5813727330234535,
          1.6495232938809756,
          1.5713084819017111,
          1.737250557825749,
          1.766709541789298,
          1.6591141775676963,
          2.052794477449143,
          2.05685057637388,
          1.5715293613188277,
          2.211285433824004,
          1.8397051825198665,
          1.1643519239916975,
          1.5391323675755888,
          1.852523004006996,
          1.6486872986122472,
          1.7219348060644324,
          2.0573099828018053,
          1.496193113334136,
          1.899553764640175,
          1.9806860054345568,
          1.4582378280927737,
          2.2553398213495286,
          1.7752129553612317,
          1.5088905271831234,
          1.708629464059134,
          1.9430044966825784,
          1.7831251578597969,
          1.3548968038983111,
          1.9599104886649048,
          1.2589300772152998,
          1.3556830570497285,
          1.7630157393586905,
          2.0737707970498187,
          1.87701904354459,
          1.8650920537598248,
          1.9507545712254932,
          1.6127727107916627,
          1.9064994656593663,
          1.4357302719308784,
          1.5274184950035803,
          1.372833287945705,
          1.3485414546885237,
          1.4225512814929864,
          1.696828027914597,
          2.147751549356648,
          1.3293735269338194,
          1.520964551164232,
          1.671881336481529,
          1.993210392196686,
          1.7553637909880615,
          1.440777251960958,
          1.658555440779963,
          0.935538647009731,
          1.769563195605192,
          1.2778938798790305,
          1.4698154699948065,
          1.890317587225072,
          1.3819912490099204,
          2.045011629248636,
          2.07338895555488,
          2.244772359808211,
          2.005146805629271,
          2.1685112905236377,
          1.422714724141131,
          1.7790778978064063,
          2.109461776297095,
          2.080593036621329,
          1.5277482403984204,
          2.0698309064007234,
          1.975073735141352,
          1.8578200874008632,
          1.4014157818882371,
          1.7634664588274915,
          1.8024937214998376,
          1.0514107250805274,
          1.826611878617876,
          1.3857330416299107,
          2.111461105154891,
          1.8775887713676327,
          2.007197521329128,
          2.216388083669413,
          1.8259416007020264,
          2.2072958177425304,
          1.3622689629249365,
          2.153654934376957,
          1.068132431911294,
          1.902909000693823,
          1.4135368897758325,
          1.811878129840961,
          1.7752078990762523,
          1.5314843034122994,
          1.8844499263180203,
          1.8323385361437587,
          1.255279380117113,
          1.7701927736869356,
          1.5853330246664228,
          1.8453407725584716,
          1.7760756297122928,
          1.6328209777915796,
          2.2552735115651794,
          1.6108470895752989,
          2.0779015619559043,
          1.3980454273186294,
          1.615727644107357,
          1.8518442861948696,
          1.7953198957203884,
          1.702934138772967,
          1.7187172594551112,
          1.6059357727020014,
          1.773789848527444,
          1.5819709518664804,
          2.043069424816505,
          1.800750524105759,
          2.514066455745364,
          1.7955714542153989,
          1.8424285099448308,
          1.5957365099290175,
          1.6133918853825435,
          0.9049731304472752,
          1.8577505198018012,
          1.941306274335785,
          1.4571425280558046,
          2.0411751439255883,
          1.7375886798294873,
          1.8455507593424,
          1.7502158524928733,
          1.8371505568145456,
          1.8486073022541605,
          1.7841560095761306,
          2.1507813307532446,
          1.9314552197164463,
          2.0358831220499334,
          1.5470320416256258,
          1.5040119810566264,
          1.8920372500260207,
          1.541119248290133,
          1.4661405021528398,
          2.126802757859497,
          1.3987370794026548,
          1.8273545485651448,
          2.125495456146401,
          1.971873029222944,
          1.220308745832788,
          1.4953108740402832,
          1.368083275243382,
          1.7216377911561012,
          1.7164887934749948,
          1.0194007458505492,
          2.004763281907815,
          1.6914273387407677,
          1.7163277423768224,
          1.2470070874436692,
          1.3037728564975093,
          1.529642529459168,
          1.5622829643679683,
          1.8616146963745863,
          1.9355186943228744,
          1.2873811899889214,
          2.0108793971204157,
          1.6709371485743785,
          1.525417598314012,
          2.1034033067963795,
          1.9239499100005808,
          1.7341546648184372,
          2.120854511086382,
          1.822157368031737,
          1.5043832484714683,
          1.5132097900264412,
          1.366267437945114,
          1.259495092892691,
          1.641626826810351,
          1.74326149283833,
          1.513971070907153,
          2.031829345218464,
          1.677132051092079,
          1.6020172554298555,
          2.1230220594369125,
          1.7562193304856846,
          1.897959371407626,
          1.5865402586481014,
          1.0550803246252125,
          1.5244348524933866,
          2.0686874026432065,
          1.7019412757121908,
          1.3931261288589492,
          1.950605132983166,
          1.4925713135942056,
          1.6752874713720791,
          1.883643491946681,
          1.912169112835486,
          1.897027872597549,
          2.390375320623276,
          2.0530192257753077,
          1.6833936651324668,
          1.6694425600564744,
          1.950413395314116,
          1.5586187591802394,
          1.186807218447827,
          1.730697294058214,
          1.6104184310190073,
          1.8857705919667955,
          1.7924064950237235,
          2.034631457119973,
          1.9202196477240396,
          2.4015481809388106,
          1.4756715067516923,
          1.6306136161149969,
          1.5492351548848604,
          1.4121272777815332,
          1.3963191450430832,
          1.4692762908403028,
          1.5089067343207805,
          1.864533691736192,
          1.433109125568202,
          1.747247348365858,
          1.278260121068336,
          1.6487752031689071,
          1.6173086363759883,
          1.5275500698495637,
          2.033381412857784,
          1.664837327610484,
          1.504314660080101,
          1.3763914879959391,
          1.805432023990744,
          1.732391117143204,
          1.5318406820531456,
          1.7268603225616177,
          1.9499355132842116,
          1.8307071463084128,
          1.41415573703821,
          1.647457715860201,
          1.541987637756091,
          1.748992082416784,
          2.2754040592416818,
          1.787708490860846,
          2.205830728663991,
          1.1729625943873394,
          1.790006640178366,
          1.5077139065002725,
          1.6154370266570894,
          1.6337329865118808,
          2.014678775863475,
          1.1823663575071803,
          1.6995300667530269,
          1.7511407651220954,
          1.2240132827539454,
          2.081956112387602,
          1.680883555967149,
          2.0977047044880224,
          1.5250826590550195,
          1.985912490049592,
          1.065865570001209,
          1.2772220353767918,
          1.6298898879283774,
          1.9647650335926632,
          1.9008013977937088,
          1.4990193306937902,
          1.4280227829457066,
          1.9206413985405597,
          2.300028358282811,
          1.4075306237680671,
          1.528603812322355,
          1.7946884810022825,
          1.9927361414127172,
          2.4753391581398145,
          1.2348600058423838,
          1.589682865358769,
          2.3134337620060066,
          1.0043785577582187,
          1.1894944641131606,
          1.9511972561904247,
          0.7896713647332103,
          2.3453664096293307,
          0.621149095042902,
          1.6405919340136648,
          1.6779180873978692,
          1.617620006572547,
          1.6962094579190694,
          1.370974331879728,
          1.6087391840759626,
          1.804998433806929,
          1.5853172020677335,
          2.0296635386871875,
          1.8472494316915236,
          1.6252046587404774,
          1.7417166501666723,
          2.076252675724569,
          1.3782880208907349,
          1.241840231608252,
          1.7575286405557884,
          1.2959275277280016,
          1.3598281117019742,
          1.5418178987608937,
          1.6561333230027933,
          1.7726742334939192,
          1.4925181459630976,
          0.9905514476355882,
          1.4544745717519585,
          2.052087664008493,
          1.3114681092814249,
          0.8530923363111984,
          1.3438829429815062,
          1.3551541562365033,
          2.1816310662203318,
          2.4686613766248517,
          1.776844321696882,
          1.1597250967819006,
          1.7195604918845502,
          1.5559554699308733,
          1.0854369065084155,
          1.6496505914115178,
          1.3681102611980325,
          2.475040317241173,
          1.4961876263967775,
          1.1029869608376437,
          1.9901898287713904,
          1.8700241288760568,
          1.7180055200404154,
          1.6952968684781842,
          1.1055071681890287,
          1.8347383616199089,
          1.6012572333457855,
          1.817953824886831,
          1.4055088547018837,
          1.6409360812520708,
          2.084878795114039,
          1.3844806329205646,
          1.4965683502020422,
          1.598535495448997,
          1.4516083123025698,
          1.3137473734788283,
          1.831524859442706,
          2.2551196557308013,
          2.369462834234843,
          1.7814594287709784,
          1.6163376345662055,
          1.029381351067997,
          0.9742420457873228,
          1.395098499337751,
          2.165886980347416,
          0.965126831153411,
          1.551803099656345,
          1.8533385446219317,
          1.811903525022991,
          1.9787666493060927,
          1.5191331457278716,
          1.8776447305734163,
          1.26482354153408,
          1.7915021121511627,
          1.8277921396376984,
          1.467720708300267,
          1.5475446349877666,
          1.412661635879288,
          1.5886767338117078,
          1.7989169037658497,
          1.472557598169306,
          1.7743627660616226,
          1.0584076159229163,
          1.2298412023396097,
          1.414544145917534,
          1.9648383969117056,
          1.380943380849797,
          1.3422732949669296,
          1.5117303403890303,
          2.6386796090139013,
          1.6545656615203108,
          1.3179073982252334,
          1.8152220826246583,
          1.8812522536120275,
          1.3934595932857217,
          1.3815505982014435,
          2.106844486207656,
          1.864629991370444,
          1.8296944305078529,
          1.714043090500632,
          1.467266129438512,
          1.880527583324734,
          1.760990910224999,
          1.6055455909962004,
          1.7492726977839987,
          1.567709396769409,
          1.4668386815846008,
          2.042371470568975,
          1.9660126317462208,
          1.1152544937004685,
          1.4176033399654355,
          1.2210697166815965,
          1.8552777989789184,
          1.229084375429019,
          1.5418808450942525,
          2.2574483340331533,
          2.150951795345501,
          1.7536252130657144,
          2.199869194754676,
          0.831817438949712,
          1.6851260661445615,
          2.028062010658384,
          1.9973005751405328,
          1.693565095167307,
          1.4284515688974555,
          1.7639229892860078,
          1.545999435381941,
          1.8565914099114025,
          1.844074758543341,
          1.4680045130547672,
          1.741002862756014,
          1.7725706566183237,
          1.5252937863749378,
          1.6820416402351732,
          1.5353886751965515,
          0.7586890990717052,
          1.6317051172557964,
          1.2867131058022228,
          2.1570912996151046,
          1.339043456654421,
          2.123015860647324,
          1.7186395675132289,
          2.052915357080718,
          1.0912005675864953,
          1.3429205029103672,
          1.8740200399461215,
          1.5890169077552592,
          1.450436993240886,
          0.8809903139843219,
          1.7364738784852518,
          3.0138739982450087,
          2.340039271903722,
          1.918174552024272,
          1.0006943916023785,
          2.3314851296792,
          1.7865604482996185,
          1.5188126071368595
         ],
         "y0": " ",
         "yaxis": "y"
        }
       ],
       "layout": {
        "boxmode": "group",
        "legend": {
         "tracegroupgap": 0
        },
        "template": {
         "data": {
          "bar": [
           {
            "error_x": {
             "color": "#2a3f5f"
            },
            "error_y": {
             "color": "#2a3f5f"
            },
            "marker": {
             "line": {
              "color": "white",
              "width": 0.5
             },
             "pattern": {
              "fillmode": "overlay",
              "size": 10,
              "solidity": 0.2
             }
            },
            "type": "bar"
           }
          ],
          "barpolar": [
           {
            "marker": {
             "line": {
              "color": "white",
              "width": 0.5
             },
             "pattern": {
              "fillmode": "overlay",
              "size": 10,
              "solidity": 0.2
             }
            },
            "type": "barpolar"
           }
          ],
          "box": [
           {
            "boxpoints": "outliers",
            "notched": false,
            "type": "box"
           }
          ],
          "carpet": [
           {
            "aaxis": {
             "endlinecolor": "#2a3f5f",
             "gridcolor": "#C8D4E3",
             "linecolor": "#C8D4E3",
             "minorgridcolor": "#C8D4E3",
             "startlinecolor": "#2a3f5f"
            },
            "baxis": {
             "endlinecolor": "#2a3f5f",
             "gridcolor": "#C8D4E3",
             "linecolor": "#C8D4E3",
             "minorgridcolor": "#C8D4E3",
             "startlinecolor": "#2a3f5f"
            },
            "type": "carpet"
           }
          ],
          "choropleth": [
           {
            "colorbar": {
             "outlinewidth": 0,
             "ticks": ""
            },
            "type": "choropleth"
           }
          ],
          "contour": [
           {
            "colorbar": {
             "outlinewidth": 0,
             "ticks": ""
            },
            "colorscale": [
             [
              0,
              "#0d0887"
             ],
             [
              0.1111111111111111,
              "#46039f"
             ],
             [
              0.2222222222222222,
              "#7201a8"
             ],
             [
              0.3333333333333333,
              "#9c179e"
             ],
             [
              0.4444444444444444,
              "#bd3786"
             ],
             [
              0.5555555555555556,
              "#d8576b"
             ],
             [
              0.6666666666666666,
              "#ed7953"
             ],
             [
              0.7777777777777778,
              "#fb9f3a"
             ],
             [
              0.8888888888888888,
              "#fdca26"
             ],
             [
              1,
              "#f0f921"
             ]
            ],
            "type": "contour"
           }
          ],
          "contourcarpet": [
           {
            "colorbar": {
             "outlinewidth": 0,
             "ticks": ""
            },
            "type": "contourcarpet"
           }
          ],
          "heatmap": [
           {
            "colorbar": {
             "outlinewidth": 0,
             "ticks": ""
            },
            "colorscale": [
             [
              0,
              "#0d0887"
             ],
             [
              0.1111111111111111,
              "#46039f"
             ],
             [
              0.2222222222222222,
              "#7201a8"
             ],
             [
              0.3333333333333333,
              "#9c179e"
             ],
             [
              0.4444444444444444,
              "#bd3786"
             ],
             [
              0.5555555555555556,
              "#d8576b"
             ],
             [
              0.6666666666666666,
              "#ed7953"
             ],
             [
              0.7777777777777778,
              "#fb9f3a"
             ],
             [
              0.8888888888888888,
              "#fdca26"
             ],
             [
              1,
              "#f0f921"
             ]
            ],
            "type": "heatmap"
           }
          ],
          "heatmapgl": [
           {
            "colorbar": {
             "outlinewidth": 0,
             "ticks": ""
            },
            "colorscale": [
             [
              0,
              "#0d0887"
             ],
             [
              0.1111111111111111,
              "#46039f"
             ],
             [
              0.2222222222222222,
              "#7201a8"
             ],
             [
              0.3333333333333333,
              "#9c179e"
             ],
             [
              0.4444444444444444,
              "#bd3786"
             ],
             [
              0.5555555555555556,
              "#d8576b"
             ],
             [
              0.6666666666666666,
              "#ed7953"
             ],
             [
              0.7777777777777778,
              "#fb9f3a"
             ],
             [
              0.8888888888888888,
              "#fdca26"
             ],
             [
              1,
              "#f0f921"
             ]
            ],
            "type": "heatmapgl"
           }
          ],
          "histogram": [
           {
            "marker": {
             "line": {
              "width": 1
             },
             "pattern": {
              "fillmode": "overlay",
              "size": 10,
              "solidity": 0.2
             }
            },
            "type": "histogram"
           }
          ],
          "histogram2d": [
           {
            "colorbar": {
             "outlinewidth": 0,
             "ticks": ""
            },
            "colorscale": [
             [
              0,
              "#0d0887"
             ],
             [
              0.1111111111111111,
              "#46039f"
             ],
             [
              0.2222222222222222,
              "#7201a8"
             ],
             [
              0.3333333333333333,
              "#9c179e"
             ],
             [
              0.4444444444444444,
              "#bd3786"
             ],
             [
              0.5555555555555556,
              "#d8576b"
             ],
             [
              0.6666666666666666,
              "#ed7953"
             ],
             [
              0.7777777777777778,
              "#fb9f3a"
             ],
             [
              0.8888888888888888,
              "#fdca26"
             ],
             [
              1,
              "#f0f921"
             ]
            ],
            "type": "histogram2d"
           }
          ],
          "histogram2dcontour": [
           {
            "colorbar": {
             "outlinewidth": 0,
             "ticks": ""
            },
            "colorscale": [
             [
              0,
              "#0d0887"
             ],
             [
              0.1111111111111111,
              "#46039f"
             ],
             [
              0.2222222222222222,
              "#7201a8"
             ],
             [
              0.3333333333333333,
              "#9c179e"
             ],
             [
              0.4444444444444444,
              "#bd3786"
             ],
             [
              0.5555555555555556,
              "#d8576b"
             ],
             [
              0.6666666666666666,
              "#ed7953"
             ],
             [
              0.7777777777777778,
              "#fb9f3a"
             ],
             [
              0.8888888888888888,
              "#fdca26"
             ],
             [
              1,
              "#f0f921"
             ]
            ],
            "type": "histogram2dcontour"
           }
          ],
          "mesh3d": [
           {
            "colorbar": {
             "outlinewidth": 0,
             "ticks": ""
            },
            "type": "mesh3d"
           }
          ],
          "parcoords": [
           {
            "line": {
             "colorbar": {
              "outlinewidth": 0,
              "ticks": ""
             }
            },
            "type": "parcoords"
           }
          ],
          "pie": [
           {
            "automargin": true,
            "type": "pie"
           }
          ],
          "scatter": [
           {
            "fillpattern": {
             "fillmode": "overlay",
             "size": 10,
             "solidity": 0.2
            },
            "marker": {
             "opacity": 0.8
            },
            "type": "scatter"
           }
          ],
          "scatter3d": [
           {
            "line": {
             "colorbar": {
              "outlinewidth": 0,
              "ticks": ""
             }
            },
            "marker": {
             "colorbar": {
              "outlinewidth": 0,
              "ticks": ""
             },
             "opacity": 0.8
            },
            "type": "scatter3d"
           }
          ],
          "scattercarpet": [
           {
            "marker": {
             "colorbar": {
              "outlinewidth": 0,
              "ticks": ""
             }
            },
            "type": "scattercarpet"
           }
          ],
          "scattergeo": [
           {
            "marker": {
             "colorbar": {
              "outlinewidth": 0,
              "ticks": ""
             }
            },
            "type": "scattergeo"
           }
          ],
          "scattergl": [
           {
            "marker": {
             "colorbar": {
              "outlinewidth": 0,
              "ticks": ""
             }
            },
            "type": "scattergl"
           }
          ],
          "scattermapbox": [
           {
            "marker": {
             "colorbar": {
              "outlinewidth": 0,
              "ticks": ""
             }
            },
            "type": "scattermapbox"
           }
          ],
          "scatterpolar": [
           {
            "marker": {
             "colorbar": {
              "outlinewidth": 0,
              "ticks": ""
             }
            },
            "type": "scatterpolar"
           }
          ],
          "scatterpolargl": [
           {
            "marker": {
             "colorbar": {
              "outlinewidth": 0,
              "ticks": ""
             }
            },
            "type": "scatterpolargl"
           }
          ],
          "scatterternary": [
           {
            "marker": {
             "colorbar": {
              "outlinewidth": 0,
              "ticks": ""
             }
            },
            "type": "scatterternary"
           }
          ],
          "surface": [
           {
            "colorbar": {
             "outlinewidth": 0,
             "ticks": ""
            },
            "colorscale": [
             [
              0,
              "#0d0887"
             ],
             [
              0.1111111111111111,
              "#46039f"
             ],
             [
              0.2222222222222222,
              "#7201a8"
             ],
             [
              0.3333333333333333,
              "#9c179e"
             ],
             [
              0.4444444444444444,
              "#bd3786"
             ],
             [
              0.5555555555555556,
              "#d8576b"
             ],
             [
              0.6666666666666666,
              "#ed7953"
             ],
             [
              0.7777777777777778,
              "#fb9f3a"
             ],
             [
              0.8888888888888888,
              "#fdca26"
             ],
             [
              1,
              "#f0f921"
             ]
            ],
            "type": "surface"
           }
          ],
          "table": [
           {
            "cells": {
             "fill": {
              "color": "#EBF0F8"
             },
             "line": {
              "color": "white"
             }
            },
            "header": {
             "fill": {
              "color": "#C8D4E3"
             },
             "line": {
              "color": "white"
             }
            },
            "type": "table"
           }
          ]
         },
         "layout": {
          "annotationdefaults": {
           "arrowcolor": "#2a3f5f",
           "arrowhead": 0,
           "arrowwidth": 1
          },
          "autotypenumbers": "strict",
          "coloraxis": {
           "colorbar": {
            "outlinewidth": 0,
            "ticks": ""
           }
          },
          "colorscale": {
           "diverging": [
            [
             0,
             "#8e0152"
            ],
            [
             0.1,
             "#c51b7d"
            ],
            [
             0.2,
             "#de77ae"
            ],
            [
             0.3,
             "#f1b6da"
            ],
            [
             0.4,
             "#fde0ef"
            ],
            [
             0.5,
             "#f7f7f7"
            ],
            [
             0.6,
             "#e6f5d0"
            ],
            [
             0.7,
             "#b8e186"
            ],
            [
             0.8,
             "#7fbc41"
            ],
            [
             0.9,
             "#4d9221"
            ],
            [
             1,
             "#276419"
            ]
           ],
           "sequential": [
            [
             0,
             "#0d0887"
            ],
            [
             0.1111111111111111,
             "#46039f"
            ],
            [
             0.2222222222222222,
             "#7201a8"
            ],
            [
             0.3333333333333333,
             "#9c179e"
            ],
            [
             0.4444444444444444,
             "#bd3786"
            ],
            [
             0.5555555555555556,
             "#d8576b"
            ],
            [
             0.6666666666666666,
             "#ed7953"
            ],
            [
             0.7777777777777778,
             "#fb9f3a"
            ],
            [
             0.8888888888888888,
             "#fdca26"
            ],
            [
             1,
             "#f0f921"
            ]
           ],
           "sequentialminus": [
            [
             0,
             "#0d0887"
            ],
            [
             0.1111111111111111,
             "#46039f"
            ],
            [
             0.2222222222222222,
             "#7201a8"
            ],
            [
             0.3333333333333333,
             "#9c179e"
            ],
            [
             0.4444444444444444,
             "#bd3786"
            ],
            [
             0.5555555555555556,
             "#d8576b"
            ],
            [
             0.6666666666666666,
             "#ed7953"
            ],
            [
             0.7777777777777778,
             "#fb9f3a"
            ],
            [
             0.8888888888888888,
             "#fdca26"
            ],
            [
             1,
             "#f0f921"
            ]
           ]
          },
          "colorway": [
           "#636efa",
           "#EF553B",
           "#00cc96",
           "#ab63fa",
           "#FFA15A",
           "#19d3f3",
           "#FF6692",
           "#B6E880",
           "#FF97FF",
           "#FECB52"
          ],
          "font": {
           "color": "#2a3f5f"
          },
          "geo": {
           "bgcolor": "white",
           "lakecolor": "white",
           "landcolor": "white",
           "showlakes": true,
           "showland": true,
           "subunitcolor": "#C8D4E3"
          },
          "height": 400,
          "hoverlabel": {
           "align": "left"
          },
          "hovermode": "closest",
          "mapbox": {
           "style": "light"
          },
          "margin": {
           "b": 2,
           "l": 2,
           "r": 2,
           "t": 30
          },
          "paper_bgcolor": "white",
          "plot_bgcolor": "white",
          "polar": {
           "angularaxis": {
            "gridcolor": "#EBF0F8",
            "linecolor": "#EBF0F8",
            "ticks": ""
           },
           "bgcolor": "white",
           "radialaxis": {
            "gridcolor": "#EBF0F8",
            "linecolor": "#EBF0F8",
            "ticks": ""
           }
          },
          "scene": {
           "camera": {
            "eye": {
             "x": 1.5,
             "y": 1.5,
             "z": 0.1
            }
           },
           "xaxis": {
            "backgroundcolor": "white",
            "gridcolor": "#DFE8F3",
            "gridwidth": 2,
            "linecolor": "#EBF0F8",
            "showbackground": true,
            "ticks": "",
            "zerolinecolor": "#EBF0F8"
           },
           "yaxis": {
            "backgroundcolor": "white",
            "gridcolor": "#DFE8F3",
            "gridwidth": 2,
            "linecolor": "#EBF0F8",
            "showbackground": true,
            "ticks": "",
            "zerolinecolor": "#EBF0F8"
           },
           "zaxis": {
            "backgroundcolor": "white",
            "gridcolor": "#DFE8F3",
            "gridwidth": 2,
            "linecolor": "#EBF0F8",
            "showbackground": true,
            "ticks": "",
            "zerolinecolor": "#EBF0F8"
           }
          },
          "shapedefaults": {
           "line": {
            "color": "#2a3f5f"
           }
          },
          "ternary": {
           "aaxis": {
            "gridcolor": "#DFE8F3",
            "linecolor": "#A2B1C6",
            "ticks": ""
           },
           "baxis": {
            "gridcolor": "#DFE8F3",
            "linecolor": "#A2B1C6",
            "ticks": ""
           },
           "bgcolor": "white",
           "caxis": {
            "gridcolor": "#DFE8F3",
            "linecolor": "#A2B1C6",
            "ticks": ""
           }
          },
          "title": {
           "x": 0.5
          },
          "xaxis": {
           "automargin": true,
           "gridcolor": "#EBF0F8",
           "linecolor": "#EBF0F8",
           "linewidth": 2,
           "showline": true,
           "ticks": "",
           "title": {
            "standoff": 15
           },
           "zerolinecolor": "#EBF0F8",
           "zerolinewidth": 2
          },
          "yaxis": {
           "automargin": true,
           "gridcolor": "#EBF0F8",
           "linecolor": "#EBF0F8",
           "linewidth": 2,
           "showline": true,
           "ticks": "",
           "title": {
            "standoff": 15
           },
           "zerolinecolor": "#EBF0F8",
           "zerolinewidth": 2
          }
         }
        },
        "title": {
         "text": "Boxplot of \"size\" feature"
        },
        "xaxis": {
         "anchor": "y",
         "domain": [
          0,
          1
         ]
        },
        "yaxis": {
         "anchor": "x",
         "domain": [
          0,
          1
         ],
         "title": {
          "text": "size"
         }
        }
       }
      }
     },
     "metadata": {},
     "output_type": "display_data"
    }
   ],
   "source": [
    "graphing.box_and_whisker(dataset, label_y=\"size\", title='Boxplot of \"size\" feature')"
   ]
  },
  {
   "cell_type": "code",
   "execution_count": 5,
   "metadata": {},
   "outputs": [
    {
     "data": {
      "application/vnd.plotly.v1+json": {
       "config": {
        "plotlyServerURL": "https://plot.ly"
       },
       "data": [
        {
         "alignmentgroup": "True",
         "hovertemplate": "roughness=%{y}<extra></extra>",
         "legendgroup": "",
         "marker": {
          "color": "#636efa"
         },
         "name": "",
         "notched": false,
         "offsetgroup": "",
         "orientation": "v",
         "showlegend": false,
         "type": "box",
         "x0": " ",
         "xaxis": "x",
         "y": [
          1.318226105036182,
          0.5542912872163299,
          1.0977520683540187,
          0.9664818407770428,
          0.7990934865428388,
          0.7268692756625176,
          1.587409530795841,
          1.036014494741017,
          0.9940433832679424,
          0.9393967940467652,
          1.1659198068218546,
          0.8184916537029794,
          0.9707049769266836,
          2.1091539191943203,
          1.285884393828023,
          0.7510669150165435,
          0.4105407790964434,
          0.7865729186581968,
          0.9781608354136364,
          1.1743790656658948,
          0.6180276152196621,
          0.9017499077712702,
          1.34192192989621,
          1.340349952130157,
          1.1634702991524264,
          1.9828169470366768,
          0.9506251943647188,
          0.7273467412593194,
          0.618405770051478,
          0.8064971242698021,
          0.8508302113000623,
          1.8598852840825248,
          1.1166017628169564,
          1.5661061160019942,
          1.1509493200580645,
          1.2377237886241776,
          1.4008291859330797,
          1.3818116429966087,
          1.59697143267374,
          1.3668808001056412,
          0.4532537773180805,
          0.9412330137715847,
          0.8789480678766574,
          1.2245608855647645,
          0.4976659338952494,
          0.8408306427970286,
          1.062137217842791,
          0.592055660118298,
          0.5586505373222577,
          1.0849835545467177,
          1.439808817957996,
          0.5250390025783279,
          1.4727078336324708,
          1.0065261920014932,
          1.5278444301438785,
          1.2918650657612392,
          0.822673562721492,
          0.8191875546900395,
          1.1861123476439537,
          1.2956588635462798,
          0.96338034031066,
          0.7011875136067343,
          0.595779704408504,
          1.1152877750057308,
          0.8711236446870404,
          0.5484523167496494,
          1.5888560621435768,
          1.18802555000201,
          1.3826348334383127,
          0.952460121656766,
          0.4477198146477477,
          1.0114648059046212,
          1.1959582232649806,
          1.403185671891799,
          0.9574392516502056,
          0.8281757533433733,
          1.2947801006701138,
          1.1044999768076602,
          0.9142759772008168,
          1.3325847555381385,
          0.7545803410812683,
          0.9932009305957064,
          0.906071324469629,
          0.6092744910685488,
          1.151673117699761,
          0.7853876725797977,
          1.2368393927004366,
          1.4109610454179564,
          1.1207441446161834,
          1.0461771722864763,
          0.7327640833256592,
          0.3959115111088555,
          0.9686349021745178,
          1.1767865773015598,
          1.0178829695427116,
          1.1830929797098724,
          0.7099913401687931,
          0.3598923672712484,
          0.9123888516432148,
          0.7835364747191927,
          1.1413440472066525,
          0.853961876430143,
          0.7630940897938591,
          0.5583742182941491,
          1.0827403366751862,
          0.9519660518072092,
          1.3027073089859356,
          1.1097418600399904,
          0.8684329924617412,
          0.8648348727638563,
          0.9252420008756734,
          0.8281874904564245,
          0.928118817039172,
          1.1255736232773104,
          0.9934499100596376,
          0.6776669271877883,
          0.5467910823665642,
          1.3321891026662804,
          1.4397130143904535,
          1.4075525326876346,
          1.5504634266392756,
          1.2601838026019787,
          1.2381971243725554,
          1.218514703226016,
          1.2401470867716318,
          1.1238096841047358,
          0.99684573158237,
          1.0960363987121522,
          1.3023198125642743,
          2.027238438310737,
          0.717490270611988,
          1.0834199798065207,
          1.024119735825795,
          0.6215216297073322,
          0.9022867072388112,
          0.5459052917035312,
          0.934509981290092,
          0.8437085622308979,
          1.1383773188845736,
          1.0513693960579904,
          0.9177230636179028,
          0.9547212874045388,
          0.8761973147634402,
          1.031527362456278,
          0.9050208636460404,
          1.047843403393473,
          0.6001422995174309,
          0.6905740822922705,
          1.5088686400485951,
          1.2799785021938783,
          0.8443340080171334,
          1.2299051994671717,
          1.1595113955002632,
          1.2646037969082833,
          1.1346322553555177,
          0.8595449707091921,
          0.3414240835371194,
          0.7559813006528368,
          1.1959574473285286,
          1.088797132061287,
          1.1269103262031874,
          1.221482402037099,
          0.9597637941243938,
          0.9121206487467904,
          1.3093626557583464,
          0.9156713260311082,
          1.5747875498201305,
          0.9747466233532396,
          1.3486377011781134,
          0.9338251280035252,
          0.44943956795557,
          1.6011512423684535,
          0.69999402805894,
          1.2415268069763197,
          1.557081513019348,
          1.1147318305338405,
          0.6195310825354151,
          0.5196681601506242,
          1.0487341103891767,
          0.8308100689022672,
          0.9344224475051798,
          0.8697205812888384,
          1.22657403302082,
          0.9023263985336208,
          1.157032114919924,
          1.0766860608368412,
          0.9674743556409076,
          0.6914600727326532,
          1.4412516167296252,
          0.9192516424468212,
          1.0631293674618918,
          1.0416081584390886,
          0.828532569742957,
          1.0478516440797512,
          0.7361592910736304,
          1.1011603899801594,
          1.226668395459231,
          1.1851970102219411,
          1.3384186756381429,
          0.9374383685945148,
          1.4837498410383425,
          0.958152810253912,
          1.612256212738299,
          1.349135591489472,
          0.9951304089820988,
          0.9675087120631886,
          0.8024338051844607,
          0.7024557034627757,
          0.6989810831543148,
          0.3947178417688617,
          1.2567294750696407,
          1.106849762726296,
          0.8671785039241484,
          0.1263637436822502,
          0.9609878241802532,
          1.404281956522916,
          0.9034907516937416,
          0.9574617715186232,
          1.3948880482589745,
          1.0837558446496438,
          0.7831258862836845,
          1.264434616684492,
          0.7143428952338169,
          1.7119494532728865,
          0.6437520434372495,
          1.1060613658398055,
          0.8317226917138396,
          0.7156539561410388,
          0.6586060696222128,
          1.0717805966549747,
          0.5945870786186584,
          0.37472967962326,
          1.1183913245029795,
          1.009474563271855,
          1.3595784622867062,
          0.7350601425282376,
          0.9497791349135428,
          0.8152254491994075,
          1.234140575615727,
          1.180741833932184,
          1.2249926565755698,
          1.1569388244791752,
          1.3651687553323393,
          1.4469543382335042,
          1.3148725428346886,
          1.108112989690566,
          1.5224664549435754,
          0,
          0.7413332767062395,
          0.831718412903614,
          0.9529575406240988,
          0.6983845551464702,
          0.9619452278210306,
          1.4777873398663135,
          1.5103035146503412,
          0.3549438546475707,
          0.8504230757763699,
          1.0227316521828678,
          1.363232422286911,
          1.6378583733890233,
          1.1235808865630157,
          1.111954616874547,
          1.2931185015719815,
          0.5821171882282256,
          1.165703194528484,
          0.8178657791365475,
          1.3341205916532723,
          1.2955525758637367,
          0.9217724078003804,
          0.6891379777924382,
          0.8634188893972962,
          0.4504963932797799,
          0.498264919074326,
          0.8306552345842673,
          0.9128982836924998,
          0.8557998034353105,
          0.8232241475300537,
          1.0191295310038049,
          0.8593810782105503,
          1.3273290620273237,
          0.8112288634164123,
          1.1598217361350935,
          1.0637737544272188,
          0.8147917937473943,
          1.1528325118560978,
          0.8264853052176477,
          1.0319170263311797,
          0.9900383206487454,
          1.2450316667164962,
          1.435064282158874,
          0.572630001367258,
          0.7918387020159159,
          1.2204527708944242,
          0.8943704456618591,
          1.0127072174056435,
          1.0628254267161308,
          1.1886761714063212,
          0.9193354097569238,
          1.843618078745226,
          1.1185400093106104,
          0.5979306338788357,
          1.6167013185948316,
          1.1070663706497057,
          0.8612037061361949,
          1.3109448847643226,
          0.8453467716534061,
          1.1112094066206453,
          1.4102309150618373,
          1.2094279845801992,
          0.8726759515816611,
          1.487570888914488,
          1.035026920099399,
          0.8812607262876874,
          1.4106495698603074,
          0.3318709723446841,
          0.4639963664003189,
          1.569054845214372,
          0.7613430584332057,
          1.0767962092549106,
          0.7208181068387027,
          0.9070533179584606,
          0.9490770368131026,
          1.0058147674703364,
          1.0853601231138954,
          1.1455363668668532,
          0.9630336254849372,
          0.5890500070945909,
          1.107316037147926,
          0.7342590159747159,
          1.214150552996624,
          1.2083230701213006,
          0.7777943035919118,
          1.041886159632672,
          1.1955485561892074,
          1.1372814439603929,
          1.4059990271021146,
          0.9556176119258448,
          1.2127154288378983,
          1.1060153598315925,
          0.7755225269085682,
          1.4463818343388506,
          1.1403397846966998,
          0.708816593100393,
          1.0628024369166036,
          0.6832932953115685,
          0.6401418480748843,
          1.2122664872506772,
          1.0874116417707562,
          1.2312519327939777,
          1.548240485019734,
          0.8476030682926278,
          0.9197027724755842,
          1.208710572175698,
          0.6211645400434467,
          0.8927075238212476,
          0.9305735774389086,
          1.3275051197600842,
          0.9053893566806772,
          1.1975832081563782,
          1.6044868110214836,
          0.6909700154760147,
          0.6219897963642176,
          1.2520793197801592,
          1.0142993346311655,
          0.9927603824288672,
          1.3012214455577815,
          0.646135608035112,
          1.4024485010916985,
          1.337465772243147,
          0.6444845742023243,
          1.434969674417491,
          0.1259575197216655,
          1.0058324724480023,
          0.562010246109716,
          0.7536515106982216,
          0.9480616119580944,
          1.2045972060116656,
          1.0772839206401434,
          0.4094227473198762,
          0.7263671369280451,
          0.7898314040490422,
          1.1896432283709928,
          1.4395050881729623,
          0.9065719583152646,
          1.3447235436754204,
          1.0972088865201093,
          1.301103880409208,
          1.5126915967049048,
          0.4133094555558942,
          0.5226508034941274,
          0.9558787900645296,
          0.9414515642765908,
          1.4888209153022638,
          1.149799699154881,
          0.7551678263061494,
          0.92223544347904,
          1.0479434380538182,
          1.41597758438821,
          1.0447530024155325,
          0.3829499066077675,
          0.9510566812003676,
          1.1116547232428515,
          0.726766700193572,
          1.0733008331313891,
          1.2394561464884413,
          0.8573072020932344,
          0.8942715892326665,
          0.5904955114022522,
          0.8685986724004857,
          0.9963110713118852,
          1.2559528810393654,
          0.1396311997826303,
          0.3908913483607044,
          1.061492295088622,
          0.8834751305142935,
          1.0352860636820085,
          0.773006006274214,
          0.5114484822822264,
          0.6340093827020526,
          0.888521518854953,
          1.0114729727912926,
          1.259575598845076,
          0.645149500913451,
          0.3205793303903,
          1.049346324098514,
          1.1442976824018591,
          1.3400936005466733,
          1.385016905020567,
          1.2615620311330362,
          1.2693024150764962,
          0.9640113982359836,
          0.9634095844016152,
          1.4359762265082263,
          0.2118866400616736,
          1.078264630760758,
          1.071330586395781,
          0.8244997987214385,
          0.8550842935230627,
          0.4577857245175146,
          0.9791616728517152,
          0.6680833242106364,
          0.9385174647313738,
          1.4341357538544095,
          0.6167166201112414,
          0.4081806177299074,
          0.9720561537800856,
          0.5852339021522532,
          1.651031979547109,
          1.44537049789961,
          1.1052154325309689,
          1.2276370345739012,
          1.2301221954430857,
          0.6841742638117669,
          0.7388954072649073,
          0.8428714874389468,
          0.932393422659652,
          0.8698085654308926,
          0.8558858308799283,
          0.91446982336001,
          0.6813548702817825,
          0.365729261283281,
          1.3072101616590606,
          1.363601101606679,
          1.5856323212906518,
          1.1069357581304315,
          0.6277526561747524,
          0.4493409887626077,
          0.8484700413356769,
          1.135417557803359,
          0.9229617937985036,
          0.912153921285469,
          1.3070171914742004,
          0.5746423665449772,
          0.6632310326600815,
          0.7272746969142165,
          1.4055546868382984,
          0.4620524017627757,
          1.316471389848475,
          0.8831066967126004,
          0.8694679031356608,
          1.0018319781291327,
          0.921782028390286,
          0.9755352317558224,
          1.2056899676739854,
          0.711734180427769,
          0.8250749193887043,
          0.6241142464028828,
          0.7685871945373215,
          0.7544251089420672,
          1.320522311012987,
          0.6185925294341501,
          0.479352951752239,
          1.5062678749933578,
          1.2395196368040131,
          0.6393059296104108,
          0.9109940293590728,
          1.510818416302459,
          1.221408135236824,
          0.7734318174880758,
          1.069768477398561,
          2.0747992130974207,
          0.96058595482893,
          0.8793052045216797,
          1.6539516517758566,
          0.4212032123320983,
          0.3880912565331276,
          1.037072629078004,
          0.8944687375874121,
          0.8256220272529331,
          1.2088761215402166,
          1.1510444141274088,
          0.8978540638110392,
          0.7957802202029173,
          1.2388316342190837,
          1.2267682278961536,
          1.107925772127743,
          0.9469362012858948,
          1.3712981979689596,
          1.094631085919865,
          1.5035677298023782,
          0.8384006917168347,
          1.4446089590778186,
          1.0134893455729177,
          1.4434037991733428,
          1.5599311128835391,
          1.4488096278031963,
          1.1226324446790932,
          1.1910986495981817,
          0.9987405216318302,
          1.1966101841571557,
          0.6682593529714237,
          1.0581124749383997,
          0.799137468372215,
          0.9287058402663476,
          0.9415068304451149,
          1.6322781258751775,
          1.4409647192812332,
          0.639728448490235,
          1.4408686955945065,
          0.8755935495436408,
          1.231403494123256,
          0.7649889679357705,
          1.0953234951145354,
          1.5561598117041238,
          0.253774898898549,
          1.105177077005238,
          0.5242745001807088,
          0.9848035881148736,
          1.2838917774400431,
          1.0142241179216078,
          0.5773259595360234,
          0.8569123055389518,
          0.9724766976972444,
          0.864736009661614,
          1.5057577739841397,
          0.9542664581770092,
          0.5932814662752283,
          1.5098255030583665,
          1.5319418493686678,
          1.3680205251009954,
          0.8827783433368203,
          1.5404858663641323,
          1.1331855838414888,
          0.999813102301466,
          0.7818735989598823,
          0.6712668648510546,
          1.6127703675801277,
          0.7882441921687081,
          1.3122419179829476,
          1.1598914243278389,
          0.6131432898856891,
          0.6070089829250134,
          1.2409279791456491,
          0.7120532720191756,
          1.142762520261677,
          0.8343470689992402,
          1.2972396642838413,
          0.7446827272317779,
          1.60088129089374,
          0.499451816717181,
          0.5086615634970658,
          1.192353786018418,
          1.4847876229763926,
          1.5161834775765124,
          1.3372726088091438,
          0.5632635444685322,
          0.5545173852390126,
          0.1902783382207342,
          1.4090052489048333,
          0.9976688150050208,
          1.230452675101906,
          0.7891624518141188,
          1.4805153066658812,
          1.774876219866296,
          1.1549536836197816,
          0.9495156507734812,
          0.979075767572257,
          0.552543080071922,
          1.1909797726100682,
          0.9856513168452772,
          1.160689279937429,
          1.4744764560505492,
          1.1198434058516211,
          1.0099518682436983,
          0.6546509890739458,
          1.1841605042100605,
          0.8229891981767049,
          0.7145032226511969,
          0.8866416333879085,
          1.0055647152224545,
          0.9056305558160748,
          0.9429650571673888,
          0.6037334086706302,
          0.9840673713141224,
          1.0588388795818282,
          0.9335623438897538,
          1.3134607585931242,
          1.292857401524725,
          0.1887232260123056,
          1.4604829457299444,
          1.0697949368727062,
          1.1480662095894576,
          0.7947176557788322,
          0.5577197525375623,
          0.674356276738859,
          1.4758257047386134,
          1.3146808428600067,
          1.6269833711567154,
          1.0834550608218618,
          1.259824177853583,
          1.147932990221769,
          1.2439847619482347,
          0.6070424205445816,
          1.4900404862503662,
          1.3386396250610846,
          1.216944108159857,
          0.4698626023065356,
          1.091731071236714,
          1.2062257892206811,
          1.1329705532893688,
          0.534354395546318,
          0.7052459741552028,
          0.6570761930496862,
          1.54698301313242,
          1.0459700602431747,
          1.0197987714999557,
          0.5485837590086512,
          1.3195931714692244,
          1.2680940879741436,
          0.8567997041876937,
          0.8353420270623713,
          1.1651240196631274,
          0.6302420621834902,
          0.4958780026555691,
          0.8326736534855872,
          1.8292664341235787,
          0.3400516503982866,
          1.2325761140155274,
          1.571918920707407,
          0.9136434500927836,
          1.2692482620557022,
          1.206491536957267,
          0.6173240288053313,
          1.090661266597737,
          1.2645181714808282,
          0.7915447575106003,
          0.8695278503282977,
          1.537914935952408,
          0.8242604090003377,
          0.949789394774558,
          0.7705177062461054,
          1.2277606410217572,
          1.4424766552332065,
          1.069445729314802,
          1.1909343632825906,
          0.9392261811202914,
          1.520592242015132,
          0.9031597863930666,
          0.3331524061393455,
          1.127128129647708,
          0.9789298463573116,
          0.3788730861874409,
          0.6375162846292675,
          1.1446678714584158,
          1.0054605301129678,
          1.359775259436074,
          1.1607021894870715,
          0.830256338415704,
          1.2511350205748288,
          0.3840603518621254,
          1.219052569668052,
          0.7223254429908348,
          1.122353790779825,
          1.0562377382941617,
          1.1124388181096485,
          1.5372612315573282,
          0.955477860127825,
          1.5148606370456212,
          0.7697765628234886,
          0.9081393778015274,
          1.4257208732244488,
          1.206061012972327,
          1.1954594510066825,
          1.1615595705168218,
          0.4270518377987834,
          1.342501152995625,
          1.2045399990812256,
          0.9722077247580612,
          0.9145547572636032,
          0.6444332099925096,
          1.4624462833007197,
          1.8687967522876976,
          0.8861226944904517,
          1.270461135054094,
          1.1994603752016173,
          0.82292534028123,
          1.4078028478250226,
          1.0578249907499957,
          1.2389806875314129,
          1.258869989720331,
          1.5900478488738694,
          1.4201415859042863,
          0.8735133874859947,
          0.7040442534511283,
          1.6652557766667162,
          0.7667378995204844,
          0.6956900243561264,
          0.9553693978120384,
          0.9173972946272312,
          1.7337572611556993,
          1.0968109810680278,
          0.8995708374235388,
          0.6248195644439792,
          1.197215742545916,
          0.847243395298396,
          0.6835122096540803,
          1.321679491329921,
          1.2012861538566957,
          1.4006553855707409,
          0.4459945330080394,
          1.065958482260835,
          1.0907924634133432,
          1.3465862659077064,
          0.7991487973552717,
          0.7915156615836416,
          1.367035027389533,
          0.664117916607186,
          1.0364918086850503,
          0.8649401446526043,
          0.8333847602953971,
          1.180621669630867,
          1.1393185301913016,
          0.1745658180849213,
          1.1450017649357669,
          0.726184299961234,
          0.4813140411983293,
          0.8721832181946874,
          0.3967009435798104,
          0.8542676032552847,
          1.1477579965209703,
          1.0476518118740248,
          1.0302625534406609,
          1.2057327492262553,
          1.1128320811562489,
          0.6920780281332604,
          0.7469667367162789,
          1.1005272665203252,
          1.001702733183044,
          0.9635196272427046,
          1.969373789367772,
          0.6041504424107392,
          0.9206288406199812,
          0.6809487881973839,
          0.8847288833758983,
          0.6336284091487809,
          0.969556677716674,
          1.0476464111561878,
          1.417496243579537,
          0.8778102064609935,
          0.597006768883734,
          0.645388025959317,
          0.8537090959934515,
          0.7003012480792363,
          1.0090604626082278,
          0.996309975504483,
          1.0124135898552298,
          1.289420083371597,
          1.2149416254468368,
          0.6885860200373167,
          1.2627418680146472,
          2.0383496836656607,
          0.2098507919489379,
          1.6848743767853154,
          0.7770378405461368,
          1.5957866361061526,
          1.3686088051167302,
          0.903382305062856,
          0.876482311651446,
          0.8113435886926305,
          0.9481949625949672,
          0.3394740323713153,
          1.1493547173291796,
          1.378634900389572,
          1.094385138280716,
          0.892356400013104,
          1.008373689586013,
          1.1695972748114305,
          0.9579284703451734,
          1.47375979019313,
          0.8250090059219364,
          0.6294245351236951,
          0.5852764541314909,
          1.3111461986109243,
          1.0128648716528654,
          0.5083260500066954,
          0.8693537832793471,
          0.4616247050882699,
          0.9521885031322244,
          0.9867004464377264,
          1.0765536628564631,
          1.0641011998530063,
          1.5073912591692484,
          0.7130476331318809,
          0.5182402450847639,
          0.5814826287363244,
          0.8132104677726716,
          1.030223250276239,
          1.2579583117325843,
          1.0847105974086166,
          0.9431660243393436,
          1.1932618818372054,
          0.5067619493208646,
          0.9823278775780788,
          1.0236069430227737,
          1.23362170473614,
          1.1782597472408676,
          0.4894541042287746,
          1.0397225788706788,
          1.063181339450996,
          1.0908899062915784,
          1.858355868004091,
          1.0187624357032077,
          1.1419774236767588,
          0.8956333474383869,
          1.0962520391335764,
          1.0745174848023105,
          0.7181413448634644,
          0.5989556814542933,
          0.4499161533881964,
          0.7523703905323441,
          0.9977636842388652,
          0.5337420019989,
          0.8124150731084949,
          1.1495295708149569,
          0.5412553693920465,
          1.0322806291307156,
          0.8854942894346607,
          0.5419092064180726,
          1.2803120870379374,
          1.00417166031313,
          0.9078210786264,
          1.3621972753562948,
          0.51807254568538,
          0.9857736969288258,
          1.1644945842454717,
          1.1283579084930269,
          0.9811085496498382,
          0.6384699228672822,
          0.7315637417997596,
          1.2979665076441442,
          0.8958846364245152,
          0.7144746733342858,
          0.7308462990468466,
          1.080218427881505,
          0.8915564426542731,
          0.5825055434072866,
          1.2291213983257954,
          0.8116340075159711,
          1.0951054756849803,
          1.1965481553282378,
          1.5844538662171852,
          1.0956350843024747,
          1.126585257151082,
          0.4982021144688056,
          0.8320995272641706,
          1.1270135933633878,
          0.9264881036785164,
          1.2612917257529612,
          1.1677827773722966,
          0.7860658093219013,
          1.144264068622401,
          1.0105919584755652,
          1.0641018214494835,
          1.044921081934014,
          0.6169300169681384,
          1.3880970216894504,
          1.232997954567265,
          1.2319388155528168,
          0.9953782610325408,
          1.056626054665679,
          1.4224624477398302,
          0.4206901057452742,
          0.8841295695617652,
          0.7667882552683061,
          0.6963985653079707,
          1.3018025645448688,
          0.9704450432131608,
          1.0579006104567616,
          0.9147242471339264,
          0.6647649555906255,
          0.7809204433904038,
          1.0837753417694849,
          1.144576759840484,
          1.5148810251293388,
          0.4759360887783723,
          0.9736630093474192,
          0.8569100301036238,
          1.2172319329434245,
          1.1319077412627416,
          1.4872418998191188,
          0.9868276484169672,
          1.3293291115428725,
          0.8293574999692598,
          0.4402766572779261,
          1.0212908789360489,
          1.30558658146154,
          1.2519526133835228,
          0.6024975208298495,
          1.6484223311084067,
          1.008797349557797,
          1.03096627578763,
          1.0679787490718382,
          1.433364008497263,
          0.827150921721007,
          1.2703602029572068,
          0.7297543430613848,
          1.0985588174063203,
          0.2699185101667026,
          1.4460256498607094,
          0.7298549748953846,
          0.7675521196538909,
          1.237917556598466,
          0.7040651286245916,
          0.6162795236841764,
          1.7142400598171388,
          1.101453404847607,
          1.0475876041531302,
          0.9726834577645088,
          1.214373360838536,
          1.160903187446516,
          0.9221447587656636,
          1.01663184458367,
          1.1069737806069515,
          0.675335706845036,
          0.9698055086408331,
          1.3311464123782302,
          1.080536533031206,
          1.2266858351223295,
          0.9128773168210672,
          0.7607877088572688,
          1.1170157063738837,
          0.7324526444713172,
          1.015554462568601,
          0.9447311365923372,
          0.8620169227020078,
          0.6257345366414958,
          0.4738395533729192,
          1.5348552792812076,
          1.3468010649943871,
          1.0909775621307105,
          0.6744455568137703,
          0.2398119097274748,
          0.7748101523627692,
          1.547166377849663,
          1.2923761492302503,
          0.6849916661202577,
          0.72557544270148,
          1.038715590463608,
          0.4047221127412374,
          0.925363959682093,
          0.9482814178979662,
          0.4053250923252179,
          0.8111785446516638,
          1.634786155519232,
          1.3308162154382837,
          0.5802884897043474,
          1.0946478074880177,
          0.7719622162630594,
          0.8142287255861164,
          1.0228783067840288,
          1.2373444166511822,
          0.7036878406807913,
          0.6237172401684831,
          0.939240374695069,
          0.6890283781137148,
          1.0438887491717952,
          1.027007155002631,
          0.6767027841100315,
          0.7720735317176788,
          0.7988187257964436,
          1.122663375395089,
          0.6583858089205823,
          1.477071998939493,
          1.3653920732964615,
          1.0082966812059797,
          0.8833141445123045,
          0.6318387845648314,
          1.1921761608615564,
          1.718058095618145,
          0.8013300034813423,
          1.047709880253193,
          0.2824228034599456,
          1.2630161433068792,
          0.7068783491695724,
          0.9032453728381964,
          0.5488868119600044,
          1.0288883619662947,
          0.9676497732269752,
          0.7403442586557745,
          1.4175932399538824,
          0.9542325318711152,
          0.9463207072579608,
          1.291860168004272,
          1.5901258120220887,
          0.6913080648644854,
          0.6817961266435005,
          1.1485093936685162,
          1.4118592792937557,
          0.676551606573814,
          0.97955296251324,
          0.8480569769609723,
          0.8320204465785138,
          1.383122839876149,
          1.21002065563723,
          1.7949005552870494,
          1.4372289610594715,
          0.7465987599409248,
          0.916649799549233,
          1.420184227496487,
          0.9527472879011232,
          1.0327805642556762,
          1.1319255027895092,
          0.7378043165229081,
          0.7610053778688891,
          1.331329965780785,
          1.0855669656575306,
          0.6962314037856451,
          0.9937526286700692,
          1.0550268964484488,
          0.973088693494858,
          1.1579390455511884,
          1.0539912544712264,
          0.8660306999443556,
          0.9956691470910616,
          0.6132307762830621,
          0.9816501524714194,
          0.5794394920440388,
          1.1337560681177576,
          1.5214700913754209,
          1.1534686061269872,
          0.6975248638718009,
          0.5221675446168493,
          0.5593798478212243,
          1.131488584236615,
          1.065933010511854,
          1.55097712965426,
          0.9096840518432528,
          1.2578578719119349,
          0.5364530705297655,
          1.057003768392702,
          0.7981378572232001,
          1.3155492630248489,
          0.861265315776004,
          1.105744169260906,
          1.1636919486746418,
          1.7142029999034272,
          0.0709190108412046,
          1.680081068238521,
          1.1440148822386371,
          1.454232459994646,
          0.403073245288147,
          1.3754460169069525,
          0.6704062095082896,
          1.1710378978696123,
          0.8789177736895749,
          2.0624979600002984,
          1.4859164809432002,
          0.9208881363290335,
          0.9904259230306044,
          1.5356914026846544,
          1.2988271603085266,
          0.9322588959626577,
          1.148145391700798,
          1.2102141284142671,
          0.9764607079749456,
          0.8169594518387513,
          1.0508090355236626,
          0.8905862114318566,
          1.5297162193634046,
          0.209073429450468,
          1.2990725749559096,
          0.979760533182223,
          0.8125774614866293,
          0.6750369270581484,
          0.8680559083768465,
          0.6379416071031497,
          0.7508023877819824,
          0.7402256753591625,
          1.1059968900680937,
          0.4438606920683271,
          0.8016726305959537,
          1.2308523323953204,
          0.3953879327287585,
          0.8824417107664057,
          1.014349842650758,
          1.3937103923697305,
          1.3718854876298,
          0.9857860251258924,
          1.050333567199,
          0.7257735446184495,
          1.09059619488096,
          1.6133900095121034,
          0.871157348468063,
          0.5904034365347779,
          1.4506756319719278,
          1.2015666280807162,
          0.5760881831822272,
          1.2657306788111693,
          1.3381024288314949,
          0.6950828561026526,
          1.1542829652293731,
          0.6766203844170684,
          1.56167259414106,
          0.600937649351439,
          0.8856187030935802,
          1.3998115518905212,
          0.83996083430276,
          0.936842133503979,
          0.7739497929519151,
          1.0351782732610333,
          0.5929569428266517,
          1.2201846908184568,
          1.513215024223796,
          1.3826275921944478,
          1.133944372032907,
          0.6469433452675017,
          0.9689152637826792,
          1.0342550130996278,
          0.6249173025326427,
          1.6190838819891042,
          0.8454034436469606,
          1.3149152930301795,
          0.5456853012996822,
          0.8193787791600169,
          0.925270487489694,
          0.9521630144071024,
          1.3430505208626593,
          0.675187248854336,
          1.179176076302935,
          1.5363314459717297,
          1.4755685306793904,
          0.7589824367150731,
          1.2955171529965137,
          0.5462390884374568,
          1.3246477248926791,
          1.2885338113131404,
          0.9000277574459871,
          1.7168388970754564,
          1.1162616066604196,
          1.3911110953174035,
          1.5650179188283315,
          0.950275771526952,
          1.1766164056534856,
          0.4821805728002229,
          1.2162967490275491,
          0.8328243304951309,
          0.9467252418946212,
          1.4531973365778563,
          0.5208818425340715,
          1.353345758412311,
          0.7024819962323553,
          0.8149133513836693,
          1.1536026592838682,
          1.026027275094627,
          1.7669247458306174,
          1.0869415608699924,
          0.7414256036904734,
          0.8193686057940525,
          0.5885171408459577,
          0.9123373964271578,
          1.147750597955015,
          0.8732590813669573,
          1.2466402830684638,
          1.15077610035087,
          0.5138582537343965,
          0.9659526505527772,
          0.9871787701456168,
          0.824911600681817,
          1.3808302684090472,
          0.6006852906464885,
          0.1305918430122612,
          0.5597221518659382,
          0.8336716010842695,
          1.3212713037192985,
          1.8469238452077177,
          1.238925752438727,
          1.2002589964395944,
          0.9781380726087464,
          0.8611559843230036,
          0.6292558772576934,
          1.0931256760278394,
          0.5813970771249299,
          1.112221533302039,
          1.591776494951883,
          0.3925858181545625,
          1.0518431134377817,
          0.8491166509565464,
          0.4921494638672501,
          1.3863786237600142,
          1.7731642665839993,
          0.9353487559006416,
          0.985178817770043,
          0.3028349201168402,
          1.4211172991061525,
          1.6681263839264209,
          0.6176183885840955,
          0.9613072144696212,
          0.4492817838960813,
          1.0728931931969918,
          1.4080039666117523,
          1.041999459294439,
          1.3169357170760505,
          1.3171166530595686,
          0.64781466166878,
          1.4343357910371148,
          1.4538899173793862,
          0.7603250646182717,
          0.7552930571271828,
          1.2807000286580543,
          0.8068678621590166,
          1.0854574274337316,
          1.181675924006192,
          0.6908223098675018,
          1.571410647587631,
          0.7226336263894484,
          0.8178142592524076,
          0.9106274724412422,
          0.8113609285071017,
          0.4896414563566749,
          0.9159012774251688,
          1.2111903312341767,
          0.4207610069911552,
          1.2152818247979744,
          1.399925451864836,
          0.9537814528053592,
          0.8661569099367202,
          1.0567796703914172,
          0.9189082583567868,
          0.9771448974908604,
          1.1455933357502706,
          0.55603470280282,
          1.203358496960501,
          1.8276940194350308,
          1.3095890489803896,
          0.6121562408973991,
          1.139081823854528,
          1.5949212829876622,
          1.1103619168925898,
          1.002157307889093,
          1.5667287555928726,
          0.765869026066692,
          1.0704313920969526,
          1.3777465654772714,
          1.3515938497304072,
          1.0449376168443465,
          0.6948663691577082,
          0.4460180209350782,
          0.8798225187400174,
          1.0361436588258213,
          1.165688642428802,
          0.8920575713371259,
          1.0775364439961463,
          0.5945149686009296,
          1.0159601063195896,
          1.1463451038204264,
          1.0549557569780428,
          1.087058551577927,
          1.1828518160099717,
          0.4688676585881044,
          0.6056329162615989,
          0.8976186071801171,
          1.0788184295118486,
          1.096566176710126,
          1.5722597210706253,
          1.2232662154380525,
          1.1977501773603192,
          0.7773500467732704,
          1.4333504054030497,
          1.4112733087748075,
          1.091209298961835,
          1.7339982556412523,
          1.571423656531873,
          0.7129155521132344,
          0.6538524381752894,
          1.519437206149047,
          1.099176869718859,
          0.6343357241331233,
          1.0202893923950818,
          0.5933066186790206,
          0.9279178669667224,
          1.2127060320665544,
          0.713511151687922,
          1.261161274674601,
          0.710187980383179,
          0.8309694445896855,
          1.44423593629682,
          1.1694445822092008,
          1.2000151716613252,
          0.8400300492194303,
          1.1915575509073058,
          0.8492005451929374,
          0.985924165791077,
          0.7527632460911176,
          1.0395883352948505,
          0.4084283009114396,
          0.9795173458222354,
          0.8208768612937803,
          0.996083330734683,
          1.0485834047965978,
          0.8713695069933618,
          0.9658837827678636,
          1.1316900922194424,
          1.2981291571896958,
          0.9940934455000292,
          1.156597653504965,
          0.9151878840428436,
          1.5034269589120437,
          0.7696642483740046,
          0.8962711511752174,
          0.9086605493645794,
          0.7179710808957674,
          1.2743654570053244,
          1.3196924102657237,
          0.6549971636421267,
          1.5791674680013912,
          1.0147475325874715,
          1.509840953055391,
          0.8797967399953123,
          1.0314156833698658,
          1.5921473946219795,
          1.5133499723935275,
          1.0108545788829073,
          0.7747338622429706,
          0.6630335463177184,
          0.9566987697952766,
          0.4991602886179154,
          1.503189676347026,
          1.3572788653989192,
          0.7805939135840835,
          0.8653080880959206,
          1.3100764258157047,
          1.4357455990317085,
          0.5901972533561497,
          1.2395880068400351,
          1.1044962831970275,
          1.228188456098698,
          1.7911676585014034,
          1.2331150118629537,
          1.590516010990717,
          1.0817476675962894,
          0.5938238146246602,
          1.3065078919037445,
          1.3412152336609031,
          1.1234377783447296,
          1.0429813426644283,
          0.9649448565382908,
          0.4217178016218894,
          1.061739004783013,
          1.2340270674035534,
          1.1587228857363092,
          1.2417584989596755,
          0.5316008890729672,
          1.3827579358092454,
          0.8273436886462062,
          1.0071009169544287,
          1.3347069272638086,
          0.7989914196555321,
          1.145124738578675,
          0.7691602261136183,
          1.2795487531960184,
          0.7295010208596521,
          0.614925821993922,
          1.061594655082233,
          0.6278384232854809,
          1.1041955526425704,
          0.6516118847852632,
          0.6830664595201141,
          0.6191505114844631,
          0.851518917448821,
          0.9260241537368348,
          1.2122931951902545,
          0.8848051182317196,
          0.9228920048223266,
          0.6667042691038839,
          1.2624981108495343,
          1.6934823657586675,
          1.2645827916510433,
          0.8488853032208499,
          1.017399123161339,
          0.728289131746028,
          1.2980097038431788,
          1.4748822922986142,
          0.9221410482414216,
          0.847416990167773,
          1.1473449972738448,
          1.2637871520068111,
          1.5024793147714746,
          0.9229151174931308,
          1.070464645808573,
          1.3526318798824826,
          0.883679188558356,
          0.9357645855696854,
          1.4391646448268196,
          1.1037473376483125,
          1.1312914343787277,
          1.6390801969610844,
          1.053745172053172,
          1.0525038234362645,
          1.3900310570620191,
          1.3099956806538544,
          0.7662923351694283,
          0.4331098052647811,
          0.4225776738244827,
          0.7501667943140876,
          1.4351986622971376,
          0.849142365890179,
          1.0547636603569726,
          0.8115380757433481,
          1.6033302562189131,
          0.7672378793267823,
          1.1705717923438137,
          1.0607787408195906,
          1.1370708434244523,
          0.9963616261470044,
          1.390542311799697,
          0.977204763822028,
          1.1926162922391346,
          0.970054316863756,
          0.6873279423758087,
          0.9868960436651892,
          1.353369864512235,
          1.7338413455103852,
          0.4643716442321248,
          0.7782109481566216,
          0.819657189471253,
          0.6091884905148096,
          0.9362804270819488,
          1.0470381716192063,
          1.4506220457658934,
          0.3915796921341883,
          0.9111981573930008,
          0.812955382894696,
          0.7314512575604586,
          0.6233822766943834,
          1.259538012657943,
          1.473549106486351,
          1.6625373043513183,
          0.9454165380588933,
          1.4467479355183628,
          0.8877410788717015,
          1.0075021997175075,
          1.2276089466500508,
          0.6681992983737781,
          0.7232132928668626,
          1.4275844885372715,
          0.432636923286037,
          1.376367373683257,
          0.9867590768155046,
          1.4744820488639694,
          0.5811226183061874,
          0.8773084351693006,
          1.7471809794987307,
          0.6866188681803277,
          0.5890354691830837,
          1.2969454404616956,
          1.2314758887170998,
          0.6475484018423879,
          1.545550362588796,
          0.7220861954653963,
          1.4280621315929916,
          1.148517818914939,
          1.5382799942166083,
          0.823809602709772,
          0.5288241546677876,
          1.2847196032421837,
          1.207396707600495,
          1.3458772905129404,
          0.7818087285458242,
          1.2625194706945115,
          1.0229249613514395,
          1.1572407121919062,
          1.3981672991357774,
          0.8593451731262189,
          1.150006659933207,
          0.7873633311355249,
          1.2244600268840853,
          1.012590250421853,
          0.6979236361600065,
          0.9591892121348384,
          0.7227950585147072,
          0.8200399117959056,
          0.9550687746764912,
          1.1221134539429434,
          0.5014700939172819,
          1.2776447322458917,
          1.022041587346011,
          0.7067985268657314,
          0.9771814657743804,
          0.3854705640648779,
          0.2561931319802551,
          0.6066804475494044,
          1.4094335910660527,
          0.5702218311349033,
          1.406461412274333,
          1.7402018702843425,
          1.2499140334159486,
          0.6789216682451508,
          0.9574851475198608,
          1.7007123995675877,
          1.5771442108284124,
          1.7786786461619224,
          0.689122434021696,
          1.669775205093977,
          1.4948250794828322,
          0.8744331407465047,
          0.2646851330445742,
          0.7010462576852657,
          1.2347292383136277,
          1.2571264255704913,
          0.7223439682194084,
          0.9429092343743531,
          0.7720579209909811,
          1.14609683106092,
          0.6685002868026015,
          1.1723688788087472,
          0.1826550868861691,
          1.158056138400796,
          0.854514645975215,
          0.5489606308028779,
          1.3041649488210216,
          0.5370814635426354,
          1.553480761200529,
          0.734489753490054,
          1.6189227930176684,
          0.6822032971897793,
          0.7990212180978684,
          0.7881338549327268,
          1.3197751584403676,
          0.8995839139320455,
          1.6014496039973745,
          1.0088631641708083,
          1.2113958496566366,
          1.0798823652392229,
          0.7858014530375764,
          1.1160024797827233,
          1.418590909048064,
          1.2426044862981047,
          1.3425610400691144,
          1.187423451866774,
          1.27443193705504,
          1.013213204341222,
          0.9888244402888776,
          0.5968457823349982,
          1.4476409972655693,
          0.7563559251406918,
          0.9067141094920852,
          1.4222232295441828,
          1.030517913184293,
          1.185931962109371,
          1.084932666078983,
          0.9545959841082602,
          1.2586069625554286,
          1.4891664760830443,
          0.8343576878273726,
          1.2631385276678522,
          1.2574991836891274,
          0.8638693160304621,
          0.7367208207782106,
          0.5606992250697598,
          0.7977659640851246,
          1.0082789414466025,
          0.9176722041634746,
          1.3317650133062835,
          0.8610938524865631,
          1.1731937314259395,
          0.6309986279462549,
          0.8667877703305339,
          1.177652761853466,
          1.253742592308254,
          0.9879556477031736,
          1.6032951351845526,
          1.224935082854047,
          0.7396831344145889,
          1.0082137444756345,
          1.3929188475817358,
          0.6097709962120588,
          1.62410157362444,
          0.9057960388497304,
          0.7584803550944695,
          0.8104127244048162,
          0.2620486429927883,
          1.3754306578422353,
          0,
          1.2569986510448428,
          0.5509799310817065,
          0.6598969593282809,
          1.609358105269989,
          0.6571299351214698,
          1.3108286613423512,
          0.950331722213544,
          1.5984237932321057,
          1.1122483427145775,
          1.0210369563848511,
          1.6850050172846331,
          0.7982850267457944,
          1.5196144726620164,
          0.5033585329407401,
          1.2265702618844063,
          1.9459908499893523,
          0.9882902524141616,
          0.8277358495819926,
          0.5032319394571826,
          1.1405621436508306,
          1.0018959651398762,
          1.559731272461849,
          0.5074185166150603,
          1.188492456415818,
          0.6173898214673365,
          0.6339670473224305,
          1.1905898201904908,
          0.9489138236386432,
          1.422658025217011,
          0.9906004962304886,
          0.8991947766162026,
          1.1079309765491718,
          1.3110341824740464,
          1.8533554852695489,
          1.0485806314342183,
          1.0111124112579648,
          1.2411489867198635,
          0.6231269047882471,
          0.0405326731954639,
          0.7016635524898813,
          1.1981007174192495,
          1.1376200227835411,
          0.6717481208848397,
          1.7953422849499538,
          0.9839301216628054,
          1.2841863940891,
          0.6363329278966173,
          0.9440833350242188,
          1.7493166587325562,
          1.7901631744395443,
          0.7791813181703894,
          0.648528824181317,
          0.5274802040362696,
          0.5195263296508501,
          1.7012121203418176,
          0.7702714946861409,
          1.25821171962953,
          0.9191673116820116,
          1.621563204490522,
          0.99179956548562,
          1.2158012918820695,
          0.5845515636235081,
          1.4543177233918878,
          0.6878282650733757,
          0.567329819200858,
          0.5624688375029956,
          1.6884761422426564,
          1.3488821121033256,
          0.6310606425353233,
          1.113085349886622,
          1.2279587827542675,
          1.695318136649751,
          0.9214034497914247,
          1.253319936756871,
          0.6166067153126649,
          1.1548925577885103,
          0.9555063147729506,
          1.227740024997022,
          0,
          0.934723845845542,
          1.1454604682911371,
          1.3570426549214043,
          0.721243970464004,
          0.8114922904242817,
          1.1632453934068656,
          1.2031290170144764,
          1.2246985789231597,
          1.2981159048265636,
          1.1020282200041556,
          1.4715792439182924,
          1.0519751588375976,
          0.9511552552929846,
          0.8869936629001145,
          1.2619550201307064,
          1.160042191285919,
          1.4987726038864502,
          1.0038004893006955,
          0.6848982683936828,
          0.8493990797612658,
          1.3696004378506712,
          1.2010298254805218,
          1.1325324069062814,
          1.82978150601787,
          1.1832693572227273,
          1.131958778085903,
          1.0312120837555174,
          1.0080637592355897,
          1.8590201793768104,
          1.2123276149784168,
          1.3266194660659902,
          1.3973782089732676,
          1.785568648249768,
          0.977754264774726,
          0.9378991427750688,
          0.80515166152314,
          1.8023462593685475,
          0.1100240648510844,
          0.97177666424061,
          0.5392994167590479,
          1.0422924903958626,
          1.0789071813910938,
          1.250314977544316,
          0.9748397123325772,
          1.247805162771892,
          0.5021689195783787,
          1.1765634741998237,
          0.9648084315813557,
          0.7801341024959056,
          0.7726073423618602,
          0.8306101889428932,
          1.135674068965275,
          1.059989988230491,
          1.038839116159922,
          0.8024048788831031,
          1.1672629276649429,
          1.8647697641050545,
          1.0223669637558976,
          1.1967690076143118,
          0.2968899902624586,
          1.310669285326015,
          0.8466753156634598,
          0.2804102034939738,
          0.8915428982412724,
          0.0219747811972473,
          0,
          1.0992745579275218,
          0.7998872365737476,
          0.6812497409881735,
          1.555982005129256,
          0.5748591332965199,
          0.5324750471212272,
          1.1895292102696309,
          1.2480346994758182,
          1.691295693964867,
          0.5107670735033547,
          1.198238653660118,
          1.0936691674500616,
          0.8439688106174327,
          1.4234123448180571,
          1.6118815708672098,
          1.0267352761435935,
          1.2758313372076382,
          1.7451013629170713,
          1.0667399974460243,
          1.010847985738022,
          0.9681567841973402,
          1.032555445093431,
          1.3476840944433914,
          1.0659220505723763,
          0.4328425407283364,
          0.7258660455298414,
          0.4302767315770029,
          0,
          0.5632303826035351,
          1.2190812971678544,
          1.2855989369609948,
          0.1656211531880496,
          1.0475943545110933,
          0.6750347182428085,
          0.8186862451291835,
          1.3297325493002254,
          1.5119605303711732,
          0.6880512999650705,
          0.5628667218079875,
          1.5812499835146705,
          0.9442665226359092,
          0.7715641436341059,
          1.4411927526928672,
          1.0989302556462242,
          0.8260825040153579,
          0.9568598191529618,
          1.565043867804718,
          1.0280715889646284,
          1.3982252547343603,
          1.141412199557415,
          1.1144760505683602,
          1.4178780357628866,
          0.0692643892570552,
          1.3475660940615717,
          0.8991550530042494,
          1.7716613709682023,
          1.674096195141925,
          1.155288822833174,
          0.6774757162797737,
          0.6035469438913086,
          1.4358695362685352,
          1.2531910378418123,
          0.6371807224202509,
          1.4746151251095037,
          0,
          1.2296951784951369,
          1.0622554046111157,
          0.6907344995860456,
          0.8736199022317097,
          0.666803068892789,
          0.795292797134675,
          1.5567653051734442,
          0.5874909728828911,
          1.290852830077429,
          1.2945129382768426,
          1.1242323880633145,
          0.7188177760063157,
          0.4300878831806446,
          1.3558481478903786,
          1.1627357229826172,
          1.452854374732251,
          0.5316095926047845,
          0.8769096883241575,
          1.136556821395389,
          0.8644962001847558,
          0.5322992111488933,
          0.8041727911425414,
          0.6057845781537072,
          1.667128105343939,
          1.5082764036438057,
          0.781268016968503,
          0.9573508487204538,
          0.5779897817484907,
          1.4359698846273643,
          1.1605173018496855,
          0.8894669862862086,
          1.3687407507777,
          0.4900502523264983,
          0.5537731881673288,
          1.4380510156483262,
          1.2920707521212402,
          0.8450266620580322,
          0.8191388134362171,
          0.9319776794464596,
          1.3780109758407657,
          0.9740903101025058,
          1.514336266595845,
          0.7644662695987081,
          0.6439737468838347,
          0.2022354230054641,
          1.1045640945275588,
          1.42940942038241,
          1.2442654151160084,
          1.3014291415800283,
          1.1260087566672172,
          0.7711949038564747,
          1.751188168653313,
          0.5436987095858392,
          1.3503838359533156,
          0.6063786807425542,
          1.4700808275048922,
          0.7305834912146196,
          1.921133056805726,
          0.0780369898412365,
          0.2137134996946628,
          1.2222832196679048,
          1.251099972345164,
          0.7225344875889002,
          1.1829904582623598,
          1.0798538241071127,
          0.2395074773545683,
          0.5017685336096674,
          0.9338953463497586,
          1.1524764034789818,
          1.0295257086701244,
          1.073358832152267,
          0.4639895449458758,
          1.6303446531435573,
          1.4761563889057088,
          1.5470342502339112,
          1.1635909363446968,
          0.8812134416005245,
          0.7504749270530878,
          1.1681297531683577,
          1.7536052768555457,
          0.3609945536660466,
          1.0930575191943104,
          0.8393909073826548,
          0.5442147429676871,
          0.7337481003050849,
          0.4363724486498302,
          1.0924176362870974,
          0.5439168273673813,
          1.4396002451272032,
          0.64369856479498,
          0.9640906426930924,
          0.8970407876570732,
          1.0607887840182253,
          1.4386919589629397,
          1.0699013902807746,
          1.151413311516042,
          1.082829106517368,
          1.3665244479308778,
          1.1459882763505689,
          1.1888486676094103,
          0.8786029526044107,
          0.9634806777674862,
          0,
          1.2683029453189374,
          0.8302900723192005,
          0.7803032474668996,
          1.7361335354982252,
          1.0084175845080827,
          1.1673949992011292,
          0.7982900366673875,
          1.3454984502056495,
          1.7807204251197029,
          1.9744841953685492,
          1.176798843368323,
          0.6507332789094242,
          0.8763197679586456,
          0.8719804715824647,
          0.7498046630781985,
          0.903027999268273,
          0.1511172588860976,
          1.7728416325806442,
          1.0690513914151307,
          1.78122125965497,
          0.8539422619130381,
          0.6056210200326836,
          0.8090470397449818,
          0.7546327022480537,
          1.08407115657095,
          1.3498000656999962,
          1.1567677669622232,
          1.2414084880971714,
          1.2845144778724065,
          0,
          0.73777061512478,
          0.537063091531636,
          1.1882676466773427,
          1.41477989774335,
          1.3725557849338674,
          1.846835744063546,
          1.1164067791220504,
          1.214331018853987,
          0.601362220997142,
          0.7085246386417702,
          0.536119537230295,
          1.4721208693944514,
          0.8908199435539625,
          1.0226315827195036,
          1.2103103372179524,
          0.8968111182667956,
          1.3073129736129598,
          0.587869709354168,
          1.4281632165665996,
          0.9598389770949666,
          0.4326991391285676,
          0.8026168824173574,
          0.9893874326912836,
          1.1058797103855145,
          1.0842020084328063,
          0.957013959611384,
          1.7142052495339644,
          0.8373128590997858,
          0.4107300025059178,
          1.57347142401249,
          0.2933102938038966,
          1.2641916376271392,
          1.3618428009776338,
          0.9241963215206246,
          1.74895286251974,
          0,
          1.569240716254661,
          0.8133579977659047,
          1.188516190926228,
          1.2182763642129142,
          1.7677695290097488,
          0.9702558605700072,
          0.6124129329232599,
          1.2881181500157552,
          0.8660659604819998,
          0.561601133964748,
          1.1895316000537015,
          0.8652938760012846,
          1.2539731720210692,
          0,
          1.1475500295216303,
          0.7079755995358189,
          1.769369178533669,
          1.2978374636296972,
          1.0850297796567072,
          1.2132415480440628,
          0.7863658871868668,
          1.3799713112969887,
          0.9023454662130914,
          1.1728785899104897,
          0.4050397136785865,
          1.1741184463532328,
          1.3296890938078776,
          0.9514362912132664,
          1.0457086536023337,
          0.8939837821504666,
          0.2801165293453189,
          0.951204312343,
          0.8281421914426117,
          1.2906624936329425,
          1.2128939868328987,
          1.3422090522332948,
          0.6867523604929586,
          0.4677534929007497,
          0.4648930013942303,
          1.8266169613716456,
          1.489930724896669,
          1.5128868253124623,
          0.9684130196640478,
          0.5132661168412426,
          0.5720713423284994,
          0.8516581979665483,
          0.4040486634713379,
          0.7655381686886324,
          1.5747489824572196,
          0.4700283160615254,
          0.6234866173492375,
          0.8435215065583016,
          1.6642412817985297,
          0.861473474665916,
          0.8672616617520219,
          0.878113459826557,
          0.4931474268669715,
          1.449892499822704,
          0.9282731754488512,
          1.0118208106350537,
          0.6725585190754959,
          0.7923180004789815,
          1.3932455571761229,
          0.7264264647179468,
          0.4834624383371713,
          0.623316362575992,
          0.4977522557063307,
          0.9746819627009724,
          0.9569961853198204,
          1.2169841865193658,
          1.0442240971943548,
          1.4614275910876389,
          0.8715200158170482,
          1.0882384711608788,
          0.9375153671668532,
          0.4385228876828018,
          0.8614591342589455,
          1.7042655637043236,
          1.0817080971061823,
          0.7728496568583235,
          1.144509064165259,
          0.6420899547492855,
          1.1349321161038342,
          0.808774080328923,
          0.6702736608409424,
          1.1561146659825012,
          0.9023167930681512,
          1.417489657173198,
          0.701410644951636,
          0.9420656822933238,
          0.4536970093164283,
          1.434445938315403,
          0.6354153921068659,
          0.7892250702477821,
          1.0083329687410143,
          0.7180469609611657,
          0.4326446315966971,
          0.9561889509056704,
          0.5840097329992723,
          0.7154653093450267,
          0.6927637443309103,
          0.8544217726772982,
          0.9721047594398522,
          1.1534710874849547,
          0.3133790783051838,
          0.6694644301220048,
          2.0493337287323263,
          0.8404476660460475,
          0.4955156604899448,
          0.454323453025379,
          1.4305787118803543,
          1.2655404542442508,
          1.6191721464066162,
          1.393049838137982,
          0.8617998852599265,
          1.1086488226622435,
          0.4019177916787259,
          1.2973351745673627,
          0.8684221474329574,
          0.8406103652947742,
          1.143484782761372,
          1.0173713797793105,
          0.3222713731124553,
          1.1697538318159657,
          0.7161984569465993,
          0.7197326726384226,
          0.820044716079915,
          0.7520452035883018,
          0.5046967342259556,
          0.6390002278967172,
          0.8160299212458793,
          0.6322704760460531,
          0.2647515993080102,
          1.6538949149571658,
          0.811646939696742,
          1.131798583092134,
          0.9869631457672452,
          1.0596997061004618,
          1.270626831711907,
          1.3358766495783383,
          0.8705308063799999,
          0.5910138832744898,
          1.1633123560464047,
          0.4721429646867158,
          0.8759400747929191,
          0.8555213712241695,
          1.2864942428948396,
          0.4719580016615728,
          1.4560821987039805,
          1.205849914590564,
          0.6262208958228694,
          1.2799205665777431,
          0.2881976049555133,
          0.0257333783163179,
          0.3373249771795717,
          1.6046768099132471,
          0.7688002792866507,
          1.2038441272472618,
          0.918581039120356,
          1.6142449061770694,
          0.3113763893335954,
          0.7532991886651512,
          1.4964880511187868,
          0.8402398044416788,
          1.1207569341214871,
          1.6415509039342446,
          1.4249450177696448,
          1.2475613266509522,
          1.7039850266536192,
          1.520243640069879,
          1.2041528717843994,
          0.5402148909339693,
          0.9207670576139606,
          0.923726448184632,
          1.5252846822822708,
          0.9117828415514232,
          0.5999708137374883,
          1.939907317803775,
          1.430575944693524,
          1.1730426163506298,
          1.5927178374347442,
          1.217472489463991,
          0.9415347330484722,
          0.5749615760006508,
          0.7324144903637256,
          2.0914237550318626,
          0.5168122335645279,
          0.3977602464638876,
          0.686033063003409,
          2.0925667831138184,
          1.9704606914953424,
          1.1226080488801866,
          0.5225281470350127,
          0.9955163064328512,
          0.731780960120632,
          0.6328127370095494,
          1.3943287131824822,
          0.4746835069370196,
          1.0102389071210252,
          1.0115520925214114,
          0.9118554884672696,
          1.227782546602984,
          0.6340886222351605,
          1.1822343010331633,
          1.332151551374703,
          0.7345609683221694,
          0.7079346274853384,
          1.447956621042787
         ],
         "y0": " ",
         "yaxis": "y"
        }
       ],
       "layout": {
        "boxmode": "group",
        "legend": {
         "tracegroupgap": 0
        },
        "template": {
         "data": {
          "bar": [
           {
            "error_x": {
             "color": "#2a3f5f"
            },
            "error_y": {
             "color": "#2a3f5f"
            },
            "marker": {
             "line": {
              "color": "white",
              "width": 0.5
             },
             "pattern": {
              "fillmode": "overlay",
              "size": 10,
              "solidity": 0.2
             }
            },
            "type": "bar"
           }
          ],
          "barpolar": [
           {
            "marker": {
             "line": {
              "color": "white",
              "width": 0.5
             },
             "pattern": {
              "fillmode": "overlay",
              "size": 10,
              "solidity": 0.2
             }
            },
            "type": "barpolar"
           }
          ],
          "box": [
           {
            "boxpoints": "outliers",
            "notched": false,
            "type": "box"
           }
          ],
          "carpet": [
           {
            "aaxis": {
             "endlinecolor": "#2a3f5f",
             "gridcolor": "#C8D4E3",
             "linecolor": "#C8D4E3",
             "minorgridcolor": "#C8D4E3",
             "startlinecolor": "#2a3f5f"
            },
            "baxis": {
             "endlinecolor": "#2a3f5f",
             "gridcolor": "#C8D4E3",
             "linecolor": "#C8D4E3",
             "minorgridcolor": "#C8D4E3",
             "startlinecolor": "#2a3f5f"
            },
            "type": "carpet"
           }
          ],
          "choropleth": [
           {
            "colorbar": {
             "outlinewidth": 0,
             "ticks": ""
            },
            "type": "choropleth"
           }
          ],
          "contour": [
           {
            "colorbar": {
             "outlinewidth": 0,
             "ticks": ""
            },
            "colorscale": [
             [
              0,
              "#0d0887"
             ],
             [
              0.1111111111111111,
              "#46039f"
             ],
             [
              0.2222222222222222,
              "#7201a8"
             ],
             [
              0.3333333333333333,
              "#9c179e"
             ],
             [
              0.4444444444444444,
              "#bd3786"
             ],
             [
              0.5555555555555556,
              "#d8576b"
             ],
             [
              0.6666666666666666,
              "#ed7953"
             ],
             [
              0.7777777777777778,
              "#fb9f3a"
             ],
             [
              0.8888888888888888,
              "#fdca26"
             ],
             [
              1,
              "#f0f921"
             ]
            ],
            "type": "contour"
           }
          ],
          "contourcarpet": [
           {
            "colorbar": {
             "outlinewidth": 0,
             "ticks": ""
            },
            "type": "contourcarpet"
           }
          ],
          "heatmap": [
           {
            "colorbar": {
             "outlinewidth": 0,
             "ticks": ""
            },
            "colorscale": [
             [
              0,
              "#0d0887"
             ],
             [
              0.1111111111111111,
              "#46039f"
             ],
             [
              0.2222222222222222,
              "#7201a8"
             ],
             [
              0.3333333333333333,
              "#9c179e"
             ],
             [
              0.4444444444444444,
              "#bd3786"
             ],
             [
              0.5555555555555556,
              "#d8576b"
             ],
             [
              0.6666666666666666,
              "#ed7953"
             ],
             [
              0.7777777777777778,
              "#fb9f3a"
             ],
             [
              0.8888888888888888,
              "#fdca26"
             ],
             [
              1,
              "#f0f921"
             ]
            ],
            "type": "heatmap"
           }
          ],
          "heatmapgl": [
           {
            "colorbar": {
             "outlinewidth": 0,
             "ticks": ""
            },
            "colorscale": [
             [
              0,
              "#0d0887"
             ],
             [
              0.1111111111111111,
              "#46039f"
             ],
             [
              0.2222222222222222,
              "#7201a8"
             ],
             [
              0.3333333333333333,
              "#9c179e"
             ],
             [
              0.4444444444444444,
              "#bd3786"
             ],
             [
              0.5555555555555556,
              "#d8576b"
             ],
             [
              0.6666666666666666,
              "#ed7953"
             ],
             [
              0.7777777777777778,
              "#fb9f3a"
             ],
             [
              0.8888888888888888,
              "#fdca26"
             ],
             [
              1,
              "#f0f921"
             ]
            ],
            "type": "heatmapgl"
           }
          ],
          "histogram": [
           {
            "marker": {
             "line": {
              "width": 1
             },
             "pattern": {
              "fillmode": "overlay",
              "size": 10,
              "solidity": 0.2
             }
            },
            "type": "histogram"
           }
          ],
          "histogram2d": [
           {
            "colorbar": {
             "outlinewidth": 0,
             "ticks": ""
            },
            "colorscale": [
             [
              0,
              "#0d0887"
             ],
             [
              0.1111111111111111,
              "#46039f"
             ],
             [
              0.2222222222222222,
              "#7201a8"
             ],
             [
              0.3333333333333333,
              "#9c179e"
             ],
             [
              0.4444444444444444,
              "#bd3786"
             ],
             [
              0.5555555555555556,
              "#d8576b"
             ],
             [
              0.6666666666666666,
              "#ed7953"
             ],
             [
              0.7777777777777778,
              "#fb9f3a"
             ],
             [
              0.8888888888888888,
              "#fdca26"
             ],
             [
              1,
              "#f0f921"
             ]
            ],
            "type": "histogram2d"
           }
          ],
          "histogram2dcontour": [
           {
            "colorbar": {
             "outlinewidth": 0,
             "ticks": ""
            },
            "colorscale": [
             [
              0,
              "#0d0887"
             ],
             [
              0.1111111111111111,
              "#46039f"
             ],
             [
              0.2222222222222222,
              "#7201a8"
             ],
             [
              0.3333333333333333,
              "#9c179e"
             ],
             [
              0.4444444444444444,
              "#bd3786"
             ],
             [
              0.5555555555555556,
              "#d8576b"
             ],
             [
              0.6666666666666666,
              "#ed7953"
             ],
             [
              0.7777777777777778,
              "#fb9f3a"
             ],
             [
              0.8888888888888888,
              "#fdca26"
             ],
             [
              1,
              "#f0f921"
             ]
            ],
            "type": "histogram2dcontour"
           }
          ],
          "mesh3d": [
           {
            "colorbar": {
             "outlinewidth": 0,
             "ticks": ""
            },
            "type": "mesh3d"
           }
          ],
          "parcoords": [
           {
            "line": {
             "colorbar": {
              "outlinewidth": 0,
              "ticks": ""
             }
            },
            "type": "parcoords"
           }
          ],
          "pie": [
           {
            "automargin": true,
            "type": "pie"
           }
          ],
          "scatter": [
           {
            "fillpattern": {
             "fillmode": "overlay",
             "size": 10,
             "solidity": 0.2
            },
            "marker": {
             "opacity": 0.8
            },
            "type": "scatter"
           }
          ],
          "scatter3d": [
           {
            "line": {
             "colorbar": {
              "outlinewidth": 0,
              "ticks": ""
             }
            },
            "marker": {
             "colorbar": {
              "outlinewidth": 0,
              "ticks": ""
             },
             "opacity": 0.8
            },
            "type": "scatter3d"
           }
          ],
          "scattercarpet": [
           {
            "marker": {
             "colorbar": {
              "outlinewidth": 0,
              "ticks": ""
             }
            },
            "type": "scattercarpet"
           }
          ],
          "scattergeo": [
           {
            "marker": {
             "colorbar": {
              "outlinewidth": 0,
              "ticks": ""
             }
            },
            "type": "scattergeo"
           }
          ],
          "scattergl": [
           {
            "marker": {
             "colorbar": {
              "outlinewidth": 0,
              "ticks": ""
             }
            },
            "type": "scattergl"
           }
          ],
          "scattermapbox": [
           {
            "marker": {
             "colorbar": {
              "outlinewidth": 0,
              "ticks": ""
             }
            },
            "type": "scattermapbox"
           }
          ],
          "scatterpolar": [
           {
            "marker": {
             "colorbar": {
              "outlinewidth": 0,
              "ticks": ""
             }
            },
            "type": "scatterpolar"
           }
          ],
          "scatterpolargl": [
           {
            "marker": {
             "colorbar": {
              "outlinewidth": 0,
              "ticks": ""
             }
            },
            "type": "scatterpolargl"
           }
          ],
          "scatterternary": [
           {
            "marker": {
             "colorbar": {
              "outlinewidth": 0,
              "ticks": ""
             }
            },
            "type": "scatterternary"
           }
          ],
          "surface": [
           {
            "colorbar": {
             "outlinewidth": 0,
             "ticks": ""
            },
            "colorscale": [
             [
              0,
              "#0d0887"
             ],
             [
              0.1111111111111111,
              "#46039f"
             ],
             [
              0.2222222222222222,
              "#7201a8"
             ],
             [
              0.3333333333333333,
              "#9c179e"
             ],
             [
              0.4444444444444444,
              "#bd3786"
             ],
             [
              0.5555555555555556,
              "#d8576b"
             ],
             [
              0.6666666666666666,
              "#ed7953"
             ],
             [
              0.7777777777777778,
              "#fb9f3a"
             ],
             [
              0.8888888888888888,
              "#fdca26"
             ],
             [
              1,
              "#f0f921"
             ]
            ],
            "type": "surface"
           }
          ],
          "table": [
           {
            "cells": {
             "fill": {
              "color": "#EBF0F8"
             },
             "line": {
              "color": "white"
             }
            },
            "header": {
             "fill": {
              "color": "#C8D4E3"
             },
             "line": {
              "color": "white"
             }
            },
            "type": "table"
           }
          ]
         },
         "layout": {
          "annotationdefaults": {
           "arrowcolor": "#2a3f5f",
           "arrowhead": 0,
           "arrowwidth": 1
          },
          "autotypenumbers": "strict",
          "coloraxis": {
           "colorbar": {
            "outlinewidth": 0,
            "ticks": ""
           }
          },
          "colorscale": {
           "diverging": [
            [
             0,
             "#8e0152"
            ],
            [
             0.1,
             "#c51b7d"
            ],
            [
             0.2,
             "#de77ae"
            ],
            [
             0.3,
             "#f1b6da"
            ],
            [
             0.4,
             "#fde0ef"
            ],
            [
             0.5,
             "#f7f7f7"
            ],
            [
             0.6,
             "#e6f5d0"
            ],
            [
             0.7,
             "#b8e186"
            ],
            [
             0.8,
             "#7fbc41"
            ],
            [
             0.9,
             "#4d9221"
            ],
            [
             1,
             "#276419"
            ]
           ],
           "sequential": [
            [
             0,
             "#0d0887"
            ],
            [
             0.1111111111111111,
             "#46039f"
            ],
            [
             0.2222222222222222,
             "#7201a8"
            ],
            [
             0.3333333333333333,
             "#9c179e"
            ],
            [
             0.4444444444444444,
             "#bd3786"
            ],
            [
             0.5555555555555556,
             "#d8576b"
            ],
            [
             0.6666666666666666,
             "#ed7953"
            ],
            [
             0.7777777777777778,
             "#fb9f3a"
            ],
            [
             0.8888888888888888,
             "#fdca26"
            ],
            [
             1,
             "#f0f921"
            ]
           ],
           "sequentialminus": [
            [
             0,
             "#0d0887"
            ],
            [
             0.1111111111111111,
             "#46039f"
            ],
            [
             0.2222222222222222,
             "#7201a8"
            ],
            [
             0.3333333333333333,
             "#9c179e"
            ],
            [
             0.4444444444444444,
             "#bd3786"
            ],
            [
             0.5555555555555556,
             "#d8576b"
            ],
            [
             0.6666666666666666,
             "#ed7953"
            ],
            [
             0.7777777777777778,
             "#fb9f3a"
            ],
            [
             0.8888888888888888,
             "#fdca26"
            ],
            [
             1,
             "#f0f921"
            ]
           ]
          },
          "colorway": [
           "#636efa",
           "#EF553B",
           "#00cc96",
           "#ab63fa",
           "#FFA15A",
           "#19d3f3",
           "#FF6692",
           "#B6E880",
           "#FF97FF",
           "#FECB52"
          ],
          "font": {
           "color": "#2a3f5f"
          },
          "geo": {
           "bgcolor": "white",
           "lakecolor": "white",
           "landcolor": "white",
           "showlakes": true,
           "showland": true,
           "subunitcolor": "#C8D4E3"
          },
          "height": 400,
          "hoverlabel": {
           "align": "left"
          },
          "hovermode": "closest",
          "mapbox": {
           "style": "light"
          },
          "margin": {
           "b": 2,
           "l": 2,
           "r": 2,
           "t": 30
          },
          "paper_bgcolor": "white",
          "plot_bgcolor": "white",
          "polar": {
           "angularaxis": {
            "gridcolor": "#EBF0F8",
            "linecolor": "#EBF0F8",
            "ticks": ""
           },
           "bgcolor": "white",
           "radialaxis": {
            "gridcolor": "#EBF0F8",
            "linecolor": "#EBF0F8",
            "ticks": ""
           }
          },
          "scene": {
           "camera": {
            "eye": {
             "x": 1.5,
             "y": 1.5,
             "z": 0.1
            }
           },
           "xaxis": {
            "backgroundcolor": "white",
            "gridcolor": "#DFE8F3",
            "gridwidth": 2,
            "linecolor": "#EBF0F8",
            "showbackground": true,
            "ticks": "",
            "zerolinecolor": "#EBF0F8"
           },
           "yaxis": {
            "backgroundcolor": "white",
            "gridcolor": "#DFE8F3",
            "gridwidth": 2,
            "linecolor": "#EBF0F8",
            "showbackground": true,
            "ticks": "",
            "zerolinecolor": "#EBF0F8"
           },
           "zaxis": {
            "backgroundcolor": "white",
            "gridcolor": "#DFE8F3",
            "gridwidth": 2,
            "linecolor": "#EBF0F8",
            "showbackground": true,
            "ticks": "",
            "zerolinecolor": "#EBF0F8"
           }
          },
          "shapedefaults": {
           "line": {
            "color": "#2a3f5f"
           }
          },
          "ternary": {
           "aaxis": {
            "gridcolor": "#DFE8F3",
            "linecolor": "#A2B1C6",
            "ticks": ""
           },
           "baxis": {
            "gridcolor": "#DFE8F3",
            "linecolor": "#A2B1C6",
            "ticks": ""
           },
           "bgcolor": "white",
           "caxis": {
            "gridcolor": "#DFE8F3",
            "linecolor": "#A2B1C6",
            "ticks": ""
           }
          },
          "title": {
           "x": 0.5
          },
          "xaxis": {
           "automargin": true,
           "gridcolor": "#EBF0F8",
           "linecolor": "#EBF0F8",
           "linewidth": 2,
           "showline": true,
           "ticks": "",
           "title": {
            "standoff": 15
           },
           "zerolinecolor": "#EBF0F8",
           "zerolinewidth": 2
          },
          "yaxis": {
           "automargin": true,
           "gridcolor": "#EBF0F8",
           "linecolor": "#EBF0F8",
           "linewidth": 2,
           "showline": true,
           "ticks": "",
           "title": {
            "standoff": 15
           },
           "zerolinecolor": "#EBF0F8",
           "zerolinewidth": 2
          }
         }
        },
        "title": {
         "text": "Boxplot of \"roughness\" feature"
        },
        "xaxis": {
         "anchor": "y",
         "domain": [
          0,
          1
         ]
        },
        "yaxis": {
         "anchor": "x",
         "domain": [
          0,
          1
         ],
         "title": {
          "text": "roughness"
         }
        }
       }
      }
     },
     "metadata": {},
     "output_type": "display_data"
    }
   ],
   "source": [
    "graphing.box_and_whisker(dataset, label_y=\"roughness\", title='Boxplot of \"roughness\" feature')"
   ]
  },
  {
   "cell_type": "code",
   "execution_count": 6,
   "metadata": {},
   "outputs": [
    {
     "data": {
      "application/vnd.plotly.v1+json": {
       "config": {
        "plotlyServerURL": "https://plot.ly"
       },
       "data": [
        {
         "alignmentgroup": "True",
         "hovertemplate": "motion=%{y}<extra></extra>",
         "legendgroup": "",
         "marker": {
          "color": "#636efa"
         },
         "name": "",
         "notched": false,
         "offsetgroup": "",
         "orientation": "v",
         "showlegend": false,
         "type": "box",
         "x0": " ",
         "xaxis": "x",
         "y": [
          0.0542900544929671,
          0,
          1.3804635008592865,
          0.6505280835177842,
          0,
          0,
          0.4347850361805965,
          0,
          0,
          0.7157715511805192,
          0.3635948249537353,
          0.5172947735670992,
          0.5628049298916118,
          0,
          0.6977920405887552,
          0,
          0.5151126194175074,
          0.0302318813759077,
          0,
          0.7978875974128501,
          0.0356566694383086,
          0,
          0.3642808021560564,
          0,
          0.5795400276750692,
          1.028299207419939,
          0.2824961826715745,
          0.1931139028105448,
          0.6920900332932244,
          0.281392784413188,
          0,
          0.0207468618358148,
          0.7779961284492878,
          0,
          0.2779142963712916,
          0,
          0,
          0,
          0.7010852871134752,
          0,
          0,
          0.1043217699276248,
          0.7215573542396987,
          0.0639452434298592,
          0.2642209648369085,
          0.3668526878326745,
          0,
          0.1463897970897722,
          0.4446756765018303,
          0,
          0,
          0,
          0,
          0.6719525429802632,
          0,
          0.0378459418795327,
          0.4188802970289352,
          0.2072548473687983,
          0,
          0.1076028913546121,
          0,
          0.4128404074933481,
          0.3963649565543947,
          0.8995620764119872,
          0.7407792822532688,
          0.0939061002909258,
          0.6198547935064147,
          0.8467590675584574,
          0.5792692902204046,
          0,
          0.0286957348625483,
          0.2022397619466399,
          0.4255275364015708,
          0.8779008858015217,
          1.304267986873244,
          0.0505447305804157,
          0.2985168212820598,
          0.7457403856542327,
          0.1237306568650485,
          0,
          0.856700690518627,
          0,
          0.0043837428647814,
          0.1542135960074067,
          0.6079319943107018,
          0.4543444646873535,
          0.5905186191241578,
          0.0643611469322002,
          0.3823576637137188,
          0.2723343553136861,
          0,
          0.3497434946849143,
          0,
          0.6076131273993326,
          0,
          0.321678976401948,
          0,
          0.4247434006524829,
          0.9763678028859996,
          0.6074383211380794,
          0,
          0,
          0.0548228370597227,
          0.0962533292452529,
          0.2200819259331896,
          0.5664873107419117,
          0.0969220760775351,
          0,
          0.4617996406888939,
          0.7882888321300675,
          0.7984872170452231,
          0.1832530855527535,
          0.1848943321706064,
          0.928395452236866,
          1.024802999602679,
          0.3531559862176884,
          0.6807773568410427,
          0.6686720799320811,
          0.0066305295826608,
          0,
          0,
          0.1879864672255297,
          0.7911068002872529,
          0.0172076548984699,
          0,
          0,
          0,
          0.0161397385127546,
          0.0304470334983875,
          0,
          0.7669641437742537,
          0.7868273427889674,
          0.1544530424881316,
          0.3726936985185595,
          0,
          0.1727670820410793,
          0,
          0,
          0.0224941492664033,
          0.1191524585409583,
          0,
          0,
          1.7058310632352558,
          0.1730032693597607,
          0.2983794561935414,
          0.5004053378406359,
          0.345056665576554,
          0.3274791334714335,
          0,
          0,
          1.0467125069602228,
          0.0162310459959805,
          0,
          0.4461709337346594,
          0.5473217789439068,
          0.0775975938195193,
          0,
          0,
          0,
          0.1314135014660104,
          0.5103803235910178,
          0.2300448403357111,
          0.3770657947232539,
          0.2483292854195281,
          0.1246688416782872,
          0,
          0.0741239015102063,
          0,
          0,
          0.1318164989674694,
          0.5508599553202406,
          0.9102149454584711,
          0,
          0.515811172399148,
          1.175231472577262,
          0,
          1.0161594282465314,
          0,
          0.5268987080994594,
          1.6820519588493723,
          0.5642069355126569,
          0.7145049029390305,
          0.1246116173775274,
          0,
          0.4161492278829444,
          0.0291336101747021,
          0.3516446272675398,
          0.0372888790674913,
          0,
          0.1744762660109056,
          0.0542828892978438,
          0,
          0,
          0.3438734932690663,
          0.2241195839326362,
          0,
          0.4416289905031052,
          0,
          0,
          0.3102273437050764,
          0,
          0.296032961862303,
          0.0733110079485279,
          0.2172027677111413,
          0.7017333985351958,
          0.8468941846419995,
          0.8690423286013801,
          0.8567660268238853,
          0,
          0,
          0.4806643824165618,
          0,
          0,
          0,
          0,
          0,
          1.0882353325444016,
          0,
          0.4951258403360278,
          0.2433931159811131,
          0.2466351907899614,
          0,
          0.2251063946993939,
          0,
          0,
          0,
          0.2983388601570824,
          0.4175088515853119,
          0,
          0.7694345491383481,
          0.4821441794485343,
          0,
          0,
          0.015426447386114,
          0.0614458717734887,
          0,
          1.308052884381472,
          0,
          0,
          0,
          0.0990523731109913,
          0,
          0.1947346258091208,
          0,
          0.1952391924428839,
          0.5031524376894756,
          0,
          0.4983692775674415,
          0.2196565788898738,
          0,
          0.7946512232077458,
          0,
          0,
          0.5433099084922947,
          0.1263642836009042,
          0.4738941443559215,
          0,
          1.1862054876853263,
          0,
          0.1667330653854613,
          0.2617347962400626,
          0,
          0.518043220773621,
          0.1102194651594506,
          0.6243395949653981,
          0,
          0,
          0,
          0,
          0.8295453268050296,
          0.6086877059722813,
          0.513888655054665,
          0.5493273026883403,
          0,
          0.7761446831952513,
          0.2161535223695208,
          0,
          0,
          0.0281394084413375,
          0.5229264027487811,
          0.824472282977358,
          0.318181484040504,
          0.438913914522047,
          0.0275118857118318,
          0,
          0.3300991382416416,
          0.7205655399555162,
          0,
          0.6047577746320055,
          0.2490401284018427,
          0,
          0,
          0.2547087598760893,
          0.0398901832509987,
          0.110919268637457,
          0.6432455264404614,
          0.9164848398286825,
          0,
          0.9503364164594308,
          0,
          0,
          0,
          0.232124766828652,
          0,
          0,
          0.2321200803278203,
          0.2988273497691472,
          0.0298191239883951,
          0.7916760765925193,
          0.7833511669936533,
          0.6972008311947332,
          0.4873117345874448,
          0.0337702769143483,
          0,
          0,
          0,
          0.286469203454496,
          0.1224503377882313,
          0.4767739725050677,
          0,
          0.190475874621532,
          0.3770181974728016,
          0,
          0.4164891807160041,
          0.6125387184122731,
          0,
          1.0804350174130375,
          0.0652309484434887,
          0.4263571329679174,
          0.715624446203998,
          0.010914913261476,
          0,
          0.5182907800894299,
          0.0085003621197354,
          0,
          0,
          0,
          0.1529649330187739,
          0,
          0.1845683747603119,
          0.7070419694523887,
          0.3295191427559955,
          1.3777404313244457,
          0,
          0.1991512305753738,
          1.2716268287456534,
          0.6619413725647239,
          0.0252706974042284,
          0,
          0,
          0,
          0.2107564681458879,
          0,
          0,
          0.2238570811929809,
          0.0699083262081422,
          0.184571763099184,
          0,
          0.0981402258980783,
          0.2259141715445412,
          0,
          0.6425368850175819,
          0,
          0,
          0.7603199678449453,
          0.476117178052,
          0.1195912299628314,
          0.5153453637259878,
          0,
          0.0154539234388898,
          0.3644133142836114,
          0.3166078611145378,
          0,
          0,
          0,
          1.3110315271152737,
          0,
          0.690016113446454,
          0.8893062740984672,
          1.4134538302306896,
          0.5071614030720524,
          0.0921563727686956,
          1.1978785014109412,
          0.5968273218699777,
          0.2358983419924114,
          0,
          0,
          0.2561694580037353,
          0,
          0.5820509705494797,
          0.3050544746932704,
          0.1734778823678981,
          0.4510355431003129,
          0,
          0.6681132301808049,
          0.4914185927043024,
          1.3233589197106923,
          0.0299519977439232,
          0,
          0.593626321062559,
          1.142954733610354,
          1.001582169437612,
          0.068172506940908,
          0,
          0.3801571609182,
          0,
          0,
          0.0504868732306116,
          1.049047480695934,
          0.2758648790775492,
          0.1818282751586186,
          0,
          0,
          0,
          0.31609730251212,
          0,
          0.3715329924989256,
          0.8248129059418177,
          1.3335251347508517,
          0,
          0.5259192026915078,
          0,
          0.5272908014006729,
          0.4529498643830466,
          0,
          0.5427188651334686,
          0,
          0,
          0,
          0.1610733232904292,
          0.0790541994481058,
          0.5112421837560688,
          0.1255342289726225,
          0.0057861607837161,
          0.8741465626742804,
          0,
          0.1713305334253332,
          1.0119109676956606,
          0.3119516585759676,
          0.2084651392367649,
          0,
          0.6568680324810938,
          1.153794729570946,
          0.5422605716356171,
          0.0660289658884035,
          0,
          0.1535089698568503,
          0.5528702238739458,
          0.0923152859143399,
          0.0729222725591618,
          0.3756281072411819,
          0.1170182916029972,
          0.682653334743362,
          0,
          0,
          0.3301259626276854,
          0.4644160655071868,
          0,
          0.2390727948683588,
          0,
          0,
          0,
          0.2852221900967759,
          0.6786043285544935,
          0.4024384738111101,
          0,
          0.7307739171197678,
          0.5658208734957179,
          0.2577729206440711,
          0,
          0,
          0.4414508423299339,
          0.3651995487401754,
          0,
          0.9296520458369664,
          1.1648662069870404,
          0.0342167415378106,
          0.215065882307863,
          0.746779644385299,
          0.8813288403641522,
          0,
          0,
          0.1653068230069925,
          0.5203148903107151,
          0.3272450181106158,
          0,
          1.2141747593290375,
          0,
          0,
          0,
          0,
          0,
          0.0245801310823087,
          0,
          1.1141449105590824,
          0.4075002300024201,
          0.9460197352143668,
          0.1431798147764952,
          0,
          0,
          0.1399323909095797,
          0,
          0,
          0.341414131593382,
          0,
          0,
          0.5599086140367955,
          0.6439010799424829,
          0,
          0,
          0.7319310019695978,
          0,
          0.0470139322955921,
          0.0796466961211317,
          0.4260127731269997,
          0.3730438899691484,
          0.4088859774042265,
          0.6977217051490888,
          0,
          0.3092880951391794,
          0.6544083385996401,
          0.9675257855281724,
          0.4482420228915976,
          0,
          0,
          0.4977365780952288,
          0.338755079761554,
          0,
          0,
          0.5030280975500832,
          0.2189074877277216,
          0.0699846503978458,
          0.0750460239846405,
          0,
          0,
          0,
          0,
          0.0985565270718063,
          0,
          0.1774601298157447,
          0,
          0.4690116907795643,
          0.0208594647995744,
          0,
          0.5163639971918019,
          0.0635301190362295,
          0,
          0.2898571916965921,
          0.2359199401006011,
          0,
          0.2359869640832592,
          0.4947034510752695,
          0.1208356095305722,
          0,
          0,
          0,
          0.523922788480111,
          0.873119701997856,
          0.455880968010781,
          0.0245226048631596,
          0,
          0,
          0.0625050373352983,
          0,
          0,
          0.0325290194982144,
          0.7009877655107655,
          0,
          0.3085673532425722,
          0,
          0,
          0.5616833487117361,
          0,
          0.2151514142989926,
          0.3597745756545549,
          0,
          0.1692181174261192,
          0.8484214255151583,
          0.0829653070176242,
          0.1067122429731069,
          0,
          0,
          0.5832180955121258,
          0.2086041422100471,
          0,
          0,
          0,
          0.3762431410670276,
          0,
          0,
          0,
          0.2892950075519981,
          0.719583594315752,
          0.2988397066026712,
          0,
          0,
          0,
          0.4876632829743745,
          0.4439573926014456,
          0.349794908914088,
          0.8619972197761484,
          0.6365318726223087,
          0,
          0.2803461174028126,
          0.7023585595111198,
          0.8480427919220298,
          0.5032685129145852,
          0,
          0.6314360074741485,
          0,
          0,
          0,
          0,
          0.1782726518648099,
          0.1060526275984305,
          0.4913741849333727,
          0.9083781223531722,
          0,
          0.0117671274479511,
          0.5872420126553639,
          0.4031916641355038,
          0.470026360275651,
          0.6603446770731656,
          0.8203831016674483,
          0.6768703482867714,
          0,
          0.4346394212076918,
          0,
          0.9453206666569526,
          0.4035968356234579,
          0.2127386954229338,
          0.455159060575986,
          0.259151803281454,
          0,
          0,
          0.2846619585947492,
          0,
          0,
          0.1286642396400449,
          0,
          0,
          0.2091334879918055,
          0.1626571702795474,
          0.2752640980890062,
          0,
          1.2101651469692771,
          0,
          0.0515135288371444,
          0,
          0,
          0.3163466669333126,
          0.4235742632585106,
          0,
          0,
          0.1469494368797843,
          0.2059037947123456,
          1.2438150191341557,
          0,
          0,
          0.5865181016685649,
          0,
          0.9233413023513254,
          0,
          1.3413217107899733,
          0.0104230698965817,
          0.135020717766392,
          0.8043719398966641,
          0.3840927374921484,
          0.9957515416268472,
          0.1773016309559431,
          0,
          0,
          0,
          0,
          0.1528188348180519,
          0.2046194321705498,
          0.5427253435682236,
          0.0406835988874553,
          0.5307225109198427,
          0.0597945608931209,
          0,
          0,
          0,
          0,
          0,
          0.1795510838321607,
          0.1194959761207985,
          0,
          0.0392929021119544,
          0,
          0,
          0.085403739143243,
          0.5976744784901451,
          0.4150372404633762,
          0.0699203786764585,
          0,
          0,
          0,
          0.3558838584777687,
          0.4318274017677076,
          0.0984158191843889,
          0.5658877127806582,
          1.015560189560619,
          0.0010020886196012,
          0,
          1.130989626454322,
          0.0894889862135949,
          0,
          0,
          0.3882119325146907,
          0.4650787265028012,
          0,
          0.5152339938721507,
          0.7589349220329494,
          0,
          0.9663286331720043,
          1.4133740557641945,
          0.6687095518327993,
          0,
          0.2483918660557792,
          0.2727061044427123,
          0.0095289612426109,
          0,
          0.199657549982494,
          0.567508563772645,
          0.1101427966064217,
          0.6403387750333499,
          0.5727583331479067,
          0,
          0,
          0,
          0,
          0.8960355670395498,
          0,
          0,
          0.2646704973009658,
          0,
          0,
          0.5304934576442795,
          0.3153587295191901,
          0.3926901379542245,
          0,
          0,
          0,
          0,
          0.5557618751745697,
          0.3838018247497523,
          0.4725602122238421,
          0.3473143514787175,
          0.4846725185256278,
          0,
          0,
          0.4026430427420402,
          0,
          0.3923657169774087,
          0.0126358530786411,
          0.3913345061007957,
          0.3941326223734352,
          0,
          0.0888590259004061,
          0,
          0.1457966023495692,
          1.2775574208216756,
          0.6179481731460832,
          0,
          0.2725891506079226,
          0.0045824121282142,
          0.4027922533421102,
          0.2563273074671722,
          0.3242942356443237,
          0.762778527627058,
          0.7758050084666241,
          0.280975848807949,
          0.7587127332393726,
          0.3610424910083764,
          0.2357822149764813,
          0.1314003363129434,
          0.7300411988795822,
          0.9635637720779198,
          0.3794151475493955,
          0.9222996539888252,
          0.3111682928264827,
          0.3592473401974523,
          0,
          1.296203506775627,
          0,
          0.2820647483535626,
          0.1809027115309793,
          0.5426942835684372,
          0.5397295514231886,
          0.1766113618070988,
          0.8953231654937176,
          0.29020793581161,
          0,
          1.0862876300404551,
          0,
          0.3970218029027282,
          0.0706412385612491,
          0,
          0.3017285279747202,
          0.0427943246750125,
          0.0262695197483056,
          0.0257095317739845,
          0.0016151275827365,
          0.0389773714621026,
          0.0116126212597352,
          0.0441319654340432,
          0.0160818164149848,
          0.0382282414204334,
          0.0137447391511582,
          0.0073007894719284,
          0.0077966709008555,
          0.0039045777606527,
          0.0388670224319943,
          0.0227291083974936,
          0.0138776331157624,
          0.0348846790622312,
          0.0114791877597144,
          0.0014100715162269,
          0.0189146200505546,
          0.0092777419619693,
          0.0022488288111336,
          0.0008462087104238,
          0.0024046297794086,
          0.0141688843387151,
          0.0197909169173911,
          0.0243496837278448,
          0.0350851970192468,
          0.0344541664224578,
          0.0205364991192821,
          0.0310529087274464,
          0.0024527036117852,
          0.0164119880341151,
          0.0008203010255616,
          0.0246936601553683,
          0.0175831759616092,
          0.0438433157180729,
          0.0239542570618475,
          0.0293759747740148,
          0.0203501009537271,
          0.0475425194492578,
          0.0223694855855538,
          0.0264835015082195,
          0.0034921610964053,
          0.0048719088098413,
          0.0466192685472261,
          0.0398263870311776,
          0.0143718409870713,
          0.0051820754466729,
          0.023209370696164,
          0.0070118194708633,
          0.00747551116521,
          0.042785680305741,
          0.0194150184943989,
          0.011739422258348,
          0.0312210844252755,
          0.0112932245727721,
          0.0260391995894387,
          0.0403236578844518,
          0.0361582980154667,
          0.0486997431156124,
          0.0113048261939618,
          0.0454326216059501,
          0.0039770844329234,
          0.0198888917183554,
          0.03042184504282,
          0.0027105117388016,
          0.0483423039169974,
          0.0339334119646343,
          0.0389285647475508,
          0.0496358789798681,
          0.038458634370761,
          0.0163607119586084,
          0.0221383138754375,
          0.0267846031400416,
          0.007227952592329,
          0.04289924958945,
          0.0061356170888892,
          0.0230968080013148,
          0.0203119066504526,
          0.0163003891191542,
          0.03556377446692,
          0.0427933970066012,
          0.0197482747105497,
          0.0131727717704828,
          0.0041438569983352,
          0.0083941922459601,
          0.0350964136958189,
          0.0161455408984343,
          0.0146938474950455,
          0.0256147926378398,
          0.0423172561881409,
          0.0050735835381025,
          0.0276379678801248,
          0.0283077343212852,
          0.0302624195604674,
          0.0143403049589262,
          0.0300663482858986,
          0.0459647377083602,
          0.0077850887894671,
          0.0202969000756424,
          0.0123691305622171,
          0.0248118235089076,
          0.026054819150211,
          0.012159061218791,
          0.0140011789540191,
          0.0159944999121273,
          0.033823254583279,
          0.0285854223189705,
          0.0006880910365494,
          0.0307373442204038,
          0.0492691932904303,
          0.008090221539133,
          0.0332899940001717,
          0.0297364263913937,
          0.0018227017380891,
          0.0025919796553117,
          0.018340628331172,
          0.0424993006300328,
          0.0027495465168821,
          0.0280815934259595,
          0.041942097141527,
          0.0494860836556914,
          0.0025499740846147,
          0.0018626047295213,
          0.0487323348453834,
          0.0450413945901098,
          0.007195286008552,
          0.029929400833455,
          0.0198245988102805,
          0.0087985865165776,
          0.0473046155695484,
          0.0227342402945606,
          0.0039137657740251,
          0.0155232978410826,
          0.0073548955934779,
          0.0197505743409643,
          0.008550851357057,
          0.0321419799427458,
          0.001589236555776,
          0.0099051110654778,
          0.0410520429859495,
          0.0140878031513668,
          0.04370621100355,
          0.0035928764123922,
          0.0471886108656484,
          0.0346207619944868,
          0.0136679189632964,
          0.0375638001114638,
          0.0079254295510516,
          0.0115312508707485,
          0.0176076857533032,
          0.0235016502412922,
          0.015997675354492,
          0.0144898072321482,
          0.0078098508722028,
          0.0487328699592019,
          0.0268682455110565,
          0.021679631548876,
          0.0037701829536856,
          0.0073868174378009,
          0.0484892021016009,
          0.0236883646761195,
          0.0124001426803507,
          0.0468858715566593,
          0.0225344217126776,
          0.0164844400567286,
          0.0024572737709076,
          0.0071680953746866,
          0.0127861184470711,
          0.0474759952843822,
          0.0211872074724076,
          0.0424026178462205,
          0.027546579910969,
          0.0465197344810182,
          0.0339418335853187,
          0.0146087544757511,
          0.0411271911591475,
          0.0379781998495459,
          0.0268394796347907,
          0.0225255809204459,
          0.0458283533719107,
          0.0466399788848821,
          0.0334733445454399,
          0.0158889104703208,
          0.0206903297386159,
          0.0235484422846529,
          0.0312814565966245,
          0.0158103298034046,
          0.0101878352382322,
          0.0026572637664455,
          0.0296808275144629,
          0.0472466204051042,
          0.0152475859553253,
          0.0436071985685508,
          0.0009804155515216,
          0.0065559899948162,
          0.0150272512202554,
          0.0457047189026287,
          0.028422443049722,
          0.0032458333749074,
          0.0271061267845067,
          0.0391595994825041,
          0.0066100176393294,
          0.0228712108757826,
          0.0134432294273669,
          0.0369607217671023,
          0.0230754107018843,
          0.0363904555434311,
          0.0301693042991957,
          0.0230296880020447,
          0.0302383419489358,
          0.0188943969613377,
          0.0494962461434348,
          0.0175645519440541,
          0.0412624197205097,
          0.0459331277872963,
          0.0164601498706034,
          0.0117149019118802,
          0.0273964943397487,
          0.0446226376685313,
          0.0109342670862846,
          0.0378311625798394,
          0.0254313296041707,
          0.0251150054989207,
          0.0128335492161323,
          0.0423009520711314,
          0.0035853542654755,
          0.0417787460461648,
          0.0087124255170882,
          0.0439529749282288,
          0.0116241259181688,
          0.0480355608508825,
          0.0208791004811425,
          0.0198359918315258,
          0.0345629882152762,
          0.0112817395952678,
          0.0037032764694661,
          0.0489045455411883,
          0.0444341591095915,
          0.0300733561699152,
          0.0253201896984769,
          0.0485481492542039,
          0.03312375198991,
          0.0058091289177168,
          0.0190858770045975,
          0.0268706330167481,
          0.0420908811137161,
          0.0190456042247034,
          0.035846670050199,
          0.0421921360442054,
          0.0397806089799275,
          0.0008149877703519,
          0.0198706726617337,
          0.022103621549517,
          0.0268643441804149,
          0.0491517910527318,
          0.0189282467314599,
          0.0126115741569306,
          0.0204497485893898,
          0.0093631204185532,
          0.0364044329651401,
          0.0399836046445863,
          0.0247786451302278,
          0.0343411806676584,
          0.0307802592737401,
          0.0187837692847908,
          0.0273856115928377,
          0.0286404747410612,
          0.0176034023660332,
          0.0223205165692776,
          0.0230116419971927,
          0.0455337058505135,
          0.0360762439177647,
          0.0376309308447213,
          0.0010693153875882,
          0.0248176767333712,
          0.0003052457147192,
          0.0424315936872189,
          0.0480438934297509,
          0.0151469594133034,
          0.0365102507111238,
          0.0306873078689417,
          0.0470858895469671,
          0.0287716998928022,
          0.0250715380201465,
          0.0471407403368472,
          0.012111567756064,
          0.0240221498512307,
          0.004306711781899,
          0.0229175360569677,
          0.0230474399232361,
          0.013552094510287,
          0.0355465049362443,
          0.0237883798136998,
          0.0202665511672529,
          0.0213058740625824,
          0.0330452751900091,
          0.048857492849793,
          0.0196776740849097,
          0.0424676233810001,
          0.0123004527613318,
          0.0264570049609734,
          0.0378597765075017,
          0.0268484127916013,
          0.0447090497714324,
          0.0282704535561098,
          0.0370025304598353,
          0.0329519138325546,
          0.0274164435300912,
          0.0293870074753303,
          0.0389573823316807,
          0.0470268646004272,
          0.0386321457194858,
          0.015539985543085,
          0.0238615686097755,
          0.0271297335039365,
          0.0290797680474512,
          0.0008485458247165,
          0.0104754861248536,
          0.0384684831418423,
          0.0109653258586325,
          0.0472815251192256,
          0.0272494749070184,
          0.0019200399759928,
          0.0440215130787846,
          0.0333639887131127,
          0.0355033219077756,
          0.0323658394244979,
          0.0175507154013584,
          0.011361160909633,
          0.000218594270873,
          0.0114401908338725,
          0.045999450394898,
          0.0301585763795444,
          0.0214990417691914,
          0.0474882948127567,
          0.0494125992898704,
          0.00004101044575336999,
          0.0063767231110337,
          0.0097902114850339,
          0.0193784097189673,
          0.0483559976167392,
          0.0179188045395445,
          0.0125968490748244,
          0.0479060364115508,
          0.0146397569861235,
          0.0354354397783328,
          0.0082756833190983,
          0.0199938004907588,
          0.0239231126868115,
          0.0383080013572338,
          0.0488611991181171,
          0.0289373902896673,
          0.04978435800857,
          0.0271274032903029,
          0.0446776812913984,
          0.0452014453109689,
          0.0315720137227273,
          0.006440118901879,
          0.0328699372757474,
          0.0101624118335139,
          0.015006826947225,
          0.0423653598850122,
          0.0448126386894202,
          0.0321952788259905,
          0.0343151601120539,
          0.0018870348185488,
          0.0141719452615063,
          0.0194519970251061,
          0.0060088505152919,
          0.0308103844837932,
          0.002519194379011,
          0.0011724472279371,
          0.0224731625381838,
          0.0207551234153059,
          0.0238673990078604,
          0.010066121191,
          0.0120492515819765,
          0.0287968827637332,
          0.0112048003034377,
          0.0406605452796939,
          0.020005043198379,
          0.009859042414546,
          0.0374995879073536,
          0.0385877091874538,
          0.0461916694876237,
          0.0401394545049742,
          0.0398483531293086,
          0.0080114544313792,
          0.0413649776590631,
          0.0102098445095475,
          0.0002290077512757,
          0.0053730214922006,
          0.0264355634795483,
          0.0456182963271011,
          0.0158944744454827,
          0.0106593720753324,
          0.041045819501528,
          0.0168523113253252,
          0.0199998722512725,
          0.0337967606033666,
          0.0216347713582784,
          0.0379565893562348,
          0.0367717329153147,
          0.029930076968637,
          0.0383434131849156,
          0.040322327140199,
          0.0115161493084306,
          0.030509327799025,
          0.0232466219384974,
          0.0168927402990725,
          0.0215953594984454,
          0.0206262554106661,
          0.0129248040817455,
          0.0123386990268228,
          0.0409248996414066,
          0.022922214621486,
          0.0022743973115417,
          0.0495923686982527,
          0.0015106230530009,
          0.0048411629273922,
          0.0492967119962062,
          0.030121920025651,
          0.0095259138913976,
          0.0339175935703325,
          0.0056129827792266,
          0.034363673560158,
          0.0379551202287579,
          0.0399679118692414,
          0.0023793599729642,
          0.0178033794751532,
          0.0355455101905183,
          0.0444474504189183,
          0.0189404594529044,
          0.0357732433954108,
          0.045618634753232,
          0.00972495830424,
          0.027870166272718,
          0.0358956306767625,
          0.0095204061345644,
          0.0435929395452475,
          0.0285279645892351,
          0.0022253951051655,
          0.0266378818122712,
          0.0465026864480973,
          0.0023270950654624,
          0.0126887936894194,
          0.0321847745854522,
          0.0119785917611385,
          0.014213018767717,
          0.0136260429169285,
          0.0098242872810644,
          0.0073665955300872,
          0.0021669662667176,
          0.0365242114318032,
          0.0147578738749888,
          0.0459774616540164,
          0.029101172035696,
          0.038262247539603,
          0.027837564861819,
          0.0242480537614975,
          0.0268002522785248,
          0.0071172949585881,
          0.0415681237090504,
          0.0385048615031572,
          0.0345631901623539,
          0.0497608654387253,
          0.0119390910245906,
          0.004540851872318,
          0.0158847524836832,
          0.0333748525392426,
          0.0059177615280888,
          0.0483122288550754,
          0.0259301756413267,
          0.0166387503028005,
          0.0153551464583037,
          0.0156581547183166,
          0.0260602343318361,
          0.0385741120845351,
          0.0482780844480611,
          0.0200489251864662,
          0.0186962646700942,
          0.0204169940431453,
          0.0435338126728411,
          0.0207020966010444,
          0.0337436673170092,
          0.0126279239063837,
          0.0143183474205878,
          0.0254820596778755,
          0.0305650966233163,
          0.0047100814493836,
          0.0229565817391762,
          0.0009483761957913,
          0.0372743647329421,
          0.0372810315292726,
          0.0139094209947838,
          0.0221673747260426,
          0.0439483475652822,
          0.010801974367709,
          0.014104367944997,
          0.0053841985308808,
          0.0103805129780885,
          0.0001663539717674,
          0.0490004542979475,
          0.0284700495922644,
          0.0333807412947279,
          0.0022095348417851,
          0.0313915762795449,
          0.0442289263055744,
          0.0496900568412342,
          0.0228925643425906,
          0.0229334260588407,
          0.0436017017820297,
          0.0155045979284621,
          0.034635643505015,
          0.00485719598321,
          0.0415598053641089,
          0.0363756531098815,
          0.0362384795826044,
          0.035788641998746,
          0.0028964840620226,
          0.013610857009248,
          0.045055088841461,
          0.0224967589916178,
          0.0458160533215854,
          0.0181535866331716,
          0.001897911131837,
          0.0194405518427702,
          0.0466582385554001,
          0.045040776876079,
          0.0357334234343047,
          0.0162522200824395,
          0.0490394744581168,
          0.0177048988856408,
          0.0484305851772107,
          0.0357234799103367,
          0.005234352241333,
          0.0479923456549822,
          0.0341566450547819,
          0.0267803200810092,
          0.0493860301474275,
          0.04554299725788,
          0.0476964961054517,
          0.0089365041127532,
          0.0238586271831245,
          0.0390614401873812,
          0.0188978506387577,
          0.0201901631651304,
          0.0084313593100554,
          0.0263745041225138,
          0.0144244855937877,
          0.0018003769388528,
          0.008244126850825,
          0.047932015140675,
          0.0172322010998137,
          0.0373134256631715,
          0.0356505199667134,
          0.0324439879625392,
          0.0321964150198362,
          0.0050179593362782,
          0.010728276183124,
          0.0394493270601874,
          0.0408508585950193,
          0.0139440434311566,
          0.0457817303291087,
          0.0139494896927632,
          0.0401962644057335,
          0.007840035661762,
          0.0013589091801502,
          0.0391516987465613,
          0.0415675345681558,
          0.029833115761622,
          0.0035556646863767,
          0.0173294417921725,
          0.0299995964774032,
          0.045747214549834,
          0.0139915333127636,
          0.005795723840337,
          0.0337311861584102,
          0.0063242226489674,
          0.0384656778554424,
          0.0054577974442435,
          0.00008856075382240315,
          0.0482433541621906,
          0.0253369910350513,
          0.040975010191004,
          0.0127542161413415,
          0.0495128507744312,
          0.0027915656892981,
          0.0044685919525254,
          0.0104630004039306,
          0.0414589437206039,
          0.0486069559387175,
          0.0387950090818346,
          0.0406944567286432,
          0.0258966565108464,
          0.0120075716248813,
          0.0055141577303283,
          0.00000194824133865068,
          0.0244146225568735,
          0.0261706654962025,
          0.0488803800883223,
          0.0311462525282104,
          0.044140662133556,
          0.025889808937077,
          0.0054805559830087,
          0.0084957042469893,
          0.0133916421591767,
          0.032605019318036,
          0.0465291940748561,
          0.0382957140976869,
          0.0138059568346456,
          0.0430217125302608,
          0.0354381534112592,
          0.0436689766748289,
          0.0194486741676628,
          0.015604743902739,
          0.0447756684611718,
          0.0042256077196677,
          0.0414644000463467,
          0.0307429159445028,
          0.0479021866125023,
          0.0089249269605011,
          0.0089088081292772,
          0.0421396883954989,
          0.0320789524232764,
          0.0015879773962507,
          0.0002783816460275,
          0.0102488927273897,
          0.007957257384832,
          0.0356855949031839,
          0.015767374952182,
          0.0078469069319205,
          0.0074719350977668,
          0.0313422702917575,
          0.0155423882872089,
          0.0299273024637138,
          0.0243644890116199,
          0.0284840201063886,
          0.005575361955754,
          0.0360135113373248,
          0.0333525834018734,
          0.0476615834762326,
          0.0127792224266485,
          0.0289007198589478,
          0.0327601221360446,
          0.0227446691061836,
          0.0486344241103785,
          0.0227357610165656,
          0.023297833631982,
          0.0095541073090336,
          0.0082406786087114,
          0.036555468497783,
          0.0185758170037855,
          0.04395543931296,
          0.0207678113348625,
          0.0348317736977215,
          0.0081181976434537,
          0.0070267973795845,
          0.0271121266985428,
          0.0241017260629227,
          0.0321609839230305,
          0.0228282416131284,
          0.0247262451072895,
          0.034897678602711,
          0.0338065145385152,
          0.0211912789959938,
          0.0056429099968606,
          0.0057178179717355,
          0.0272297929948843,
          0.0030506426710353,
          0.0166753338733904,
          0.0374741579739174,
          0.0181775404594261,
          0.028662604171318,
          0.0351545067571142,
          0.0480735921178293,
          0.0387340810107545,
          0.0295304302483607,
          0.0068448165198376,
          0.0402559488128388,
          0.0298333290789672,
          0.0282674874801416,
          0.0004770436430802,
          0.0315451082988958,
          0.0376382916445005,
          0.02343444687425,
          0.0033558581651697,
          0.0455410693173762,
          0.0373196473560047,
          0.0122584087976731,
          0.0224066458704168,
          0.047229641051212,
          0.0072264665079191,
          0.0176300994295005,
          0.0442023156777027,
          0.0085439845863642,
          0.0377697402997748,
          0.0047140491363465,
          0.0108557955706471,
          0.0225592029279341,
          0.0162382222904458,
          0.0244738828362205,
          0.044360603559179,
          0.0298479939144332,
          0.0421555964668332,
          0.008582638530071,
          0.0263929965301556,
          0.0201695083749424,
          0.0120449600180898,
          0.0424868070958474,
          0.0308143154052996,
          0.0146558553689409,
          0.0427480489338698,
          0.0339950230503941,
          0.0291266198322081,
          0.0353472297885401,
          0.0249661561020487,
          0.0063349110440563,
          0.0413813846701871,
          0.0493840058008773,
          0.0015635546122444,
          0.0193892111276669,
          0.0274673551294626,
          0.0212448984162394,
          0.0010834157430639,
          0.0446984619888753,
          0.0021333588330301,
          0.0453920478151504,
          0.0490482756119167,
          0.0238677497153854,
          0.0408427360289348,
          0.0350189400507575,
          0.0308726588091923,
          0.0496664547685129,
          0.0494281034639787,
          0.0123498400857227,
          0.0478404655402498,
          0.0484106747554689,
          0.04388360012014,
          0.0043700305492101,
          0.0062983095666502,
          0.0123651340095125,
          0.0085093998813698,
          0.002559062696581,
          0.0433085274405748,
          0.0069477350882433,
          0.0279945156791951,
          0.0147046099013235,
          0.0205806286160653,
          0.0498674010414853,
          0.0347819948894339,
          0.0055614734562852,
          0.0217325091760569,
          0.0264613400902111,
          0.0374361211471947,
          0.0118151675941021,
          0.0186921546046904,
          0.0008659808939644,
          0.0140037417027697,
          0.0494155151088643,
          0.0326025173993121,
          0.044093451703163,
          0.0380474373130209,
          0.0023274339121982,
          0.0013724611255165,
          0.0328192396570795,
          0.0414100016654097,
          0.0435114902546151,
          0.0059772601426809,
          0.014969615477721,
          0.0200064800631395,
          0.0070039170674346,
          0.0161131894356425,
          0.0275001793875425,
          0.0435390840360174,
          0.0411337376711336,
          0.0076007736754248,
          0.0344960125388869,
          0.0130711958740741,
          0.009221327991081,
          0.0471375353593996,
          0.0128935280076712,
          0.0132861973753506,
          0.0299042439640608,
          0.0340895821954332,
          0.0179408130802287,
          0.0287226776839853,
          0.0418908986073432,
          0.004478655434813,
          0.046866745251246,
          0.003699846195705,
          0.0205926017903177,
          0.0300880770094136,
          0.0171736041817372,
          0.0028447537590869,
          0.0345489007203255,
          0.0156252833516939,
          0.0459109724851223,
          2.6728273321034584,
          3.0457689648112622,
          1.4830335255765488,
          4.7196989735904005,
          2.5898214262934207,
          1.9787417061400951,
          1.5578360449664137,
          1.6629320910960437,
          2.706424718167213,
          2.278837343851547,
          1.7947791930605066,
          1.0849061413688892,
          4.5259673059993695,
          3.0155968726238385,
          0.6604644263762689,
          2.7730318417596824,
          0.9579750918776868,
          3.318557363859644,
          4.100716762793556,
          4.267973840271081,
          2.0355523651220317,
          5.0794190490293465,
          3.251278123965242,
          4.234506279530211,
          3.013504725501364,
          0.642428579012813,
          1.7992596674081467,
          3.368627810054697,
          3.212300514861472,
          3.753275957745293,
          1.5811235512686026,
          1.455822967184093,
          6.177484544529788,
          2.9966915465270123,
          3.5425558971020896,
          0,
          5.236603997853512,
          3.9422023856367874,
          3.21658468032353,
          2.2104701908279565,
          2.4576634841963227,
          3.3082575207088345,
          1.9010197666872888,
          3.403462712211752,
          2.3535103695004365,
          0.6888917142495343,
          3.436478658767005,
          1.1765348445195083,
          1.0234692276452677,
          2.900546507179177,
          3.8042971546128728,
          3.177262343020545,
          2.5915162217627943,
          0.9144026821128102,
          4.391667687713117,
          1.90866786644142,
          1.5120551493754606,
          4.810201902674379,
          3.318679053026852,
          2.2587283205537148,
          3.561002560713713,
          2.4483897714590825,
          1.8125874419315264,
          3.1770453180754274,
          0.8153896811753456,
          3.707035509172463,
          0.8463155220487191,
          2.2936749090806683,
          0.054991427097695,
          3.387083999515537,
          0.5142724543171988,
          3.2808785830650806,
          2.4513850615557797,
          1.9512457299732464,
          2.4030637357888858,
          2.332042191818266,
          0,
          1.157724266448117,
          1.754825855781302,
          0,
          3.3217267067865155,
          2.005584924913847,
          0.6269475133940254,
          0.4837006576768861,
          0.940316898934169,
          2.369630453770378,
          3.174570317485518,
          4.137187115119563,
          1.6657635136316729,
          3.2666868741892348,
          0,
          2.518985752425541,
          3.5319257256386103,
          3.3417828609271485,
          3.7872243915623023,
          3.213755104139639,
          1.558632583365534,
          3.983207058273222,
          2.79431689114637,
          1.2968637194156525,
          4.542937314746846,
          1.8390839743840293,
          1.16398967461124,
          2.8869613590035303,
          0,
          2.318239776950353,
          1.1594596157323365,
          0,
          2.90706450854496,
          1.7521495482891591,
          3.135065085381488,
          0.2875361721784903,
          4.469987324585806,
          0.8621823002004934,
          4.780819039604801,
          5.227003060091522,
          2.7472443623319034,
          2.160289598201132,
          2.147247379250101,
          2.0723523289786034,
          4.45938492268454,
          1.302370848386296,
          2.7946046071575585,
          2.9213906636078586,
          1.5798060619614007,
          4.570534139818822,
          0.5226725482568881,
          0.0389151251549413,
          0.2497419531037552,
          0.9234958231824316,
          2.6884731545869816,
          2.0651914794399997,
          0.467756965345343,
          1.4629511320844424,
          1.8840151583235043,
          1.2504374334761983,
          0.0672243562392367,
          0,
          1.0522816936001165,
          0.9323918067619432,
          1.9055700646248157,
          2.807727352603388,
          5.175780637722397,
          4.976746743774701,
          4.368066671536843,
          1.457598916482994,
          0.0513272208966109,
          4.711758070481039,
          5.429315305850178,
          0,
          0.3920482070428741,
          3.465150372482544,
          0,
          3.826232414496737,
          2.1006706595313047,
          3.5437822733176887,
          5.2183753217197255,
          2.3879543017684948,
          3.3727414591144447,
          2.0798414283532582,
          3.5272365043697285,
          1.4723644615227691,
          0.4035409775287248,
          2.5099846050838464,
          0.9260676452484622,
          0,
          2.4021925202800074,
          2.3353833007353835,
          3.167623296436445,
          1.452587712399362,
          3.724578808992385,
          3.120881384499474,
          0.9174813708320656,
          1.6208921669520286,
          2.50887817927185,
          2.7850111619434768,
          2.957437138066429,
          2.1645468415336806,
          3.840061935327885,
          0.0656822415011348,
          2.9256192070139324,
          4.641145181302059,
          4.369265635985117,
          1.409687969979063,
          0.6728115221179216,
          0.2716553359493698,
          2.151697533014861,
          2.566441306278456,
          0.1982401913090334,
          5.937562813050841,
          2.665655405964624,
          2.184570255292717,
          2.994048721748398,
          0.3698590303340765,
          4.932763438580784,
          3.1764893931487195,
          5.462273154879997,
          2.9403553700792644,
          2.0128849788789327,
          2.798299498643447,
          1.291398732596717,
          1.628249108357166,
          2.347871511235036,
          2.2020809093842835,
          5.0467460099184525,
          1.485577784340959,
          0.9978990505379076,
          2.180068012245595,
          2.9485261707041968,
          2.794472464489851,
          1.0647457641850542,
          3.7281657325026343,
          3.197039684883416,
          0.2577657376114137,
          0.704441365960017,
          3.0446838570378616,
          3.7182027983187336,
          0.9014452838892856,
          4.148462176853215,
          3.851207816085903,
          2.679104188238431,
          1.3318735380644453,
          4.919675642840623,
          1.9349270275749928,
          0.358352318479445,
          2.67914762340072,
          3.043866325355429,
          2.724548340661028,
          3.958279365665155,
          2.7049011188265943,
          1.846178965198111,
          1.5715456243890935,
          1.3188782276647089,
          3.641388096430252,
          2.365916381411898,
          2.264620910957908,
          3.345447441017496,
          2.2462499760732846,
          1.580263422146312,
          4.569900905821955,
          0.7865972231543426,
          2.50914786697412,
          0.0232037216800067,
          2.4831614358684044,
          3.986669926241325,
          2.2354575894542337,
          0,
          3.602340434539807,
          3.519830539861171,
          1.6927990520114369,
          3.1100514080817683,
          1.99281925959191,
          1.9899811981474325,
          0.5185213785688836,
          0,
          0.2449871702032164,
          3.56932082885588,
          2.348138871632624,
          4.781041889110527,
          0,
          4.323472555682627,
          5.202302222713692,
          3.261097115205299,
          0.9979212348910242,
          3.5860369260690343,
          1.7479982048182587,
          0.6581096460299638,
          1.231348973632104,
          3.951697587809645,
          2.127488326738172,
          3.6960263892541674,
          3.051926258852095,
          0.6615280833545147,
          0.5845730540429748,
          2.2115084890301127,
          2.6193182843339926,
          2.352041398231913,
          0,
          3.610739344969164,
          3.6281507041766425,
          3.1336837124827253,
          1.8694811730099945,
          0.1834801603274622,
          0.6254767502278176,
          1.4829020777565114,
          2.648233281536,
          3.586919880318576,
          2.381887320990081,
          1.859608152275376,
          1.314727662771777,
          1.8390698874716789,
          5.700193168089815,
          3.670619964986405,
          4.652170948076669,
          4.376190997422247,
          1.4106728026211215,
          1.6190742038472667,
          2.60339854796434,
          0.3165105773706265,
          1.4471082307592082,
          3.502587878773126,
          2.715142470925921,
          2.427132897946629,
          1.4362939110709332,
          4.575752151782172,
          0.6846661268699521,
          3.486280071079798,
          4.387773535097649,
          4.666717264943913,
          2.601427673863887,
          2.537976560608031,
          1.4117122922398573,
          0,
          2.852368176637089,
          5.011454920806068,
          0.9708317333566704,
          4.217717960412209,
          5.973176754970456,
          1.8963772938756616,
          2.529897709181585,
          3.3297880067758068,
          0.8562020018255367,
          1.5346550283930505,
          3.3584523088980647,
          1.281610274903588,
          1.2239417337305245,
          0,
          3.4590385273456583,
          4.405600271523186,
          3.8817066273235055,
          1.5691991430575682,
          3.2214096384777875,
          1.5238771168324132,
          6.353103227465724,
          0.1416257057457888,
          3.769504995940412,
          2.679822495259072,
          4.208525888165071,
          1.611149065286429,
          3.3832978413994166,
          2.3933459242706494,
          3.1540567622453923,
          1.7423854326174792,
          3.0264897237436013,
          4.396729419791686,
          2.9294059969404342,
          1.9524912191558688,
          5.244918402196495,
          2.35087090592771,
          0.287569856466169,
          0.2868799200648784,
          1.0775750999435112,
          1.162477440127705,
          5.14061212901753,
          1.4512312301334562,
          3.849492840518914,
          3.012597943371237,
          4.068994595604289,
          0.6231910906129658,
          4.357446547819763,
          0,
          3.9836267559532432,
          0.8960492742896762,
          0.8134809310078444,
          1.7850470275854804,
          1.6156457367620438,
          3.1034873236018967,
          3.9854259252372497,
          5.719326413500549,
          1.2742863403533018,
          4.47474334406793,
          4.1385558419620825,
          1.5116492793015348,
          2.466132019145549,
          0.7244035845222228,
          3.0882971388923828,
          0.0055450952588178,
          4.152149052321564,
          1.8318790731573595,
          1.5891734482129731,
          3.294157805986707,
          2.916439073414994,
          3.689526043734341,
          4.612299470979897,
          1.880162813794844,
          2.5120898232352444,
          3.764023782189279,
          3.7685564134027034,
          3.482051756937766,
          1.947541142156348,
          1.783321400452771,
          0.4441688497883738,
          3.694113888339949,
          0.0270539288897659,
          1.6895161445101587,
          2.951575219190672,
          4.903935991059623,
          1.271732018640921,
          2.5890337429215746,
          2.36240480729137,
          7.44776113416951,
          1.1550728368453054,
          0,
          5.836462242817799,
          0,
          4.425946463667802,
          0,
          0,
          4.7481116248253805,
          4.002762851281421,
          1.2990344491908812,
          4.76886152941567,
          0,
          0,
          0,
          3.267012547765402,
          2.659429559385829,
          3.5405773656910595,
          2.95552443366254,
          0.3756212722370335,
          0.0914555043493354,
          2.3505527575740435,
          1.803112484873281,
          6.587254041211264,
          0.0512490698762311,
          4.29504909916424,
          1.7071846183198598,
          1.7931592620882046,
          7.940817659375519,
          9.030695821263336,
          0.1566775787155707,
          1.4221576414723978,
          6.71713844655173,
          0.316774721872443,
          3.964202390579829,
          2.539699358178925,
          0,
          1.3035245881826465,
          4.870338166119907,
          8.249141670651277,
          4.497341187392131,
          3.413356371026582,
          4.998760044838488,
          0,
          1.2121260784802623,
          8.177596861192882,
          5.297881128427252,
          10.370490701731615,
          4.476429382407094,
          0.8281515744294483,
          4.902409109375316,
          1.9329700919005737,
          4.468146079217011,
          0.8044019271842104,
          10.503014402535412,
          3.3158388767559392,
          3.101675260588415,
          0,
          10.348038589166206,
          4.598141996456524,
          4.084759622452264,
          0.3304418029920559,
          3.67006393883582,
          0,
          7.201882791680705,
          2.1485125819078417,
          4.7394200609641794,
          0,
          5.205773888553703,
          0,
          6.217139181920066,
          2.020523726658816,
          5.868698042337451,
          0,
          2.57239007181202,
          3.26712380067613,
          4.587629750143744,
          5.062725903991846,
          3.1952755188437783,
          0,
          2.2199170565342867,
          0,
          2.2178122236187465,
          3.967943892477191,
          3.122806184181896,
          6.855246556681286,
          2.409042148215085,
          8.838712108657978,
          0,
          0,
          3.549966697008853,
          5.585658445486592,
          2.8131214914223226,
          5.429991603556374,
          5.183936825154249,
          3.511706298676517,
          3.653192252923165,
          4.753920096904239,
          1.7954782142541603,
          5.249085296317132,
          4.243788794466664,
          3.741713388873026,
          0,
          2.826123625474564,
          0,
          0.5693030930931402,
          2.41866105670731,
          1.177873770738628,
          3.3549787410169767,
          3.921535773307669,
          6.022299752131435,
          1.6209861345431178,
          9.311564490191126,
          3.3612547489855342,
          0,
          0.5285419997257825,
          4.723873627594919,
          3.3485449646214613,
          5.469181181952045,
          5.1246888371074615,
          3.645745501570582,
          4.679737305898758,
          6.545433290273834,
          3.8521037543023056,
          2.1958910350241214,
          6.337160257564914,
          0.4122797894352104,
          2.400532268428607,
          1.4227518003133786,
          1.0181116867385622,
          9.2307171339485,
          0,
          0.4272334745315862,
          1.5125080444029293,
          2.7023416910167146,
          3.179093887297462,
          6.639852198946596,
          1.5738552397267995,
          0,
          0,
          4.998223314913402,
          2.5529587320331206,
          6.611925462901429,
          1.9932883381562143,
          3.980165232515252,
          2.4934528576907864,
          4.026427370912014,
          0,
          6.112510771157947,
          0.1845899027476059,
          6.084884040388955,
          0,
          0,
          4.417253704833182,
          1.6225155110841372,
          0,
          1.724794468463307,
          2.6011608727873705,
          2.528302841511338,
          1.331617225077207,
          3.4025895568838997,
          0.8622051009252472,
          0.4599219327716206,
          4.34067730091224,
          3.386438639319705,
          0.8009767229156237,
          4.5417083791416495,
          3.165359522781086,
          4.702165481900439,
          4.495193428052907,
          5.075654539855004,
          5.223396037105019,
          0,
          4.453761908783477,
          2.780872018952431,
          7.969941544996033,
          1.852518877419944,
          2.8117056604400337,
          6.0106893530933325,
          1.8329745048681645,
          3.884352606653274,
          8.978421590447406,
          6.312693980264889,
          3.2664194842419088,
          1.0671291370978893,
          0.5018868657219075,
          2.1112667727262444,
          0,
          0,
          5.557682756388129,
          2.124764976622727,
          7.014039602024013,
          3.0023175322075915,
          5.110521622809131,
          5.973768054260158,
          0,
          4.041096727986819,
          0.9614858858091916,
          0,
          0
         ],
         "y0": " ",
         "yaxis": "y"
        }
       ],
       "layout": {
        "boxmode": "group",
        "legend": {
         "tracegroupgap": 0
        },
        "template": {
         "data": {
          "bar": [
           {
            "error_x": {
             "color": "#2a3f5f"
            },
            "error_y": {
             "color": "#2a3f5f"
            },
            "marker": {
             "line": {
              "color": "white",
              "width": 0.5
             },
             "pattern": {
              "fillmode": "overlay",
              "size": 10,
              "solidity": 0.2
             }
            },
            "type": "bar"
           }
          ],
          "barpolar": [
           {
            "marker": {
             "line": {
              "color": "white",
              "width": 0.5
             },
             "pattern": {
              "fillmode": "overlay",
              "size": 10,
              "solidity": 0.2
             }
            },
            "type": "barpolar"
           }
          ],
          "box": [
           {
            "boxpoints": "outliers",
            "notched": false,
            "type": "box"
           }
          ],
          "carpet": [
           {
            "aaxis": {
             "endlinecolor": "#2a3f5f",
             "gridcolor": "#C8D4E3",
             "linecolor": "#C8D4E3",
             "minorgridcolor": "#C8D4E3",
             "startlinecolor": "#2a3f5f"
            },
            "baxis": {
             "endlinecolor": "#2a3f5f",
             "gridcolor": "#C8D4E3",
             "linecolor": "#C8D4E3",
             "minorgridcolor": "#C8D4E3",
             "startlinecolor": "#2a3f5f"
            },
            "type": "carpet"
           }
          ],
          "choropleth": [
           {
            "colorbar": {
             "outlinewidth": 0,
             "ticks": ""
            },
            "type": "choropleth"
           }
          ],
          "contour": [
           {
            "colorbar": {
             "outlinewidth": 0,
             "ticks": ""
            },
            "colorscale": [
             [
              0,
              "#0d0887"
             ],
             [
              0.1111111111111111,
              "#46039f"
             ],
             [
              0.2222222222222222,
              "#7201a8"
             ],
             [
              0.3333333333333333,
              "#9c179e"
             ],
             [
              0.4444444444444444,
              "#bd3786"
             ],
             [
              0.5555555555555556,
              "#d8576b"
             ],
             [
              0.6666666666666666,
              "#ed7953"
             ],
             [
              0.7777777777777778,
              "#fb9f3a"
             ],
             [
              0.8888888888888888,
              "#fdca26"
             ],
             [
              1,
              "#f0f921"
             ]
            ],
            "type": "contour"
           }
          ],
          "contourcarpet": [
           {
            "colorbar": {
             "outlinewidth": 0,
             "ticks": ""
            },
            "type": "contourcarpet"
           }
          ],
          "heatmap": [
           {
            "colorbar": {
             "outlinewidth": 0,
             "ticks": ""
            },
            "colorscale": [
             [
              0,
              "#0d0887"
             ],
             [
              0.1111111111111111,
              "#46039f"
             ],
             [
              0.2222222222222222,
              "#7201a8"
             ],
             [
              0.3333333333333333,
              "#9c179e"
             ],
             [
              0.4444444444444444,
              "#bd3786"
             ],
             [
              0.5555555555555556,
              "#d8576b"
             ],
             [
              0.6666666666666666,
              "#ed7953"
             ],
             [
              0.7777777777777778,
              "#fb9f3a"
             ],
             [
              0.8888888888888888,
              "#fdca26"
             ],
             [
              1,
              "#f0f921"
             ]
            ],
            "type": "heatmap"
           }
          ],
          "heatmapgl": [
           {
            "colorbar": {
             "outlinewidth": 0,
             "ticks": ""
            },
            "colorscale": [
             [
              0,
              "#0d0887"
             ],
             [
              0.1111111111111111,
              "#46039f"
             ],
             [
              0.2222222222222222,
              "#7201a8"
             ],
             [
              0.3333333333333333,
              "#9c179e"
             ],
             [
              0.4444444444444444,
              "#bd3786"
             ],
             [
              0.5555555555555556,
              "#d8576b"
             ],
             [
              0.6666666666666666,
              "#ed7953"
             ],
             [
              0.7777777777777778,
              "#fb9f3a"
             ],
             [
              0.8888888888888888,
              "#fdca26"
             ],
             [
              1,
              "#f0f921"
             ]
            ],
            "type": "heatmapgl"
           }
          ],
          "histogram": [
           {
            "marker": {
             "line": {
              "width": 1
             },
             "pattern": {
              "fillmode": "overlay",
              "size": 10,
              "solidity": 0.2
             }
            },
            "type": "histogram"
           }
          ],
          "histogram2d": [
           {
            "colorbar": {
             "outlinewidth": 0,
             "ticks": ""
            },
            "colorscale": [
             [
              0,
              "#0d0887"
             ],
             [
              0.1111111111111111,
              "#46039f"
             ],
             [
              0.2222222222222222,
              "#7201a8"
             ],
             [
              0.3333333333333333,
              "#9c179e"
             ],
             [
              0.4444444444444444,
              "#bd3786"
             ],
             [
              0.5555555555555556,
              "#d8576b"
             ],
             [
              0.6666666666666666,
              "#ed7953"
             ],
             [
              0.7777777777777778,
              "#fb9f3a"
             ],
             [
              0.8888888888888888,
              "#fdca26"
             ],
             [
              1,
              "#f0f921"
             ]
            ],
            "type": "histogram2d"
           }
          ],
          "histogram2dcontour": [
           {
            "colorbar": {
             "outlinewidth": 0,
             "ticks": ""
            },
            "colorscale": [
             [
              0,
              "#0d0887"
             ],
             [
              0.1111111111111111,
              "#46039f"
             ],
             [
              0.2222222222222222,
              "#7201a8"
             ],
             [
              0.3333333333333333,
              "#9c179e"
             ],
             [
              0.4444444444444444,
              "#bd3786"
             ],
             [
              0.5555555555555556,
              "#d8576b"
             ],
             [
              0.6666666666666666,
              "#ed7953"
             ],
             [
              0.7777777777777778,
              "#fb9f3a"
             ],
             [
              0.8888888888888888,
              "#fdca26"
             ],
             [
              1,
              "#f0f921"
             ]
            ],
            "type": "histogram2dcontour"
           }
          ],
          "mesh3d": [
           {
            "colorbar": {
             "outlinewidth": 0,
             "ticks": ""
            },
            "type": "mesh3d"
           }
          ],
          "parcoords": [
           {
            "line": {
             "colorbar": {
              "outlinewidth": 0,
              "ticks": ""
             }
            },
            "type": "parcoords"
           }
          ],
          "pie": [
           {
            "automargin": true,
            "type": "pie"
           }
          ],
          "scatter": [
           {
            "fillpattern": {
             "fillmode": "overlay",
             "size": 10,
             "solidity": 0.2
            },
            "marker": {
             "opacity": 0.8
            },
            "type": "scatter"
           }
          ],
          "scatter3d": [
           {
            "line": {
             "colorbar": {
              "outlinewidth": 0,
              "ticks": ""
             }
            },
            "marker": {
             "colorbar": {
              "outlinewidth": 0,
              "ticks": ""
             },
             "opacity": 0.8
            },
            "type": "scatter3d"
           }
          ],
          "scattercarpet": [
           {
            "marker": {
             "colorbar": {
              "outlinewidth": 0,
              "ticks": ""
             }
            },
            "type": "scattercarpet"
           }
          ],
          "scattergeo": [
           {
            "marker": {
             "colorbar": {
              "outlinewidth": 0,
              "ticks": ""
             }
            },
            "type": "scattergeo"
           }
          ],
          "scattergl": [
           {
            "marker": {
             "colorbar": {
              "outlinewidth": 0,
              "ticks": ""
             }
            },
            "type": "scattergl"
           }
          ],
          "scattermapbox": [
           {
            "marker": {
             "colorbar": {
              "outlinewidth": 0,
              "ticks": ""
             }
            },
            "type": "scattermapbox"
           }
          ],
          "scatterpolar": [
           {
            "marker": {
             "colorbar": {
              "outlinewidth": 0,
              "ticks": ""
             }
            },
            "type": "scatterpolar"
           }
          ],
          "scatterpolargl": [
           {
            "marker": {
             "colorbar": {
              "outlinewidth": 0,
              "ticks": ""
             }
            },
            "type": "scatterpolargl"
           }
          ],
          "scatterternary": [
           {
            "marker": {
             "colorbar": {
              "outlinewidth": 0,
              "ticks": ""
             }
            },
            "type": "scatterternary"
           }
          ],
          "surface": [
           {
            "colorbar": {
             "outlinewidth": 0,
             "ticks": ""
            },
            "colorscale": [
             [
              0,
              "#0d0887"
             ],
             [
              0.1111111111111111,
              "#46039f"
             ],
             [
              0.2222222222222222,
              "#7201a8"
             ],
             [
              0.3333333333333333,
              "#9c179e"
             ],
             [
              0.4444444444444444,
              "#bd3786"
             ],
             [
              0.5555555555555556,
              "#d8576b"
             ],
             [
              0.6666666666666666,
              "#ed7953"
             ],
             [
              0.7777777777777778,
              "#fb9f3a"
             ],
             [
              0.8888888888888888,
              "#fdca26"
             ],
             [
              1,
              "#f0f921"
             ]
            ],
            "type": "surface"
           }
          ],
          "table": [
           {
            "cells": {
             "fill": {
              "color": "#EBF0F8"
             },
             "line": {
              "color": "white"
             }
            },
            "header": {
             "fill": {
              "color": "#C8D4E3"
             },
             "line": {
              "color": "white"
             }
            },
            "type": "table"
           }
          ]
         },
         "layout": {
          "annotationdefaults": {
           "arrowcolor": "#2a3f5f",
           "arrowhead": 0,
           "arrowwidth": 1
          },
          "autotypenumbers": "strict",
          "coloraxis": {
           "colorbar": {
            "outlinewidth": 0,
            "ticks": ""
           }
          },
          "colorscale": {
           "diverging": [
            [
             0,
             "#8e0152"
            ],
            [
             0.1,
             "#c51b7d"
            ],
            [
             0.2,
             "#de77ae"
            ],
            [
             0.3,
             "#f1b6da"
            ],
            [
             0.4,
             "#fde0ef"
            ],
            [
             0.5,
             "#f7f7f7"
            ],
            [
             0.6,
             "#e6f5d0"
            ],
            [
             0.7,
             "#b8e186"
            ],
            [
             0.8,
             "#7fbc41"
            ],
            [
             0.9,
             "#4d9221"
            ],
            [
             1,
             "#276419"
            ]
           ],
           "sequential": [
            [
             0,
             "#0d0887"
            ],
            [
             0.1111111111111111,
             "#46039f"
            ],
            [
             0.2222222222222222,
             "#7201a8"
            ],
            [
             0.3333333333333333,
             "#9c179e"
            ],
            [
             0.4444444444444444,
             "#bd3786"
            ],
            [
             0.5555555555555556,
             "#d8576b"
            ],
            [
             0.6666666666666666,
             "#ed7953"
            ],
            [
             0.7777777777777778,
             "#fb9f3a"
            ],
            [
             0.8888888888888888,
             "#fdca26"
            ],
            [
             1,
             "#f0f921"
            ]
           ],
           "sequentialminus": [
            [
             0,
             "#0d0887"
            ],
            [
             0.1111111111111111,
             "#46039f"
            ],
            [
             0.2222222222222222,
             "#7201a8"
            ],
            [
             0.3333333333333333,
             "#9c179e"
            ],
            [
             0.4444444444444444,
             "#bd3786"
            ],
            [
             0.5555555555555556,
             "#d8576b"
            ],
            [
             0.6666666666666666,
             "#ed7953"
            ],
            [
             0.7777777777777778,
             "#fb9f3a"
            ],
            [
             0.8888888888888888,
             "#fdca26"
            ],
            [
             1,
             "#f0f921"
            ]
           ]
          },
          "colorway": [
           "#636efa",
           "#EF553B",
           "#00cc96",
           "#ab63fa",
           "#FFA15A",
           "#19d3f3",
           "#FF6692",
           "#B6E880",
           "#FF97FF",
           "#FECB52"
          ],
          "font": {
           "color": "#2a3f5f"
          },
          "geo": {
           "bgcolor": "white",
           "lakecolor": "white",
           "landcolor": "white",
           "showlakes": true,
           "showland": true,
           "subunitcolor": "#C8D4E3"
          },
          "height": 400,
          "hoverlabel": {
           "align": "left"
          },
          "hovermode": "closest",
          "mapbox": {
           "style": "light"
          },
          "margin": {
           "b": 2,
           "l": 2,
           "r": 2,
           "t": 30
          },
          "paper_bgcolor": "white",
          "plot_bgcolor": "white",
          "polar": {
           "angularaxis": {
            "gridcolor": "#EBF0F8",
            "linecolor": "#EBF0F8",
            "ticks": ""
           },
           "bgcolor": "white",
           "radialaxis": {
            "gridcolor": "#EBF0F8",
            "linecolor": "#EBF0F8",
            "ticks": ""
           }
          },
          "scene": {
           "camera": {
            "eye": {
             "x": 1.5,
             "y": 1.5,
             "z": 0.1
            }
           },
           "xaxis": {
            "backgroundcolor": "white",
            "gridcolor": "#DFE8F3",
            "gridwidth": 2,
            "linecolor": "#EBF0F8",
            "showbackground": true,
            "ticks": "",
            "zerolinecolor": "#EBF0F8"
           },
           "yaxis": {
            "backgroundcolor": "white",
            "gridcolor": "#DFE8F3",
            "gridwidth": 2,
            "linecolor": "#EBF0F8",
            "showbackground": true,
            "ticks": "",
            "zerolinecolor": "#EBF0F8"
           },
           "zaxis": {
            "backgroundcolor": "white",
            "gridcolor": "#DFE8F3",
            "gridwidth": 2,
            "linecolor": "#EBF0F8",
            "showbackground": true,
            "ticks": "",
            "zerolinecolor": "#EBF0F8"
           }
          },
          "shapedefaults": {
           "line": {
            "color": "#2a3f5f"
           }
          },
          "ternary": {
           "aaxis": {
            "gridcolor": "#DFE8F3",
            "linecolor": "#A2B1C6",
            "ticks": ""
           },
           "baxis": {
            "gridcolor": "#DFE8F3",
            "linecolor": "#A2B1C6",
            "ticks": ""
           },
           "bgcolor": "white",
           "caxis": {
            "gridcolor": "#DFE8F3",
            "linecolor": "#A2B1C6",
            "ticks": ""
           }
          },
          "title": {
           "x": 0.5
          },
          "xaxis": {
           "automargin": true,
           "gridcolor": "#EBF0F8",
           "linecolor": "#EBF0F8",
           "linewidth": 2,
           "showline": true,
           "ticks": "",
           "title": {
            "standoff": 15
           },
           "zerolinecolor": "#EBF0F8",
           "zerolinewidth": 2
          },
          "yaxis": {
           "automargin": true,
           "gridcolor": "#EBF0F8",
           "linecolor": "#EBF0F8",
           "linewidth": 2,
           "showline": true,
           "ticks": "",
           "title": {
            "standoff": 15
           },
           "zerolinecolor": "#EBF0F8",
           "zerolinewidth": 2
          }
         }
        },
        "title": {
         "text": "Boxplot of \"motion\" feature"
        },
        "xaxis": {
         "anchor": "y",
         "domain": [
          0,
          1
         ]
        },
        "yaxis": {
         "anchor": "x",
         "domain": [
          0,
          1
         ],
         "title": {
          "text": "motion"
         }
        }
       }
      }
     },
     "metadata": {},
     "output_type": "display_data"
    }
   ],
   "source": [
    "graphing.box_and_whisker(dataset, label_y=\"motion\", title='Boxplot of \"motion\" feature')"
   ]
  },
  {
   "cell_type": "markdown",
   "metadata": {},
   "source": [
    "Build and train a classification model using a random forest to predict the class of an object based on the features in our dataset:"
   ]
  },
  {
   "cell_type": "code",
   "execution_count": 7,
   "metadata": {},
   "outputs": [
    {
     "name": "stdout",
     "output_type": "stream",
     "text": [
      "(1540, 5)\n",
      "(660, 5)\n"
     ]
    }
   ],
   "source": [
    "from sklearn.ensemble import RandomForestClassifier\n",
    "from sklearn.model_selection import train_test_split\n",
    "\n",
    "# Split the dataset in an 70/30 train/test ratio. \n",
    "train, test = train_test_split(dataset, test_size=0.3, random_state=2)\n",
    "print(train.shape)\n",
    "print(test.shape)"
   ]
  },
  {
   "cell_type": "markdown",
   "metadata": {},
   "source": [
    "MODEL CREATION"
   ]
  },
  {
   "cell_type": "code",
   "execution_count": 8,
   "metadata": {},
   "outputs": [
    {
     "name": "stdout",
     "output_type": "stream",
     "text": [
      "Model trained!\n"
     ]
    }
   ],
   "source": [
    "# Create the model\n",
    "model = RandomForestClassifier(n_estimators=1, random_state=1, verbose=False)\n",
    "\n",
    "# Define which features are to be used (leave color out for now)\n",
    "features = [\"size\", \"roughness\", \"motion\"]\n",
    "\n",
    "# Train the model\n",
    "model.fit(train[features], train.label)\n",
    "\n",
    "print(\"Model trained!\")"
   ]
  },
  {
   "cell_type": "code",
   "execution_count": 9,
   "metadata": {},
   "outputs": [
    {
     "name": "stdout",
     "output_type": "stream",
     "text": [
      "The random forest model's accuracy on the test set is 0.8924.\n",
      "It correctly predicted 589.0 labels in 660 predictions.\n"
     ]
    }
   ],
   "source": [
    "# Import a function that measures a models accuracy\n",
    "from sklearn.metrics import accuracy_score\n",
    "\n",
    "# Calculate the model's accuracy on the TEST set\n",
    "actual = test.label\n",
    "predictions = model.predict(test[features])\n",
    "\n",
    "# Return accuracy as a fraction\n",
    "acc = accuracy_score(actual, predictions)\n",
    "\n",
    "# Return accuracy as a number of correct predictions\n",
    "acc_norm = accuracy_score(actual, predictions, normalize=False)\n",
    "\n",
    "print(f\"The random forest model's accuracy on the test set is {acc:.4f}.\")\n",
    "print(f\"It correctly predicted {acc_norm} labels in {len(test.label)} predictions.\")"
   ]
  },
  {
   "cell_type": "markdown",
   "metadata": {},
   "source": [
    "Building a confusion matrix"
   ]
  },
  {
   "cell_type": "code",
   "execution_count": 10,
   "metadata": {},
   "outputs": [
    {
     "name": "stdout",
     "output_type": "stream",
     "text": [
      "Confusion matrix for the test set:\n",
      "[[ 28  38   0   0]\n",
      " [ 30 103   1   0]\n",
      " [  0   1 217   1]\n",
      " [  0   0   0 241]]\n"
     ]
    }
   ],
   "source": [
    "# sklearn has a very convenient utility to build confusion matrices\n",
    "from sklearn.metrics import confusion_matrix\n",
    "\n",
    "# Build and print our confusion matrix, using the actual values and predictions \n",
    "# from the test set, calculated in previous cells\n",
    "cm = confusion_matrix(actual, predictions, normalize=None)\n",
    "\n",
    "print(\"Confusion matrix for the test set:\")\n",
    "print(cm)"
   ]
  },
  {
   "cell_type": "code",
   "execution_count": 11,
   "metadata": {},
   "outputs": [
    {
     "data": {
      "application/vnd.plotly.v1+json": {
       "config": {
        "plotlyServerURL": "https://plot.ly"
       },
       "data": [
        {
         "colorscale": [
          [
           0,
           "#0d0887"
          ],
          [
           0.1111111111111111,
           "#46039f"
          ],
          [
           0.2222222222222222,
           "#7201a8"
          ],
          [
           0.3333333333333333,
           "#9c179e"
          ],
          [
           0.4444444444444444,
           "#bd3786"
          ],
          [
           0.5555555555555556,
           "#d8576b"
          ],
          [
           0.6666666666666666,
           "#ed7953"
          ],
          [
           0.7777777777777778,
           "#fb9f3a"
          ],
          [
           0.8888888888888888,
           "#fdca26"
          ],
          [
           1,
           "#f0f921"
          ]
         ],
         "reversescale": false,
         "showscale": true,
         "type": "heatmap",
         "x": [
          "animal",
          "hiker",
          "rock",
          "tree"
         ],
         "y": [
          "animal",
          "hiker",
          "rock",
          "tree"
         ],
         "z": [
          [
           28,
           38,
           0,
           0
          ],
          [
           30,
           103,
           1,
           0
          ],
          [
           0,
           1,
           217,
           1
          ],
          [
           0,
           0,
           0,
           241
          ]
         ]
        }
       ],
       "layout": {
        "annotations": [
         {
          "font": {
           "color": "#FFFFFF"
          },
          "showarrow": false,
          "text": "28",
          "x": "animal",
          "xref": "x",
          "y": "animal",
          "yref": "y"
         },
         {
          "font": {
           "color": "#FFFFFF"
          },
          "showarrow": false,
          "text": "38",
          "x": "hiker",
          "xref": "x",
          "y": "animal",
          "yref": "y"
         },
         {
          "font": {
           "color": "#FFFFFF"
          },
          "showarrow": false,
          "text": "0",
          "x": "rock",
          "xref": "x",
          "y": "animal",
          "yref": "y"
         },
         {
          "font": {
           "color": "#FFFFFF"
          },
          "showarrow": false,
          "text": "0",
          "x": "tree",
          "xref": "x",
          "y": "animal",
          "yref": "y"
         },
         {
          "font": {
           "color": "#FFFFFF"
          },
          "showarrow": false,
          "text": "30",
          "x": "animal",
          "xref": "x",
          "y": "hiker",
          "yref": "y"
         },
         {
          "font": {
           "color": "#FFFFFF"
          },
          "showarrow": false,
          "text": "103",
          "x": "hiker",
          "xref": "x",
          "y": "hiker",
          "yref": "y"
         },
         {
          "font": {
           "color": "#FFFFFF"
          },
          "showarrow": false,
          "text": "1",
          "x": "rock",
          "xref": "x",
          "y": "hiker",
          "yref": "y"
         },
         {
          "font": {
           "color": "#FFFFFF"
          },
          "showarrow": false,
          "text": "0",
          "x": "tree",
          "xref": "x",
          "y": "hiker",
          "yref": "y"
         },
         {
          "font": {
           "color": "#FFFFFF"
          },
          "showarrow": false,
          "text": "0",
          "x": "animal",
          "xref": "x",
          "y": "rock",
          "yref": "y"
         },
         {
          "font": {
           "color": "#FFFFFF"
          },
          "showarrow": false,
          "text": "1",
          "x": "hiker",
          "xref": "x",
          "y": "rock",
          "yref": "y"
         },
         {
          "font": {
           "color": "#000000"
          },
          "showarrow": false,
          "text": "217",
          "x": "rock",
          "xref": "x",
          "y": "rock",
          "yref": "y"
         },
         {
          "font": {
           "color": "#FFFFFF"
          },
          "showarrow": false,
          "text": "1",
          "x": "tree",
          "xref": "x",
          "y": "rock",
          "yref": "y"
         },
         {
          "font": {
           "color": "#FFFFFF"
          },
          "showarrow": false,
          "text": "0",
          "x": "animal",
          "xref": "x",
          "y": "tree",
          "yref": "y"
         },
         {
          "font": {
           "color": "#FFFFFF"
          },
          "showarrow": false,
          "text": "0",
          "x": "hiker",
          "xref": "x",
          "y": "tree",
          "yref": "y"
         },
         {
          "font": {
           "color": "#FFFFFF"
          },
          "showarrow": false,
          "text": "0",
          "x": "rock",
          "xref": "x",
          "y": "tree",
          "yref": "y"
         },
         {
          "font": {
           "color": "#000000"
          },
          "showarrow": false,
          "text": "241",
          "x": "tree",
          "xref": "x",
          "y": "tree",
          "yref": "y"
         },
         {
          "font": {
           "color": "black",
           "size": 14
          },
          "showarrow": false,
          "text": "Predicted label",
          "x": 0.5,
          "xref": "paper",
          "y": -0.15,
          "yref": "paper"
         },
         {
          "font": {
           "color": "black",
           "size": 14
          },
          "showarrow": false,
          "text": "Actual label",
          "textangle": -90,
          "x": -0.15,
          "xref": "paper",
          "y": 0.5,
          "yref": "paper"
         }
        ],
        "margin": {
         "b": 50,
         "l": 100,
         "r": 20,
         "t": 80
        },
        "template": {
         "data": {
          "bar": [
           {
            "error_x": {
             "color": "#2a3f5f"
            },
            "error_y": {
             "color": "#2a3f5f"
            },
            "marker": {
             "line": {
              "color": "white",
              "width": 0.5
             },
             "pattern": {
              "fillmode": "overlay",
              "size": 10,
              "solidity": 0.2
             }
            },
            "type": "bar"
           }
          ],
          "barpolar": [
           {
            "marker": {
             "line": {
              "color": "white",
              "width": 0.5
             },
             "pattern": {
              "fillmode": "overlay",
              "size": 10,
              "solidity": 0.2
             }
            },
            "type": "barpolar"
           }
          ],
          "box": [
           {
            "boxpoints": "outliers",
            "notched": false,
            "type": "box"
           }
          ],
          "carpet": [
           {
            "aaxis": {
             "endlinecolor": "#2a3f5f",
             "gridcolor": "#C8D4E3",
             "linecolor": "#C8D4E3",
             "minorgridcolor": "#C8D4E3",
             "startlinecolor": "#2a3f5f"
            },
            "baxis": {
             "endlinecolor": "#2a3f5f",
             "gridcolor": "#C8D4E3",
             "linecolor": "#C8D4E3",
             "minorgridcolor": "#C8D4E3",
             "startlinecolor": "#2a3f5f"
            },
            "type": "carpet"
           }
          ],
          "choropleth": [
           {
            "colorbar": {
             "outlinewidth": 0,
             "ticks": ""
            },
            "type": "choropleth"
           }
          ],
          "contour": [
           {
            "colorbar": {
             "outlinewidth": 0,
             "ticks": ""
            },
            "colorscale": [
             [
              0,
              "#0d0887"
             ],
             [
              0.1111111111111111,
              "#46039f"
             ],
             [
              0.2222222222222222,
              "#7201a8"
             ],
             [
              0.3333333333333333,
              "#9c179e"
             ],
             [
              0.4444444444444444,
              "#bd3786"
             ],
             [
              0.5555555555555556,
              "#d8576b"
             ],
             [
              0.6666666666666666,
              "#ed7953"
             ],
             [
              0.7777777777777778,
              "#fb9f3a"
             ],
             [
              0.8888888888888888,
              "#fdca26"
             ],
             [
              1,
              "#f0f921"
             ]
            ],
            "type": "contour"
           }
          ],
          "contourcarpet": [
           {
            "colorbar": {
             "outlinewidth": 0,
             "ticks": ""
            },
            "type": "contourcarpet"
           }
          ],
          "heatmap": [
           {
            "colorbar": {
             "outlinewidth": 0,
             "ticks": ""
            },
            "colorscale": [
             [
              0,
              "#0d0887"
             ],
             [
              0.1111111111111111,
              "#46039f"
             ],
             [
              0.2222222222222222,
              "#7201a8"
             ],
             [
              0.3333333333333333,
              "#9c179e"
             ],
             [
              0.4444444444444444,
              "#bd3786"
             ],
             [
              0.5555555555555556,
              "#d8576b"
             ],
             [
              0.6666666666666666,
              "#ed7953"
             ],
             [
              0.7777777777777778,
              "#fb9f3a"
             ],
             [
              0.8888888888888888,
              "#fdca26"
             ],
             [
              1,
              "#f0f921"
             ]
            ],
            "type": "heatmap"
           }
          ],
          "heatmapgl": [
           {
            "colorbar": {
             "outlinewidth": 0,
             "ticks": ""
            },
            "colorscale": [
             [
              0,
              "#0d0887"
             ],
             [
              0.1111111111111111,
              "#46039f"
             ],
             [
              0.2222222222222222,
              "#7201a8"
             ],
             [
              0.3333333333333333,
              "#9c179e"
             ],
             [
              0.4444444444444444,
              "#bd3786"
             ],
             [
              0.5555555555555556,
              "#d8576b"
             ],
             [
              0.6666666666666666,
              "#ed7953"
             ],
             [
              0.7777777777777778,
              "#fb9f3a"
             ],
             [
              0.8888888888888888,
              "#fdca26"
             ],
             [
              1,
              "#f0f921"
             ]
            ],
            "type": "heatmapgl"
           }
          ],
          "histogram": [
           {
            "marker": {
             "line": {
              "width": 1
             },
             "pattern": {
              "fillmode": "overlay",
              "size": 10,
              "solidity": 0.2
             }
            },
            "type": "histogram"
           }
          ],
          "histogram2d": [
           {
            "colorbar": {
             "outlinewidth": 0,
             "ticks": ""
            },
            "colorscale": [
             [
              0,
              "#0d0887"
             ],
             [
              0.1111111111111111,
              "#46039f"
             ],
             [
              0.2222222222222222,
              "#7201a8"
             ],
             [
              0.3333333333333333,
              "#9c179e"
             ],
             [
              0.4444444444444444,
              "#bd3786"
             ],
             [
              0.5555555555555556,
              "#d8576b"
             ],
             [
              0.6666666666666666,
              "#ed7953"
             ],
             [
              0.7777777777777778,
              "#fb9f3a"
             ],
             [
              0.8888888888888888,
              "#fdca26"
             ],
             [
              1,
              "#f0f921"
             ]
            ],
            "type": "histogram2d"
           }
          ],
          "histogram2dcontour": [
           {
            "colorbar": {
             "outlinewidth": 0,
             "ticks": ""
            },
            "colorscale": [
             [
              0,
              "#0d0887"
             ],
             [
              0.1111111111111111,
              "#46039f"
             ],
             [
              0.2222222222222222,
              "#7201a8"
             ],
             [
              0.3333333333333333,
              "#9c179e"
             ],
             [
              0.4444444444444444,
              "#bd3786"
             ],
             [
              0.5555555555555556,
              "#d8576b"
             ],
             [
              0.6666666666666666,
              "#ed7953"
             ],
             [
              0.7777777777777778,
              "#fb9f3a"
             ],
             [
              0.8888888888888888,
              "#fdca26"
             ],
             [
              1,
              "#f0f921"
             ]
            ],
            "type": "histogram2dcontour"
           }
          ],
          "mesh3d": [
           {
            "colorbar": {
             "outlinewidth": 0,
             "ticks": ""
            },
            "type": "mesh3d"
           }
          ],
          "parcoords": [
           {
            "line": {
             "colorbar": {
              "outlinewidth": 0,
              "ticks": ""
             }
            },
            "type": "parcoords"
           }
          ],
          "pie": [
           {
            "automargin": true,
            "type": "pie"
           }
          ],
          "scatter": [
           {
            "fillpattern": {
             "fillmode": "overlay",
             "size": 10,
             "solidity": 0.2
            },
            "marker": {
             "opacity": 0.8
            },
            "type": "scatter"
           }
          ],
          "scatter3d": [
           {
            "line": {
             "colorbar": {
              "outlinewidth": 0,
              "ticks": ""
             }
            },
            "marker": {
             "colorbar": {
              "outlinewidth": 0,
              "ticks": ""
             },
             "opacity": 0.8
            },
            "type": "scatter3d"
           }
          ],
          "scattercarpet": [
           {
            "marker": {
             "colorbar": {
              "outlinewidth": 0,
              "ticks": ""
             }
            },
            "type": "scattercarpet"
           }
          ],
          "scattergeo": [
           {
            "marker": {
             "colorbar": {
              "outlinewidth": 0,
              "ticks": ""
             }
            },
            "type": "scattergeo"
           }
          ],
          "scattergl": [
           {
            "marker": {
             "colorbar": {
              "outlinewidth": 0,
              "ticks": ""
             }
            },
            "type": "scattergl"
           }
          ],
          "scattermapbox": [
           {
            "marker": {
             "colorbar": {
              "outlinewidth": 0,
              "ticks": ""
             }
            },
            "type": "scattermapbox"
           }
          ],
          "scatterpolar": [
           {
            "marker": {
             "colorbar": {
              "outlinewidth": 0,
              "ticks": ""
             }
            },
            "type": "scatterpolar"
           }
          ],
          "scatterpolargl": [
           {
            "marker": {
             "colorbar": {
              "outlinewidth": 0,
              "ticks": ""
             }
            },
            "type": "scatterpolargl"
           }
          ],
          "scatterternary": [
           {
            "marker": {
             "colorbar": {
              "outlinewidth": 0,
              "ticks": ""
             }
            },
            "type": "scatterternary"
           }
          ],
          "surface": [
           {
            "colorbar": {
             "outlinewidth": 0,
             "ticks": ""
            },
            "colorscale": [
             [
              0,
              "#0d0887"
             ],
             [
              0.1111111111111111,
              "#46039f"
             ],
             [
              0.2222222222222222,
              "#7201a8"
             ],
             [
              0.3333333333333333,
              "#9c179e"
             ],
             [
              0.4444444444444444,
              "#bd3786"
             ],
             [
              0.5555555555555556,
              "#d8576b"
             ],
             [
              0.6666666666666666,
              "#ed7953"
             ],
             [
              0.7777777777777778,
              "#fb9f3a"
             ],
             [
              0.8888888888888888,
              "#fdca26"
             ],
             [
              1,
              "#f0f921"
             ]
            ],
            "type": "surface"
           }
          ],
          "table": [
           {
            "cells": {
             "fill": {
              "color": "#EBF0F8"
             },
             "line": {
              "color": "white"
             }
            },
            "header": {
             "fill": {
              "color": "#C8D4E3"
             },
             "line": {
              "color": "white"
             }
            },
            "type": "table"
           }
          ]
         },
         "layout": {
          "annotationdefaults": {
           "arrowcolor": "#2a3f5f",
           "arrowhead": 0,
           "arrowwidth": 1
          },
          "autotypenumbers": "strict",
          "coloraxis": {
           "colorbar": {
            "outlinewidth": 0,
            "ticks": ""
           }
          },
          "colorscale": {
           "diverging": [
            [
             0,
             "#8e0152"
            ],
            [
             0.1,
             "#c51b7d"
            ],
            [
             0.2,
             "#de77ae"
            ],
            [
             0.3,
             "#f1b6da"
            ],
            [
             0.4,
             "#fde0ef"
            ],
            [
             0.5,
             "#f7f7f7"
            ],
            [
             0.6,
             "#e6f5d0"
            ],
            [
             0.7,
             "#b8e186"
            ],
            [
             0.8,
             "#7fbc41"
            ],
            [
             0.9,
             "#4d9221"
            ],
            [
             1,
             "#276419"
            ]
           ],
           "sequential": [
            [
             0,
             "#0d0887"
            ],
            [
             0.1111111111111111,
             "#46039f"
            ],
            [
             0.2222222222222222,
             "#7201a8"
            ],
            [
             0.3333333333333333,
             "#9c179e"
            ],
            [
             0.4444444444444444,
             "#bd3786"
            ],
            [
             0.5555555555555556,
             "#d8576b"
            ],
            [
             0.6666666666666666,
             "#ed7953"
            ],
            [
             0.7777777777777778,
             "#fb9f3a"
            ],
            [
             0.8888888888888888,
             "#fdca26"
            ],
            [
             1,
             "#f0f921"
            ]
           ],
           "sequentialminus": [
            [
             0,
             "#0d0887"
            ],
            [
             0.1111111111111111,
             "#46039f"
            ],
            [
             0.2222222222222222,
             "#7201a8"
            ],
            [
             0.3333333333333333,
             "#9c179e"
            ],
            [
             0.4444444444444444,
             "#bd3786"
            ],
            [
             0.5555555555555556,
             "#d8576b"
            ],
            [
             0.6666666666666666,
             "#ed7953"
            ],
            [
             0.7777777777777778,
             "#fb9f3a"
            ],
            [
             0.8888888888888888,
             "#fdca26"
            ],
            [
             1,
             "#f0f921"
            ]
           ]
          },
          "colorway": [
           "#636efa",
           "#EF553B",
           "#00cc96",
           "#ab63fa",
           "#FFA15A",
           "#19d3f3",
           "#FF6692",
           "#B6E880",
           "#FF97FF",
           "#FECB52"
          ],
          "font": {
           "color": "#2a3f5f"
          },
          "geo": {
           "bgcolor": "white",
           "lakecolor": "white",
           "landcolor": "white",
           "showlakes": true,
           "showland": true,
           "subunitcolor": "#C8D4E3"
          },
          "height": 400,
          "hoverlabel": {
           "align": "left"
          },
          "hovermode": "closest",
          "mapbox": {
           "style": "light"
          },
          "margin": {
           "b": 2,
           "l": 2,
           "r": 2,
           "t": 30
          },
          "paper_bgcolor": "white",
          "plot_bgcolor": "white",
          "polar": {
           "angularaxis": {
            "gridcolor": "#EBF0F8",
            "linecolor": "#EBF0F8",
            "ticks": ""
           },
           "bgcolor": "white",
           "radialaxis": {
            "gridcolor": "#EBF0F8",
            "linecolor": "#EBF0F8",
            "ticks": ""
           }
          },
          "scene": {
           "camera": {
            "eye": {
             "x": 1.5,
             "y": 1.5,
             "z": 0.1
            }
           },
           "xaxis": {
            "backgroundcolor": "white",
            "gridcolor": "#DFE8F3",
            "gridwidth": 2,
            "linecolor": "#EBF0F8",
            "showbackground": true,
            "ticks": "",
            "zerolinecolor": "#EBF0F8"
           },
           "yaxis": {
            "backgroundcolor": "white",
            "gridcolor": "#DFE8F3",
            "gridwidth": 2,
            "linecolor": "#EBF0F8",
            "showbackground": true,
            "ticks": "",
            "zerolinecolor": "#EBF0F8"
           },
           "zaxis": {
            "backgroundcolor": "white",
            "gridcolor": "#DFE8F3",
            "gridwidth": 2,
            "linecolor": "#EBF0F8",
            "showbackground": true,
            "ticks": "",
            "zerolinecolor": "#EBF0F8"
           }
          },
          "shapedefaults": {
           "line": {
            "color": "#2a3f5f"
           }
          },
          "ternary": {
           "aaxis": {
            "gridcolor": "#DFE8F3",
            "linecolor": "#A2B1C6",
            "ticks": ""
           },
           "baxis": {
            "gridcolor": "#DFE8F3",
            "linecolor": "#A2B1C6",
            "ticks": ""
           },
           "bgcolor": "white",
           "caxis": {
            "gridcolor": "#DFE8F3",
            "linecolor": "#A2B1C6",
            "ticks": ""
           }
          },
          "title": {
           "x": 0.5
          },
          "xaxis": {
           "automargin": true,
           "gridcolor": "#EBF0F8",
           "linecolor": "#EBF0F8",
           "linewidth": 2,
           "showline": true,
           "ticks": "",
           "title": {
            "standoff": 15
           },
           "zerolinecolor": "#EBF0F8",
           "zerolinewidth": 2
          },
          "yaxis": {
           "automargin": true,
           "gridcolor": "#EBF0F8",
           "linecolor": "#EBF0F8",
           "linewidth": 2,
           "showline": true,
           "ticks": "",
           "title": {
            "standoff": 15
           },
           "zerolinecolor": "#EBF0F8",
           "zerolinewidth": 2
          }
         }
        },
        "title": {
         "text": "<b>Confusion matrix</b>"
        },
        "xaxis": {
         "dtick": 1,
         "gridcolor": "rgb(0, 0, 0)",
         "side": "top",
         "ticks": ""
        },
        "yaxis": {
         "categoryorder": "category descending",
         "dtick": 1,
         "ticks": "",
         "ticksuffix": "  "
        }
       }
      }
     },
     "metadata": {},
     "output_type": "display_data"
    }
   ],
   "source": [
    "# We use plotly to create plots and charts\n",
    "import plotly.figure_factory as ff\n",
    "\n",
    "# Create the list of unique labels in the test set, to use in our plot\n",
    "# I.e., ['animal', 'hiker', 'rock', 'tree']\n",
    "x = y = sorted(list(test[\"label\"].unique()))\n",
    "\n",
    "# Plot the matrix above as a heatmap with annotations (values) in its cells\n",
    "fig = ff.create_annotated_heatmap(cm, x, y)\n",
    "\n",
    "# Set titles and ordering\n",
    "fig.update_layout(  title_text=\"<b>Confusion matrix</b>\", \n",
    "                    yaxis = dict(categoryorder = \"category descending\"))\n",
    "\n",
    "fig.add_annotation(dict(font=dict(color=\"black\",size=14),\n",
    "                        x=0.5,\n",
    "                        y=-0.15,\n",
    "                        showarrow=False,\n",
    "                        text=\"Predicted label\",\n",
    "                        xref=\"paper\",\n",
    "                        yref=\"paper\"))\n",
    "\n",
    "fig.add_annotation(dict(font=dict(color=\"black\",size=14),\n",
    "                        x=-0.15,\n",
    "                        y=0.5,\n",
    "                        showarrow=False,\n",
    "                        text=\"Actual label\",\n",
    "                        textangle=-90,\n",
    "                        xref=\"paper\",\n",
    "                        yref=\"paper\"))\n",
    "\n",
    "# We need margins so the titles fit\n",
    "fig.update_layout(margin=dict(t=80, r=20, l=100, b=50))\n",
    "fig['data'][0]['showscale'] = True\n",
    "fig.show()"
   ]
  },
  {
   "cell_type": "markdown",
   "metadata": {},
   "source": [
    "IMBALANCED MODEL BIAS"
   ]
  },
  {
   "cell_type": "markdown",
   "metadata": {},
   "source": [
    "Using binary classification"
   ]
  },
  {
   "cell_type": "code",
   "execution_count": 13,
   "metadata": {},
   "outputs": [
    {
     "data": {
      "application/vnd.plotly.v1+json": {
       "config": {
        "plotlyServerURL": "https://plot.ly"
       },
       "data": [
        {
         "histfunc": "count",
         "name": "False",
         "type": "histogram",
         "x": [
          false,
          false,
          false,
          false,
          false,
          false,
          false,
          false,
          false,
          false,
          false,
          false,
          false,
          false,
          false,
          false,
          false,
          false,
          false,
          false,
          false,
          false,
          false,
          false,
          false,
          false,
          false,
          false,
          false,
          false,
          false,
          false,
          false,
          false,
          false,
          false,
          false,
          false,
          false,
          false,
          false,
          false,
          false,
          false,
          false,
          false,
          false,
          false,
          false,
          false,
          false,
          false,
          false,
          false,
          false,
          false,
          false,
          false,
          false,
          false,
          false,
          false,
          false,
          false,
          false,
          false,
          false,
          false,
          false,
          false,
          false,
          false,
          false,
          false,
          false,
          false,
          false,
          false,
          false,
          false,
          false,
          false,
          false,
          false,
          false,
          false,
          false,
          false,
          false,
          false,
          false,
          false,
          false,
          false,
          false,
          false,
          false,
          false,
          false,
          false,
          false,
          false,
          false,
          false,
          false,
          false,
          false,
          false,
          false,
          false,
          false,
          false,
          false,
          false,
          false,
          false,
          false,
          false,
          false,
          false,
          false,
          false,
          false,
          false,
          false,
          false,
          false,
          false,
          false,
          false,
          false,
          false,
          false,
          false,
          false,
          false,
          false,
          false,
          false,
          false,
          false,
          false,
          false,
          false,
          false,
          false,
          false,
          false,
          false,
          false,
          false,
          false,
          false,
          false,
          false,
          false,
          false,
          false,
          false,
          false,
          false,
          false,
          false,
          false,
          false,
          false,
          false,
          false,
          false,
          false,
          false,
          false,
          false,
          false,
          false,
          false,
          false,
          false,
          false,
          false,
          false,
          false,
          false,
          false,
          false,
          false,
          false,
          false,
          false,
          false,
          false,
          false,
          false,
          false,
          false,
          false,
          false,
          false,
          false,
          false,
          false,
          false,
          false,
          false,
          false,
          false,
          false,
          false,
          false,
          false,
          false,
          false,
          false,
          false,
          false,
          false,
          false,
          false,
          false,
          false,
          false,
          false,
          false,
          false,
          false,
          false,
          false,
          false,
          false,
          false,
          false,
          false,
          false,
          false,
          false,
          false,
          false,
          false,
          false,
          false,
          false,
          false,
          false,
          false,
          false,
          false,
          false,
          false,
          false,
          false,
          false,
          false,
          false,
          false,
          false,
          false,
          false,
          false,
          false,
          false,
          false,
          false,
          false,
          false,
          false,
          false,
          false,
          false,
          false,
          false,
          false,
          false,
          false,
          false,
          false,
          false,
          false,
          false,
          false,
          false,
          false,
          false,
          false,
          false,
          false,
          false,
          false,
          false,
          false,
          false,
          false,
          false,
          false,
          false,
          false,
          false,
          false,
          false,
          false,
          false,
          false,
          false,
          false,
          false,
          false,
          false,
          false,
          false,
          false,
          false,
          false,
          false,
          false,
          false,
          false,
          false,
          false,
          false,
          false,
          false,
          false,
          false,
          false,
          false,
          false,
          false,
          false,
          false,
          false,
          false,
          false,
          false,
          false,
          false,
          false,
          false,
          false,
          false,
          false,
          false,
          false,
          false,
          false,
          false,
          false,
          false,
          false,
          false,
          false,
          false,
          false,
          false,
          false,
          false,
          false,
          false,
          false,
          false,
          false,
          false,
          false,
          false,
          false,
          false,
          false,
          false,
          false,
          false,
          false,
          false,
          false,
          false,
          false,
          false,
          false,
          false,
          false,
          false,
          false,
          false,
          false,
          false,
          false,
          false,
          false,
          false,
          false,
          false,
          false,
          false,
          false,
          false,
          false,
          false,
          false,
          false,
          false,
          false,
          false,
          false,
          false,
          false,
          false,
          false,
          false,
          false,
          false,
          false,
          false,
          false,
          false,
          false,
          false,
          false,
          false,
          false,
          false,
          false,
          false,
          false,
          false,
          false,
          false,
          false,
          false,
          false,
          false,
          false,
          false,
          false,
          false,
          false,
          false,
          false,
          false,
          false,
          false,
          false,
          false,
          false,
          false,
          false,
          false,
          false,
          false,
          false,
          false,
          false,
          false,
          false,
          false,
          false,
          false,
          false,
          false,
          false,
          false,
          false,
          false,
          false,
          false,
          false,
          false,
          false,
          false,
          false,
          false,
          false,
          false,
          false,
          false,
          false,
          false,
          false,
          false,
          false,
          false,
          false,
          false,
          false,
          false,
          false,
          false,
          false,
          false,
          false,
          false,
          false,
          false,
          false,
          false,
          false,
          false,
          false,
          false,
          false,
          false,
          false,
          false,
          false,
          false,
          false,
          false,
          false,
          false,
          false,
          false,
          false,
          false,
          false,
          false,
          false,
          false,
          false,
          false,
          false,
          false,
          false,
          false,
          false,
          false,
          false,
          false,
          false,
          false,
          false,
          false,
          false,
          false,
          false,
          false,
          false,
          false,
          false,
          false,
          false,
          false,
          false,
          false,
          false,
          false,
          false,
          false,
          false,
          false,
          false,
          false,
          false,
          false,
          false,
          false,
          false,
          false,
          false,
          false,
          false,
          false,
          false,
          false,
          false,
          false,
          false,
          false,
          false,
          false,
          false,
          false,
          false,
          false,
          false,
          false,
          false,
          false,
          false,
          false,
          false,
          false,
          false,
          false,
          false,
          false,
          false,
          false,
          false,
          false,
          false,
          false,
          false,
          false,
          false,
          false,
          false,
          false,
          false,
          false,
          false,
          false,
          false,
          false,
          false,
          false,
          false,
          false,
          false,
          false,
          false,
          false,
          false,
          false,
          false,
          false,
          false,
          false,
          false,
          false,
          false,
          false,
          false,
          false,
          false,
          false,
          false,
          false,
          false,
          false,
          false,
          false,
          false,
          false,
          false,
          false,
          false,
          false,
          false,
          false,
          false,
          false,
          false,
          false,
          false,
          false,
          false,
          false,
          false,
          false,
          false,
          false,
          false,
          false,
          false,
          false,
          false,
          false,
          false,
          false,
          false,
          false,
          false,
          false,
          false,
          false,
          false,
          false,
          false,
          false,
          false,
          false,
          false,
          false,
          false,
          false,
          false,
          false,
          false,
          false,
          false,
          false,
          false,
          false,
          false,
          false,
          false,
          false,
          false,
          false,
          false,
          false,
          false,
          false,
          false,
          false,
          false,
          false,
          false,
          false,
          false,
          false,
          false,
          false,
          false,
          false,
          false,
          false,
          false,
          false,
          false,
          false,
          false,
          false,
          false,
          false,
          false,
          false,
          false,
          false,
          false,
          false,
          false,
          false,
          false,
          false,
          false,
          false,
          false,
          false,
          false,
          false,
          false,
          false,
          false,
          false,
          false,
          false,
          false,
          false,
          false,
          false,
          false,
          false,
          false,
          false,
          false,
          false,
          false,
          false,
          false,
          false,
          false,
          false,
          false,
          false,
          false,
          false,
          false,
          false,
          false,
          false,
          false,
          false,
          false,
          false,
          false,
          false,
          false,
          false,
          false,
          false,
          false,
          false,
          false,
          false,
          false,
          false,
          false,
          false,
          false,
          false,
          false,
          false,
          false,
          false,
          false,
          false,
          false,
          false,
          false,
          false,
          false,
          false,
          false,
          false,
          false,
          false,
          false,
          false,
          false,
          false,
          false,
          false,
          false,
          false,
          false,
          false,
          false,
          false,
          false,
          false,
          false,
          false,
          false,
          false,
          false,
          false,
          false,
          false,
          false,
          false,
          false,
          false,
          false,
          false,
          false,
          false,
          false,
          false,
          false,
          false,
          false,
          false,
          false,
          false,
          false,
          false,
          false,
          false,
          false,
          false,
          false,
          false,
          false,
          false,
          false,
          false,
          false,
          false,
          false,
          false,
          false,
          false,
          false,
          false,
          false,
          false,
          false,
          false,
          false,
          false,
          false,
          false,
          false,
          false,
          false,
          false,
          false,
          false,
          false,
          false,
          false,
          false,
          false,
          false,
          false,
          false,
          false,
          false,
          false,
          false,
          false,
          false,
          false,
          false,
          false,
          false,
          false,
          false,
          false,
          false,
          false,
          false,
          false,
          false,
          false,
          false,
          false,
          false,
          false,
          false,
          false,
          false,
          false,
          false,
          false,
          false,
          false,
          false,
          false,
          false,
          false,
          false,
          false,
          false,
          false,
          false,
          false,
          false,
          false,
          false,
          false,
          false,
          false,
          false,
          false,
          false,
          false,
          false,
          false,
          false,
          false,
          false,
          false,
          false,
          false,
          false,
          false,
          false,
          false,
          false,
          false,
          false,
          false,
          false,
          false,
          false,
          false,
          false,
          false,
          false,
          false,
          false,
          false,
          false,
          false,
          false,
          false,
          false,
          false,
          false,
          false,
          false,
          false,
          false,
          false,
          false,
          false,
          false,
          false,
          false,
          false,
          false,
          false,
          false,
          false,
          false,
          false,
          false,
          false,
          false,
          false,
          false,
          false,
          false,
          false,
          false,
          false,
          false,
          false,
          false,
          false,
          false,
          false,
          false,
          false,
          false,
          false,
          false,
          false,
          false,
          false,
          false,
          false,
          false,
          false,
          false,
          false,
          false,
          false,
          false,
          false,
          false,
          false,
          false,
          false,
          false,
          false,
          false,
          false,
          false,
          false,
          false,
          false,
          false,
          false,
          false,
          false,
          false,
          false,
          false,
          false,
          false,
          false,
          false,
          false,
          false,
          false,
          false,
          false,
          false,
          false,
          false,
          false,
          false,
          false,
          false,
          false,
          false,
          false,
          false,
          false,
          false,
          false,
          false,
          false,
          false,
          false,
          false,
          false,
          false,
          false,
          false,
          false,
          false,
          false,
          false,
          false,
          false,
          false,
          false,
          false,
          false,
          false,
          false,
          false,
          false,
          false,
          false,
          false,
          false,
          false,
          false,
          false,
          false,
          false,
          false,
          false,
          false,
          false,
          false,
          false,
          false,
          false,
          false,
          false,
          false,
          false,
          false,
          false,
          false,
          false,
          false,
          false,
          false,
          false,
          false,
          false,
          false,
          false,
          false,
          false,
          false,
          false,
          false,
          false,
          false,
          false,
          false,
          false,
          false,
          false,
          false,
          false,
          false,
          false,
          false,
          false,
          false,
          false,
          false,
          false,
          false,
          false,
          false,
          false,
          false,
          false,
          false,
          false,
          false,
          false,
          false,
          false,
          false,
          false,
          false,
          false,
          false,
          false,
          false,
          false,
          false,
          false,
          false,
          false,
          false,
          false,
          false,
          false,
          false,
          false,
          false,
          false,
          false,
          false,
          false,
          false,
          false,
          false,
          false,
          false,
          false,
          false,
          false,
          false,
          false,
          false,
          false,
          false,
          false,
          false,
          false,
          false,
          false,
          false,
          false,
          false,
          false,
          false,
          false,
          false,
          false,
          false,
          false,
          false,
          false,
          false,
          false,
          false,
          false,
          false,
          false,
          false,
          false,
          false,
          false,
          false,
          false,
          false,
          false,
          false,
          false,
          false,
          false,
          false,
          false,
          false,
          false,
          false,
          false,
          false,
          false,
          false,
          false,
          false,
          false,
          false,
          false,
          false,
          false,
          false,
          false,
          false,
          false,
          false,
          false,
          false,
          false,
          false,
          false,
          false,
          false,
          false,
          false,
          false,
          false,
          false,
          false,
          false,
          false,
          false,
          false,
          false,
          false,
          false,
          false,
          false,
          false,
          false,
          false,
          false,
          false,
          false,
          false,
          false,
          false,
          false,
          false,
          false,
          false,
          false,
          false,
          false,
          false,
          false,
          false,
          false,
          false,
          false,
          false,
          false,
          false,
          false,
          false,
          false,
          false,
          false,
          false,
          false,
          false,
          false,
          false,
          false,
          false,
          false,
          false,
          false,
          false,
          false,
          false,
          false,
          false,
          false,
          false,
          false,
          false,
          false,
          false,
          false,
          false,
          false,
          false,
          false,
          false,
          false,
          false,
          false,
          false,
          false,
          false,
          false,
          false,
          false,
          false,
          false,
          false,
          false,
          false,
          false,
          false,
          false,
          false,
          false,
          false,
          false,
          false,
          false,
          false,
          false,
          false,
          false,
          false,
          false,
          false,
          false,
          false,
          false,
          false,
          false,
          false,
          false,
          false,
          false,
          false,
          false,
          false,
          false,
          false,
          false,
          false,
          false,
          false,
          false,
          false,
          false,
          false,
          false,
          false,
          false,
          false,
          false,
          false,
          false,
          false,
          false,
          false,
          false,
          false,
          false,
          false,
          false,
          false,
          false,
          false,
          false,
          false,
          false,
          false,
          false,
          false,
          false,
          false,
          false,
          false,
          false,
          false,
          false,
          false,
          false,
          false,
          false,
          false,
          false,
          false,
          false,
          false,
          false,
          false,
          false,
          false,
          false,
          false,
          false,
          false,
          false,
          false,
          false,
          false,
          false,
          false,
          false,
          false,
          false,
          false,
          false,
          false,
          false,
          false,
          false,
          false,
          false,
          false,
          false,
          false,
          false,
          false,
          false,
          false,
          false,
          false,
          false,
          false,
          false,
          false,
          false,
          false,
          false,
          false,
          false,
          false,
          false,
          false,
          false,
          false,
          false,
          false,
          false,
          false,
          false,
          false,
          false,
          false,
          false,
          false,
          false,
          false,
          false,
          false,
          false,
          false,
          false,
          false,
          false,
          false,
          false,
          false,
          false,
          false,
          false,
          false,
          false,
          false,
          false,
          false,
          false,
          false,
          false,
          false,
          false,
          false,
          false,
          false,
          false,
          false,
          false,
          false,
          false,
          false,
          false,
          false,
          false,
          false,
          false,
          false,
          false,
          false,
          false,
          false,
          false,
          false,
          false,
          false,
          false,
          false,
          false,
          false,
          false,
          false,
          false,
          false,
          false,
          false,
          false,
          false,
          false,
          false,
          false,
          false,
          false,
          false,
          false,
          false,
          false,
          false,
          false,
          false,
          false,
          false,
          false,
          false,
          false,
          false,
          false,
          false,
          false,
          false,
          false,
          false,
          false,
          false,
          false,
          false,
          false,
          false,
          false,
          false,
          false,
          false,
          false,
          false,
          false,
          false,
          false,
          false,
          false,
          false,
          false,
          false,
          false,
          false,
          false,
          false,
          false,
          false,
          false,
          false,
          false,
          false,
          false,
          false,
          false,
          false,
          false,
          false,
          false,
          false,
          false,
          false,
          false,
          false,
          false,
          false,
          false,
          false,
          false,
          false,
          false,
          false,
          false,
          false,
          false,
          false,
          false,
          false,
          false,
          false,
          false,
          false,
          false,
          false,
          false,
          false,
          false,
          false,
          false,
          false,
          false,
          false,
          false,
          false,
          false,
          false,
          false,
          false,
          false,
          false,
          false,
          false,
          false,
          false,
          false,
          false,
          false,
          false,
          false,
          false,
          false,
          false,
          false,
          false,
          false,
          false,
          false,
          false,
          false,
          false,
          false,
          false,
          false,
          false,
          false,
          false,
          false,
          false,
          false,
          false,
          false,
          false,
          false,
          false,
          false,
          false,
          false,
          false,
          false,
          false,
          false,
          false,
          false,
          false,
          false,
          false,
          false,
          false,
          false,
          false,
          false,
          false,
          false,
          false,
          false,
          false,
          false,
          false,
          false,
          false,
          false,
          false,
          false,
          false,
          false,
          false,
          false,
          false,
          false,
          false,
          false,
          false,
          false,
          false,
          false,
          false,
          false,
          false,
          false,
          false,
          false,
          false,
          false,
          false,
          false,
          false,
          false,
          false,
          false,
          false,
          false,
          false,
          false,
          false,
          false,
          false,
          false,
          false,
          false,
          false,
          false,
          false,
          false,
          false,
          false,
          false,
          false,
          false,
          false,
          false,
          false,
          false,
          false,
          false,
          false,
          false,
          false,
          false,
          false,
          false,
          false,
          false,
          false,
          false,
          false,
          false,
          false,
          false,
          false,
          false,
          false,
          false,
          false,
          false,
          false,
          false,
          false,
          false,
          false,
          false,
          false,
          false,
          false,
          false,
          false,
          false,
          false,
          false,
          false,
          false,
          false,
          false,
          false,
          false,
          false,
          false,
          false,
          false,
          false,
          false,
          false,
          false,
          false,
          false,
          false,
          false,
          false,
          false,
          false,
          false,
          false,
          false,
          false,
          false,
          false,
          false,
          false
         ]
        },
        {
         "histfunc": "count",
         "name": "True",
         "type": "histogram",
         "x": [
          true,
          true,
          true,
          true,
          true,
          true,
          true,
          true,
          true,
          true,
          true,
          true,
          true,
          true,
          true,
          true,
          true,
          true,
          true,
          true,
          true,
          true,
          true,
          true,
          true,
          true,
          true,
          true,
          true,
          true,
          true,
          true,
          true,
          true,
          true,
          true,
          true,
          true,
          true,
          true,
          true,
          true,
          true,
          true,
          true,
          true,
          true,
          true,
          true,
          true,
          true,
          true,
          true,
          true,
          true,
          true,
          true,
          true,
          true,
          true,
          true,
          true,
          true,
          true,
          true,
          true,
          true,
          true,
          true,
          true,
          true,
          true,
          true,
          true,
          true,
          true,
          true,
          true,
          true,
          true,
          true,
          true,
          true,
          true,
          true,
          true,
          true,
          true,
          true,
          true,
          true,
          true,
          true,
          true,
          true,
          true,
          true,
          true,
          true,
          true,
          true,
          true,
          true,
          true,
          true,
          true,
          true,
          true,
          true,
          true,
          true,
          true,
          true,
          true,
          true,
          true,
          true,
          true,
          true,
          true,
          true,
          true,
          true,
          true,
          true,
          true,
          true,
          true,
          true,
          true,
          true,
          true,
          true,
          true,
          true,
          true,
          true,
          true,
          true,
          true,
          true,
          true,
          true,
          true,
          true,
          true,
          true,
          true,
          true,
          true,
          true,
          true,
          true,
          true,
          true,
          true,
          true,
          true,
          true,
          true,
          true,
          true,
          true,
          true,
          true,
          true,
          true,
          true,
          true,
          true,
          true,
          true,
          true,
          true,
          true,
          true,
          true,
          true,
          true,
          true,
          true,
          true,
          true,
          true,
          true,
          true,
          true,
          true,
          true,
          true,
          true,
          true,
          true,
          true,
          true,
          true,
          true,
          true,
          true,
          true,
          true,
          true,
          true,
          true,
          true,
          true,
          true,
          true,
          true,
          true,
          true,
          true,
          true,
          true,
          true,
          true,
          true,
          true,
          true,
          true,
          true,
          true,
          true,
          true,
          true,
          true,
          true,
          true,
          true,
          true,
          true,
          true,
          true,
          true,
          true,
          true,
          true,
          true,
          true,
          true,
          true,
          true,
          true,
          true,
          true,
          true,
          true,
          true,
          true,
          true,
          true,
          true,
          true,
          true,
          true,
          true,
          true,
          true,
          true,
          true,
          true,
          true,
          true,
          true,
          true,
          true,
          true,
          true,
          true,
          true,
          true,
          true,
          true,
          true,
          true,
          true,
          true,
          true,
          true,
          true,
          true,
          true,
          true,
          true,
          true,
          true,
          true,
          true,
          true,
          true,
          true,
          true,
          true,
          true,
          true,
          true,
          true,
          true,
          true,
          true,
          true,
          true,
          true,
          true,
          true,
          true,
          true,
          true,
          true,
          true,
          true,
          true,
          true,
          true,
          true,
          true,
          true,
          true,
          true,
          true,
          true,
          true,
          true,
          true,
          true,
          true,
          true,
          true,
          true,
          true,
          true,
          true,
          true,
          true,
          true,
          true,
          true,
          true,
          true,
          true,
          true,
          true,
          true,
          true,
          true,
          true,
          true,
          true,
          true,
          true,
          true,
          true,
          true,
          true,
          true,
          true,
          true,
          true,
          true,
          true,
          true,
          true,
          true,
          true,
          true,
          true,
          true,
          true,
          true,
          true,
          true,
          true,
          true,
          true,
          true,
          true,
          true,
          true,
          true,
          true,
          true,
          true,
          true,
          true,
          true,
          true,
          true,
          true,
          true,
          true,
          true,
          true,
          true,
          true,
          true,
          true,
          true,
          true,
          true,
          true
         ]
        }
       ],
       "layout": {
        "legend": {
         "title": {
          "text": "is_hiker"
         }
        },
        "template": {
         "data": {
          "bar": [
           {
            "error_x": {
             "color": "#2a3f5f"
            },
            "error_y": {
             "color": "#2a3f5f"
            },
            "marker": {
             "line": {
              "color": "white",
              "width": 0.5
             },
             "pattern": {
              "fillmode": "overlay",
              "size": 10,
              "solidity": 0.2
             }
            },
            "type": "bar"
           }
          ],
          "barpolar": [
           {
            "marker": {
             "line": {
              "color": "white",
              "width": 0.5
             },
             "pattern": {
              "fillmode": "overlay",
              "size": 10,
              "solidity": 0.2
             }
            },
            "type": "barpolar"
           }
          ],
          "box": [
           {
            "boxpoints": "outliers",
            "notched": false,
            "type": "box"
           }
          ],
          "carpet": [
           {
            "aaxis": {
             "endlinecolor": "#2a3f5f",
             "gridcolor": "#C8D4E3",
             "linecolor": "#C8D4E3",
             "minorgridcolor": "#C8D4E3",
             "startlinecolor": "#2a3f5f"
            },
            "baxis": {
             "endlinecolor": "#2a3f5f",
             "gridcolor": "#C8D4E3",
             "linecolor": "#C8D4E3",
             "minorgridcolor": "#C8D4E3",
             "startlinecolor": "#2a3f5f"
            },
            "type": "carpet"
           }
          ],
          "choropleth": [
           {
            "colorbar": {
             "outlinewidth": 0,
             "ticks": ""
            },
            "type": "choropleth"
           }
          ],
          "contour": [
           {
            "colorbar": {
             "outlinewidth": 0,
             "ticks": ""
            },
            "colorscale": [
             [
              0,
              "#0d0887"
             ],
             [
              0.1111111111111111,
              "#46039f"
             ],
             [
              0.2222222222222222,
              "#7201a8"
             ],
             [
              0.3333333333333333,
              "#9c179e"
             ],
             [
              0.4444444444444444,
              "#bd3786"
             ],
             [
              0.5555555555555556,
              "#d8576b"
             ],
             [
              0.6666666666666666,
              "#ed7953"
             ],
             [
              0.7777777777777778,
              "#fb9f3a"
             ],
             [
              0.8888888888888888,
              "#fdca26"
             ],
             [
              1,
              "#f0f921"
             ]
            ],
            "type": "contour"
           }
          ],
          "contourcarpet": [
           {
            "colorbar": {
             "outlinewidth": 0,
             "ticks": ""
            },
            "type": "contourcarpet"
           }
          ],
          "heatmap": [
           {
            "colorbar": {
             "outlinewidth": 0,
             "ticks": ""
            },
            "colorscale": [
             [
              0,
              "#0d0887"
             ],
             [
              0.1111111111111111,
              "#46039f"
             ],
             [
              0.2222222222222222,
              "#7201a8"
             ],
             [
              0.3333333333333333,
              "#9c179e"
             ],
             [
              0.4444444444444444,
              "#bd3786"
             ],
             [
              0.5555555555555556,
              "#d8576b"
             ],
             [
              0.6666666666666666,
              "#ed7953"
             ],
             [
              0.7777777777777778,
              "#fb9f3a"
             ],
             [
              0.8888888888888888,
              "#fdca26"
             ],
             [
              1,
              "#f0f921"
             ]
            ],
            "type": "heatmap"
           }
          ],
          "heatmapgl": [
           {
            "colorbar": {
             "outlinewidth": 0,
             "ticks": ""
            },
            "colorscale": [
             [
              0,
              "#0d0887"
             ],
             [
              0.1111111111111111,
              "#46039f"
             ],
             [
              0.2222222222222222,
              "#7201a8"
             ],
             [
              0.3333333333333333,
              "#9c179e"
             ],
             [
              0.4444444444444444,
              "#bd3786"
             ],
             [
              0.5555555555555556,
              "#d8576b"
             ],
             [
              0.6666666666666666,
              "#ed7953"
             ],
             [
              0.7777777777777778,
              "#fb9f3a"
             ],
             [
              0.8888888888888888,
              "#fdca26"
             ],
             [
              1,
              "#f0f921"
             ]
            ],
            "type": "heatmapgl"
           }
          ],
          "histogram": [
           {
            "marker": {
             "line": {
              "width": 1
             },
             "pattern": {
              "fillmode": "overlay",
              "size": 10,
              "solidity": 0.2
             }
            },
            "type": "histogram"
           }
          ],
          "histogram2d": [
           {
            "colorbar": {
             "outlinewidth": 0,
             "ticks": ""
            },
            "colorscale": [
             [
              0,
              "#0d0887"
             ],
             [
              0.1111111111111111,
              "#46039f"
             ],
             [
              0.2222222222222222,
              "#7201a8"
             ],
             [
              0.3333333333333333,
              "#9c179e"
             ],
             [
              0.4444444444444444,
              "#bd3786"
             ],
             [
              0.5555555555555556,
              "#d8576b"
             ],
             [
              0.6666666666666666,
              "#ed7953"
             ],
             [
              0.7777777777777778,
              "#fb9f3a"
             ],
             [
              0.8888888888888888,
              "#fdca26"
             ],
             [
              1,
              "#f0f921"
             ]
            ],
            "type": "histogram2d"
           }
          ],
          "histogram2dcontour": [
           {
            "colorbar": {
             "outlinewidth": 0,
             "ticks": ""
            },
            "colorscale": [
             [
              0,
              "#0d0887"
             ],
             [
              0.1111111111111111,
              "#46039f"
             ],
             [
              0.2222222222222222,
              "#7201a8"
             ],
             [
              0.3333333333333333,
              "#9c179e"
             ],
             [
              0.4444444444444444,
              "#bd3786"
             ],
             [
              0.5555555555555556,
              "#d8576b"
             ],
             [
              0.6666666666666666,
              "#ed7953"
             ],
             [
              0.7777777777777778,
              "#fb9f3a"
             ],
             [
              0.8888888888888888,
              "#fdca26"
             ],
             [
              1,
              "#f0f921"
             ]
            ],
            "type": "histogram2dcontour"
           }
          ],
          "mesh3d": [
           {
            "colorbar": {
             "outlinewidth": 0,
             "ticks": ""
            },
            "type": "mesh3d"
           }
          ],
          "parcoords": [
           {
            "line": {
             "colorbar": {
              "outlinewidth": 0,
              "ticks": ""
             }
            },
            "type": "parcoords"
           }
          ],
          "pie": [
           {
            "automargin": true,
            "type": "pie"
           }
          ],
          "scatter": [
           {
            "fillpattern": {
             "fillmode": "overlay",
             "size": 10,
             "solidity": 0.2
            },
            "marker": {
             "opacity": 0.8
            },
            "type": "scatter"
           }
          ],
          "scatter3d": [
           {
            "line": {
             "colorbar": {
              "outlinewidth": 0,
              "ticks": ""
             }
            },
            "marker": {
             "colorbar": {
              "outlinewidth": 0,
              "ticks": ""
             },
             "opacity": 0.8
            },
            "type": "scatter3d"
           }
          ],
          "scattercarpet": [
           {
            "marker": {
             "colorbar": {
              "outlinewidth": 0,
              "ticks": ""
             }
            },
            "type": "scattercarpet"
           }
          ],
          "scattergeo": [
           {
            "marker": {
             "colorbar": {
              "outlinewidth": 0,
              "ticks": ""
             }
            },
            "type": "scattergeo"
           }
          ],
          "scattergl": [
           {
            "marker": {
             "colorbar": {
              "outlinewidth": 0,
              "ticks": ""
             }
            },
            "type": "scattergl"
           }
          ],
          "scattermapbox": [
           {
            "marker": {
             "colorbar": {
              "outlinewidth": 0,
              "ticks": ""
             }
            },
            "type": "scattermapbox"
           }
          ],
          "scatterpolar": [
           {
            "marker": {
             "colorbar": {
              "outlinewidth": 0,
              "ticks": ""
             }
            },
            "type": "scatterpolar"
           }
          ],
          "scatterpolargl": [
           {
            "marker": {
             "colorbar": {
              "outlinewidth": 0,
              "ticks": ""
             }
            },
            "type": "scatterpolargl"
           }
          ],
          "scatterternary": [
           {
            "marker": {
             "colorbar": {
              "outlinewidth": 0,
              "ticks": ""
             }
            },
            "type": "scatterternary"
           }
          ],
          "surface": [
           {
            "colorbar": {
             "outlinewidth": 0,
             "ticks": ""
            },
            "colorscale": [
             [
              0,
              "#0d0887"
             ],
             [
              0.1111111111111111,
              "#46039f"
             ],
             [
              0.2222222222222222,
              "#7201a8"
             ],
             [
              0.3333333333333333,
              "#9c179e"
             ],
             [
              0.4444444444444444,
              "#bd3786"
             ],
             [
              0.5555555555555556,
              "#d8576b"
             ],
             [
              0.6666666666666666,
              "#ed7953"
             ],
             [
              0.7777777777777778,
              "#fb9f3a"
             ],
             [
              0.8888888888888888,
              "#fdca26"
             ],
             [
              1,
              "#f0f921"
             ]
            ],
            "type": "surface"
           }
          ],
          "table": [
           {
            "cells": {
             "fill": {
              "color": "#EBF0F8"
             },
             "line": {
              "color": "white"
             }
            },
            "header": {
             "fill": {
              "color": "#C8D4E3"
             },
             "line": {
              "color": "white"
             }
            },
            "type": "table"
           }
          ]
         },
         "layout": {
          "annotationdefaults": {
           "arrowcolor": "#2a3f5f",
           "arrowhead": 0,
           "arrowwidth": 1
          },
          "autotypenumbers": "strict",
          "coloraxis": {
           "colorbar": {
            "outlinewidth": 0,
            "ticks": ""
           }
          },
          "colorscale": {
           "diverging": [
            [
             0,
             "#8e0152"
            ],
            [
             0.1,
             "#c51b7d"
            ],
            [
             0.2,
             "#de77ae"
            ],
            [
             0.3,
             "#f1b6da"
            ],
            [
             0.4,
             "#fde0ef"
            ],
            [
             0.5,
             "#f7f7f7"
            ],
            [
             0.6,
             "#e6f5d0"
            ],
            [
             0.7,
             "#b8e186"
            ],
            [
             0.8,
             "#7fbc41"
            ],
            [
             0.9,
             "#4d9221"
            ],
            [
             1,
             "#276419"
            ]
           ],
           "sequential": [
            [
             0,
             "#0d0887"
            ],
            [
             0.1111111111111111,
             "#46039f"
            ],
            [
             0.2222222222222222,
             "#7201a8"
            ],
            [
             0.3333333333333333,
             "#9c179e"
            ],
            [
             0.4444444444444444,
             "#bd3786"
            ],
            [
             0.5555555555555556,
             "#d8576b"
            ],
            [
             0.6666666666666666,
             "#ed7953"
            ],
            [
             0.7777777777777778,
             "#fb9f3a"
            ],
            [
             0.8888888888888888,
             "#fdca26"
            ],
            [
             1,
             "#f0f921"
            ]
           ],
           "sequentialminus": [
            [
             0,
             "#0d0887"
            ],
            [
             0.1111111111111111,
             "#46039f"
            ],
            [
             0.2222222222222222,
             "#7201a8"
            ],
            [
             0.3333333333333333,
             "#9c179e"
            ],
            [
             0.4444444444444444,
             "#bd3786"
            ],
            [
             0.5555555555555556,
             "#d8576b"
            ],
            [
             0.6666666666666666,
             "#ed7953"
            ],
            [
             0.7777777777777778,
             "#fb9f3a"
            ],
            [
             0.8888888888888888,
             "#fdca26"
            ],
            [
             1,
             "#f0f921"
            ]
           ]
          },
          "colorway": [
           "#636efa",
           "#EF553B",
           "#00cc96",
           "#ab63fa",
           "#FFA15A",
           "#19d3f3",
           "#FF6692",
           "#B6E880",
           "#FF97FF",
           "#FECB52"
          ],
          "font": {
           "color": "#2a3f5f"
          },
          "geo": {
           "bgcolor": "white",
           "lakecolor": "white",
           "landcolor": "white",
           "showlakes": true,
           "showland": true,
           "subunitcolor": "#C8D4E3"
          },
          "height": 400,
          "hoverlabel": {
           "align": "left"
          },
          "hovermode": "closest",
          "mapbox": {
           "style": "light"
          },
          "margin": {
           "b": 2,
           "l": 2,
           "r": 2,
           "t": 30
          },
          "paper_bgcolor": "white",
          "plot_bgcolor": "white",
          "polar": {
           "angularaxis": {
            "gridcolor": "#EBF0F8",
            "linecolor": "#EBF0F8",
            "ticks": ""
           },
           "bgcolor": "white",
           "radialaxis": {
            "gridcolor": "#EBF0F8",
            "linecolor": "#EBF0F8",
            "ticks": ""
           }
          },
          "scene": {
           "camera": {
            "eye": {
             "x": 1.5,
             "y": 1.5,
             "z": 0.1
            }
           },
           "xaxis": {
            "backgroundcolor": "white",
            "gridcolor": "#DFE8F3",
            "gridwidth": 2,
            "linecolor": "#EBF0F8",
            "showbackground": true,
            "ticks": "",
            "zerolinecolor": "#EBF0F8"
           },
           "yaxis": {
            "backgroundcolor": "white",
            "gridcolor": "#DFE8F3",
            "gridwidth": 2,
            "linecolor": "#EBF0F8",
            "showbackground": true,
            "ticks": "",
            "zerolinecolor": "#EBF0F8"
           },
           "zaxis": {
            "backgroundcolor": "white",
            "gridcolor": "#DFE8F3",
            "gridwidth": 2,
            "linecolor": "#EBF0F8",
            "showbackground": true,
            "ticks": "",
            "zerolinecolor": "#EBF0F8"
           }
          },
          "shapedefaults": {
           "line": {
            "color": "#2a3f5f"
           }
          },
          "ternary": {
           "aaxis": {
            "gridcolor": "#DFE8F3",
            "linecolor": "#A2B1C6",
            "ticks": ""
           },
           "baxis": {
            "gridcolor": "#DFE8F3",
            "linecolor": "#A2B1C6",
            "ticks": ""
           },
           "bgcolor": "white",
           "caxis": {
            "gridcolor": "#DFE8F3",
            "linecolor": "#A2B1C6",
            "ticks": ""
           }
          },
          "title": {
           "x": 0.5
          },
          "xaxis": {
           "automargin": true,
           "gridcolor": "#EBF0F8",
           "linecolor": "#EBF0F8",
           "linewidth": 2,
           "showline": true,
           "ticks": "",
           "title": {
            "standoff": 15
           },
           "zerolinecolor": "#EBF0F8",
           "zerolinewidth": 2
          },
          "yaxis": {
           "automargin": true,
           "gridcolor": "#EBF0F8",
           "linecolor": "#EBF0F8",
           "linewidth": 2,
           "showline": true,
           "ticks": "",
           "title": {
            "standoff": 15
           },
           "zerolinecolor": "#EBF0F8",
           "zerolinewidth": 2
          }
         }
        },
        "title": {
         "text": "Distribution for new binary label 'is_hiker'"
        },
        "xaxis": {
         "title": {
          "text": "is hiker"
         }
        },
        "yaxis": {
         "title": {
          "text": "count"
         }
        }
       }
      }
     },
     "metadata": {},
     "output_type": "display_data"
    }
   ],
   "source": [
    "# Add a new label with true/false values to our dataset\n",
    "dataset[\"is_hiker\"] = dataset.label == \"hiker\"\n",
    "\n",
    "# Plot frequency for new label\n",
    "graphing.multiple_histogram(dataset, label_x=\"is_hiker\", label_group=\"is_hiker\", title=\"Distribution for new binary label 'is_hiker'\")"
   ]
  },
  {
   "cell_type": "markdown",
   "metadata": {},
   "source": [
    "Train the random forest model using is_hiker as the target variable, then measure its accuracy on both train and test sets:"
   ]
  },
  {
   "cell_type": "code",
   "execution_count": 14,
   "metadata": {},
   "outputs": [
    {
     "name": "stdout",
     "output_type": "stream",
     "text": [
      "Train accuracy: 0.9532467532467532\n",
      "Test accuracy: 0.906060606060606\n"
     ]
    }
   ],
   "source": [
    "from sklearn.ensemble import RandomForestClassifier\n",
    "from sklearn.model_selection import train_test_split\n",
    "# import matplotlib.pyplot as plt\n",
    "# from sklearn.metrics import plot_confusion_matrix\n",
    "from sklearn.metrics import accuracy_score\n",
    "\n",
    "# Custom function that measures accuracy on different models and datasets\n",
    "# We will use this in different parts of the exercise\n",
    "def assess_accuracy(model, dataset, label):\n",
    "    \"\"\"\n",
    "    Asesses model accuracy on different sets\n",
    "    \"\"\" \n",
    "    actual = dataset[label]        \n",
    "    predictions = model.predict(dataset[features])\n",
    "    acc = accuracy_score(actual, predictions)\n",
    "    return acc\n",
    "\n",
    "# Split the dataset in an 70/30 train/test ratio. \n",
    "train, test = train_test_split(dataset, test_size=0.3, random_state=1, shuffle=True)\n",
    "\n",
    "# define a random forest model\n",
    "model = RandomForestClassifier(n_estimators=1, random_state=1, verbose=False)\n",
    "\n",
    "# Define which features are to be used (leave color out for now)\n",
    "features = [\"size\", \"roughness\", \"motion\"]\n",
    "\n",
    "# Train the model using the binary label\n",
    "model.fit(train[features], train.is_hiker)\n",
    "\n",
    "print(\"Train accuracy:\", assess_accuracy(model,train, \"is_hiker\"))\n",
    "print(\"Test accuracy:\", assess_accuracy(model,test, \"is_hiker\"))"
   ]
  },
  {
   "cell_type": "code",
   "execution_count": 15,
   "metadata": {},
   "outputs": [
    {
     "data": {
      "application/vnd.plotly.v1+json": {
       "config": {
        "plotlyServerURL": "https://plot.ly"
       },
       "data": [
        {
         "colorscale": [
          [
           0,
           "#0d0887"
          ],
          [
           0.1111111111111111,
           "#46039f"
          ],
          [
           0.2222222222222222,
           "#7201a8"
          ],
          [
           0.3333333333333333,
           "#9c179e"
          ],
          [
           0.4444444444444444,
           "#bd3786"
          ],
          [
           0.5555555555555556,
           "#d8576b"
          ],
          [
           0.6666666666666666,
           "#ed7953"
          ],
          [
           0.7777777777777778,
           "#fb9f3a"
          ],
          [
           0.8888888888888888,
           "#fdca26"
          ],
          [
           1,
           "#f0f921"
          ]
         ],
         "reversescale": false,
         "showscale": true,
         "type": "heatmap",
         "x": [
          "false",
          "true"
         ],
         "y": [
          "false",
          "true"
         ],
         "z": [
          [
           523,
           33
          ],
          [
           29,
           75
          ]
         ]
        }
       ],
       "layout": {
        "annotations": [
         {
          "font": {
           "color": "#000000"
          },
          "showarrow": false,
          "text": "523",
          "x": "false",
          "xref": "x",
          "y": "false",
          "yref": "y"
         },
         {
          "font": {
           "color": "#FFFFFF"
          },
          "showarrow": false,
          "text": "33",
          "x": "true",
          "xref": "x",
          "y": "false",
          "yref": "y"
         },
         {
          "font": {
           "color": "#FFFFFF"
          },
          "showarrow": false,
          "text": "29",
          "x": "false",
          "xref": "x",
          "y": "true",
          "yref": "y"
         },
         {
          "font": {
           "color": "#FFFFFF"
          },
          "showarrow": false,
          "text": "75",
          "x": "true",
          "xref": "x",
          "y": "true",
          "yref": "y"
         },
         {
          "font": {
           "color": "black",
           "size": 14
          },
          "showarrow": false,
          "text": "Predicted label",
          "x": 0.5,
          "xref": "paper",
          "y": -0.15,
          "yref": "paper"
         },
         {
          "font": {
           "color": "black",
           "size": 14
          },
          "showarrow": false,
          "text": "Actual label",
          "textangle": -90,
          "x": -0.15,
          "xref": "paper",
          "y": 0.5,
          "yref": "paper"
         }
        ],
        "margin": {
         "b": 50,
         "l": 120,
         "r": 20,
         "t": 80
        },
        "template": {
         "data": {
          "bar": [
           {
            "error_x": {
             "color": "#2a3f5f"
            },
            "error_y": {
             "color": "#2a3f5f"
            },
            "marker": {
             "line": {
              "color": "white",
              "width": 0.5
             },
             "pattern": {
              "fillmode": "overlay",
              "size": 10,
              "solidity": 0.2
             }
            },
            "type": "bar"
           }
          ],
          "barpolar": [
           {
            "marker": {
             "line": {
              "color": "white",
              "width": 0.5
             },
             "pattern": {
              "fillmode": "overlay",
              "size": 10,
              "solidity": 0.2
             }
            },
            "type": "barpolar"
           }
          ],
          "box": [
           {
            "boxpoints": "outliers",
            "notched": false,
            "type": "box"
           }
          ],
          "carpet": [
           {
            "aaxis": {
             "endlinecolor": "#2a3f5f",
             "gridcolor": "#C8D4E3",
             "linecolor": "#C8D4E3",
             "minorgridcolor": "#C8D4E3",
             "startlinecolor": "#2a3f5f"
            },
            "baxis": {
             "endlinecolor": "#2a3f5f",
             "gridcolor": "#C8D4E3",
             "linecolor": "#C8D4E3",
             "minorgridcolor": "#C8D4E3",
             "startlinecolor": "#2a3f5f"
            },
            "type": "carpet"
           }
          ],
          "choropleth": [
           {
            "colorbar": {
             "outlinewidth": 0,
             "ticks": ""
            },
            "type": "choropleth"
           }
          ],
          "contour": [
           {
            "colorbar": {
             "outlinewidth": 0,
             "ticks": ""
            },
            "colorscale": [
             [
              0,
              "#0d0887"
             ],
             [
              0.1111111111111111,
              "#46039f"
             ],
             [
              0.2222222222222222,
              "#7201a8"
             ],
             [
              0.3333333333333333,
              "#9c179e"
             ],
             [
              0.4444444444444444,
              "#bd3786"
             ],
             [
              0.5555555555555556,
              "#d8576b"
             ],
             [
              0.6666666666666666,
              "#ed7953"
             ],
             [
              0.7777777777777778,
              "#fb9f3a"
             ],
             [
              0.8888888888888888,
              "#fdca26"
             ],
             [
              1,
              "#f0f921"
             ]
            ],
            "type": "contour"
           }
          ],
          "contourcarpet": [
           {
            "colorbar": {
             "outlinewidth": 0,
             "ticks": ""
            },
            "type": "contourcarpet"
           }
          ],
          "heatmap": [
           {
            "colorbar": {
             "outlinewidth": 0,
             "ticks": ""
            },
            "colorscale": [
             [
              0,
              "#0d0887"
             ],
             [
              0.1111111111111111,
              "#46039f"
             ],
             [
              0.2222222222222222,
              "#7201a8"
             ],
             [
              0.3333333333333333,
              "#9c179e"
             ],
             [
              0.4444444444444444,
              "#bd3786"
             ],
             [
              0.5555555555555556,
              "#d8576b"
             ],
             [
              0.6666666666666666,
              "#ed7953"
             ],
             [
              0.7777777777777778,
              "#fb9f3a"
             ],
             [
              0.8888888888888888,
              "#fdca26"
             ],
             [
              1,
              "#f0f921"
             ]
            ],
            "type": "heatmap"
           }
          ],
          "heatmapgl": [
           {
            "colorbar": {
             "outlinewidth": 0,
             "ticks": ""
            },
            "colorscale": [
             [
              0,
              "#0d0887"
             ],
             [
              0.1111111111111111,
              "#46039f"
             ],
             [
              0.2222222222222222,
              "#7201a8"
             ],
             [
              0.3333333333333333,
              "#9c179e"
             ],
             [
              0.4444444444444444,
              "#bd3786"
             ],
             [
              0.5555555555555556,
              "#d8576b"
             ],
             [
              0.6666666666666666,
              "#ed7953"
             ],
             [
              0.7777777777777778,
              "#fb9f3a"
             ],
             [
              0.8888888888888888,
              "#fdca26"
             ],
             [
              1,
              "#f0f921"
             ]
            ],
            "type": "heatmapgl"
           }
          ],
          "histogram": [
           {
            "marker": {
             "line": {
              "width": 1
             },
             "pattern": {
              "fillmode": "overlay",
              "size": 10,
              "solidity": 0.2
             }
            },
            "type": "histogram"
           }
          ],
          "histogram2d": [
           {
            "colorbar": {
             "outlinewidth": 0,
             "ticks": ""
            },
            "colorscale": [
             [
              0,
              "#0d0887"
             ],
             [
              0.1111111111111111,
              "#46039f"
             ],
             [
              0.2222222222222222,
              "#7201a8"
             ],
             [
              0.3333333333333333,
              "#9c179e"
             ],
             [
              0.4444444444444444,
              "#bd3786"
             ],
             [
              0.5555555555555556,
              "#d8576b"
             ],
             [
              0.6666666666666666,
              "#ed7953"
             ],
             [
              0.7777777777777778,
              "#fb9f3a"
             ],
             [
              0.8888888888888888,
              "#fdca26"
             ],
             [
              1,
              "#f0f921"
             ]
            ],
            "type": "histogram2d"
           }
          ],
          "histogram2dcontour": [
           {
            "colorbar": {
             "outlinewidth": 0,
             "ticks": ""
            },
            "colorscale": [
             [
              0,
              "#0d0887"
             ],
             [
              0.1111111111111111,
              "#46039f"
             ],
             [
              0.2222222222222222,
              "#7201a8"
             ],
             [
              0.3333333333333333,
              "#9c179e"
             ],
             [
              0.4444444444444444,
              "#bd3786"
             ],
             [
              0.5555555555555556,
              "#d8576b"
             ],
             [
              0.6666666666666666,
              "#ed7953"
             ],
             [
              0.7777777777777778,
              "#fb9f3a"
             ],
             [
              0.8888888888888888,
              "#fdca26"
             ],
             [
              1,
              "#f0f921"
             ]
            ],
            "type": "histogram2dcontour"
           }
          ],
          "mesh3d": [
           {
            "colorbar": {
             "outlinewidth": 0,
             "ticks": ""
            },
            "type": "mesh3d"
           }
          ],
          "parcoords": [
           {
            "line": {
             "colorbar": {
              "outlinewidth": 0,
              "ticks": ""
             }
            },
            "type": "parcoords"
           }
          ],
          "pie": [
           {
            "automargin": true,
            "type": "pie"
           }
          ],
          "scatter": [
           {
            "fillpattern": {
             "fillmode": "overlay",
             "size": 10,
             "solidity": 0.2
            },
            "marker": {
             "opacity": 0.8
            },
            "type": "scatter"
           }
          ],
          "scatter3d": [
           {
            "line": {
             "colorbar": {
              "outlinewidth": 0,
              "ticks": ""
             }
            },
            "marker": {
             "colorbar": {
              "outlinewidth": 0,
              "ticks": ""
             },
             "opacity": 0.8
            },
            "type": "scatter3d"
           }
          ],
          "scattercarpet": [
           {
            "marker": {
             "colorbar": {
              "outlinewidth": 0,
              "ticks": ""
             }
            },
            "type": "scattercarpet"
           }
          ],
          "scattergeo": [
           {
            "marker": {
             "colorbar": {
              "outlinewidth": 0,
              "ticks": ""
             }
            },
            "type": "scattergeo"
           }
          ],
          "scattergl": [
           {
            "marker": {
             "colorbar": {
              "outlinewidth": 0,
              "ticks": ""
             }
            },
            "type": "scattergl"
           }
          ],
          "scattermapbox": [
           {
            "marker": {
             "colorbar": {
              "outlinewidth": 0,
              "ticks": ""
             }
            },
            "type": "scattermapbox"
           }
          ],
          "scatterpolar": [
           {
            "marker": {
             "colorbar": {
              "outlinewidth": 0,
              "ticks": ""
             }
            },
            "type": "scatterpolar"
           }
          ],
          "scatterpolargl": [
           {
            "marker": {
             "colorbar": {
              "outlinewidth": 0,
              "ticks": ""
             }
            },
            "type": "scatterpolargl"
           }
          ],
          "scatterternary": [
           {
            "marker": {
             "colorbar": {
              "outlinewidth": 0,
              "ticks": ""
             }
            },
            "type": "scatterternary"
           }
          ],
          "surface": [
           {
            "colorbar": {
             "outlinewidth": 0,
             "ticks": ""
            },
            "colorscale": [
             [
              0,
              "#0d0887"
             ],
             [
              0.1111111111111111,
              "#46039f"
             ],
             [
              0.2222222222222222,
              "#7201a8"
             ],
             [
              0.3333333333333333,
              "#9c179e"
             ],
             [
              0.4444444444444444,
              "#bd3786"
             ],
             [
              0.5555555555555556,
              "#d8576b"
             ],
             [
              0.6666666666666666,
              "#ed7953"
             ],
             [
              0.7777777777777778,
              "#fb9f3a"
             ],
             [
              0.8888888888888888,
              "#fdca26"
             ],
             [
              1,
              "#f0f921"
             ]
            ],
            "type": "surface"
           }
          ],
          "table": [
           {
            "cells": {
             "fill": {
              "color": "#EBF0F8"
             },
             "line": {
              "color": "white"
             }
            },
            "header": {
             "fill": {
              "color": "#C8D4E3"
             },
             "line": {
              "color": "white"
             }
            },
            "type": "table"
           }
          ]
         },
         "layout": {
          "annotationdefaults": {
           "arrowcolor": "#2a3f5f",
           "arrowhead": 0,
           "arrowwidth": 1
          },
          "autotypenumbers": "strict",
          "coloraxis": {
           "colorbar": {
            "outlinewidth": 0,
            "ticks": ""
           }
          },
          "colorscale": {
           "diverging": [
            [
             0,
             "#8e0152"
            ],
            [
             0.1,
             "#c51b7d"
            ],
            [
             0.2,
             "#de77ae"
            ],
            [
             0.3,
             "#f1b6da"
            ],
            [
             0.4,
             "#fde0ef"
            ],
            [
             0.5,
             "#f7f7f7"
            ],
            [
             0.6,
             "#e6f5d0"
            ],
            [
             0.7,
             "#b8e186"
            ],
            [
             0.8,
             "#7fbc41"
            ],
            [
             0.9,
             "#4d9221"
            ],
            [
             1,
             "#276419"
            ]
           ],
           "sequential": [
            [
             0,
             "#0d0887"
            ],
            [
             0.1111111111111111,
             "#46039f"
            ],
            [
             0.2222222222222222,
             "#7201a8"
            ],
            [
             0.3333333333333333,
             "#9c179e"
            ],
            [
             0.4444444444444444,
             "#bd3786"
            ],
            [
             0.5555555555555556,
             "#d8576b"
            ],
            [
             0.6666666666666666,
             "#ed7953"
            ],
            [
             0.7777777777777778,
             "#fb9f3a"
            ],
            [
             0.8888888888888888,
             "#fdca26"
            ],
            [
             1,
             "#f0f921"
            ]
           ],
           "sequentialminus": [
            [
             0,
             "#0d0887"
            ],
            [
             0.1111111111111111,
             "#46039f"
            ],
            [
             0.2222222222222222,
             "#7201a8"
            ],
            [
             0.3333333333333333,
             "#9c179e"
            ],
            [
             0.4444444444444444,
             "#bd3786"
            ],
            [
             0.5555555555555556,
             "#d8576b"
            ],
            [
             0.6666666666666666,
             "#ed7953"
            ],
            [
             0.7777777777777778,
             "#fb9f3a"
            ],
            [
             0.8888888888888888,
             "#fdca26"
            ],
            [
             1,
             "#f0f921"
            ]
           ]
          },
          "colorway": [
           "#636efa",
           "#EF553B",
           "#00cc96",
           "#ab63fa",
           "#FFA15A",
           "#19d3f3",
           "#FF6692",
           "#B6E880",
           "#FF97FF",
           "#FECB52"
          ],
          "font": {
           "color": "#2a3f5f"
          },
          "geo": {
           "bgcolor": "white",
           "lakecolor": "white",
           "landcolor": "white",
           "showlakes": true,
           "showland": true,
           "subunitcolor": "#C8D4E3"
          },
          "height": 400,
          "hoverlabel": {
           "align": "left"
          },
          "hovermode": "closest",
          "mapbox": {
           "style": "light"
          },
          "margin": {
           "b": 2,
           "l": 2,
           "r": 2,
           "t": 30
          },
          "paper_bgcolor": "white",
          "plot_bgcolor": "white",
          "polar": {
           "angularaxis": {
            "gridcolor": "#EBF0F8",
            "linecolor": "#EBF0F8",
            "ticks": ""
           },
           "bgcolor": "white",
           "radialaxis": {
            "gridcolor": "#EBF0F8",
            "linecolor": "#EBF0F8",
            "ticks": ""
           }
          },
          "scene": {
           "camera": {
            "eye": {
             "x": 1.5,
             "y": 1.5,
             "z": 0.1
            }
           },
           "xaxis": {
            "backgroundcolor": "white",
            "gridcolor": "#DFE8F3",
            "gridwidth": 2,
            "linecolor": "#EBF0F8",
            "showbackground": true,
            "ticks": "",
            "zerolinecolor": "#EBF0F8"
           },
           "yaxis": {
            "backgroundcolor": "white",
            "gridcolor": "#DFE8F3",
            "gridwidth": 2,
            "linecolor": "#EBF0F8",
            "showbackground": true,
            "ticks": "",
            "zerolinecolor": "#EBF0F8"
           },
           "zaxis": {
            "backgroundcolor": "white",
            "gridcolor": "#DFE8F3",
            "gridwidth": 2,
            "linecolor": "#EBF0F8",
            "showbackground": true,
            "ticks": "",
            "zerolinecolor": "#EBF0F8"
           }
          },
          "shapedefaults": {
           "line": {
            "color": "#2a3f5f"
           }
          },
          "ternary": {
           "aaxis": {
            "gridcolor": "#DFE8F3",
            "linecolor": "#A2B1C6",
            "ticks": ""
           },
           "baxis": {
            "gridcolor": "#DFE8F3",
            "linecolor": "#A2B1C6",
            "ticks": ""
           },
           "bgcolor": "white",
           "caxis": {
            "gridcolor": "#DFE8F3",
            "linecolor": "#A2B1C6",
            "ticks": ""
           }
          },
          "title": {
           "x": 0.5
          },
          "xaxis": {
           "automargin": true,
           "gridcolor": "#EBF0F8",
           "linecolor": "#EBF0F8",
           "linewidth": 2,
           "showline": true,
           "ticks": "",
           "title": {
            "standoff": 15
           },
           "zerolinecolor": "#EBF0F8",
           "zerolinewidth": 2
          },
          "yaxis": {
           "automargin": true,
           "gridcolor": "#EBF0F8",
           "linecolor": "#EBF0F8",
           "linewidth": 2,
           "showline": true,
           "ticks": "",
           "title": {
            "standoff": 15
           },
           "zerolinecolor": "#EBF0F8",
           "zerolinewidth": 2
          }
         }
        },
        "title": {
         "text": "<b>Confusion matrix</b>"
        },
        "xaxis": {
         "dtick": 1,
         "gridcolor": "rgb(0, 0, 0)",
         "side": "top",
         "ticks": ""
        },
        "yaxis": {
         "categoryorder": "category descending",
         "dtick": 1,
         "ticks": "",
         "ticksuffix": "  "
        }
       }
      }
     },
     "metadata": {},
     "output_type": "display_data"
    }
   ],
   "source": [
    "# sklearn has a very convenient utility to build confusion matrices\n",
    "from sklearn.metrics import confusion_matrix\n",
    "import plotly.figure_factory as ff\n",
    "\n",
    "# Calculate the model's accuracy on the TEST set\n",
    "actual = test.is_hiker\n",
    "predictions = model.predict(test[features])\n",
    "\n",
    "# Build and print our confusion matrix, using the actual values and predictions \n",
    "# from the test set, calculated in previous cells\n",
    "cm = confusion_matrix(actual, predictions, normalize=None)\n",
    "\n",
    "# Create the list of unique labels in the test set, to use in our plot\n",
    "# I.e., ['True', 'False',]\n",
    "unique_targets = sorted(list(test[\"is_hiker\"].unique()))\n",
    "\n",
    "# Convert values to lower case so the plot code can count the outcomes\n",
    "x = y = [str(s).lower() for s in unique_targets]\n",
    "\n",
    "# Plot the matrix above as a heatmap with annotations (values) in its cells\n",
    "fig = ff.create_annotated_heatmap(cm, x, y)\n",
    "\n",
    "# Set titles and ordering\n",
    "fig.update_layout(  title_text=\"<b>Confusion matrix</b>\", \n",
    "                    yaxis = dict(categoryorder = \"category descending\")\n",
    "                    )\n",
    "\n",
    "fig.add_annotation(dict(font=dict(color=\"black\",size=14),\n",
    "                        x=0.5,\n",
    "                        y=-0.15,\n",
    "                        showarrow=False,\n",
    "                        text=\"Predicted label\",\n",
    "                        xref=\"paper\",\n",
    "                        yref=\"paper\"))\n",
    "\n",
    "fig.add_annotation(dict(font=dict(color=\"black\",size=14),\n",
    "                        x=-0.15,\n",
    "                        y=0.5,\n",
    "                        showarrow=False,\n",
    "                        text=\"Actual label\",\n",
    "                        textangle=-90,\n",
    "                        xref=\"paper\",\n",
    "                        yref=\"paper\"))\n",
    "\n",
    "# We need margins so the titles fit\n",
    "fig.update_layout(margin=dict(t=80, r=20, l=120, b=50))\n",
    "fig['data'][0]['showscale'] = True\n",
    "fig.show()\n"
   ]
  },
  {
   "cell_type": "code",
   "execution_count": 17,
   "metadata": {},
   "outputs": [
    {
     "data": {
      "application/vnd.plotly.v1+json": {
       "config": {
        "plotlyServerURL": "https://plot.ly"
       },
       "data": [
        {
         "histfunc": "count",
         "name": "animal",
         "type": "histogram",
         "x": [
          "animal",
          "animal",
          "animal",
          "animal",
          "animal",
          "animal",
          "animal",
          "animal",
          "animal",
          "animal",
          "animal",
          "animal",
          "animal",
          "animal",
          "animal",
          "animal",
          "animal",
          "animal",
          "animal",
          "animal",
          "animal",
          "animal",
          "animal",
          "animal",
          "animal",
          "animal",
          "animal",
          "animal",
          "animal",
          "animal",
          "animal",
          "animal",
          "animal",
          "animal",
          "animal",
          "animal",
          "animal",
          "animal",
          "animal",
          "animal",
          "animal",
          "animal",
          "animal",
          "animal",
          "animal",
          "animal",
          "animal",
          "animal",
          "animal",
          "animal",
          "animal",
          "animal",
          "animal",
          "animal",
          "animal",
          "animal",
          "animal",
          "animal",
          "animal",
          "animal",
          "animal",
          "animal",
          "animal",
          "animal",
          "animal",
          "animal",
          "animal",
          "animal",
          "animal",
          "animal",
          "animal",
          "animal",
          "animal",
          "animal",
          "animal",
          "animal",
          "animal",
          "animal",
          "animal",
          "animal",
          "animal",
          "animal",
          "animal",
          "animal",
          "animal",
          "animal",
          "animal",
          "animal",
          "animal",
          "animal",
          "animal",
          "animal",
          "animal",
          "animal",
          "animal",
          "animal",
          "animal",
          "animal",
          "animal",
          "animal",
          "animal",
          "animal",
          "animal",
          "animal",
          "animal",
          "animal",
          "animal",
          "animal",
          "animal",
          "animal",
          "animal",
          "animal",
          "animal",
          "animal",
          "animal",
          "animal",
          "animal",
          "animal",
          "animal",
          "animal",
          "animal",
          "animal",
          "animal",
          "animal",
          "animal",
          "animal",
          "animal",
          "animal",
          "animal",
          "animal",
          "animal",
          "animal",
          "animal",
          "animal",
          "animal",
          "animal",
          "animal",
          "animal",
          "animal",
          "animal",
          "animal",
          "animal",
          "animal",
          "animal",
          "animal",
          "animal",
          "animal",
          "animal",
          "animal",
          "animal",
          "animal",
          "animal",
          "animal",
          "animal",
          "animal",
          "animal",
          "animal",
          "animal",
          "animal",
          "animal",
          "animal",
          "animal",
          "animal",
          "animal",
          "animal",
          "animal",
          "animal",
          "animal",
          "animal",
          "animal",
          "animal",
          "animal",
          "animal",
          "animal",
          "animal",
          "animal",
          "animal",
          "animal",
          "animal",
          "animal",
          "animal",
          "animal",
          "animal",
          "animal",
          "animal",
          "animal",
          "animal",
          "animal",
          "animal",
          "animal",
          "animal",
          "animal",
          "animal",
          "animal",
          "animal",
          "animal",
          "animal",
          "animal",
          "animal",
          "animal",
          "animal",
          "animal",
          "animal",
          "animal",
          "animal",
          "animal",
          "animal",
          "animal",
          "animal",
          "animal",
          "animal",
          "animal",
          "animal",
          "animal",
          "animal",
          "animal",
          "animal",
          "animal",
          "animal",
          "animal",
          "animal",
          "animal",
          "animal",
          "animal",
          "animal",
          "animal",
          "animal",
          "animal",
          "animal",
          "animal",
          "animal",
          "animal",
          "animal",
          "animal",
          "animal",
          "animal",
          "animal",
          "animal",
          "animal",
          "animal",
          "animal",
          "animal",
          "animal",
          "animal",
          "animal",
          "animal",
          "animal",
          "animal",
          "animal",
          "animal",
          "animal",
          "animal",
          "animal",
          "animal",
          "animal",
          "animal",
          "animal",
          "animal",
          "animal",
          "animal",
          "animal",
          "animal",
          "animal",
          "animal",
          "animal",
          "animal",
          "animal",
          "animal",
          "animal",
          "animal",
          "animal",
          "animal",
          "animal",
          "animal",
          "animal",
          "animal",
          "animal",
          "animal",
          "animal",
          "animal",
          "animal",
          "animal",
          "animal",
          "animal",
          "animal",
          "animal",
          "animal",
          "animal",
          "animal",
          "animal",
          "animal",
          "animal",
          "animal",
          "animal",
          "animal",
          "animal",
          "animal",
          "animal",
          "animal",
          "animal",
          "animal",
          "animal",
          "animal",
          "animal",
          "animal",
          "animal",
          "animal",
          "animal",
          "animal",
          "animal",
          "animal",
          "animal",
          "animal",
          "animal",
          "animal",
          "animal",
          "animal",
          "animal",
          "animal",
          "animal",
          "animal",
          "animal",
          "animal",
          "animal",
          "animal",
          "animal",
          "animal",
          "animal",
          "animal",
          "animal",
          "animal",
          "animal",
          "animal",
          "animal",
          "animal",
          "animal",
          "animal",
          "animal",
          "animal",
          "animal",
          "animal",
          "animal",
          "animal",
          "animal",
          "animal",
          "animal",
          "animal",
          "animal",
          "animal",
          "animal",
          "animal",
          "animal",
          "animal",
          "animal",
          "animal",
          "animal",
          "animal",
          "animal",
          "animal",
          "animal",
          "animal",
          "animal",
          "animal",
          "animal",
          "animal",
          "animal",
          "animal",
          "animal",
          "animal",
          "animal",
          "animal",
          "animal",
          "animal",
          "animal",
          "animal",
          "animal",
          "animal",
          "animal",
          "animal",
          "animal",
          "animal",
          "animal",
          "animal",
          "animal",
          "animal",
          "animal",
          "animal",
          "animal",
          "animal",
          "animal",
          "animal",
          "animal",
          "animal",
          "animal",
          "animal",
          "animal",
          "animal",
          "animal",
          "animal",
          "animal",
          "animal",
          "animal",
          "animal",
          "animal",
          "animal",
          "animal",
          "animal",
          "animal",
          "animal",
          "animal",
          "animal",
          "animal",
          "animal",
          "animal",
          "animal",
          "animal",
          "animal",
          "animal",
          "animal",
          "animal",
          "animal",
          "animal",
          "animal",
          "animal",
          "animal",
          "animal",
          "animal",
          "animal",
          "animal",
          "animal",
          "animal",
          "animal",
          "animal",
          "animal",
          "animal",
          "animal",
          "animal",
          "animal",
          "animal",
          "animal",
          "animal",
          "animal",
          "animal",
          "animal",
          "animal",
          "animal",
          "animal",
          "animal",
          "animal",
          "animal",
          "animal",
          "animal",
          "animal",
          "animal",
          "animal",
          "animal",
          "animal",
          "animal",
          "animal",
          "animal",
          "animal",
          "animal",
          "animal",
          "animal",
          "animal",
          "animal",
          "animal",
          "animal",
          "animal",
          "animal",
          "animal",
          "animal",
          "animal",
          "animal",
          "animal",
          "animal",
          "animal",
          "animal",
          "animal",
          "animal",
          "animal",
          "animal",
          "animal",
          "animal",
          "animal",
          "animal",
          "animal",
          "animal",
          "animal",
          "animal",
          "animal",
          "animal",
          "animal",
          "animal",
          "animal",
          "animal",
          "animal",
          "animal",
          "animal",
          "animal"
         ]
        },
        {
         "histfunc": "count",
         "name": "hiker",
         "type": "histogram",
         "x": [
          "hiker",
          "hiker",
          "hiker",
          "hiker",
          "hiker",
          "hiker",
          "hiker",
          "hiker",
          "hiker",
          "hiker",
          "hiker",
          "hiker",
          "hiker",
          "hiker",
          "hiker",
          "hiker",
          "hiker",
          "hiker",
          "hiker",
          "hiker",
          "hiker",
          "hiker",
          "hiker",
          "hiker",
          "hiker",
          "hiker",
          "hiker",
          "hiker",
          "hiker",
          "hiker",
          "hiker",
          "hiker",
          "hiker",
          "hiker",
          "hiker",
          "hiker",
          "hiker",
          "hiker",
          "hiker",
          "hiker",
          "hiker",
          "hiker",
          "hiker",
          "hiker",
          "hiker",
          "hiker",
          "hiker",
          "hiker",
          "hiker",
          "hiker",
          "hiker",
          "hiker",
          "hiker",
          "hiker",
          "hiker",
          "hiker",
          "hiker",
          "hiker",
          "hiker",
          "hiker",
          "hiker",
          "hiker",
          "hiker",
          "hiker",
          "hiker",
          "hiker",
          "hiker",
          "hiker",
          "hiker",
          "hiker",
          "hiker",
          "hiker",
          "hiker",
          "hiker",
          "hiker",
          "hiker",
          "hiker",
          "hiker",
          "hiker",
          "hiker",
          "hiker",
          "hiker",
          "hiker",
          "hiker",
          "hiker",
          "hiker",
          "hiker",
          "hiker",
          "hiker",
          "hiker",
          "hiker",
          "hiker",
          "hiker",
          "hiker",
          "hiker",
          "hiker",
          "hiker",
          "hiker",
          "hiker",
          "hiker",
          "hiker",
          "hiker",
          "hiker",
          "hiker",
          "hiker",
          "hiker",
          "hiker",
          "hiker",
          "hiker",
          "hiker",
          "hiker",
          "hiker",
          "hiker",
          "hiker",
          "hiker",
          "hiker",
          "hiker",
          "hiker",
          "hiker",
          "hiker",
          "hiker",
          "hiker",
          "hiker",
          "hiker",
          "hiker",
          "hiker",
          "hiker",
          "hiker",
          "hiker",
          "hiker",
          "hiker",
          "hiker",
          "hiker",
          "hiker",
          "hiker",
          "hiker",
          "hiker",
          "hiker",
          "hiker",
          "hiker",
          "hiker",
          "hiker",
          "hiker",
          "hiker",
          "hiker",
          "hiker",
          "hiker",
          "hiker",
          "hiker",
          "hiker",
          "hiker",
          "hiker",
          "hiker",
          "hiker",
          "hiker",
          "hiker",
          "hiker",
          "hiker",
          "hiker",
          "hiker",
          "hiker",
          "hiker",
          "hiker",
          "hiker",
          "hiker",
          "hiker",
          "hiker",
          "hiker",
          "hiker",
          "hiker",
          "hiker",
          "hiker",
          "hiker",
          "hiker",
          "hiker",
          "hiker",
          "hiker",
          "hiker",
          "hiker",
          "hiker",
          "hiker",
          "hiker",
          "hiker",
          "hiker",
          "hiker",
          "hiker",
          "hiker",
          "hiker",
          "hiker",
          "hiker",
          "hiker",
          "hiker",
          "hiker",
          "hiker",
          "hiker",
          "hiker",
          "hiker",
          "hiker",
          "hiker",
          "hiker",
          "hiker",
          "hiker",
          "hiker",
          "hiker",
          "hiker",
          "hiker",
          "hiker",
          "hiker",
          "hiker",
          "hiker",
          "hiker",
          "hiker",
          "hiker",
          "hiker",
          "hiker",
          "hiker",
          "hiker",
          "hiker",
          "hiker",
          "hiker",
          "hiker",
          "hiker",
          "hiker",
          "hiker",
          "hiker",
          "hiker",
          "hiker",
          "hiker",
          "hiker",
          "hiker",
          "hiker",
          "hiker",
          "hiker",
          "hiker",
          "hiker",
          "hiker",
          "hiker",
          "hiker",
          "hiker",
          "hiker",
          "hiker",
          "hiker",
          "hiker",
          "hiker",
          "hiker",
          "hiker",
          "hiker",
          "hiker",
          "hiker",
          "hiker",
          "hiker",
          "hiker",
          "hiker",
          "hiker",
          "hiker",
          "hiker",
          "hiker",
          "hiker",
          "hiker",
          "hiker",
          "hiker",
          "hiker",
          "hiker",
          "hiker",
          "hiker",
          "hiker",
          "hiker",
          "hiker",
          "hiker",
          "hiker",
          "hiker",
          "hiker",
          "hiker",
          "hiker",
          "hiker",
          "hiker",
          "hiker",
          "hiker",
          "hiker",
          "hiker",
          "hiker",
          "hiker",
          "hiker",
          "hiker",
          "hiker",
          "hiker",
          "hiker",
          "hiker",
          "hiker",
          "hiker",
          "hiker",
          "hiker",
          "hiker",
          "hiker",
          "hiker",
          "hiker",
          "hiker",
          "hiker",
          "hiker",
          "hiker",
          "hiker",
          "hiker",
          "hiker",
          "hiker",
          "hiker",
          "hiker",
          "hiker",
          "hiker",
          "hiker",
          "hiker",
          "hiker",
          "hiker",
          "hiker",
          "hiker",
          "hiker",
          "hiker",
          "hiker",
          "hiker",
          "hiker",
          "hiker",
          "hiker",
          "hiker",
          "hiker",
          "hiker",
          "hiker",
          "hiker",
          "hiker",
          "hiker",
          "hiker",
          "hiker",
          "hiker",
          "hiker",
          "hiker",
          "hiker",
          "hiker",
          "hiker",
          "hiker",
          "hiker",
          "hiker",
          "hiker",
          "hiker",
          "hiker",
          "hiker",
          "hiker",
          "hiker",
          "hiker",
          "hiker",
          "hiker",
          "hiker",
          "hiker",
          "hiker",
          "hiker",
          "hiker",
          "hiker",
          "hiker",
          "hiker",
          "hiker",
          "hiker",
          "hiker",
          "hiker",
          "hiker",
          "hiker",
          "hiker",
          "hiker",
          "hiker",
          "hiker",
          "hiker",
          "hiker",
          "hiker",
          "hiker",
          "hiker",
          "hiker",
          "hiker",
          "hiker",
          "hiker",
          "hiker",
          "hiker",
          "hiker",
          "hiker",
          "hiker",
          "hiker",
          "hiker",
          "hiker",
          "hiker",
          "hiker",
          "hiker",
          "hiker",
          "hiker",
          "hiker",
          "hiker",
          "hiker",
          "hiker",
          "hiker",
          "hiker",
          "hiker",
          "hiker",
          "hiker",
          "hiker",
          "hiker",
          "hiker",
          "hiker",
          "hiker",
          "hiker",
          "hiker",
          "hiker",
          "hiker",
          "hiker",
          "hiker",
          "hiker",
          "hiker",
          "hiker",
          "hiker",
          "hiker",
          "hiker",
          "hiker",
          "hiker",
          "hiker",
          "hiker",
          "hiker",
          "hiker",
          "hiker",
          "hiker",
          "hiker",
          "hiker",
          "hiker",
          "hiker",
          "hiker",
          "hiker",
          "hiker",
          "hiker",
          "hiker",
          "hiker",
          "hiker",
          "hiker",
          "hiker",
          "hiker",
          "hiker",
          "hiker",
          "hiker",
          "hiker",
          "hiker",
          "hiker",
          "hiker",
          "hiker",
          "hiker",
          "hiker",
          "hiker",
          "hiker",
          "hiker",
          "hiker",
          "hiker",
          "hiker",
          "hiker",
          "hiker",
          "hiker",
          "hiker",
          "hiker",
          "hiker",
          "hiker",
          "hiker",
          "hiker",
          "hiker",
          "hiker",
          "hiker",
          "hiker",
          "hiker",
          "hiker",
          "hiker",
          "hiker",
          "hiker",
          "hiker",
          "hiker",
          "hiker",
          "hiker",
          "hiker",
          "hiker",
          "hiker",
          "hiker",
          "hiker",
          "hiker",
          "hiker",
          "hiker",
          "hiker",
          "hiker",
          "hiker",
          "hiker",
          "hiker",
          "hiker",
          "hiker",
          "hiker",
          "hiker",
          "hiker",
          "hiker",
          "hiker",
          "hiker",
          "hiker",
          "hiker",
          "hiker",
          "hiker",
          "hiker"
         ]
        },
        {
         "histfunc": "count",
         "name": "rock",
         "type": "histogram",
         "x": [
          "rock",
          "rock",
          "rock",
          "rock",
          "rock",
          "rock",
          "rock",
          "rock",
          "rock",
          "rock",
          "rock",
          "rock",
          "rock",
          "rock",
          "rock",
          "rock",
          "rock",
          "rock",
          "rock",
          "rock",
          "rock",
          "rock",
          "rock",
          "rock",
          "rock",
          "rock",
          "rock",
          "rock",
          "rock",
          "rock",
          "rock",
          "rock",
          "rock",
          "rock",
          "rock",
          "rock",
          "rock",
          "rock",
          "rock",
          "rock",
          "rock",
          "rock",
          "rock",
          "rock",
          "rock",
          "rock",
          "rock",
          "rock",
          "rock",
          "rock",
          "rock",
          "rock",
          "rock",
          "rock",
          "rock",
          "rock",
          "rock",
          "rock",
          "rock",
          "rock",
          "rock",
          "rock",
          "rock",
          "rock",
          "rock",
          "rock",
          "rock",
          "rock",
          "rock",
          "rock",
          "rock",
          "rock",
          "rock",
          "rock",
          "rock",
          "rock",
          "rock",
          "rock",
          "rock",
          "rock",
          "rock",
          "rock",
          "rock",
          "rock",
          "rock",
          "rock",
          "rock",
          "rock",
          "rock",
          "rock",
          "rock",
          "rock",
          "rock",
          "rock",
          "rock",
          "rock",
          "rock",
          "rock",
          "rock",
          "rock",
          "rock",
          "rock",
          "rock",
          "rock",
          "rock",
          "rock",
          "rock",
          "rock",
          "rock",
          "rock",
          "rock",
          "rock",
          "rock",
          "rock",
          "rock",
          "rock",
          "rock",
          "rock",
          "rock",
          "rock",
          "rock",
          "rock",
          "rock",
          "rock",
          "rock",
          "rock",
          "rock",
          "rock",
          "rock",
          "rock",
          "rock",
          "rock",
          "rock",
          "rock",
          "rock",
          "rock",
          "rock",
          "rock",
          "rock",
          "rock",
          "rock",
          "rock",
          "rock",
          "rock",
          "rock",
          "rock",
          "rock",
          "rock",
          "rock",
          "rock",
          "rock",
          "rock",
          "rock",
          "rock",
          "rock",
          "rock",
          "rock",
          "rock",
          "rock",
          "rock",
          "rock",
          "rock",
          "rock",
          "rock",
          "rock",
          "rock",
          "rock",
          "rock",
          "rock",
          "rock",
          "rock",
          "rock",
          "rock",
          "rock",
          "rock",
          "rock",
          "rock",
          "rock",
          "rock",
          "rock",
          "rock",
          "rock",
          "rock",
          "rock",
          "rock",
          "rock",
          "rock",
          "rock",
          "rock",
          "rock",
          "rock",
          "rock",
          "rock",
          "rock",
          "rock",
          "rock",
          "rock",
          "rock",
          "rock",
          "rock",
          "rock",
          "rock",
          "rock",
          "rock",
          "rock",
          "rock",
          "rock",
          "rock",
          "rock",
          "rock",
          "rock",
          "rock",
          "rock",
          "rock",
          "rock",
          "rock",
          "rock",
          "rock",
          "rock",
          "rock",
          "rock",
          "rock",
          "rock",
          "rock",
          "rock",
          "rock",
          "rock",
          "rock",
          "rock",
          "rock",
          "rock",
          "rock",
          "rock",
          "rock",
          "rock",
          "rock",
          "rock",
          "rock",
          "rock",
          "rock",
          "rock",
          "rock",
          "rock",
          "rock",
          "rock",
          "rock",
          "rock",
          "rock",
          "rock",
          "rock",
          "rock",
          "rock",
          "rock",
          "rock",
          "rock",
          "rock",
          "rock",
          "rock",
          "rock",
          "rock",
          "rock",
          "rock",
          "rock",
          "rock",
          "rock",
          "rock",
          "rock",
          "rock",
          "rock",
          "rock",
          "rock",
          "rock",
          "rock",
          "rock",
          "rock",
          "rock",
          "rock",
          "rock",
          "rock",
          "rock",
          "rock",
          "rock",
          "rock",
          "rock",
          "rock",
          "rock",
          "rock",
          "rock",
          "rock",
          "rock",
          "rock",
          "rock",
          "rock",
          "rock",
          "rock",
          "rock",
          "rock",
          "rock",
          "rock",
          "rock",
          "rock",
          "rock",
          "rock",
          "rock",
          "rock",
          "rock",
          "rock",
          "rock",
          "rock",
          "rock",
          "rock",
          "rock",
          "rock",
          "rock",
          "rock",
          "rock",
          "rock",
          "rock",
          "rock",
          "rock",
          "rock",
          "rock",
          "rock",
          "rock",
          "rock",
          "rock",
          "rock",
          "rock",
          "rock",
          "rock",
          "rock",
          "rock",
          "rock",
          "rock",
          "rock",
          "rock",
          "rock",
          "rock",
          "rock",
          "rock",
          "rock",
          "rock",
          "rock",
          "rock",
          "rock",
          "rock",
          "rock",
          "rock",
          "rock",
          "rock",
          "rock",
          "rock",
          "rock",
          "rock",
          "rock",
          "rock",
          "rock",
          "rock",
          "rock",
          "rock",
          "rock",
          "rock",
          "rock",
          "rock",
          "rock",
          "rock",
          "rock",
          "rock",
          "rock",
          "rock",
          "rock",
          "rock",
          "rock",
          "rock",
          "rock",
          "rock",
          "rock",
          "rock",
          "rock",
          "rock",
          "rock",
          "rock",
          "rock",
          "rock",
          "rock",
          "rock",
          "rock",
          "rock",
          "rock",
          "rock",
          "rock",
          "rock",
          "rock",
          "rock",
          "rock",
          "rock",
          "rock",
          "rock",
          "rock",
          "rock",
          "rock",
          "rock",
          "rock",
          "rock",
          "rock",
          "rock",
          "rock",
          "rock",
          "rock",
          "rock",
          "rock",
          "rock",
          "rock",
          "rock",
          "rock",
          "rock",
          "rock",
          "rock",
          "rock",
          "rock",
          "rock",
          "rock",
          "rock",
          "rock",
          "rock",
          "rock",
          "rock",
          "rock",
          "rock",
          "rock",
          "rock",
          "rock",
          "rock",
          "rock",
          "rock",
          "rock",
          "rock",
          "rock",
          "rock",
          "rock",
          "rock",
          "rock",
          "rock",
          "rock",
          "rock",
          "rock",
          "rock",
          "rock",
          "rock",
          "rock",
          "rock",
          "rock",
          "rock",
          "rock",
          "rock",
          "rock",
          "rock",
          "rock",
          "rock",
          "rock",
          "rock",
          "rock",
          "rock",
          "rock",
          "rock",
          "rock",
          "rock",
          "rock",
          "rock",
          "rock",
          "rock",
          "rock",
          "rock",
          "rock",
          "rock",
          "rock",
          "rock",
          "rock",
          "rock",
          "rock",
          "rock",
          "rock",
          "rock",
          "rock",
          "rock",
          "rock",
          "rock",
          "rock",
          "rock",
          "rock",
          "rock",
          "rock",
          "rock",
          "rock",
          "rock",
          "rock",
          "rock",
          "rock",
          "rock",
          "rock"
         ]
        },
        {
         "histfunc": "count",
         "name": "tree",
         "type": "histogram",
         "x": [
          "tree",
          "tree",
          "tree",
          "tree",
          "tree",
          "tree",
          "tree",
          "tree",
          "tree",
          "tree",
          "tree",
          "tree",
          "tree",
          "tree",
          "tree",
          "tree",
          "tree",
          "tree",
          "tree",
          "tree",
          "tree",
          "tree",
          "tree",
          "tree",
          "tree",
          "tree",
          "tree",
          "tree",
          "tree",
          "tree",
          "tree",
          "tree",
          "tree",
          "tree",
          "tree",
          "tree",
          "tree",
          "tree",
          "tree",
          "tree",
          "tree",
          "tree",
          "tree",
          "tree",
          "tree",
          "tree",
          "tree",
          "tree",
          "tree",
          "tree",
          "tree",
          "tree",
          "tree",
          "tree",
          "tree",
          "tree",
          "tree",
          "tree",
          "tree",
          "tree",
          "tree",
          "tree",
          "tree",
          "tree",
          "tree",
          "tree",
          "tree",
          "tree",
          "tree",
          "tree",
          "tree",
          "tree",
          "tree",
          "tree",
          "tree",
          "tree",
          "tree",
          "tree",
          "tree",
          "tree",
          "tree",
          "tree",
          "tree",
          "tree",
          "tree",
          "tree",
          "tree",
          "tree",
          "tree",
          "tree",
          "tree",
          "tree",
          "tree",
          "tree",
          "tree",
          "tree",
          "tree",
          "tree",
          "tree",
          "tree",
          "tree",
          "tree",
          "tree",
          "tree",
          "tree",
          "tree",
          "tree",
          "tree",
          "tree",
          "tree",
          "tree",
          "tree",
          "tree",
          "tree",
          "tree",
          "tree",
          "tree",
          "tree",
          "tree",
          "tree",
          "tree",
          "tree",
          "tree",
          "tree",
          "tree",
          "tree",
          "tree",
          "tree",
          "tree",
          "tree",
          "tree",
          "tree",
          "tree",
          "tree",
          "tree",
          "tree",
          "tree",
          "tree",
          "tree",
          "tree",
          "tree",
          "tree",
          "tree",
          "tree",
          "tree",
          "tree",
          "tree",
          "tree",
          "tree",
          "tree",
          "tree",
          "tree",
          "tree",
          "tree",
          "tree",
          "tree",
          "tree",
          "tree",
          "tree",
          "tree",
          "tree",
          "tree",
          "tree",
          "tree",
          "tree",
          "tree",
          "tree",
          "tree",
          "tree",
          "tree",
          "tree",
          "tree",
          "tree",
          "tree",
          "tree",
          "tree",
          "tree",
          "tree",
          "tree",
          "tree",
          "tree",
          "tree",
          "tree",
          "tree",
          "tree",
          "tree",
          "tree",
          "tree",
          "tree",
          "tree",
          "tree",
          "tree",
          "tree",
          "tree",
          "tree",
          "tree",
          "tree",
          "tree",
          "tree",
          "tree",
          "tree",
          "tree",
          "tree",
          "tree",
          "tree",
          "tree",
          "tree",
          "tree",
          "tree",
          "tree",
          "tree",
          "tree",
          "tree",
          "tree",
          "tree",
          "tree",
          "tree",
          "tree",
          "tree",
          "tree",
          "tree",
          "tree",
          "tree",
          "tree",
          "tree",
          "tree",
          "tree",
          "tree",
          "tree",
          "tree",
          "tree",
          "tree",
          "tree",
          "tree",
          "tree",
          "tree",
          "tree",
          "tree",
          "tree",
          "tree",
          "tree",
          "tree",
          "tree",
          "tree",
          "tree",
          "tree",
          "tree",
          "tree",
          "tree",
          "tree",
          "tree",
          "tree",
          "tree",
          "tree",
          "tree",
          "tree",
          "tree",
          "tree",
          "tree",
          "tree",
          "tree",
          "tree",
          "tree",
          "tree",
          "tree",
          "tree",
          "tree",
          "tree",
          "tree",
          "tree",
          "tree",
          "tree",
          "tree",
          "tree",
          "tree",
          "tree",
          "tree",
          "tree",
          "tree",
          "tree",
          "tree",
          "tree",
          "tree",
          "tree",
          "tree",
          "tree",
          "tree",
          "tree",
          "tree",
          "tree",
          "tree",
          "tree",
          "tree",
          "tree",
          "tree",
          "tree",
          "tree",
          "tree",
          "tree",
          "tree",
          "tree",
          "tree",
          "tree",
          "tree",
          "tree",
          "tree",
          "tree",
          "tree",
          "tree",
          "tree",
          "tree",
          "tree",
          "tree",
          "tree",
          "tree",
          "tree",
          "tree",
          "tree",
          "tree",
          "tree",
          "tree",
          "tree",
          "tree",
          "tree",
          "tree",
          "tree",
          "tree",
          "tree",
          "tree",
          "tree",
          "tree",
          "tree",
          "tree",
          "tree",
          "tree",
          "tree",
          "tree",
          "tree",
          "tree",
          "tree",
          "tree",
          "tree",
          "tree",
          "tree",
          "tree",
          "tree",
          "tree",
          "tree",
          "tree",
          "tree",
          "tree",
          "tree",
          "tree",
          "tree",
          "tree",
          "tree",
          "tree",
          "tree",
          "tree",
          "tree",
          "tree",
          "tree",
          "tree",
          "tree",
          "tree",
          "tree",
          "tree",
          "tree",
          "tree",
          "tree",
          "tree",
          "tree",
          "tree",
          "tree",
          "tree",
          "tree",
          "tree",
          "tree",
          "tree",
          "tree",
          "tree",
          "tree",
          "tree",
          "tree",
          "tree",
          "tree",
          "tree",
          "tree",
          "tree",
          "tree",
          "tree",
          "tree",
          "tree",
          "tree",
          "tree",
          "tree",
          "tree",
          "tree",
          "tree",
          "tree",
          "tree",
          "tree",
          "tree",
          "tree",
          "tree",
          "tree",
          "tree",
          "tree",
          "tree",
          "tree",
          "tree",
          "tree",
          "tree",
          "tree",
          "tree",
          "tree",
          "tree",
          "tree",
          "tree",
          "tree",
          "tree",
          "tree",
          "tree",
          "tree",
          "tree",
          "tree",
          "tree",
          "tree",
          "tree",
          "tree",
          "tree",
          "tree",
          "tree",
          "tree",
          "tree",
          "tree",
          "tree",
          "tree",
          "tree",
          "tree",
          "tree",
          "tree",
          "tree",
          "tree",
          "tree",
          "tree",
          "tree",
          "tree",
          "tree",
          "tree",
          "tree",
          "tree",
          "tree",
          "tree",
          "tree",
          "tree",
          "tree",
          "tree",
          "tree",
          "tree",
          "tree",
          "tree",
          "tree",
          "tree",
          "tree",
          "tree",
          "tree",
          "tree",
          "tree",
          "tree",
          "tree",
          "tree",
          "tree",
          "tree",
          "tree",
          "tree",
          "tree",
          "tree",
          "tree",
          "tree",
          "tree",
          "tree",
          "tree",
          "tree",
          "tree",
          "tree",
          "tree",
          "tree",
          "tree",
          "tree",
          "tree",
          "tree",
          "tree",
          "tree",
          "tree",
          "tree",
          "tree",
          "tree",
          "tree",
          "tree"
         ]
        }
       ],
       "layout": {
        "legend": {
         "title": {
          "text": "label"
         }
        },
        "template": {
         "data": {
          "bar": [
           {
            "error_x": {
             "color": "#2a3f5f"
            },
            "error_y": {
             "color": "#2a3f5f"
            },
            "marker": {
             "line": {
              "color": "white",
              "width": 0.5
             },
             "pattern": {
              "fillmode": "overlay",
              "size": 10,
              "solidity": 0.2
             }
            },
            "type": "bar"
           }
          ],
          "barpolar": [
           {
            "marker": {
             "line": {
              "color": "white",
              "width": 0.5
             },
             "pattern": {
              "fillmode": "overlay",
              "size": 10,
              "solidity": 0.2
             }
            },
            "type": "barpolar"
           }
          ],
          "box": [
           {
            "boxpoints": "outliers",
            "notched": false,
            "type": "box"
           }
          ],
          "carpet": [
           {
            "aaxis": {
             "endlinecolor": "#2a3f5f",
             "gridcolor": "#C8D4E3",
             "linecolor": "#C8D4E3",
             "minorgridcolor": "#C8D4E3",
             "startlinecolor": "#2a3f5f"
            },
            "baxis": {
             "endlinecolor": "#2a3f5f",
             "gridcolor": "#C8D4E3",
             "linecolor": "#C8D4E3",
             "minorgridcolor": "#C8D4E3",
             "startlinecolor": "#2a3f5f"
            },
            "type": "carpet"
           }
          ],
          "choropleth": [
           {
            "colorbar": {
             "outlinewidth": 0,
             "ticks": ""
            },
            "type": "choropleth"
           }
          ],
          "contour": [
           {
            "colorbar": {
             "outlinewidth": 0,
             "ticks": ""
            },
            "colorscale": [
             [
              0,
              "#0d0887"
             ],
             [
              0.1111111111111111,
              "#46039f"
             ],
             [
              0.2222222222222222,
              "#7201a8"
             ],
             [
              0.3333333333333333,
              "#9c179e"
             ],
             [
              0.4444444444444444,
              "#bd3786"
             ],
             [
              0.5555555555555556,
              "#d8576b"
             ],
             [
              0.6666666666666666,
              "#ed7953"
             ],
             [
              0.7777777777777778,
              "#fb9f3a"
             ],
             [
              0.8888888888888888,
              "#fdca26"
             ],
             [
              1,
              "#f0f921"
             ]
            ],
            "type": "contour"
           }
          ],
          "contourcarpet": [
           {
            "colorbar": {
             "outlinewidth": 0,
             "ticks": ""
            },
            "type": "contourcarpet"
           }
          ],
          "heatmap": [
           {
            "colorbar": {
             "outlinewidth": 0,
             "ticks": ""
            },
            "colorscale": [
             [
              0,
              "#0d0887"
             ],
             [
              0.1111111111111111,
              "#46039f"
             ],
             [
              0.2222222222222222,
              "#7201a8"
             ],
             [
              0.3333333333333333,
              "#9c179e"
             ],
             [
              0.4444444444444444,
              "#bd3786"
             ],
             [
              0.5555555555555556,
              "#d8576b"
             ],
             [
              0.6666666666666666,
              "#ed7953"
             ],
             [
              0.7777777777777778,
              "#fb9f3a"
             ],
             [
              0.8888888888888888,
              "#fdca26"
             ],
             [
              1,
              "#f0f921"
             ]
            ],
            "type": "heatmap"
           }
          ],
          "heatmapgl": [
           {
            "colorbar": {
             "outlinewidth": 0,
             "ticks": ""
            },
            "colorscale": [
             [
              0,
              "#0d0887"
             ],
             [
              0.1111111111111111,
              "#46039f"
             ],
             [
              0.2222222222222222,
              "#7201a8"
             ],
             [
              0.3333333333333333,
              "#9c179e"
             ],
             [
              0.4444444444444444,
              "#bd3786"
             ],
             [
              0.5555555555555556,
              "#d8576b"
             ],
             [
              0.6666666666666666,
              "#ed7953"
             ],
             [
              0.7777777777777778,
              "#fb9f3a"
             ],
             [
              0.8888888888888888,
              "#fdca26"
             ],
             [
              1,
              "#f0f921"
             ]
            ],
            "type": "heatmapgl"
           }
          ],
          "histogram": [
           {
            "marker": {
             "line": {
              "width": 1
             },
             "pattern": {
              "fillmode": "overlay",
              "size": 10,
              "solidity": 0.2
             }
            },
            "type": "histogram"
           }
          ],
          "histogram2d": [
           {
            "colorbar": {
             "outlinewidth": 0,
             "ticks": ""
            },
            "colorscale": [
             [
              0,
              "#0d0887"
             ],
             [
              0.1111111111111111,
              "#46039f"
             ],
             [
              0.2222222222222222,
              "#7201a8"
             ],
             [
              0.3333333333333333,
              "#9c179e"
             ],
             [
              0.4444444444444444,
              "#bd3786"
             ],
             [
              0.5555555555555556,
              "#d8576b"
             ],
             [
              0.6666666666666666,
              "#ed7953"
             ],
             [
              0.7777777777777778,
              "#fb9f3a"
             ],
             [
              0.8888888888888888,
              "#fdca26"
             ],
             [
              1,
              "#f0f921"
             ]
            ],
            "type": "histogram2d"
           }
          ],
          "histogram2dcontour": [
           {
            "colorbar": {
             "outlinewidth": 0,
             "ticks": ""
            },
            "colorscale": [
             [
              0,
              "#0d0887"
             ],
             [
              0.1111111111111111,
              "#46039f"
             ],
             [
              0.2222222222222222,
              "#7201a8"
             ],
             [
              0.3333333333333333,
              "#9c179e"
             ],
             [
              0.4444444444444444,
              "#bd3786"
             ],
             [
              0.5555555555555556,
              "#d8576b"
             ],
             [
              0.6666666666666666,
              "#ed7953"
             ],
             [
              0.7777777777777778,
              "#fb9f3a"
             ],
             [
              0.8888888888888888,
              "#fdca26"
             ],
             [
              1,
              "#f0f921"
             ]
            ],
            "type": "histogram2dcontour"
           }
          ],
          "mesh3d": [
           {
            "colorbar": {
             "outlinewidth": 0,
             "ticks": ""
            },
            "type": "mesh3d"
           }
          ],
          "parcoords": [
           {
            "line": {
             "colorbar": {
              "outlinewidth": 0,
              "ticks": ""
             }
            },
            "type": "parcoords"
           }
          ],
          "pie": [
           {
            "automargin": true,
            "type": "pie"
           }
          ],
          "scatter": [
           {
            "fillpattern": {
             "fillmode": "overlay",
             "size": 10,
             "solidity": 0.2
            },
            "marker": {
             "opacity": 0.8
            },
            "type": "scatter"
           }
          ],
          "scatter3d": [
           {
            "line": {
             "colorbar": {
              "outlinewidth": 0,
              "ticks": ""
             }
            },
            "marker": {
             "colorbar": {
              "outlinewidth": 0,
              "ticks": ""
             },
             "opacity": 0.8
            },
            "type": "scatter3d"
           }
          ],
          "scattercarpet": [
           {
            "marker": {
             "colorbar": {
              "outlinewidth": 0,
              "ticks": ""
             }
            },
            "type": "scattercarpet"
           }
          ],
          "scattergeo": [
           {
            "marker": {
             "colorbar": {
              "outlinewidth": 0,
              "ticks": ""
             }
            },
            "type": "scattergeo"
           }
          ],
          "scattergl": [
           {
            "marker": {
             "colorbar": {
              "outlinewidth": 0,
              "ticks": ""
             }
            },
            "type": "scattergl"
           }
          ],
          "scattermapbox": [
           {
            "marker": {
             "colorbar": {
              "outlinewidth": 0,
              "ticks": ""
             }
            },
            "type": "scattermapbox"
           }
          ],
          "scatterpolar": [
           {
            "marker": {
             "colorbar": {
              "outlinewidth": 0,
              "ticks": ""
             }
            },
            "type": "scatterpolar"
           }
          ],
          "scatterpolargl": [
           {
            "marker": {
             "colorbar": {
              "outlinewidth": 0,
              "ticks": ""
             }
            },
            "type": "scatterpolargl"
           }
          ],
          "scatterternary": [
           {
            "marker": {
             "colorbar": {
              "outlinewidth": 0,
              "ticks": ""
             }
            },
            "type": "scatterternary"
           }
          ],
          "surface": [
           {
            "colorbar": {
             "outlinewidth": 0,
             "ticks": ""
            },
            "colorscale": [
             [
              0,
              "#0d0887"
             ],
             [
              0.1111111111111111,
              "#46039f"
             ],
             [
              0.2222222222222222,
              "#7201a8"
             ],
             [
              0.3333333333333333,
              "#9c179e"
             ],
             [
              0.4444444444444444,
              "#bd3786"
             ],
             [
              0.5555555555555556,
              "#d8576b"
             ],
             [
              0.6666666666666666,
              "#ed7953"
             ],
             [
              0.7777777777777778,
              "#fb9f3a"
             ],
             [
              0.8888888888888888,
              "#fdca26"
             ],
             [
              1,
              "#f0f921"
             ]
            ],
            "type": "surface"
           }
          ],
          "table": [
           {
            "cells": {
             "fill": {
              "color": "#EBF0F8"
             },
             "line": {
              "color": "white"
             }
            },
            "header": {
             "fill": {
              "color": "#C8D4E3"
             },
             "line": {
              "color": "white"
             }
            },
            "type": "table"
           }
          ]
         },
         "layout": {
          "annotationdefaults": {
           "arrowcolor": "#2a3f5f",
           "arrowhead": 0,
           "arrowwidth": 1
          },
          "autotypenumbers": "strict",
          "coloraxis": {
           "colorbar": {
            "outlinewidth": 0,
            "ticks": ""
           }
          },
          "colorscale": {
           "diverging": [
            [
             0,
             "#8e0152"
            ],
            [
             0.1,
             "#c51b7d"
            ],
            [
             0.2,
             "#de77ae"
            ],
            [
             0.3,
             "#f1b6da"
            ],
            [
             0.4,
             "#fde0ef"
            ],
            [
             0.5,
             "#f7f7f7"
            ],
            [
             0.6,
             "#e6f5d0"
            ],
            [
             0.7,
             "#b8e186"
            ],
            [
             0.8,
             "#7fbc41"
            ],
            [
             0.9,
             "#4d9221"
            ],
            [
             1,
             "#276419"
            ]
           ],
           "sequential": [
            [
             0,
             "#0d0887"
            ],
            [
             0.1111111111111111,
             "#46039f"
            ],
            [
             0.2222222222222222,
             "#7201a8"
            ],
            [
             0.3333333333333333,
             "#9c179e"
            ],
            [
             0.4444444444444444,
             "#bd3786"
            ],
            [
             0.5555555555555556,
             "#d8576b"
            ],
            [
             0.6666666666666666,
             "#ed7953"
            ],
            [
             0.7777777777777778,
             "#fb9f3a"
            ],
            [
             0.8888888888888888,
             "#fdca26"
            ],
            [
             1,
             "#f0f921"
            ]
           ],
           "sequentialminus": [
            [
             0,
             "#0d0887"
            ],
            [
             0.1111111111111111,
             "#46039f"
            ],
            [
             0.2222222222222222,
             "#7201a8"
            ],
            [
             0.3333333333333333,
             "#9c179e"
            ],
            [
             0.4444444444444444,
             "#bd3786"
            ],
            [
             0.5555555555555556,
             "#d8576b"
            ],
            [
             0.6666666666666666,
             "#ed7953"
            ],
            [
             0.7777777777777778,
             "#fb9f3a"
            ],
            [
             0.8888888888888888,
             "#fdca26"
            ],
            [
             1,
             "#f0f921"
            ]
           ]
          },
          "colorway": [
           "#636efa",
           "#EF553B",
           "#00cc96",
           "#ab63fa",
           "#FFA15A",
           "#19d3f3",
           "#FF6692",
           "#B6E880",
           "#FF97FF",
           "#FECB52"
          ],
          "font": {
           "color": "#2a3f5f"
          },
          "geo": {
           "bgcolor": "white",
           "lakecolor": "white",
           "landcolor": "white",
           "showlakes": true,
           "showland": true,
           "subunitcolor": "#C8D4E3"
          },
          "height": 400,
          "hoverlabel": {
           "align": "left"
          },
          "hovermode": "closest",
          "mapbox": {
           "style": "light"
          },
          "margin": {
           "b": 2,
           "l": 2,
           "r": 2,
           "t": 30
          },
          "paper_bgcolor": "white",
          "plot_bgcolor": "white",
          "polar": {
           "angularaxis": {
            "gridcolor": "#EBF0F8",
            "linecolor": "#EBF0F8",
            "ticks": ""
           },
           "bgcolor": "white",
           "radialaxis": {
            "gridcolor": "#EBF0F8",
            "linecolor": "#EBF0F8",
            "ticks": ""
           }
          },
          "scene": {
           "camera": {
            "eye": {
             "x": 1.5,
             "y": 1.5,
             "z": 0.1
            }
           },
           "xaxis": {
            "backgroundcolor": "white",
            "gridcolor": "#DFE8F3",
            "gridwidth": 2,
            "linecolor": "#EBF0F8",
            "showbackground": true,
            "ticks": "",
            "zerolinecolor": "#EBF0F8"
           },
           "yaxis": {
            "backgroundcolor": "white",
            "gridcolor": "#DFE8F3",
            "gridwidth": 2,
            "linecolor": "#EBF0F8",
            "showbackground": true,
            "ticks": "",
            "zerolinecolor": "#EBF0F8"
           },
           "zaxis": {
            "backgroundcolor": "white",
            "gridcolor": "#DFE8F3",
            "gridwidth": 2,
            "linecolor": "#EBF0F8",
            "showbackground": true,
            "ticks": "",
            "zerolinecolor": "#EBF0F8"
           }
          },
          "shapedefaults": {
           "line": {
            "color": "#2a3f5f"
           }
          },
          "ternary": {
           "aaxis": {
            "gridcolor": "#DFE8F3",
            "linecolor": "#A2B1C6",
            "ticks": ""
           },
           "baxis": {
            "gridcolor": "#DFE8F3",
            "linecolor": "#A2B1C6",
            "ticks": ""
           },
           "bgcolor": "white",
           "caxis": {
            "gridcolor": "#DFE8F3",
            "linecolor": "#A2B1C6",
            "ticks": ""
           }
          },
          "title": {
           "x": 0.5
          },
          "xaxis": {
           "automargin": true,
           "gridcolor": "#EBF0F8",
           "linecolor": "#EBF0F8",
           "linewidth": 2,
           "showline": true,
           "ticks": "",
           "title": {
            "standoff": 15
           },
           "zerolinecolor": "#EBF0F8",
           "zerolinewidth": 2
          },
          "yaxis": {
           "automargin": true,
           "gridcolor": "#EBF0F8",
           "linecolor": "#EBF0F8",
           "linewidth": 2,
           "showline": true,
           "ticks": "",
           "title": {
            "standoff": 15
           },
           "zerolinecolor": "#EBF0F8",
           "zerolinewidth": 2
          }
         }
        },
        "title": {
         "text": "Label distribution"
        },
        "xaxis": {
         "title": {
          "text": "label"
         }
        },
        "yaxis": {
         "title": {
          "text": "count"
         }
        }
       }
      }
     },
     "metadata": {},
     "output_type": "display_data"
    }
   ],
   "source": [
    "# Load and print umbiased set\n",
    "#Import the data from the .csv file\n",
    "balanced_dataset = pd.read_csv('snow_objects_balanced.csv', delimiter=\"\\t\")\n",
    "\n",
    "#Let's have a look at the data\n",
    "graphing.multiple_histogram(balanced_dataset, label_x=\"label\", label_group=\"label\", title=\"Label distribution\")"
   ]
  },
  {
   "cell_type": "code",
   "execution_count": 19,
   "metadata": {},
   "outputs": [
    {
     "data": {
      "application/vnd.plotly.v1+json": {
       "config": {
        "plotlyServerURL": "https://plot.ly"
       },
       "data": [
        {
         "histfunc": "count",
         "name": "False",
         "type": "histogram",
         "x": [
          false,
          false,
          false,
          false,
          false,
          false,
          false,
          false,
          false,
          false,
          false,
          false,
          false,
          false,
          false,
          false,
          false,
          false,
          false,
          false,
          false,
          false,
          false,
          false,
          false,
          false,
          false,
          false,
          false,
          false,
          false,
          false,
          false,
          false,
          false,
          false,
          false,
          false,
          false,
          false,
          false,
          false,
          false,
          false,
          false,
          false,
          false,
          false,
          false,
          false,
          false,
          false,
          false,
          false,
          false,
          false,
          false,
          false,
          false,
          false,
          false,
          false,
          false,
          false,
          false,
          false,
          false,
          false,
          false,
          false,
          false,
          false,
          false,
          false,
          false,
          false,
          false,
          false,
          false,
          false,
          false,
          false,
          false,
          false,
          false,
          false,
          false,
          false,
          false,
          false,
          false,
          false,
          false,
          false,
          false,
          false,
          false,
          false,
          false,
          false,
          false,
          false,
          false,
          false,
          false,
          false,
          false,
          false,
          false,
          false,
          false,
          false,
          false,
          false,
          false,
          false,
          false,
          false,
          false,
          false,
          false,
          false,
          false,
          false,
          false,
          false,
          false,
          false,
          false,
          false,
          false,
          false,
          false,
          false,
          false,
          false,
          false,
          false,
          false,
          false,
          false,
          false,
          false,
          false,
          false,
          false,
          false,
          false,
          false,
          false,
          false,
          false,
          false,
          false,
          false,
          false,
          false,
          false,
          false,
          false,
          false,
          false,
          false,
          false,
          false,
          false,
          false,
          false,
          false,
          false,
          false,
          false,
          false,
          false,
          false,
          false,
          false,
          false,
          false,
          false,
          false,
          false,
          false,
          false,
          false,
          false,
          false,
          false,
          false,
          false,
          false,
          false,
          false,
          false,
          false,
          false,
          false,
          false,
          false,
          false,
          false,
          false,
          false,
          false,
          false,
          false,
          false,
          false,
          false,
          false,
          false,
          false,
          false,
          false,
          false,
          false,
          false,
          false,
          false,
          false,
          false,
          false,
          false,
          false,
          false,
          false,
          false,
          false,
          false,
          false,
          false,
          false,
          false,
          false,
          false,
          false,
          false,
          false,
          false,
          false,
          false,
          false,
          false,
          false,
          false,
          false,
          false,
          false,
          false,
          false,
          false,
          false,
          false,
          false,
          false,
          false,
          false,
          false,
          false,
          false,
          false,
          false,
          false,
          false,
          false,
          false,
          false,
          false,
          false,
          false,
          false,
          false,
          false,
          false,
          false,
          false,
          false,
          false,
          false,
          false,
          false,
          false,
          false,
          false,
          false,
          false,
          false,
          false,
          false,
          false,
          false,
          false,
          false,
          false,
          false,
          false,
          false,
          false,
          false,
          false,
          false,
          false,
          false,
          false,
          false,
          false,
          false,
          false,
          false,
          false,
          false,
          false,
          false,
          false,
          false,
          false,
          false,
          false,
          false,
          false,
          false,
          false,
          false,
          false,
          false,
          false,
          false,
          false,
          false,
          false,
          false,
          false,
          false,
          false,
          false,
          false,
          false,
          false,
          false,
          false,
          false,
          false,
          false,
          false,
          false,
          false,
          false,
          false,
          false,
          false,
          false,
          false,
          false,
          false,
          false,
          false,
          false,
          false,
          false,
          false,
          false,
          false,
          false,
          false,
          false,
          false,
          false,
          false,
          false,
          false,
          false,
          false,
          false,
          false,
          false,
          false,
          false,
          false,
          false,
          false,
          false,
          false,
          false,
          false,
          false,
          false,
          false,
          false,
          false,
          false,
          false,
          false,
          false,
          false,
          false,
          false,
          false,
          false,
          false,
          false,
          false,
          false,
          false,
          false,
          false,
          false,
          false,
          false,
          false,
          false,
          false,
          false,
          false,
          false,
          false,
          false,
          false,
          false,
          false,
          false,
          false,
          false,
          false,
          false,
          false,
          false,
          false,
          false,
          false,
          false,
          false,
          false,
          false,
          false,
          false,
          false,
          false,
          false,
          false,
          false,
          false,
          false,
          false,
          false,
          false,
          false,
          false,
          false,
          false,
          false,
          false,
          false,
          false,
          false,
          false,
          false,
          false,
          false,
          false,
          false,
          false,
          false,
          false,
          false,
          false,
          false,
          false,
          false,
          false,
          false,
          false,
          false,
          false,
          false,
          false,
          false,
          false,
          false,
          false,
          false,
          false,
          false,
          false,
          false,
          false,
          false,
          false,
          false,
          false,
          false,
          false,
          false,
          false,
          false,
          false,
          false,
          false,
          false,
          false,
          false
         ]
        },
        {
         "histfunc": "count",
         "name": "True",
         "type": "histogram",
         "x": [
          true,
          true,
          true,
          true,
          true,
          true,
          true,
          true,
          true,
          true,
          true,
          true,
          true,
          true,
          true,
          true,
          true,
          true,
          true,
          true,
          true,
          true,
          true,
          true,
          true,
          true,
          true,
          true,
          true,
          true,
          true,
          true,
          true,
          true,
          true,
          true,
          true,
          true,
          true,
          true,
          true,
          true,
          true,
          true,
          true,
          true,
          true,
          true,
          true,
          true,
          true,
          true,
          true,
          true,
          true,
          true,
          true,
          true,
          true,
          true,
          true,
          true,
          true,
          true,
          true,
          true,
          true,
          true,
          true,
          true,
          true,
          true,
          true,
          true,
          true,
          true,
          true,
          true,
          true,
          true,
          true,
          true,
          true,
          true,
          true,
          true,
          true,
          true,
          true,
          true,
          true,
          true,
          true,
          true,
          true,
          true,
          true,
          true,
          true,
          true,
          true,
          true,
          true,
          true,
          true,
          true,
          true,
          true,
          true,
          true,
          true,
          true,
          true,
          true,
          true,
          true,
          true,
          true,
          true,
          true,
          true,
          true,
          true,
          true,
          true,
          true,
          true,
          true,
          true,
          true,
          true,
          true,
          true,
          true,
          true,
          true,
          true,
          true,
          true,
          true,
          true,
          true,
          true,
          true,
          true,
          true,
          true,
          true,
          true,
          true,
          true,
          true,
          true,
          true,
          true,
          true,
          true,
          true,
          true,
          true,
          true,
          true,
          true,
          true,
          true,
          true,
          true,
          true,
          true,
          true,
          true,
          true,
          true,
          true,
          true,
          true,
          true,
          true,
          true,
          true,
          true,
          true,
          true,
          true,
          true,
          true,
          true,
          true,
          true,
          true,
          true,
          true,
          true,
          true,
          true,
          true,
          true,
          true,
          true,
          true,
          true,
          true,
          true,
          true,
          true,
          true,
          true,
          true,
          true,
          true,
          true,
          true,
          true,
          true,
          true,
          true,
          true,
          true,
          true,
          true,
          true,
          true,
          true,
          true,
          true,
          true,
          true,
          true,
          true,
          true,
          true,
          true,
          true,
          true,
          true,
          true,
          true,
          true,
          true,
          true,
          true,
          true,
          true,
          true,
          true,
          true,
          true,
          true,
          true,
          true,
          true,
          true,
          true,
          true,
          true,
          true,
          true,
          true,
          true,
          true,
          true,
          true,
          true,
          true,
          true,
          true,
          true,
          true,
          true,
          true,
          true,
          true,
          true,
          true,
          true,
          true,
          true,
          true,
          true,
          true,
          true,
          true,
          true,
          true,
          true,
          true,
          true,
          true,
          true,
          true,
          true,
          true,
          true,
          true,
          true,
          true,
          true,
          true,
          true,
          true,
          true,
          true,
          true,
          true,
          true,
          true,
          true,
          true,
          true,
          true,
          true,
          true,
          true,
          true,
          true,
          true,
          true,
          true,
          true,
          true,
          true,
          true,
          true,
          true,
          true,
          true,
          true,
          true,
          true,
          true,
          true,
          true,
          true,
          true,
          true,
          true,
          true,
          true,
          true,
          true,
          true,
          true,
          true,
          true,
          true,
          true,
          true,
          true,
          true,
          true,
          true,
          true,
          true,
          true,
          true,
          true,
          true,
          true,
          true,
          true,
          true,
          true,
          true,
          true,
          true,
          true,
          true,
          true,
          true,
          true,
          true,
          true,
          true,
          true,
          true,
          true,
          true,
          true,
          true,
          true,
          true,
          true,
          true,
          true,
          true,
          true,
          true,
          true,
          true,
          true,
          true,
          true,
          true,
          true,
          true,
          true,
          true,
          true,
          true,
          true,
          true,
          true,
          true,
          true,
          true,
          true,
          true,
          true,
          true,
          true,
          true,
          true,
          true,
          true,
          true,
          true,
          true,
          true,
          true,
          true,
          true,
          true,
          true,
          true,
          true,
          true,
          true,
          true,
          true,
          true,
          true,
          true,
          true,
          true,
          true,
          true,
          true,
          true,
          true,
          true,
          true,
          true,
          true,
          true,
          true,
          true,
          true,
          true,
          true,
          true,
          true,
          true,
          true,
          true,
          true,
          true,
          true,
          true,
          true,
          true,
          true,
          true,
          true,
          true,
          true,
          true,
          true,
          true,
          true,
          true,
          true,
          true,
          true,
          true,
          true,
          true,
          true,
          true,
          true,
          true,
          true,
          true,
          true,
          true,
          true,
          true,
          true,
          true,
          true,
          true,
          true,
          true,
          true,
          true,
          true,
          true,
          true,
          true,
          true,
          true
         ]
        }
       ],
       "layout": {
        "legend": {
         "title": {
          "text": "is_hiker"
         }
        },
        "template": {
         "data": {
          "bar": [
           {
            "error_x": {
             "color": "#2a3f5f"
            },
            "error_y": {
             "color": "#2a3f5f"
            },
            "marker": {
             "line": {
              "color": "white",
              "width": 0.5
             },
             "pattern": {
              "fillmode": "overlay",
              "size": 10,
              "solidity": 0.2
             }
            },
            "type": "bar"
           }
          ],
          "barpolar": [
           {
            "marker": {
             "line": {
              "color": "white",
              "width": 0.5
             },
             "pattern": {
              "fillmode": "overlay",
              "size": 10,
              "solidity": 0.2
             }
            },
            "type": "barpolar"
           }
          ],
          "box": [
           {
            "boxpoints": "outliers",
            "notched": false,
            "type": "box"
           }
          ],
          "carpet": [
           {
            "aaxis": {
             "endlinecolor": "#2a3f5f",
             "gridcolor": "#C8D4E3",
             "linecolor": "#C8D4E3",
             "minorgridcolor": "#C8D4E3",
             "startlinecolor": "#2a3f5f"
            },
            "baxis": {
             "endlinecolor": "#2a3f5f",
             "gridcolor": "#C8D4E3",
             "linecolor": "#C8D4E3",
             "minorgridcolor": "#C8D4E3",
             "startlinecolor": "#2a3f5f"
            },
            "type": "carpet"
           }
          ],
          "choropleth": [
           {
            "colorbar": {
             "outlinewidth": 0,
             "ticks": ""
            },
            "type": "choropleth"
           }
          ],
          "contour": [
           {
            "colorbar": {
             "outlinewidth": 0,
             "ticks": ""
            },
            "colorscale": [
             [
              0,
              "#0d0887"
             ],
             [
              0.1111111111111111,
              "#46039f"
             ],
             [
              0.2222222222222222,
              "#7201a8"
             ],
             [
              0.3333333333333333,
              "#9c179e"
             ],
             [
              0.4444444444444444,
              "#bd3786"
             ],
             [
              0.5555555555555556,
              "#d8576b"
             ],
             [
              0.6666666666666666,
              "#ed7953"
             ],
             [
              0.7777777777777778,
              "#fb9f3a"
             ],
             [
              0.8888888888888888,
              "#fdca26"
             ],
             [
              1,
              "#f0f921"
             ]
            ],
            "type": "contour"
           }
          ],
          "contourcarpet": [
           {
            "colorbar": {
             "outlinewidth": 0,
             "ticks": ""
            },
            "type": "contourcarpet"
           }
          ],
          "heatmap": [
           {
            "colorbar": {
             "outlinewidth": 0,
             "ticks": ""
            },
            "colorscale": [
             [
              0,
              "#0d0887"
             ],
             [
              0.1111111111111111,
              "#46039f"
             ],
             [
              0.2222222222222222,
              "#7201a8"
             ],
             [
              0.3333333333333333,
              "#9c179e"
             ],
             [
              0.4444444444444444,
              "#bd3786"
             ],
             [
              0.5555555555555556,
              "#d8576b"
             ],
             [
              0.6666666666666666,
              "#ed7953"
             ],
             [
              0.7777777777777778,
              "#fb9f3a"
             ],
             [
              0.8888888888888888,
              "#fdca26"
             ],
             [
              1,
              "#f0f921"
             ]
            ],
            "type": "heatmap"
           }
          ],
          "heatmapgl": [
           {
            "colorbar": {
             "outlinewidth": 0,
             "ticks": ""
            },
            "colorscale": [
             [
              0,
              "#0d0887"
             ],
             [
              0.1111111111111111,
              "#46039f"
             ],
             [
              0.2222222222222222,
              "#7201a8"
             ],
             [
              0.3333333333333333,
              "#9c179e"
             ],
             [
              0.4444444444444444,
              "#bd3786"
             ],
             [
              0.5555555555555556,
              "#d8576b"
             ],
             [
              0.6666666666666666,
              "#ed7953"
             ],
             [
              0.7777777777777778,
              "#fb9f3a"
             ],
             [
              0.8888888888888888,
              "#fdca26"
             ],
             [
              1,
              "#f0f921"
             ]
            ],
            "type": "heatmapgl"
           }
          ],
          "histogram": [
           {
            "marker": {
             "line": {
              "width": 1
             },
             "pattern": {
              "fillmode": "overlay",
              "size": 10,
              "solidity": 0.2
             }
            },
            "type": "histogram"
           }
          ],
          "histogram2d": [
           {
            "colorbar": {
             "outlinewidth": 0,
             "ticks": ""
            },
            "colorscale": [
             [
              0,
              "#0d0887"
             ],
             [
              0.1111111111111111,
              "#46039f"
             ],
             [
              0.2222222222222222,
              "#7201a8"
             ],
             [
              0.3333333333333333,
              "#9c179e"
             ],
             [
              0.4444444444444444,
              "#bd3786"
             ],
             [
              0.5555555555555556,
              "#d8576b"
             ],
             [
              0.6666666666666666,
              "#ed7953"
             ],
             [
              0.7777777777777778,
              "#fb9f3a"
             ],
             [
              0.8888888888888888,
              "#fdca26"
             ],
             [
              1,
              "#f0f921"
             ]
            ],
            "type": "histogram2d"
           }
          ],
          "histogram2dcontour": [
           {
            "colorbar": {
             "outlinewidth": 0,
             "ticks": ""
            },
            "colorscale": [
             [
              0,
              "#0d0887"
             ],
             [
              0.1111111111111111,
              "#46039f"
             ],
             [
              0.2222222222222222,
              "#7201a8"
             ],
             [
              0.3333333333333333,
              "#9c179e"
             ],
             [
              0.4444444444444444,
              "#bd3786"
             ],
             [
              0.5555555555555556,
              "#d8576b"
             ],
             [
              0.6666666666666666,
              "#ed7953"
             ],
             [
              0.7777777777777778,
              "#fb9f3a"
             ],
             [
              0.8888888888888888,
              "#fdca26"
             ],
             [
              1,
              "#f0f921"
             ]
            ],
            "type": "histogram2dcontour"
           }
          ],
          "mesh3d": [
           {
            "colorbar": {
             "outlinewidth": 0,
             "ticks": ""
            },
            "type": "mesh3d"
           }
          ],
          "parcoords": [
           {
            "line": {
             "colorbar": {
              "outlinewidth": 0,
              "ticks": ""
             }
            },
            "type": "parcoords"
           }
          ],
          "pie": [
           {
            "automargin": true,
            "type": "pie"
           }
          ],
          "scatter": [
           {
            "fillpattern": {
             "fillmode": "overlay",
             "size": 10,
             "solidity": 0.2
            },
            "marker": {
             "opacity": 0.8
            },
            "type": "scatter"
           }
          ],
          "scatter3d": [
           {
            "line": {
             "colorbar": {
              "outlinewidth": 0,
              "ticks": ""
             }
            },
            "marker": {
             "colorbar": {
              "outlinewidth": 0,
              "ticks": ""
             },
             "opacity": 0.8
            },
            "type": "scatter3d"
           }
          ],
          "scattercarpet": [
           {
            "marker": {
             "colorbar": {
              "outlinewidth": 0,
              "ticks": ""
             }
            },
            "type": "scattercarpet"
           }
          ],
          "scattergeo": [
           {
            "marker": {
             "colorbar": {
              "outlinewidth": 0,
              "ticks": ""
             }
            },
            "type": "scattergeo"
           }
          ],
          "scattergl": [
           {
            "marker": {
             "colorbar": {
              "outlinewidth": 0,
              "ticks": ""
             }
            },
            "type": "scattergl"
           }
          ],
          "scattermapbox": [
           {
            "marker": {
             "colorbar": {
              "outlinewidth": 0,
              "ticks": ""
             }
            },
            "type": "scattermapbox"
           }
          ],
          "scatterpolar": [
           {
            "marker": {
             "colorbar": {
              "outlinewidth": 0,
              "ticks": ""
             }
            },
            "type": "scatterpolar"
           }
          ],
          "scatterpolargl": [
           {
            "marker": {
             "colorbar": {
              "outlinewidth": 0,
              "ticks": ""
             }
            },
            "type": "scatterpolargl"
           }
          ],
          "scatterternary": [
           {
            "marker": {
             "colorbar": {
              "outlinewidth": 0,
              "ticks": ""
             }
            },
            "type": "scatterternary"
           }
          ],
          "surface": [
           {
            "colorbar": {
             "outlinewidth": 0,
             "ticks": ""
            },
            "colorscale": [
             [
              0,
              "#0d0887"
             ],
             [
              0.1111111111111111,
              "#46039f"
             ],
             [
              0.2222222222222222,
              "#7201a8"
             ],
             [
              0.3333333333333333,
              "#9c179e"
             ],
             [
              0.4444444444444444,
              "#bd3786"
             ],
             [
              0.5555555555555556,
              "#d8576b"
             ],
             [
              0.6666666666666666,
              "#ed7953"
             ],
             [
              0.7777777777777778,
              "#fb9f3a"
             ],
             [
              0.8888888888888888,
              "#fdca26"
             ],
             [
              1,
              "#f0f921"
             ]
            ],
            "type": "surface"
           }
          ],
          "table": [
           {
            "cells": {
             "fill": {
              "color": "#EBF0F8"
             },
             "line": {
              "color": "white"
             }
            },
            "header": {
             "fill": {
              "color": "#C8D4E3"
             },
             "line": {
              "color": "white"
             }
            },
            "type": "table"
           }
          ]
         },
         "layout": {
          "annotationdefaults": {
           "arrowcolor": "#2a3f5f",
           "arrowhead": 0,
           "arrowwidth": 1
          },
          "autotypenumbers": "strict",
          "coloraxis": {
           "colorbar": {
            "outlinewidth": 0,
            "ticks": ""
           }
          },
          "colorscale": {
           "diverging": [
            [
             0,
             "#8e0152"
            ],
            [
             0.1,
             "#c51b7d"
            ],
            [
             0.2,
             "#de77ae"
            ],
            [
             0.3,
             "#f1b6da"
            ],
            [
             0.4,
             "#fde0ef"
            ],
            [
             0.5,
             "#f7f7f7"
            ],
            [
             0.6,
             "#e6f5d0"
            ],
            [
             0.7,
             "#b8e186"
            ],
            [
             0.8,
             "#7fbc41"
            ],
            [
             0.9,
             "#4d9221"
            ],
            [
             1,
             "#276419"
            ]
           ],
           "sequential": [
            [
             0,
             "#0d0887"
            ],
            [
             0.1111111111111111,
             "#46039f"
            ],
            [
             0.2222222222222222,
             "#7201a8"
            ],
            [
             0.3333333333333333,
             "#9c179e"
            ],
            [
             0.4444444444444444,
             "#bd3786"
            ],
            [
             0.5555555555555556,
             "#d8576b"
            ],
            [
             0.6666666666666666,
             "#ed7953"
            ],
            [
             0.7777777777777778,
             "#fb9f3a"
            ],
            [
             0.8888888888888888,
             "#fdca26"
            ],
            [
             1,
             "#f0f921"
            ]
           ],
           "sequentialminus": [
            [
             0,
             "#0d0887"
            ],
            [
             0.1111111111111111,
             "#46039f"
            ],
            [
             0.2222222222222222,
             "#7201a8"
            ],
            [
             0.3333333333333333,
             "#9c179e"
            ],
            [
             0.4444444444444444,
             "#bd3786"
            ],
            [
             0.5555555555555556,
             "#d8576b"
            ],
            [
             0.6666666666666666,
             "#ed7953"
            ],
            [
             0.7777777777777778,
             "#fb9f3a"
            ],
            [
             0.8888888888888888,
             "#fdca26"
            ],
            [
             1,
             "#f0f921"
            ]
           ]
          },
          "colorway": [
           "#636efa",
           "#EF553B",
           "#00cc96",
           "#ab63fa",
           "#FFA15A",
           "#19d3f3",
           "#FF6692",
           "#B6E880",
           "#FF97FF",
           "#FECB52"
          ],
          "font": {
           "color": "#2a3f5f"
          },
          "geo": {
           "bgcolor": "white",
           "lakecolor": "white",
           "landcolor": "white",
           "showlakes": true,
           "showland": true,
           "subunitcolor": "#C8D4E3"
          },
          "height": 400,
          "hoverlabel": {
           "align": "left"
          },
          "hovermode": "closest",
          "mapbox": {
           "style": "light"
          },
          "margin": {
           "b": 2,
           "l": 2,
           "r": 2,
           "t": 30
          },
          "paper_bgcolor": "white",
          "plot_bgcolor": "white",
          "polar": {
           "angularaxis": {
            "gridcolor": "#EBF0F8",
            "linecolor": "#EBF0F8",
            "ticks": ""
           },
           "bgcolor": "white",
           "radialaxis": {
            "gridcolor": "#EBF0F8",
            "linecolor": "#EBF0F8",
            "ticks": ""
           }
          },
          "scene": {
           "camera": {
            "eye": {
             "x": 1.5,
             "y": 1.5,
             "z": 0.1
            }
           },
           "xaxis": {
            "backgroundcolor": "white",
            "gridcolor": "#DFE8F3",
            "gridwidth": 2,
            "linecolor": "#EBF0F8",
            "showbackground": true,
            "ticks": "",
            "zerolinecolor": "#EBF0F8"
           },
           "yaxis": {
            "backgroundcolor": "white",
            "gridcolor": "#DFE8F3",
            "gridwidth": 2,
            "linecolor": "#EBF0F8",
            "showbackground": true,
            "ticks": "",
            "zerolinecolor": "#EBF0F8"
           },
           "zaxis": {
            "backgroundcolor": "white",
            "gridcolor": "#DFE8F3",
            "gridwidth": 2,
            "linecolor": "#EBF0F8",
            "showbackground": true,
            "ticks": "",
            "zerolinecolor": "#EBF0F8"
           }
          },
          "shapedefaults": {
           "line": {
            "color": "#2a3f5f"
           }
          },
          "ternary": {
           "aaxis": {
            "gridcolor": "#DFE8F3",
            "linecolor": "#A2B1C6",
            "ticks": ""
           },
           "baxis": {
            "gridcolor": "#DFE8F3",
            "linecolor": "#A2B1C6",
            "ticks": ""
           },
           "bgcolor": "white",
           "caxis": {
            "gridcolor": "#DFE8F3",
            "linecolor": "#A2B1C6",
            "ticks": ""
           }
          },
          "title": {
           "x": 0.5
          },
          "xaxis": {
           "automargin": true,
           "gridcolor": "#EBF0F8",
           "linecolor": "#EBF0F8",
           "linewidth": 2,
           "showline": true,
           "ticks": "",
           "title": {
            "standoff": 15
           },
           "zerolinecolor": "#EBF0F8",
           "zerolinewidth": 2
          },
          "yaxis": {
           "automargin": true,
           "gridcolor": "#EBF0F8",
           "linecolor": "#EBF0F8",
           "linewidth": 2,
           "showline": true,
           "ticks": "",
           "title": {
            "standoff": 15
           },
           "zerolinecolor": "#EBF0F8",
           "zerolinewidth": 2
          }
         }
        },
        "title": {
         "text": "Label distribution in balanced dataset"
        },
        "xaxis": {
         "title": {
          "text": "is hiker"
         }
        },
        "yaxis": {
         "title": {
          "text": "count"
         }
        }
       }
      }
     },
     "metadata": {},
     "output_type": "display_data"
    }
   ],
   "source": [
    "\n",
    "# Add a new label with true/false values to our dataset\n",
    "balanced_dataset[\"is_hiker\"] = balanced_dataset.label == \"hiker\"\n",
    "\n",
    "hikers_dataset = balanced_dataset[balanced_dataset[\"is_hiker\"] == 1] \n",
    "nonhikers_dataset = balanced_dataset[balanced_dataset[\"is_hiker\"] == False] \n",
    "# take a random sampling of non-hikers the same size as the hikers subset\n",
    "nonhikers_dataset = nonhikers_dataset.sample(n=len(hikers_dataset.index), random_state=1)\n",
    "balanced_dataset = pd.concat([hikers_dataset, nonhikers_dataset])\n",
    "\n",
    "# Plot frequency for \"is_hiker\" labels\n",
    "graphing.multiple_histogram(balanced_dataset, label_x=\"is_hiker\", label_group=\"is_hiker\", title=\"Label distribution in balanced dataset\")"
   ]
  },
  {
   "cell_type": "code",
   "execution_count": 20,
   "metadata": {},
   "outputs": [
    {
     "name": "stdout",
     "output_type": "stream",
     "text": [
      "Balanced set accuracy: 0.754\n"
     ]
    }
   ],
   "source": [
    "# Test the model using a balanced dataset\n",
    "actual = balanced_dataset.is_hiker\n",
    "predictions = model.predict(balanced_dataset[features])\n",
    "\n",
    "# Build and print our confusion matrix, using the actual values and predictions \n",
    "# from the test set, calculated in previous cells\n",
    "cm = confusion_matrix(actual, predictions, normalize=None)\n",
    "\n",
    "# Print accuracy using this set\n",
    "print(\"Balanced set accuracy:\", assess_accuracy(model,balanced_dataset, \"is_hiker\"))"
   ]
  },
  {
   "cell_type": "code",
   "execution_count": 21,
   "metadata": {},
   "outputs": [
    {
     "data": {
      "application/vnd.plotly.v1+json": {
       "config": {
        "plotlyServerURL": "https://plot.ly"
       },
       "data": [
        {
         "colorscale": [
          [
           0,
           "#0d0887"
          ],
          [
           0.1111111111111111,
           "#46039f"
          ],
          [
           0.2222222222222222,
           "#7201a8"
          ],
          [
           0.3333333333333333,
           "#9c179e"
          ],
          [
           0.4444444444444444,
           "#bd3786"
          ],
          [
           0.5555555555555556,
           "#d8576b"
          ],
          [
           0.6666666666666666,
           "#ed7953"
          ],
          [
           0.7777777777777778,
           "#fb9f3a"
          ],
          [
           0.8888888888888888,
           "#fdca26"
          ],
          [
           1,
           "#f0f921"
          ]
         ],
         "reversescale": false,
         "showscale": true,
         "type": "heatmap",
         "x": [
          "false",
          "true"
         ],
         "y": [
          "false",
          "true"
         ],
         "z": [
          [
           411,
           89
          ],
          [
           157,
           343
          ]
         ]
        }
       ],
       "layout": {
        "annotations": [
         {
          "font": {
           "color": "#000000"
          },
          "showarrow": false,
          "text": "411",
          "x": "false",
          "xref": "x",
          "y": "false",
          "yref": "y"
         },
         {
          "font": {
           "color": "#FFFFFF"
          },
          "showarrow": false,
          "text": "89",
          "x": "true",
          "xref": "x",
          "y": "false",
          "yref": "y"
         },
         {
          "font": {
           "color": "#FFFFFF"
          },
          "showarrow": false,
          "text": "157",
          "x": "false",
          "xref": "x",
          "y": "true",
          "yref": "y"
         },
         {
          "font": {
           "color": "#000000"
          },
          "showarrow": false,
          "text": "343",
          "x": "true",
          "xref": "x",
          "y": "true",
          "yref": "y"
         },
         {
          "font": {
           "color": "black",
           "size": 14
          },
          "showarrow": false,
          "text": "Predicted label",
          "x": 0.5,
          "xref": "paper",
          "y": -0.15,
          "yref": "paper"
         },
         {
          "font": {
           "color": "black",
           "size": 14
          },
          "showarrow": false,
          "text": "Actual label",
          "textangle": -90,
          "x": -0.15,
          "xref": "paper",
          "y": 0.5,
          "yref": "paper"
         }
        ],
        "margin": {
         "b": 50,
         "l": 120,
         "r": 20,
         "t": 80
        },
        "template": {
         "data": {
          "bar": [
           {
            "error_x": {
             "color": "#2a3f5f"
            },
            "error_y": {
             "color": "#2a3f5f"
            },
            "marker": {
             "line": {
              "color": "white",
              "width": 0.5
             },
             "pattern": {
              "fillmode": "overlay",
              "size": 10,
              "solidity": 0.2
             }
            },
            "type": "bar"
           }
          ],
          "barpolar": [
           {
            "marker": {
             "line": {
              "color": "white",
              "width": 0.5
             },
             "pattern": {
              "fillmode": "overlay",
              "size": 10,
              "solidity": 0.2
             }
            },
            "type": "barpolar"
           }
          ],
          "box": [
           {
            "boxpoints": "outliers",
            "notched": false,
            "type": "box"
           }
          ],
          "carpet": [
           {
            "aaxis": {
             "endlinecolor": "#2a3f5f",
             "gridcolor": "#C8D4E3",
             "linecolor": "#C8D4E3",
             "minorgridcolor": "#C8D4E3",
             "startlinecolor": "#2a3f5f"
            },
            "baxis": {
             "endlinecolor": "#2a3f5f",
             "gridcolor": "#C8D4E3",
             "linecolor": "#C8D4E3",
             "minorgridcolor": "#C8D4E3",
             "startlinecolor": "#2a3f5f"
            },
            "type": "carpet"
           }
          ],
          "choropleth": [
           {
            "colorbar": {
             "outlinewidth": 0,
             "ticks": ""
            },
            "type": "choropleth"
           }
          ],
          "contour": [
           {
            "colorbar": {
             "outlinewidth": 0,
             "ticks": ""
            },
            "colorscale": [
             [
              0,
              "#0d0887"
             ],
             [
              0.1111111111111111,
              "#46039f"
             ],
             [
              0.2222222222222222,
              "#7201a8"
             ],
             [
              0.3333333333333333,
              "#9c179e"
             ],
             [
              0.4444444444444444,
              "#bd3786"
             ],
             [
              0.5555555555555556,
              "#d8576b"
             ],
             [
              0.6666666666666666,
              "#ed7953"
             ],
             [
              0.7777777777777778,
              "#fb9f3a"
             ],
             [
              0.8888888888888888,
              "#fdca26"
             ],
             [
              1,
              "#f0f921"
             ]
            ],
            "type": "contour"
           }
          ],
          "contourcarpet": [
           {
            "colorbar": {
             "outlinewidth": 0,
             "ticks": ""
            },
            "type": "contourcarpet"
           }
          ],
          "heatmap": [
           {
            "colorbar": {
             "outlinewidth": 0,
             "ticks": ""
            },
            "colorscale": [
             [
              0,
              "#0d0887"
             ],
             [
              0.1111111111111111,
              "#46039f"
             ],
             [
              0.2222222222222222,
              "#7201a8"
             ],
             [
              0.3333333333333333,
              "#9c179e"
             ],
             [
              0.4444444444444444,
              "#bd3786"
             ],
             [
              0.5555555555555556,
              "#d8576b"
             ],
             [
              0.6666666666666666,
              "#ed7953"
             ],
             [
              0.7777777777777778,
              "#fb9f3a"
             ],
             [
              0.8888888888888888,
              "#fdca26"
             ],
             [
              1,
              "#f0f921"
             ]
            ],
            "type": "heatmap"
           }
          ],
          "heatmapgl": [
           {
            "colorbar": {
             "outlinewidth": 0,
             "ticks": ""
            },
            "colorscale": [
             [
              0,
              "#0d0887"
             ],
             [
              0.1111111111111111,
              "#46039f"
             ],
             [
              0.2222222222222222,
              "#7201a8"
             ],
             [
              0.3333333333333333,
              "#9c179e"
             ],
             [
              0.4444444444444444,
              "#bd3786"
             ],
             [
              0.5555555555555556,
              "#d8576b"
             ],
             [
              0.6666666666666666,
              "#ed7953"
             ],
             [
              0.7777777777777778,
              "#fb9f3a"
             ],
             [
              0.8888888888888888,
              "#fdca26"
             ],
             [
              1,
              "#f0f921"
             ]
            ],
            "type": "heatmapgl"
           }
          ],
          "histogram": [
           {
            "marker": {
             "line": {
              "width": 1
             },
             "pattern": {
              "fillmode": "overlay",
              "size": 10,
              "solidity": 0.2
             }
            },
            "type": "histogram"
           }
          ],
          "histogram2d": [
           {
            "colorbar": {
             "outlinewidth": 0,
             "ticks": ""
            },
            "colorscale": [
             [
              0,
              "#0d0887"
             ],
             [
              0.1111111111111111,
              "#46039f"
             ],
             [
              0.2222222222222222,
              "#7201a8"
             ],
             [
              0.3333333333333333,
              "#9c179e"
             ],
             [
              0.4444444444444444,
              "#bd3786"
             ],
             [
              0.5555555555555556,
              "#d8576b"
             ],
             [
              0.6666666666666666,
              "#ed7953"
             ],
             [
              0.7777777777777778,
              "#fb9f3a"
             ],
             [
              0.8888888888888888,
              "#fdca26"
             ],
             [
              1,
              "#f0f921"
             ]
            ],
            "type": "histogram2d"
           }
          ],
          "histogram2dcontour": [
           {
            "colorbar": {
             "outlinewidth": 0,
             "ticks": ""
            },
            "colorscale": [
             [
              0,
              "#0d0887"
             ],
             [
              0.1111111111111111,
              "#46039f"
             ],
             [
              0.2222222222222222,
              "#7201a8"
             ],
             [
              0.3333333333333333,
              "#9c179e"
             ],
             [
              0.4444444444444444,
              "#bd3786"
             ],
             [
              0.5555555555555556,
              "#d8576b"
             ],
             [
              0.6666666666666666,
              "#ed7953"
             ],
             [
              0.7777777777777778,
              "#fb9f3a"
             ],
             [
              0.8888888888888888,
              "#fdca26"
             ],
             [
              1,
              "#f0f921"
             ]
            ],
            "type": "histogram2dcontour"
           }
          ],
          "mesh3d": [
           {
            "colorbar": {
             "outlinewidth": 0,
             "ticks": ""
            },
            "type": "mesh3d"
           }
          ],
          "parcoords": [
           {
            "line": {
             "colorbar": {
              "outlinewidth": 0,
              "ticks": ""
             }
            },
            "type": "parcoords"
           }
          ],
          "pie": [
           {
            "automargin": true,
            "type": "pie"
           }
          ],
          "scatter": [
           {
            "fillpattern": {
             "fillmode": "overlay",
             "size": 10,
             "solidity": 0.2
            },
            "marker": {
             "opacity": 0.8
            },
            "type": "scatter"
           }
          ],
          "scatter3d": [
           {
            "line": {
             "colorbar": {
              "outlinewidth": 0,
              "ticks": ""
             }
            },
            "marker": {
             "colorbar": {
              "outlinewidth": 0,
              "ticks": ""
             },
             "opacity": 0.8
            },
            "type": "scatter3d"
           }
          ],
          "scattercarpet": [
           {
            "marker": {
             "colorbar": {
              "outlinewidth": 0,
              "ticks": ""
             }
            },
            "type": "scattercarpet"
           }
          ],
          "scattergeo": [
           {
            "marker": {
             "colorbar": {
              "outlinewidth": 0,
              "ticks": ""
             }
            },
            "type": "scattergeo"
           }
          ],
          "scattergl": [
           {
            "marker": {
             "colorbar": {
              "outlinewidth": 0,
              "ticks": ""
             }
            },
            "type": "scattergl"
           }
          ],
          "scattermapbox": [
           {
            "marker": {
             "colorbar": {
              "outlinewidth": 0,
              "ticks": ""
             }
            },
            "type": "scattermapbox"
           }
          ],
          "scatterpolar": [
           {
            "marker": {
             "colorbar": {
              "outlinewidth": 0,
              "ticks": ""
             }
            },
            "type": "scatterpolar"
           }
          ],
          "scatterpolargl": [
           {
            "marker": {
             "colorbar": {
              "outlinewidth": 0,
              "ticks": ""
             }
            },
            "type": "scatterpolargl"
           }
          ],
          "scatterternary": [
           {
            "marker": {
             "colorbar": {
              "outlinewidth": 0,
              "ticks": ""
             }
            },
            "type": "scatterternary"
           }
          ],
          "surface": [
           {
            "colorbar": {
             "outlinewidth": 0,
             "ticks": ""
            },
            "colorscale": [
             [
              0,
              "#0d0887"
             ],
             [
              0.1111111111111111,
              "#46039f"
             ],
             [
              0.2222222222222222,
              "#7201a8"
             ],
             [
              0.3333333333333333,
              "#9c179e"
             ],
             [
              0.4444444444444444,
              "#bd3786"
             ],
             [
              0.5555555555555556,
              "#d8576b"
             ],
             [
              0.6666666666666666,
              "#ed7953"
             ],
             [
              0.7777777777777778,
              "#fb9f3a"
             ],
             [
              0.8888888888888888,
              "#fdca26"
             ],
             [
              1,
              "#f0f921"
             ]
            ],
            "type": "surface"
           }
          ],
          "table": [
           {
            "cells": {
             "fill": {
              "color": "#EBF0F8"
             },
             "line": {
              "color": "white"
             }
            },
            "header": {
             "fill": {
              "color": "#C8D4E3"
             },
             "line": {
              "color": "white"
             }
            },
            "type": "table"
           }
          ]
         },
         "layout": {
          "annotationdefaults": {
           "arrowcolor": "#2a3f5f",
           "arrowhead": 0,
           "arrowwidth": 1
          },
          "autotypenumbers": "strict",
          "coloraxis": {
           "colorbar": {
            "outlinewidth": 0,
            "ticks": ""
           }
          },
          "colorscale": {
           "diverging": [
            [
             0,
             "#8e0152"
            ],
            [
             0.1,
             "#c51b7d"
            ],
            [
             0.2,
             "#de77ae"
            ],
            [
             0.3,
             "#f1b6da"
            ],
            [
             0.4,
             "#fde0ef"
            ],
            [
             0.5,
             "#f7f7f7"
            ],
            [
             0.6,
             "#e6f5d0"
            ],
            [
             0.7,
             "#b8e186"
            ],
            [
             0.8,
             "#7fbc41"
            ],
            [
             0.9,
             "#4d9221"
            ],
            [
             1,
             "#276419"
            ]
           ],
           "sequential": [
            [
             0,
             "#0d0887"
            ],
            [
             0.1111111111111111,
             "#46039f"
            ],
            [
             0.2222222222222222,
             "#7201a8"
            ],
            [
             0.3333333333333333,
             "#9c179e"
            ],
            [
             0.4444444444444444,
             "#bd3786"
            ],
            [
             0.5555555555555556,
             "#d8576b"
            ],
            [
             0.6666666666666666,
             "#ed7953"
            ],
            [
             0.7777777777777778,
             "#fb9f3a"
            ],
            [
             0.8888888888888888,
             "#fdca26"
            ],
            [
             1,
             "#f0f921"
            ]
           ],
           "sequentialminus": [
            [
             0,
             "#0d0887"
            ],
            [
             0.1111111111111111,
             "#46039f"
            ],
            [
             0.2222222222222222,
             "#7201a8"
            ],
            [
             0.3333333333333333,
             "#9c179e"
            ],
            [
             0.4444444444444444,
             "#bd3786"
            ],
            [
             0.5555555555555556,
             "#d8576b"
            ],
            [
             0.6666666666666666,
             "#ed7953"
            ],
            [
             0.7777777777777778,
             "#fb9f3a"
            ],
            [
             0.8888888888888888,
             "#fdca26"
            ],
            [
             1,
             "#f0f921"
            ]
           ]
          },
          "colorway": [
           "#636efa",
           "#EF553B",
           "#00cc96",
           "#ab63fa",
           "#FFA15A",
           "#19d3f3",
           "#FF6692",
           "#B6E880",
           "#FF97FF",
           "#FECB52"
          ],
          "font": {
           "color": "#2a3f5f"
          },
          "geo": {
           "bgcolor": "white",
           "lakecolor": "white",
           "landcolor": "white",
           "showlakes": true,
           "showland": true,
           "subunitcolor": "#C8D4E3"
          },
          "height": 400,
          "hoverlabel": {
           "align": "left"
          },
          "hovermode": "closest",
          "mapbox": {
           "style": "light"
          },
          "margin": {
           "b": 2,
           "l": 2,
           "r": 2,
           "t": 30
          },
          "paper_bgcolor": "white",
          "plot_bgcolor": "white",
          "polar": {
           "angularaxis": {
            "gridcolor": "#EBF0F8",
            "linecolor": "#EBF0F8",
            "ticks": ""
           },
           "bgcolor": "white",
           "radialaxis": {
            "gridcolor": "#EBF0F8",
            "linecolor": "#EBF0F8",
            "ticks": ""
           }
          },
          "scene": {
           "camera": {
            "eye": {
             "x": 1.5,
             "y": 1.5,
             "z": 0.1
            }
           },
           "xaxis": {
            "backgroundcolor": "white",
            "gridcolor": "#DFE8F3",
            "gridwidth": 2,
            "linecolor": "#EBF0F8",
            "showbackground": true,
            "ticks": "",
            "zerolinecolor": "#EBF0F8"
           },
           "yaxis": {
            "backgroundcolor": "white",
            "gridcolor": "#DFE8F3",
            "gridwidth": 2,
            "linecolor": "#EBF0F8",
            "showbackground": true,
            "ticks": "",
            "zerolinecolor": "#EBF0F8"
           },
           "zaxis": {
            "backgroundcolor": "white",
            "gridcolor": "#DFE8F3",
            "gridwidth": 2,
            "linecolor": "#EBF0F8",
            "showbackground": true,
            "ticks": "",
            "zerolinecolor": "#EBF0F8"
           }
          },
          "shapedefaults": {
           "line": {
            "color": "#2a3f5f"
           }
          },
          "ternary": {
           "aaxis": {
            "gridcolor": "#DFE8F3",
            "linecolor": "#A2B1C6",
            "ticks": ""
           },
           "baxis": {
            "gridcolor": "#DFE8F3",
            "linecolor": "#A2B1C6",
            "ticks": ""
           },
           "bgcolor": "white",
           "caxis": {
            "gridcolor": "#DFE8F3",
            "linecolor": "#A2B1C6",
            "ticks": ""
           }
          },
          "title": {
           "x": 0.5
          },
          "xaxis": {
           "automargin": true,
           "gridcolor": "#EBF0F8",
           "linecolor": "#EBF0F8",
           "linewidth": 2,
           "showline": true,
           "ticks": "",
           "title": {
            "standoff": 15
           },
           "zerolinecolor": "#EBF0F8",
           "zerolinewidth": 2
          },
          "yaxis": {
           "automargin": true,
           "gridcolor": "#EBF0F8",
           "linecolor": "#EBF0F8",
           "linewidth": 2,
           "showline": true,
           "ticks": "",
           "title": {
            "standoff": 15
           },
           "zerolinecolor": "#EBF0F8",
           "zerolinewidth": 2
          }
         }
        },
        "title": {
         "text": "<b>Confusion matrix</b>"
        },
        "xaxis": {
         "dtick": 1,
         "gridcolor": "rgb(0, 0, 0)",
         "side": "top",
         "ticks": ""
        },
        "yaxis": {
         "categoryorder": "category descending",
         "dtick": 1,
         "ticks": "",
         "ticksuffix": "  "
        }
       }
      }
     },
     "metadata": {},
     "output_type": "display_data"
    }
   ],
   "source": [
    "# plot new confusion matrix\n",
    "# Create the list of unique labels in the test set to use in our plot\n",
    "unique_targets = sorted(list(balanced_dataset[\"is_hiker\"].unique()))\n",
    "\n",
    "# Convert values to lower case so the plot code can count the outcomes\n",
    "x = y = [str(s).lower() for s in unique_targets]\n",
    "\n",
    "# Plot the matrix above as a heatmap with annotations (values) in its cells\n",
    "fig = ff.create_annotated_heatmap(cm, x, y)\n",
    "\n",
    "# Set titles and ordering\n",
    "fig.update_layout(  title_text=\"<b>Confusion matrix</b>\", \n",
    "                    yaxis = dict(categoryorder = \"category descending\")\n",
    "                    )\n",
    "\n",
    "fig.add_annotation(dict(font=dict(color=\"black\",size=14),\n",
    "                        x=0.5,\n",
    "                        y=-0.15,\n",
    "                        showarrow=False,\n",
    "                        text=\"Predicted label\",\n",
    "                        xref=\"paper\",\n",
    "                        yref=\"paper\"))\n",
    "\n",
    "fig.add_annotation(dict(font=dict(color=\"black\",size=14),\n",
    "                        x=-0.15,\n",
    "                        y=0.5,\n",
    "                        showarrow=False,\n",
    "                        text=\"Actual label\",\n",
    "                        textangle=-90,\n",
    "                        xref=\"paper\",\n",
    "                        yref=\"paper\"))\n",
    "\n",
    "# We need margins so the titles fit\n",
    "fig.update_layout(margin=dict(t=80, r=20, l=120, b=50))\n",
    "fig['data'][0]['showscale'] = True\n",
    "fig.show()"
   ]
  },
  {
   "cell_type": "markdown",
   "metadata": {},
   "source": [
    "Using class weights to balance dataset"
   ]
  },
  {
   "cell_type": "code",
   "execution_count": 22,
   "metadata": {},
   "outputs": [
    {
     "name": "stdout",
     "output_type": "stream",
     "text": [
      "Train accuracy: 0.9525974025974026\n",
      "Test accuracy: 0.9166666666666666\n"
     ]
    }
   ],
   "source": [
    "# Import function used in calculating weights\n",
    "from sklearn.utils import class_weight\n",
    "\n",
    "# Retrain model using class weights\n",
    "# Using class_weight=\"balanced\" tells the algorithm to automatically calculate weights for us\n",
    "weighted_model = RandomForestClassifier(n_estimators=1, random_state=1, verbose=False, class_weight=\"balanced\")\n",
    "# Train the weighted_model using binary label\n",
    "weighted_model.fit(train[features], train.is_hiker)\n",
    "\n",
    "print(\"Train accuracy:\", assess_accuracy(weighted_model,train, \"is_hiker\"))\n",
    "print(\"Test accuracy:\", assess_accuracy(weighted_model, test, \"is_hiker\"))"
   ]
  },
  {
   "cell_type": "code",
   "execution_count": 23,
   "metadata": {},
   "outputs": [
    {
     "name": "stdout",
     "output_type": "stream",
     "text": [
      "Balanced set accuracy: 0.796\n"
     ]
    }
   ],
   "source": [
    "print(\"Balanced set accuracy:\", assess_accuracy(weighted_model, balanced_dataset, \"is_hiker\"))\n",
    "\n",
    "# Test the weighted_model using a balanced dataset\n",
    "actual = balanced_dataset.is_hiker\n",
    "predictions = weighted_model.predict(balanced_dataset[features])\n",
    "\n",
    "# Build and print our confusion matrix, using the actual values and predictions \n",
    "# from the test set, calculated in previous cells\n",
    "cm = confusion_matrix(actual, predictions, normalize=None)\n"
   ]
  },
  {
   "cell_type": "code",
   "execution_count": 24,
   "metadata": {},
   "outputs": [
    {
     "data": {
      "application/vnd.plotly.v1+json": {
       "config": {
        "plotlyServerURL": "https://plot.ly"
       },
       "data": [
        {
         "colorscale": [
          [
           0,
           "#0d0887"
          ],
          [
           0.1111111111111111,
           "#46039f"
          ],
          [
           0.2222222222222222,
           "#7201a8"
          ],
          [
           0.3333333333333333,
           "#9c179e"
          ],
          [
           0.4444444444444444,
           "#bd3786"
          ],
          [
           0.5555555555555556,
           "#d8576b"
          ],
          [
           0.6666666666666666,
           "#ed7953"
          ],
          [
           0.7777777777777778,
           "#fb9f3a"
          ],
          [
           0.8888888888888888,
           "#fdca26"
          ],
          [
           1,
           "#f0f921"
          ]
         ],
         "reversescale": false,
         "showscale": true,
         "type": "heatmap",
         "x": [
          "false",
          "true"
         ],
         "y": [
          "false",
          "true"
         ],
         "z": [
          [
           408,
           92
          ],
          [
           112,
           388
          ]
         ]
        }
       ],
       "layout": {
        "annotations": [
         {
          "font": {
           "color": "#000000"
          },
          "showarrow": false,
          "text": "408",
          "x": "false",
          "xref": "x",
          "y": "false",
          "yref": "y"
         },
         {
          "font": {
           "color": "#FFFFFF"
          },
          "showarrow": false,
          "text": "92",
          "x": "true",
          "xref": "x",
          "y": "false",
          "yref": "y"
         },
         {
          "font": {
           "color": "#FFFFFF"
          },
          "showarrow": false,
          "text": "112",
          "x": "false",
          "xref": "x",
          "y": "true",
          "yref": "y"
         },
         {
          "font": {
           "color": "#000000"
          },
          "showarrow": false,
          "text": "388",
          "x": "true",
          "xref": "x",
          "y": "true",
          "yref": "y"
         },
         {
          "font": {
           "color": "black",
           "size": 14
          },
          "showarrow": false,
          "text": "Predicted label",
          "x": 0.5,
          "xref": "paper",
          "y": -0.15,
          "yref": "paper"
         },
         {
          "font": {
           "color": "black",
           "size": 14
          },
          "showarrow": false,
          "text": "Actual label",
          "textangle": -90,
          "x": -0.15,
          "xref": "paper",
          "y": 0.5,
          "yref": "paper"
         }
        ],
        "margin": {
         "b": 50,
         "l": 120,
         "r": 20,
         "t": 80
        },
        "template": {
         "data": {
          "bar": [
           {
            "error_x": {
             "color": "#2a3f5f"
            },
            "error_y": {
             "color": "#2a3f5f"
            },
            "marker": {
             "line": {
              "color": "white",
              "width": 0.5
             },
             "pattern": {
              "fillmode": "overlay",
              "size": 10,
              "solidity": 0.2
             }
            },
            "type": "bar"
           }
          ],
          "barpolar": [
           {
            "marker": {
             "line": {
              "color": "white",
              "width": 0.5
             },
             "pattern": {
              "fillmode": "overlay",
              "size": 10,
              "solidity": 0.2
             }
            },
            "type": "barpolar"
           }
          ],
          "box": [
           {
            "boxpoints": "outliers",
            "notched": false,
            "type": "box"
           }
          ],
          "carpet": [
           {
            "aaxis": {
             "endlinecolor": "#2a3f5f",
             "gridcolor": "#C8D4E3",
             "linecolor": "#C8D4E3",
             "minorgridcolor": "#C8D4E3",
             "startlinecolor": "#2a3f5f"
            },
            "baxis": {
             "endlinecolor": "#2a3f5f",
             "gridcolor": "#C8D4E3",
             "linecolor": "#C8D4E3",
             "minorgridcolor": "#C8D4E3",
             "startlinecolor": "#2a3f5f"
            },
            "type": "carpet"
           }
          ],
          "choropleth": [
           {
            "colorbar": {
             "outlinewidth": 0,
             "ticks": ""
            },
            "type": "choropleth"
           }
          ],
          "contour": [
           {
            "colorbar": {
             "outlinewidth": 0,
             "ticks": ""
            },
            "colorscale": [
             [
              0,
              "#0d0887"
             ],
             [
              0.1111111111111111,
              "#46039f"
             ],
             [
              0.2222222222222222,
              "#7201a8"
             ],
             [
              0.3333333333333333,
              "#9c179e"
             ],
             [
              0.4444444444444444,
              "#bd3786"
             ],
             [
              0.5555555555555556,
              "#d8576b"
             ],
             [
              0.6666666666666666,
              "#ed7953"
             ],
             [
              0.7777777777777778,
              "#fb9f3a"
             ],
             [
              0.8888888888888888,
              "#fdca26"
             ],
             [
              1,
              "#f0f921"
             ]
            ],
            "type": "contour"
           }
          ],
          "contourcarpet": [
           {
            "colorbar": {
             "outlinewidth": 0,
             "ticks": ""
            },
            "type": "contourcarpet"
           }
          ],
          "heatmap": [
           {
            "colorbar": {
             "outlinewidth": 0,
             "ticks": ""
            },
            "colorscale": [
             [
              0,
              "#0d0887"
             ],
             [
              0.1111111111111111,
              "#46039f"
             ],
             [
              0.2222222222222222,
              "#7201a8"
             ],
             [
              0.3333333333333333,
              "#9c179e"
             ],
             [
              0.4444444444444444,
              "#bd3786"
             ],
             [
              0.5555555555555556,
              "#d8576b"
             ],
             [
              0.6666666666666666,
              "#ed7953"
             ],
             [
              0.7777777777777778,
              "#fb9f3a"
             ],
             [
              0.8888888888888888,
              "#fdca26"
             ],
             [
              1,
              "#f0f921"
             ]
            ],
            "type": "heatmap"
           }
          ],
          "heatmapgl": [
           {
            "colorbar": {
             "outlinewidth": 0,
             "ticks": ""
            },
            "colorscale": [
             [
              0,
              "#0d0887"
             ],
             [
              0.1111111111111111,
              "#46039f"
             ],
             [
              0.2222222222222222,
              "#7201a8"
             ],
             [
              0.3333333333333333,
              "#9c179e"
             ],
             [
              0.4444444444444444,
              "#bd3786"
             ],
             [
              0.5555555555555556,
              "#d8576b"
             ],
             [
              0.6666666666666666,
              "#ed7953"
             ],
             [
              0.7777777777777778,
              "#fb9f3a"
             ],
             [
              0.8888888888888888,
              "#fdca26"
             ],
             [
              1,
              "#f0f921"
             ]
            ],
            "type": "heatmapgl"
           }
          ],
          "histogram": [
           {
            "marker": {
             "line": {
              "width": 1
             },
             "pattern": {
              "fillmode": "overlay",
              "size": 10,
              "solidity": 0.2
             }
            },
            "type": "histogram"
           }
          ],
          "histogram2d": [
           {
            "colorbar": {
             "outlinewidth": 0,
             "ticks": ""
            },
            "colorscale": [
             [
              0,
              "#0d0887"
             ],
             [
              0.1111111111111111,
              "#46039f"
             ],
             [
              0.2222222222222222,
              "#7201a8"
             ],
             [
              0.3333333333333333,
              "#9c179e"
             ],
             [
              0.4444444444444444,
              "#bd3786"
             ],
             [
              0.5555555555555556,
              "#d8576b"
             ],
             [
              0.6666666666666666,
              "#ed7953"
             ],
             [
              0.7777777777777778,
              "#fb9f3a"
             ],
             [
              0.8888888888888888,
              "#fdca26"
             ],
             [
              1,
              "#f0f921"
             ]
            ],
            "type": "histogram2d"
           }
          ],
          "histogram2dcontour": [
           {
            "colorbar": {
             "outlinewidth": 0,
             "ticks": ""
            },
            "colorscale": [
             [
              0,
              "#0d0887"
             ],
             [
              0.1111111111111111,
              "#46039f"
             ],
             [
              0.2222222222222222,
              "#7201a8"
             ],
             [
              0.3333333333333333,
              "#9c179e"
             ],
             [
              0.4444444444444444,
              "#bd3786"
             ],
             [
              0.5555555555555556,
              "#d8576b"
             ],
             [
              0.6666666666666666,
              "#ed7953"
             ],
             [
              0.7777777777777778,
              "#fb9f3a"
             ],
             [
              0.8888888888888888,
              "#fdca26"
             ],
             [
              1,
              "#f0f921"
             ]
            ],
            "type": "histogram2dcontour"
           }
          ],
          "mesh3d": [
           {
            "colorbar": {
             "outlinewidth": 0,
             "ticks": ""
            },
            "type": "mesh3d"
           }
          ],
          "parcoords": [
           {
            "line": {
             "colorbar": {
              "outlinewidth": 0,
              "ticks": ""
             }
            },
            "type": "parcoords"
           }
          ],
          "pie": [
           {
            "automargin": true,
            "type": "pie"
           }
          ],
          "scatter": [
           {
            "fillpattern": {
             "fillmode": "overlay",
             "size": 10,
             "solidity": 0.2
            },
            "marker": {
             "opacity": 0.8
            },
            "type": "scatter"
           }
          ],
          "scatter3d": [
           {
            "line": {
             "colorbar": {
              "outlinewidth": 0,
              "ticks": ""
             }
            },
            "marker": {
             "colorbar": {
              "outlinewidth": 0,
              "ticks": ""
             },
             "opacity": 0.8
            },
            "type": "scatter3d"
           }
          ],
          "scattercarpet": [
           {
            "marker": {
             "colorbar": {
              "outlinewidth": 0,
              "ticks": ""
             }
            },
            "type": "scattercarpet"
           }
          ],
          "scattergeo": [
           {
            "marker": {
             "colorbar": {
              "outlinewidth": 0,
              "ticks": ""
             }
            },
            "type": "scattergeo"
           }
          ],
          "scattergl": [
           {
            "marker": {
             "colorbar": {
              "outlinewidth": 0,
              "ticks": ""
             }
            },
            "type": "scattergl"
           }
          ],
          "scattermapbox": [
           {
            "marker": {
             "colorbar": {
              "outlinewidth": 0,
              "ticks": ""
             }
            },
            "type": "scattermapbox"
           }
          ],
          "scatterpolar": [
           {
            "marker": {
             "colorbar": {
              "outlinewidth": 0,
              "ticks": ""
             }
            },
            "type": "scatterpolar"
           }
          ],
          "scatterpolargl": [
           {
            "marker": {
             "colorbar": {
              "outlinewidth": 0,
              "ticks": ""
             }
            },
            "type": "scatterpolargl"
           }
          ],
          "scatterternary": [
           {
            "marker": {
             "colorbar": {
              "outlinewidth": 0,
              "ticks": ""
             }
            },
            "type": "scatterternary"
           }
          ],
          "surface": [
           {
            "colorbar": {
             "outlinewidth": 0,
             "ticks": ""
            },
            "colorscale": [
             [
              0,
              "#0d0887"
             ],
             [
              0.1111111111111111,
              "#46039f"
             ],
             [
              0.2222222222222222,
              "#7201a8"
             ],
             [
              0.3333333333333333,
              "#9c179e"
             ],
             [
              0.4444444444444444,
              "#bd3786"
             ],
             [
              0.5555555555555556,
              "#d8576b"
             ],
             [
              0.6666666666666666,
              "#ed7953"
             ],
             [
              0.7777777777777778,
              "#fb9f3a"
             ],
             [
              0.8888888888888888,
              "#fdca26"
             ],
             [
              1,
              "#f0f921"
             ]
            ],
            "type": "surface"
           }
          ],
          "table": [
           {
            "cells": {
             "fill": {
              "color": "#EBF0F8"
             },
             "line": {
              "color": "white"
             }
            },
            "header": {
             "fill": {
              "color": "#C8D4E3"
             },
             "line": {
              "color": "white"
             }
            },
            "type": "table"
           }
          ]
         },
         "layout": {
          "annotationdefaults": {
           "arrowcolor": "#2a3f5f",
           "arrowhead": 0,
           "arrowwidth": 1
          },
          "autotypenumbers": "strict",
          "coloraxis": {
           "colorbar": {
            "outlinewidth": 0,
            "ticks": ""
           }
          },
          "colorscale": {
           "diverging": [
            [
             0,
             "#8e0152"
            ],
            [
             0.1,
             "#c51b7d"
            ],
            [
             0.2,
             "#de77ae"
            ],
            [
             0.3,
             "#f1b6da"
            ],
            [
             0.4,
             "#fde0ef"
            ],
            [
             0.5,
             "#f7f7f7"
            ],
            [
             0.6,
             "#e6f5d0"
            ],
            [
             0.7,
             "#b8e186"
            ],
            [
             0.8,
             "#7fbc41"
            ],
            [
             0.9,
             "#4d9221"
            ],
            [
             1,
             "#276419"
            ]
           ],
           "sequential": [
            [
             0,
             "#0d0887"
            ],
            [
             0.1111111111111111,
             "#46039f"
            ],
            [
             0.2222222222222222,
             "#7201a8"
            ],
            [
             0.3333333333333333,
             "#9c179e"
            ],
            [
             0.4444444444444444,
             "#bd3786"
            ],
            [
             0.5555555555555556,
             "#d8576b"
            ],
            [
             0.6666666666666666,
             "#ed7953"
            ],
            [
             0.7777777777777778,
             "#fb9f3a"
            ],
            [
             0.8888888888888888,
             "#fdca26"
            ],
            [
             1,
             "#f0f921"
            ]
           ],
           "sequentialminus": [
            [
             0,
             "#0d0887"
            ],
            [
             0.1111111111111111,
             "#46039f"
            ],
            [
             0.2222222222222222,
             "#7201a8"
            ],
            [
             0.3333333333333333,
             "#9c179e"
            ],
            [
             0.4444444444444444,
             "#bd3786"
            ],
            [
             0.5555555555555556,
             "#d8576b"
            ],
            [
             0.6666666666666666,
             "#ed7953"
            ],
            [
             0.7777777777777778,
             "#fb9f3a"
            ],
            [
             0.8888888888888888,
             "#fdca26"
            ],
            [
             1,
             "#f0f921"
            ]
           ]
          },
          "colorway": [
           "#636efa",
           "#EF553B",
           "#00cc96",
           "#ab63fa",
           "#FFA15A",
           "#19d3f3",
           "#FF6692",
           "#B6E880",
           "#FF97FF",
           "#FECB52"
          ],
          "font": {
           "color": "#2a3f5f"
          },
          "geo": {
           "bgcolor": "white",
           "lakecolor": "white",
           "landcolor": "white",
           "showlakes": true,
           "showland": true,
           "subunitcolor": "#C8D4E3"
          },
          "height": 400,
          "hoverlabel": {
           "align": "left"
          },
          "hovermode": "closest",
          "mapbox": {
           "style": "light"
          },
          "margin": {
           "b": 2,
           "l": 2,
           "r": 2,
           "t": 30
          },
          "paper_bgcolor": "white",
          "plot_bgcolor": "white",
          "polar": {
           "angularaxis": {
            "gridcolor": "#EBF0F8",
            "linecolor": "#EBF0F8",
            "ticks": ""
           },
           "bgcolor": "white",
           "radialaxis": {
            "gridcolor": "#EBF0F8",
            "linecolor": "#EBF0F8",
            "ticks": ""
           }
          },
          "scene": {
           "camera": {
            "eye": {
             "x": 1.5,
             "y": 1.5,
             "z": 0.1
            }
           },
           "xaxis": {
            "backgroundcolor": "white",
            "gridcolor": "#DFE8F3",
            "gridwidth": 2,
            "linecolor": "#EBF0F8",
            "showbackground": true,
            "ticks": "",
            "zerolinecolor": "#EBF0F8"
           },
           "yaxis": {
            "backgroundcolor": "white",
            "gridcolor": "#DFE8F3",
            "gridwidth": 2,
            "linecolor": "#EBF0F8",
            "showbackground": true,
            "ticks": "",
            "zerolinecolor": "#EBF0F8"
           },
           "zaxis": {
            "backgroundcolor": "white",
            "gridcolor": "#DFE8F3",
            "gridwidth": 2,
            "linecolor": "#EBF0F8",
            "showbackground": true,
            "ticks": "",
            "zerolinecolor": "#EBF0F8"
           }
          },
          "shapedefaults": {
           "line": {
            "color": "#2a3f5f"
           }
          },
          "ternary": {
           "aaxis": {
            "gridcolor": "#DFE8F3",
            "linecolor": "#A2B1C6",
            "ticks": ""
           },
           "baxis": {
            "gridcolor": "#DFE8F3",
            "linecolor": "#A2B1C6",
            "ticks": ""
           },
           "bgcolor": "white",
           "caxis": {
            "gridcolor": "#DFE8F3",
            "linecolor": "#A2B1C6",
            "ticks": ""
           }
          },
          "title": {
           "x": 0.5
          },
          "xaxis": {
           "automargin": true,
           "gridcolor": "#EBF0F8",
           "linecolor": "#EBF0F8",
           "linewidth": 2,
           "showline": true,
           "ticks": "",
           "title": {
            "standoff": 15
           },
           "zerolinecolor": "#EBF0F8",
           "zerolinewidth": 2
          },
          "yaxis": {
           "automargin": true,
           "gridcolor": "#EBF0F8",
           "linecolor": "#EBF0F8",
           "linewidth": 2,
           "showline": true,
           "ticks": "",
           "title": {
            "standoff": 15
           },
           "zerolinecolor": "#EBF0F8",
           "zerolinewidth": 2
          }
         }
        },
        "title": {
         "text": "<b>Confusion matrix</b>"
        },
        "xaxis": {
         "dtick": 1,
         "gridcolor": "rgb(0, 0, 0)",
         "side": "top",
         "ticks": ""
        },
        "yaxis": {
         "categoryorder": "category descending",
         "dtick": 1,
         "ticks": "",
         "ticksuffix": "  "
        }
       }
      }
     },
     "metadata": {},
     "output_type": "display_data"
    }
   ],
   "source": [
    "# Plot the matrix above as a heatmap with annotations (values) in its cells\n",
    "fig = ff.create_annotated_heatmap(cm, x, y)\n",
    "\n",
    "# Set titles and ordering\n",
    "fig.update_layout(  title_text=\"<b>Confusion matrix</b>\", \n",
    "                    yaxis = dict(categoryorder = \"category descending\")\n",
    "                    )\n",
    "\n",
    "fig.add_annotation(dict(font=dict(color=\"black\",size=14),\n",
    "                        x=0.5,\n",
    "                        y=-0.15,\n",
    "                        showarrow=False,\n",
    "                        text=\"Predicted label\",\n",
    "                        xref=\"paper\",\n",
    "                        yref=\"paper\"))\n",
    "\n",
    "fig.add_annotation(dict(font=dict(color=\"black\",size=14),\n",
    "                        x=-0.15,\n",
    "                        y=0.5,\n",
    "                        showarrow=False,\n",
    "                        text=\"Actual label\",\n",
    "                        textangle=-90,\n",
    "                        xref=\"paper\",\n",
    "                        yref=\"paper\"))\n",
    "\n",
    "# We need margins so the titles fit\n",
    "fig.update_layout(margin=dict(t=80, r=20, l=120, b=50))\n",
    "fig['data'][0]['showscale'] = True\n",
    "fig.show()"
   ]
  },
  {
   "cell_type": "code",
   "execution_count": 26,
   "metadata": {},
   "outputs": [
    {
     "name": "stdout",
     "output_type": "stream",
     "text": [
      "TP - True Positives:  388\n",
      "TN - True Negatives:  408\n",
      "FP - False positives:  112\n",
      "FN - False negatives:  92\n"
     ]
    }
   ],
   "source": [
    "import numpy\n",
    "# Let's also calculate some values that will be used throughout this exercise\n",
    "# We already have actual values and corresponding predictions, defined above\n",
    "correct = actual == predictions\n",
    "tp = numpy.sum(correct & actual)\n",
    "tn = numpy.sum(correct & numpy.logical_not(actual))\n",
    "fp = numpy.sum(numpy.logical_not(correct) & actual)\n",
    "fn = numpy.sum(numpy.logical_not(correct) & numpy.logical_not(actual))\n",
    "\n",
    "print(\"TP - True Positives: \", tp)\n",
    "print(\"TN - True Negatives: \", tn)\n",
    "print(\"FP - False positives: \", fp)\n",
    "print(\"FN - False negatives: \", fn)"
   ]
  },
  {
   "cell_type": "code",
   "execution_count": 27,
   "metadata": {},
   "outputs": [
    {
     "name": "stdout",
     "output_type": "stream",
     "text": [
      "Model accuracy is 0.80%\n"
     ]
    }
   ],
   "source": [
    "# Calculate accuracy\n",
    "# len(actual) is the number of samples in the set that generated TP and TN\n",
    "accuracy = (tp+tn) / len(actual) \n",
    "\n",
    "# print result as a percentage\n",
    "print(f\"Model accuracy is {accuracy:.2f}%\")"
   ]
  },
  {
   "cell_type": "markdown",
   "metadata": {},
   "source": [
    "Sensitivity and Recall are interchangeable names for the same metric, which expresses the fraction of samples correctly predicted by a model:"
   ]
  },
  {
   "cell_type": "code",
   "execution_count": 28,
   "metadata": {},
   "outputs": [
    {
     "name": "stdout",
     "output_type": "stream",
     "text": [
      "Model sensitivity/recall is 0.81%\n"
     ]
    }
   ],
   "source": [
    "# code for sensitivity/recall\n",
    "sensitivity = recall = tp / (tp + fn)\n",
    "\n",
    "# print result as a percentage\n",
    "print(f\"Model sensitivity/recall is {sensitivity:.2f}%\")"
   ]
  },
  {
   "cell_type": "markdown",
   "metadata": {},
   "source": [
    "Specificity expresses the fraction of negative labels correctly predicted over the total number of existing negative samples:"
   ]
  },
  {
   "cell_type": "code",
   "execution_count": 29,
   "metadata": {},
   "outputs": [
    {
     "name": "stdout",
     "output_type": "stream",
     "text": [
      "Model specificity is 0.78%\n"
     ]
    }
   ],
   "source": [
    "# Code for specificity\n",
    "specificity = tn / (tn + fp)\n",
    "\n",
    "# print result as a percentage\n",
    "print(f\"Model specificity is {specificity:.2f}%\")"
   ]
  },
  {
   "cell_type": "markdown",
   "metadata": {},
   "source": [
    "Precision expresses the proportion of correctly predicted positive samples over all positive predictions:"
   ]
  },
  {
   "cell_type": "code",
   "execution_count": 30,
   "metadata": {},
   "outputs": [
    {
     "name": "stdout",
     "output_type": "stream",
     "text": [
      "Model precision is 0.78%\n"
     ]
    }
   ],
   "source": [
    "# Code for precision\n",
    "\n",
    "precision = tp / (tp + fp)\n",
    "\n",
    "# print result as a percentage\n",
    "print(f\"Model precision is {precision:.2f}%\")"
   ]
  },
  {
   "cell_type": "markdown",
   "metadata": {},
   "source": [
    "False positive rate or FPR, is the number of incorrect positive predictions divided by the total number of negative samples:"
   ]
  },
  {
   "cell_type": "code",
   "execution_count": 31,
   "metadata": {},
   "outputs": [
    {
     "name": "stdout",
     "output_type": "stream",
     "text": [
      "Model false positive rate is 0.22%\n"
     ]
    }
   ],
   "source": [
    "# Code for false positive rate\n",
    "false_positive_rate = fp / (fp + tn)\n",
    "\n",
    "# print result as a percentage\n",
    "print(f\"Model false positive rate is {false_positive_rate:.2f}%\")"
   ]
  }
 ],
 "metadata": {
  "kernelspec": {
   "display_name": "Python 3",
   "language": "python",
   "name": "python3"
  },
  "language_info": {
   "codemirror_mode": {
    "name": "ipython",
    "version": 3
   },
   "file_extension": ".py",
   "mimetype": "text/x-python",
   "name": "python",
   "nbconvert_exporter": "python",
   "pygments_lexer": "ipython3",
   "version": "3.12.0"
  }
 },
 "nbformat": 4,
 "nbformat_minor": 2
}
